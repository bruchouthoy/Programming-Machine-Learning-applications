{
 "cells": [
  {
   "cell_type": "code",
   "execution_count": 2,
   "metadata": {},
   "outputs": [
    {
     "data": {
      "text/plain": [
       "'/Users/Bru/Desktop/MS-PA/Spring2017/CSC478-ML/Project-Diabetes dataset'"
      ]
     },
     "execution_count": 2,
     "metadata": {},
     "output_type": "execute_result"
    }
   ],
   "source": [
    "pwd"
   ]
  },
  {
   "cell_type": "code",
   "execution_count": 3,
   "metadata": {
    "collapsed": true
   },
   "outputs": [],
   "source": [
    "import numpy as np\n",
    "import pandas as pd\n",
    "pd.set_option('display.max_columns', 999)\n",
    "pd.set_option('precision', 5)\n",
    "import matplotlib.pyplot as plt\n",
    "%matplotlib inline"
   ]
  },
  {
   "cell_type": "code",
   "execution_count": 4,
   "metadata": {},
   "outputs": [
    {
     "name": "stdout",
     "output_type": "stream",
     "text": [
      "/Users/Bru/Desktop/MS-PA/Spring2017/CSC478-ML/Project-Diabetes dataset/dataset_diabetes\n"
     ]
    }
   ],
   "source": [
    "cd dataset_diabetes"
   ]
  },
  {
   "cell_type": "code",
   "execution_count": 5,
   "metadata": {},
   "outputs": [
    {
     "name": "stderr",
     "output_type": "stream",
     "text": [
      "/Users/Bru/Downloads/anaconda/lib/python3.5/site-packages/IPython/core/interactiveshell.py:2717: DtypeWarning: Columns (10) have mixed types. Specify dtype option on import or set low_memory=False.\n",
      "  interactivity=interactivity, compiler=compiler, result=result)\n"
     ]
    },
    {
     "data": {
      "text/html": [
       "<div>\n",
       "<table border=\"1\" class=\"dataframe\">\n",
       "  <thead>\n",
       "    <tr style=\"text-align: right;\">\n",
       "      <th></th>\n",
       "      <th>encounter_id</th>\n",
       "      <th>patient_nbr</th>\n",
       "      <th>race</th>\n",
       "      <th>gender</th>\n",
       "      <th>age</th>\n",
       "      <th>weight</th>\n",
       "      <th>admission_type_id</th>\n",
       "      <th>discharge_disposition_id</th>\n",
       "      <th>admission_source_id</th>\n",
       "      <th>time_in_hospital</th>\n",
       "      <th>payer_code</th>\n",
       "      <th>medical_specialty</th>\n",
       "      <th>num_lab_procedures</th>\n",
       "      <th>num_procedures</th>\n",
       "      <th>num_medications</th>\n",
       "      <th>number_outpatient</th>\n",
       "      <th>number_emergency</th>\n",
       "      <th>number_inpatient</th>\n",
       "      <th>diag_1</th>\n",
       "      <th>diag_2</th>\n",
       "      <th>diag_3</th>\n",
       "      <th>number_diagnoses</th>\n",
       "      <th>max_glu_serum</th>\n",
       "      <th>A1Cresult</th>\n",
       "      <th>metformin</th>\n",
       "      <th>repaglinide</th>\n",
       "      <th>nateglinide</th>\n",
       "      <th>chlorpropamide</th>\n",
       "      <th>glimepiride</th>\n",
       "      <th>acetohexamide</th>\n",
       "      <th>glipizide</th>\n",
       "      <th>glyburide</th>\n",
       "      <th>tolbutamide</th>\n",
       "      <th>pioglitazone</th>\n",
       "      <th>rosiglitazone</th>\n",
       "      <th>acarbose</th>\n",
       "      <th>miglitol</th>\n",
       "      <th>troglitazone</th>\n",
       "      <th>tolazamide</th>\n",
       "      <th>examide</th>\n",
       "      <th>citoglipton</th>\n",
       "      <th>insulin</th>\n",
       "      <th>glyburide-metformin</th>\n",
       "      <th>glipizide-metformin</th>\n",
       "      <th>glimepiride-pioglitazone</th>\n",
       "      <th>metformin-rosiglitazone</th>\n",
       "      <th>metformin-pioglitazone</th>\n",
       "      <th>change</th>\n",
       "      <th>diabetesMed</th>\n",
       "      <th>readmitted</th>\n",
       "    </tr>\n",
       "  </thead>\n",
       "  <tbody>\n",
       "    <tr>\n",
       "      <th>0</th>\n",
       "      <td>2278392</td>\n",
       "      <td>8222157</td>\n",
       "      <td>Caucasian</td>\n",
       "      <td>Female</td>\n",
       "      <td>[0-10)</td>\n",
       "      <td>NaN</td>\n",
       "      <td>6</td>\n",
       "      <td>25</td>\n",
       "      <td>1</td>\n",
       "      <td>1</td>\n",
       "      <td>NaN</td>\n",
       "      <td>Pediatrics-Endocrinology</td>\n",
       "      <td>41</td>\n",
       "      <td>0</td>\n",
       "      <td>1</td>\n",
       "      <td>0</td>\n",
       "      <td>0</td>\n",
       "      <td>0</td>\n",
       "      <td>250.83</td>\n",
       "      <td>NaN</td>\n",
       "      <td>NaN</td>\n",
       "      <td>1</td>\n",
       "      <td>None</td>\n",
       "      <td>None</td>\n",
       "      <td>No</td>\n",
       "      <td>No</td>\n",
       "      <td>No</td>\n",
       "      <td>No</td>\n",
       "      <td>No</td>\n",
       "      <td>No</td>\n",
       "      <td>No</td>\n",
       "      <td>No</td>\n",
       "      <td>No</td>\n",
       "      <td>No</td>\n",
       "      <td>No</td>\n",
       "      <td>No</td>\n",
       "      <td>No</td>\n",
       "      <td>No</td>\n",
       "      <td>No</td>\n",
       "      <td>No</td>\n",
       "      <td>No</td>\n",
       "      <td>No</td>\n",
       "      <td>No</td>\n",
       "      <td>No</td>\n",
       "      <td>No</td>\n",
       "      <td>No</td>\n",
       "      <td>No</td>\n",
       "      <td>No</td>\n",
       "      <td>No</td>\n",
       "      <td>NO</td>\n",
       "    </tr>\n",
       "    <tr>\n",
       "      <th>1</th>\n",
       "      <td>149190</td>\n",
       "      <td>55629189</td>\n",
       "      <td>Caucasian</td>\n",
       "      <td>Female</td>\n",
       "      <td>[10-20)</td>\n",
       "      <td>NaN</td>\n",
       "      <td>1</td>\n",
       "      <td>1</td>\n",
       "      <td>7</td>\n",
       "      <td>3</td>\n",
       "      <td>NaN</td>\n",
       "      <td>NaN</td>\n",
       "      <td>59</td>\n",
       "      <td>0</td>\n",
       "      <td>18</td>\n",
       "      <td>0</td>\n",
       "      <td>0</td>\n",
       "      <td>0</td>\n",
       "      <td>276</td>\n",
       "      <td>250.01</td>\n",
       "      <td>255</td>\n",
       "      <td>9</td>\n",
       "      <td>None</td>\n",
       "      <td>None</td>\n",
       "      <td>No</td>\n",
       "      <td>No</td>\n",
       "      <td>No</td>\n",
       "      <td>No</td>\n",
       "      <td>No</td>\n",
       "      <td>No</td>\n",
       "      <td>No</td>\n",
       "      <td>No</td>\n",
       "      <td>No</td>\n",
       "      <td>No</td>\n",
       "      <td>No</td>\n",
       "      <td>No</td>\n",
       "      <td>No</td>\n",
       "      <td>No</td>\n",
       "      <td>No</td>\n",
       "      <td>No</td>\n",
       "      <td>No</td>\n",
       "      <td>Up</td>\n",
       "      <td>No</td>\n",
       "      <td>No</td>\n",
       "      <td>No</td>\n",
       "      <td>No</td>\n",
       "      <td>No</td>\n",
       "      <td>Ch</td>\n",
       "      <td>Yes</td>\n",
       "      <td>&gt;30</td>\n",
       "    </tr>\n",
       "    <tr>\n",
       "      <th>2</th>\n",
       "      <td>64410</td>\n",
       "      <td>86047875</td>\n",
       "      <td>AfricanAmerican</td>\n",
       "      <td>Female</td>\n",
       "      <td>[20-30)</td>\n",
       "      <td>NaN</td>\n",
       "      <td>1</td>\n",
       "      <td>1</td>\n",
       "      <td>7</td>\n",
       "      <td>2</td>\n",
       "      <td>NaN</td>\n",
       "      <td>NaN</td>\n",
       "      <td>11</td>\n",
       "      <td>5</td>\n",
       "      <td>13</td>\n",
       "      <td>2</td>\n",
       "      <td>0</td>\n",
       "      <td>1</td>\n",
       "      <td>648</td>\n",
       "      <td>250</td>\n",
       "      <td>V27</td>\n",
       "      <td>6</td>\n",
       "      <td>None</td>\n",
       "      <td>None</td>\n",
       "      <td>No</td>\n",
       "      <td>No</td>\n",
       "      <td>No</td>\n",
       "      <td>No</td>\n",
       "      <td>No</td>\n",
       "      <td>No</td>\n",
       "      <td>Steady</td>\n",
       "      <td>No</td>\n",
       "      <td>No</td>\n",
       "      <td>No</td>\n",
       "      <td>No</td>\n",
       "      <td>No</td>\n",
       "      <td>No</td>\n",
       "      <td>No</td>\n",
       "      <td>No</td>\n",
       "      <td>No</td>\n",
       "      <td>No</td>\n",
       "      <td>No</td>\n",
       "      <td>No</td>\n",
       "      <td>No</td>\n",
       "      <td>No</td>\n",
       "      <td>No</td>\n",
       "      <td>No</td>\n",
       "      <td>No</td>\n",
       "      <td>Yes</td>\n",
       "      <td>NO</td>\n",
       "    </tr>\n",
       "    <tr>\n",
       "      <th>3</th>\n",
       "      <td>500364</td>\n",
       "      <td>82442376</td>\n",
       "      <td>Caucasian</td>\n",
       "      <td>Male</td>\n",
       "      <td>[30-40)</td>\n",
       "      <td>NaN</td>\n",
       "      <td>1</td>\n",
       "      <td>1</td>\n",
       "      <td>7</td>\n",
       "      <td>2</td>\n",
       "      <td>NaN</td>\n",
       "      <td>NaN</td>\n",
       "      <td>44</td>\n",
       "      <td>1</td>\n",
       "      <td>16</td>\n",
       "      <td>0</td>\n",
       "      <td>0</td>\n",
       "      <td>0</td>\n",
       "      <td>8</td>\n",
       "      <td>250.43</td>\n",
       "      <td>403</td>\n",
       "      <td>7</td>\n",
       "      <td>None</td>\n",
       "      <td>None</td>\n",
       "      <td>No</td>\n",
       "      <td>No</td>\n",
       "      <td>No</td>\n",
       "      <td>No</td>\n",
       "      <td>No</td>\n",
       "      <td>No</td>\n",
       "      <td>No</td>\n",
       "      <td>No</td>\n",
       "      <td>No</td>\n",
       "      <td>No</td>\n",
       "      <td>No</td>\n",
       "      <td>No</td>\n",
       "      <td>No</td>\n",
       "      <td>No</td>\n",
       "      <td>No</td>\n",
       "      <td>No</td>\n",
       "      <td>No</td>\n",
       "      <td>Up</td>\n",
       "      <td>No</td>\n",
       "      <td>No</td>\n",
       "      <td>No</td>\n",
       "      <td>No</td>\n",
       "      <td>No</td>\n",
       "      <td>Ch</td>\n",
       "      <td>Yes</td>\n",
       "      <td>NO</td>\n",
       "    </tr>\n",
       "    <tr>\n",
       "      <th>4</th>\n",
       "      <td>16680</td>\n",
       "      <td>42519267</td>\n",
       "      <td>Caucasian</td>\n",
       "      <td>Male</td>\n",
       "      <td>[40-50)</td>\n",
       "      <td>NaN</td>\n",
       "      <td>1</td>\n",
       "      <td>1</td>\n",
       "      <td>7</td>\n",
       "      <td>1</td>\n",
       "      <td>NaN</td>\n",
       "      <td>NaN</td>\n",
       "      <td>51</td>\n",
       "      <td>0</td>\n",
       "      <td>8</td>\n",
       "      <td>0</td>\n",
       "      <td>0</td>\n",
       "      <td>0</td>\n",
       "      <td>197</td>\n",
       "      <td>157</td>\n",
       "      <td>250</td>\n",
       "      <td>5</td>\n",
       "      <td>None</td>\n",
       "      <td>None</td>\n",
       "      <td>No</td>\n",
       "      <td>No</td>\n",
       "      <td>No</td>\n",
       "      <td>No</td>\n",
       "      <td>No</td>\n",
       "      <td>No</td>\n",
       "      <td>Steady</td>\n",
       "      <td>No</td>\n",
       "      <td>No</td>\n",
       "      <td>No</td>\n",
       "      <td>No</td>\n",
       "      <td>No</td>\n",
       "      <td>No</td>\n",
       "      <td>No</td>\n",
       "      <td>No</td>\n",
       "      <td>No</td>\n",
       "      <td>No</td>\n",
       "      <td>Steady</td>\n",
       "      <td>No</td>\n",
       "      <td>No</td>\n",
       "      <td>No</td>\n",
       "      <td>No</td>\n",
       "      <td>No</td>\n",
       "      <td>Ch</td>\n",
       "      <td>Yes</td>\n",
       "      <td>NO</td>\n",
       "    </tr>\n",
       "  </tbody>\n",
       "</table>\n",
       "</div>"
      ],
      "text/plain": [
       "   encounter_id  patient_nbr             race  gender      age weight  \\\n",
       "0       2278392      8222157        Caucasian  Female   [0-10)    NaN   \n",
       "1        149190     55629189        Caucasian  Female  [10-20)    NaN   \n",
       "2         64410     86047875  AfricanAmerican  Female  [20-30)    NaN   \n",
       "3        500364     82442376        Caucasian    Male  [30-40)    NaN   \n",
       "4         16680     42519267        Caucasian    Male  [40-50)    NaN   \n",
       "\n",
       "   admission_type_id  discharge_disposition_id  admission_source_id  \\\n",
       "0                  6                        25                    1   \n",
       "1                  1                         1                    7   \n",
       "2                  1                         1                    7   \n",
       "3                  1                         1                    7   \n",
       "4                  1                         1                    7   \n",
       "\n",
       "   time_in_hospital payer_code         medical_specialty  num_lab_procedures  \\\n",
       "0                 1        NaN  Pediatrics-Endocrinology                  41   \n",
       "1                 3        NaN                       NaN                  59   \n",
       "2                 2        NaN                       NaN                  11   \n",
       "3                 2        NaN                       NaN                  44   \n",
       "4                 1        NaN                       NaN                  51   \n",
       "\n",
       "   num_procedures  num_medications  number_outpatient  number_emergency  \\\n",
       "0               0                1                  0                 0   \n",
       "1               0               18                  0                 0   \n",
       "2               5               13                  2                 0   \n",
       "3               1               16                  0                 0   \n",
       "4               0                8                  0                 0   \n",
       "\n",
       "   number_inpatient  diag_1  diag_2 diag_3  number_diagnoses max_glu_serum  \\\n",
       "0                 0  250.83     NaN    NaN                 1          None   \n",
       "1                 0     276  250.01    255                 9          None   \n",
       "2                 1     648     250    V27                 6          None   \n",
       "3                 0       8  250.43    403                 7          None   \n",
       "4                 0     197     157    250                 5          None   \n",
       "\n",
       "  A1Cresult metformin repaglinide nateglinide chlorpropamide glimepiride  \\\n",
       "0      None        No          No          No             No          No   \n",
       "1      None        No          No          No             No          No   \n",
       "2      None        No          No          No             No          No   \n",
       "3      None        No          No          No             No          No   \n",
       "4      None        No          No          No             No          No   \n",
       "\n",
       "  acetohexamide glipizide glyburide tolbutamide pioglitazone rosiglitazone  \\\n",
       "0            No        No        No          No           No            No   \n",
       "1            No        No        No          No           No            No   \n",
       "2            No    Steady        No          No           No            No   \n",
       "3            No        No        No          No           No            No   \n",
       "4            No    Steady        No          No           No            No   \n",
       "\n",
       "  acarbose miglitol troglitazone tolazamide examide citoglipton insulin  \\\n",
       "0       No       No           No         No      No          No      No   \n",
       "1       No       No           No         No      No          No      Up   \n",
       "2       No       No           No         No      No          No      No   \n",
       "3       No       No           No         No      No          No      Up   \n",
       "4       No       No           No         No      No          No  Steady   \n",
       "\n",
       "  glyburide-metformin glipizide-metformin glimepiride-pioglitazone  \\\n",
       "0                  No                  No                       No   \n",
       "1                  No                  No                       No   \n",
       "2                  No                  No                       No   \n",
       "3                  No                  No                       No   \n",
       "4                  No                  No                       No   \n",
       "\n",
       "  metformin-rosiglitazone metformin-pioglitazone change diabetesMed readmitted  \n",
       "0                      No                     No     No          No         NO  \n",
       "1                      No                     No     Ch         Yes        >30  \n",
       "2                      No                     No     No         Yes         NO  \n",
       "3                      No                     No     Ch         Yes         NO  \n",
       "4                      No                     No     Ch         Yes         NO  "
      ]
     },
     "execution_count": 5,
     "metadata": {},
     "output_type": "execute_result"
    }
   ],
   "source": [
    "#Importing data into a pandas dataframe\n",
    "#Replacing all \"?\" (missing values) with NaN\n",
    "diabetic_df = pd.read_table('diabetic_data.csv',na_values='?',sep=',')\n",
    "diabetic_df.head()"
   ]
  },
  {
   "cell_type": "code",
   "execution_count": 6,
   "metadata": {},
   "outputs": [
    {
     "data": {
      "text/plain": [
       "(101766, 50)"
      ]
     },
     "execution_count": 6,
     "metadata": {},
     "output_type": "execute_result"
    }
   ],
   "source": [
    "diabetic_df.shape"
   ]
  },
  {
   "cell_type": "code",
   "execution_count": 7,
   "metadata": {},
   "outputs": [
    {
     "data": {
      "text/html": [
       "<div>\n",
       "<table border=\"1\" class=\"dataframe\">\n",
       "  <thead>\n",
       "    <tr style=\"text-align: right;\">\n",
       "      <th></th>\n",
       "      <th>encounter_id</th>\n",
       "      <th>patient_nbr</th>\n",
       "      <th>admission_type_id</th>\n",
       "      <th>discharge_disposition_id</th>\n",
       "      <th>admission_source_id</th>\n",
       "      <th>time_in_hospital</th>\n",
       "      <th>num_lab_procedures</th>\n",
       "      <th>num_procedures</th>\n",
       "      <th>num_medications</th>\n",
       "      <th>number_outpatient</th>\n",
       "      <th>number_emergency</th>\n",
       "      <th>number_inpatient</th>\n",
       "      <th>number_diagnoses</th>\n",
       "    </tr>\n",
       "  </thead>\n",
       "  <tbody>\n",
       "    <tr>\n",
       "      <th>count</th>\n",
       "      <td>1.01766e+05</td>\n",
       "      <td>1.01766e+05</td>\n",
       "      <td>101766.00000</td>\n",
       "      <td>101766.00000</td>\n",
       "      <td>101766.00000</td>\n",
       "      <td>101766.00000</td>\n",
       "      <td>101766.00000</td>\n",
       "      <td>101766.00000</td>\n",
       "      <td>101766.00000</td>\n",
       "      <td>101766.00000</td>\n",
       "      <td>101766.00000</td>\n",
       "      <td>101766.00000</td>\n",
       "      <td>101766.00000</td>\n",
       "    </tr>\n",
       "    <tr>\n",
       "      <th>mean</th>\n",
       "      <td>1.65202e+08</td>\n",
       "      <td>5.43304e+07</td>\n",
       "      <td>2.02401</td>\n",
       "      <td>3.71564</td>\n",
       "      <td>5.75444</td>\n",
       "      <td>4.39599</td>\n",
       "      <td>43.09564</td>\n",
       "      <td>1.33973</td>\n",
       "      <td>16.02184</td>\n",
       "      <td>0.36936</td>\n",
       "      <td>0.19784</td>\n",
       "      <td>0.63557</td>\n",
       "      <td>7.42261</td>\n",
       "    </tr>\n",
       "    <tr>\n",
       "      <th>std</th>\n",
       "      <td>1.02640e+08</td>\n",
       "      <td>3.86964e+07</td>\n",
       "      <td>1.44540</td>\n",
       "      <td>5.28017</td>\n",
       "      <td>4.06408</td>\n",
       "      <td>2.98511</td>\n",
       "      <td>19.67436</td>\n",
       "      <td>1.70581</td>\n",
       "      <td>8.12757</td>\n",
       "      <td>1.26727</td>\n",
       "      <td>0.93047</td>\n",
       "      <td>1.26286</td>\n",
       "      <td>1.93360</td>\n",
       "    </tr>\n",
       "    <tr>\n",
       "      <th>min</th>\n",
       "      <td>1.25220e+04</td>\n",
       "      <td>1.35000e+02</td>\n",
       "      <td>1.00000</td>\n",
       "      <td>1.00000</td>\n",
       "      <td>1.00000</td>\n",
       "      <td>1.00000</td>\n",
       "      <td>1.00000</td>\n",
       "      <td>0.00000</td>\n",
       "      <td>1.00000</td>\n",
       "      <td>0.00000</td>\n",
       "      <td>0.00000</td>\n",
       "      <td>0.00000</td>\n",
       "      <td>1.00000</td>\n",
       "    </tr>\n",
       "    <tr>\n",
       "      <th>25%</th>\n",
       "      <td>8.49612e+07</td>\n",
       "      <td>2.34132e+07</td>\n",
       "      <td>1.00000</td>\n",
       "      <td>1.00000</td>\n",
       "      <td>1.00000</td>\n",
       "      <td>2.00000</td>\n",
       "      <td>31.00000</td>\n",
       "      <td>0.00000</td>\n",
       "      <td>10.00000</td>\n",
       "      <td>0.00000</td>\n",
       "      <td>0.00000</td>\n",
       "      <td>0.00000</td>\n",
       "      <td>6.00000</td>\n",
       "    </tr>\n",
       "    <tr>\n",
       "      <th>50%</th>\n",
       "      <td>1.52389e+08</td>\n",
       "      <td>4.55051e+07</td>\n",
       "      <td>1.00000</td>\n",
       "      <td>1.00000</td>\n",
       "      <td>7.00000</td>\n",
       "      <td>4.00000</td>\n",
       "      <td>44.00000</td>\n",
       "      <td>1.00000</td>\n",
       "      <td>15.00000</td>\n",
       "      <td>0.00000</td>\n",
       "      <td>0.00000</td>\n",
       "      <td>0.00000</td>\n",
       "      <td>8.00000</td>\n",
       "    </tr>\n",
       "    <tr>\n",
       "      <th>75%</th>\n",
       "      <td>2.30271e+08</td>\n",
       "      <td>8.75459e+07</td>\n",
       "      <td>3.00000</td>\n",
       "      <td>4.00000</td>\n",
       "      <td>7.00000</td>\n",
       "      <td>6.00000</td>\n",
       "      <td>57.00000</td>\n",
       "      <td>2.00000</td>\n",
       "      <td>20.00000</td>\n",
       "      <td>0.00000</td>\n",
       "      <td>0.00000</td>\n",
       "      <td>1.00000</td>\n",
       "      <td>9.00000</td>\n",
       "    </tr>\n",
       "    <tr>\n",
       "      <th>max</th>\n",
       "      <td>4.43867e+08</td>\n",
       "      <td>1.89503e+08</td>\n",
       "      <td>8.00000</td>\n",
       "      <td>28.00000</td>\n",
       "      <td>25.00000</td>\n",
       "      <td>14.00000</td>\n",
       "      <td>132.00000</td>\n",
       "      <td>6.00000</td>\n",
       "      <td>81.00000</td>\n",
       "      <td>42.00000</td>\n",
       "      <td>76.00000</td>\n",
       "      <td>21.00000</td>\n",
       "      <td>16.00000</td>\n",
       "    </tr>\n",
       "  </tbody>\n",
       "</table>\n",
       "</div>"
      ],
      "text/plain": [
       "       encounter_id  patient_nbr  admission_type_id  discharge_disposition_id  \\\n",
       "count   1.01766e+05  1.01766e+05       101766.00000              101766.00000   \n",
       "mean    1.65202e+08  5.43304e+07            2.02401                   3.71564   \n",
       "std     1.02640e+08  3.86964e+07            1.44540                   5.28017   \n",
       "min     1.25220e+04  1.35000e+02            1.00000                   1.00000   \n",
       "25%     8.49612e+07  2.34132e+07            1.00000                   1.00000   \n",
       "50%     1.52389e+08  4.55051e+07            1.00000                   1.00000   \n",
       "75%     2.30271e+08  8.75459e+07            3.00000                   4.00000   \n",
       "max     4.43867e+08  1.89503e+08            8.00000                  28.00000   \n",
       "\n",
       "       admission_source_id  time_in_hospital  num_lab_procedures  \\\n",
       "count         101766.00000      101766.00000        101766.00000   \n",
       "mean               5.75444           4.39599            43.09564   \n",
       "std                4.06408           2.98511            19.67436   \n",
       "min                1.00000           1.00000             1.00000   \n",
       "25%                1.00000           2.00000            31.00000   \n",
       "50%                7.00000           4.00000            44.00000   \n",
       "75%                7.00000           6.00000            57.00000   \n",
       "max               25.00000          14.00000           132.00000   \n",
       "\n",
       "       num_procedures  num_medications  number_outpatient  number_emergency  \\\n",
       "count    101766.00000     101766.00000       101766.00000      101766.00000   \n",
       "mean          1.33973         16.02184            0.36936           0.19784   \n",
       "std           1.70581          8.12757            1.26727           0.93047   \n",
       "min           0.00000          1.00000            0.00000           0.00000   \n",
       "25%           0.00000         10.00000            0.00000           0.00000   \n",
       "50%           1.00000         15.00000            0.00000           0.00000   \n",
       "75%           2.00000         20.00000            0.00000           0.00000   \n",
       "max           6.00000         81.00000           42.00000          76.00000   \n",
       "\n",
       "       number_inpatient  number_diagnoses  \n",
       "count      101766.00000      101766.00000  \n",
       "mean            0.63557           7.42261  \n",
       "std             1.26286           1.93360  \n",
       "min             0.00000           1.00000  \n",
       "25%             0.00000           6.00000  \n",
       "50%             0.00000           8.00000  \n",
       "75%             1.00000           9.00000  \n",
       "max            21.00000          16.00000  "
      ]
     },
     "execution_count": 7,
     "metadata": {},
     "output_type": "execute_result"
    }
   ],
   "source": [
    "diabetic_df.describe()"
   ]
  },
  {
   "cell_type": "code",
   "execution_count": 8,
   "metadata": {},
   "outputs": [
    {
     "data": {
      "text/html": [
       "<div>\n",
       "<table border=\"1\" class=\"dataframe\">\n",
       "  <thead>\n",
       "    <tr style=\"text-align: right;\">\n",
       "      <th></th>\n",
       "      <th>race</th>\n",
       "      <th>gender</th>\n",
       "      <th>age</th>\n",
       "      <th>weight</th>\n",
       "      <th>payer_code</th>\n",
       "      <th>medical_specialty</th>\n",
       "      <th>diag_1</th>\n",
       "      <th>diag_2</th>\n",
       "      <th>diag_3</th>\n",
       "      <th>max_glu_serum</th>\n",
       "      <th>A1Cresult</th>\n",
       "      <th>metformin</th>\n",
       "      <th>repaglinide</th>\n",
       "      <th>nateglinide</th>\n",
       "      <th>chlorpropamide</th>\n",
       "      <th>glimepiride</th>\n",
       "      <th>acetohexamide</th>\n",
       "      <th>glipizide</th>\n",
       "      <th>glyburide</th>\n",
       "      <th>tolbutamide</th>\n",
       "      <th>pioglitazone</th>\n",
       "      <th>rosiglitazone</th>\n",
       "      <th>acarbose</th>\n",
       "      <th>miglitol</th>\n",
       "      <th>troglitazone</th>\n",
       "      <th>tolazamide</th>\n",
       "      <th>examide</th>\n",
       "      <th>citoglipton</th>\n",
       "      <th>insulin</th>\n",
       "      <th>glyburide-metformin</th>\n",
       "      <th>glipizide-metformin</th>\n",
       "      <th>glimepiride-pioglitazone</th>\n",
       "      <th>metformin-rosiglitazone</th>\n",
       "      <th>metformin-pioglitazone</th>\n",
       "      <th>change</th>\n",
       "      <th>diabetesMed</th>\n",
       "      <th>readmitted</th>\n",
       "    </tr>\n",
       "  </thead>\n",
       "  <tbody>\n",
       "    <tr>\n",
       "      <th>count</th>\n",
       "      <td>99493</td>\n",
       "      <td>101766</td>\n",
       "      <td>101766</td>\n",
       "      <td>3197</td>\n",
       "      <td>61510</td>\n",
       "      <td>51817</td>\n",
       "      <td>101745</td>\n",
       "      <td>101408</td>\n",
       "      <td>100343</td>\n",
       "      <td>101766</td>\n",
       "      <td>101766</td>\n",
       "      <td>101766</td>\n",
       "      <td>101766</td>\n",
       "      <td>101766</td>\n",
       "      <td>101766</td>\n",
       "      <td>101766</td>\n",
       "      <td>101766</td>\n",
       "      <td>101766</td>\n",
       "      <td>101766</td>\n",
       "      <td>101766</td>\n",
       "      <td>101766</td>\n",
       "      <td>101766</td>\n",
       "      <td>101766</td>\n",
       "      <td>101766</td>\n",
       "      <td>101766</td>\n",
       "      <td>101766</td>\n",
       "      <td>101766</td>\n",
       "      <td>101766</td>\n",
       "      <td>101766</td>\n",
       "      <td>101766</td>\n",
       "      <td>101766</td>\n",
       "      <td>101766</td>\n",
       "      <td>101766</td>\n",
       "      <td>101766</td>\n",
       "      <td>101766</td>\n",
       "      <td>101766</td>\n",
       "      <td>101766</td>\n",
       "    </tr>\n",
       "    <tr>\n",
       "      <th>unique</th>\n",
       "      <td>5</td>\n",
       "      <td>3</td>\n",
       "      <td>10</td>\n",
       "      <td>9</td>\n",
       "      <td>17</td>\n",
       "      <td>72</td>\n",
       "      <td>716</td>\n",
       "      <td>748</td>\n",
       "      <td>789</td>\n",
       "      <td>4</td>\n",
       "      <td>4</td>\n",
       "      <td>4</td>\n",
       "      <td>4</td>\n",
       "      <td>4</td>\n",
       "      <td>4</td>\n",
       "      <td>4</td>\n",
       "      <td>2</td>\n",
       "      <td>4</td>\n",
       "      <td>4</td>\n",
       "      <td>2</td>\n",
       "      <td>4</td>\n",
       "      <td>4</td>\n",
       "      <td>4</td>\n",
       "      <td>4</td>\n",
       "      <td>2</td>\n",
       "      <td>3</td>\n",
       "      <td>1</td>\n",
       "      <td>1</td>\n",
       "      <td>4</td>\n",
       "      <td>4</td>\n",
       "      <td>2</td>\n",
       "      <td>2</td>\n",
       "      <td>2</td>\n",
       "      <td>2</td>\n",
       "      <td>2</td>\n",
       "      <td>2</td>\n",
       "      <td>3</td>\n",
       "    </tr>\n",
       "    <tr>\n",
       "      <th>top</th>\n",
       "      <td>Caucasian</td>\n",
       "      <td>Female</td>\n",
       "      <td>[70-80)</td>\n",
       "      <td>[75-100)</td>\n",
       "      <td>MC</td>\n",
       "      <td>InternalMedicine</td>\n",
       "      <td>428</td>\n",
       "      <td>276</td>\n",
       "      <td>250</td>\n",
       "      <td>None</td>\n",
       "      <td>None</td>\n",
       "      <td>No</td>\n",
       "      <td>No</td>\n",
       "      <td>No</td>\n",
       "      <td>No</td>\n",
       "      <td>No</td>\n",
       "      <td>No</td>\n",
       "      <td>No</td>\n",
       "      <td>No</td>\n",
       "      <td>No</td>\n",
       "      <td>No</td>\n",
       "      <td>No</td>\n",
       "      <td>No</td>\n",
       "      <td>No</td>\n",
       "      <td>No</td>\n",
       "      <td>No</td>\n",
       "      <td>No</td>\n",
       "      <td>No</td>\n",
       "      <td>No</td>\n",
       "      <td>No</td>\n",
       "      <td>No</td>\n",
       "      <td>No</td>\n",
       "      <td>No</td>\n",
       "      <td>No</td>\n",
       "      <td>No</td>\n",
       "      <td>Yes</td>\n",
       "      <td>NO</td>\n",
       "    </tr>\n",
       "    <tr>\n",
       "      <th>freq</th>\n",
       "      <td>76099</td>\n",
       "      <td>54708</td>\n",
       "      <td>26068</td>\n",
       "      <td>1336</td>\n",
       "      <td>32439</td>\n",
       "      <td>14635</td>\n",
       "      <td>6862</td>\n",
       "      <td>6752</td>\n",
       "      <td>11555</td>\n",
       "      <td>96420</td>\n",
       "      <td>84748</td>\n",
       "      <td>81778</td>\n",
       "      <td>100227</td>\n",
       "      <td>101063</td>\n",
       "      <td>101680</td>\n",
       "      <td>96575</td>\n",
       "      <td>101765</td>\n",
       "      <td>89080</td>\n",
       "      <td>91116</td>\n",
       "      <td>101743</td>\n",
       "      <td>94438</td>\n",
       "      <td>95401</td>\n",
       "      <td>101458</td>\n",
       "      <td>101728</td>\n",
       "      <td>101763</td>\n",
       "      <td>101727</td>\n",
       "      <td>101766</td>\n",
       "      <td>101766</td>\n",
       "      <td>47383</td>\n",
       "      <td>101060</td>\n",
       "      <td>101753</td>\n",
       "      <td>101765</td>\n",
       "      <td>101764</td>\n",
       "      <td>101765</td>\n",
       "      <td>54755</td>\n",
       "      <td>78363</td>\n",
       "      <td>54864</td>\n",
       "    </tr>\n",
       "  </tbody>\n",
       "</table>\n",
       "</div>"
      ],
      "text/plain": [
       "             race  gender      age    weight payer_code medical_specialty  \\\n",
       "count       99493  101766   101766      3197      61510             51817   \n",
       "unique          5       3       10         9         17                72   \n",
       "top     Caucasian  Female  [70-80)  [75-100)         MC  InternalMedicine   \n",
       "freq        76099   54708    26068      1336      32439             14635   \n",
       "\n",
       "        diag_1  diag_2  diag_3 max_glu_serum A1Cresult metformin repaglinide  \\\n",
       "count   101745  101408  100343        101766    101766    101766      101766   \n",
       "unique     716     748     789             4         4         4           4   \n",
       "top        428     276     250          None      None        No          No   \n",
       "freq      6862    6752   11555         96420     84748     81778      100227   \n",
       "\n",
       "       nateglinide chlorpropamide glimepiride acetohexamide glipizide  \\\n",
       "count       101766         101766      101766        101766    101766   \n",
       "unique           4              4           4             2         4   \n",
       "top             No             No          No            No        No   \n",
       "freq        101063         101680       96575        101765     89080   \n",
       "\n",
       "       glyburide tolbutamide pioglitazone rosiglitazone acarbose miglitol  \\\n",
       "count     101766      101766       101766        101766   101766   101766   \n",
       "unique         4           2            4             4        4        4   \n",
       "top           No          No           No            No       No       No   \n",
       "freq       91116      101743        94438         95401   101458   101728   \n",
       "\n",
       "       troglitazone tolazamide examide citoglipton insulin  \\\n",
       "count        101766     101766  101766      101766  101766   \n",
       "unique            2          3       1           1       4   \n",
       "top              No         No      No          No      No   \n",
       "freq         101763     101727  101766      101766   47383   \n",
       "\n",
       "       glyburide-metformin glipizide-metformin glimepiride-pioglitazone  \\\n",
       "count               101766              101766                   101766   \n",
       "unique                   4                   2                        2   \n",
       "top                     No                  No                       No   \n",
       "freq                101060              101753                   101765   \n",
       "\n",
       "       metformin-rosiglitazone metformin-pioglitazone  change diabetesMed  \\\n",
       "count                   101766                 101766  101766      101766   \n",
       "unique                       2                      2       2           2   \n",
       "top                         No                     No      No         Yes   \n",
       "freq                    101764                 101765   54755       78363   \n",
       "\n",
       "       readmitted  \n",
       "count      101766  \n",
       "unique          3  \n",
       "top            NO  \n",
       "freq        54864  "
      ]
     },
     "execution_count": 8,
     "metadata": {},
     "output_type": "execute_result"
    }
   ],
   "source": [
    "diabetic_df.describe(include=[np.object])"
   ]
  },
  {
   "cell_type": "code",
   "execution_count": 9,
   "metadata": {},
   "outputs": [
    {
     "data": {
      "text/plain": [
       "Index(['encounter_id', 'patient_nbr', 'race', 'gender', 'age', 'weight',\n",
       "       'admission_type_id', 'discharge_disposition_id', 'admission_source_id',\n",
       "       'time_in_hospital', 'payer_code', 'medical_specialty',\n",
       "       'num_lab_procedures', 'num_procedures', 'num_medications',\n",
       "       'number_outpatient', 'number_emergency', 'number_inpatient', 'diag_1',\n",
       "       'diag_2', 'diag_3', 'number_diagnoses', 'max_glu_serum', 'A1Cresult',\n",
       "       'metformin', 'repaglinide', 'nateglinide', 'chlorpropamide',\n",
       "       'glimepiride', 'acetohexamide', 'glipizide', 'glyburide', 'tolbutamide',\n",
       "       'pioglitazone', 'rosiglitazone', 'acarbose', 'miglitol', 'troglitazone',\n",
       "       'tolazamide', 'examide', 'citoglipton', 'insulin',\n",
       "       'glyburide-metformin', 'glipizide-metformin',\n",
       "       'glimepiride-pioglitazone', 'metformin-rosiglitazone',\n",
       "       'metformin-pioglitazone', 'change', 'diabetesMed', 'readmitted'],\n",
       "      dtype='object')"
      ]
     },
     "execution_count": 9,
     "metadata": {},
     "output_type": "execute_result"
    }
   ],
   "source": [
    "diabetic_df.columns"
   ]
  },
  {
   "cell_type": "code",
   "execution_count": 10,
   "metadata": {},
   "outputs": [
    {
     "data": {
      "text/plain": [
       "int64     13\n",
       "object    37\n",
       "dtype: int64"
      ]
     },
     "execution_count": 10,
     "metadata": {},
     "output_type": "execute_result"
    }
   ],
   "source": [
    "diabetic_df.get_dtype_counts()\n",
    "#13 numerical attributes and 37 categorical attributes"
   ]
  },
  {
   "cell_type": "code",
   "execution_count": 11,
   "metadata": {},
   "outputs": [
    {
     "data": {
      "text/plain": [
       "88785891     40\n",
       "43140906     28\n",
       "23199021     23\n",
       "1660293      23\n",
       "88227540     23\n",
       "23643405     22\n",
       "84428613     22\n",
       "92709351     21\n",
       "23398488     20\n",
       "90609804     20\n",
       "88789707     20\n",
       "37096866     20\n",
       "89472402     20\n",
       "29903877     20\n",
       "88681950     19\n",
       "88479036     19\n",
       "97391007     19\n",
       "24011577     18\n",
       "3481272      18\n",
       "91160280     18\n",
       "84348792     18\n",
       "3401055      18\n",
       "91751121     18\n",
       "106757478    17\n",
       "90489195     17\n",
       "41699412     17\n",
       "84676248     16\n",
       "384939       16\n",
       "90164655     16\n",
       "41617368     16\n",
       "             ..\n",
       "141459593     1\n",
       "54207855      1\n",
       "71579169      1\n",
       "23406147      1\n",
       "6348348       1\n",
       "137952824     1\n",
       "23234103      1\n",
       "78943797      1\n",
       "43683723      1\n",
       "85241394      1\n",
       "18267696      1\n",
       "45161577      1\n",
       "32417442      1\n",
       "61105707      1\n",
       "106231896     1\n",
       "3397149       1\n",
       "39734766      1\n",
       "23850522      1\n",
       "42977016      1\n",
       "113160366     1\n",
       "8105490       1\n",
       "16600590      1\n",
       "92990970      1\n",
       "783198        1\n",
       "105551478     1\n",
       "71081460      1\n",
       "30060018      1\n",
       "67443444      1\n",
       "141344240     1\n",
       "93251151      1\n",
       "Name: patient_nbr, dtype: int64"
      ]
     },
     "execution_count": 11,
     "metadata": {},
     "output_type": "execute_result"
    }
   ],
   "source": [
    "diabetic_df.patient_nbr.value_counts()"
   ]
  },
  {
   "cell_type": "code",
   "execution_count": 12,
   "metadata": {
    "collapsed": true
   },
   "outputs": [],
   "source": [
    "#Dropping all redundant Patient numbers and keeping only ONE encounter for each patient\n",
    "diabetic_df.drop_duplicates(['patient_nbr'],keep='first',inplace=True)"
   ]
  },
  {
   "cell_type": "code",
   "execution_count": 13,
   "metadata": {},
   "outputs": [
    {
     "data": {
      "text/plain": [
       "(71518, 50)"
      ]
     },
     "execution_count": 13,
     "metadata": {},
     "output_type": "execute_result"
    }
   ],
   "source": [
    "diabetic_df.shape"
   ]
  },
  {
   "cell_type": "code",
   "execution_count": 14,
   "metadata": {},
   "outputs": [
    {
     "data": {
      "text/plain": [
       "1     44317\n",
       "3      8784\n",
       "6      8289\n",
       "18     2474\n",
       "2      1539\n",
       "22     1410\n",
       "11     1077\n",
       "5       913\n",
       "25      778\n",
       "4       541\n",
       "7       409\n",
       "23      260\n",
       "13      243\n",
       "14      218\n",
       "28       90\n",
       "8        73\n",
       "15       40\n",
       "24       25\n",
       "9         9\n",
       "17        8\n",
       "10        6\n",
       "19        6\n",
       "27        3\n",
       "16        3\n",
       "12        2\n",
       "20        1\n",
       "Name: discharge_disposition_id, dtype: int64"
      ]
     },
     "execution_count": 14,
     "metadata": {},
     "output_type": "execute_result"
    }
   ],
   "source": [
    "diabetic_df.discharge_disposition_id.value_counts()"
   ]
  },
  {
   "cell_type": "code",
   "execution_count": 15,
   "metadata": {},
   "outputs": [
    {
     "data": {
      "text/plain": [
       "(69973, 50)"
      ]
     },
     "execution_count": 15,
     "metadata": {},
     "output_type": "execute_result"
    }
   ],
   "source": [
    "diabetic_df = diabetic_df[diabetic_df.discharge_disposition_id != 11]\n",
    "diabetic_df = diabetic_df[diabetic_df.discharge_disposition_id != 13]\n",
    "diabetic_df = diabetic_df[diabetic_df.discharge_disposition_id != 14]\n",
    "diabetic_df = diabetic_df[diabetic_df.discharge_disposition_id != 19]\n",
    "diabetic_df = diabetic_df[diabetic_df.discharge_disposition_id != 20]\n",
    "diabetic_df = diabetic_df[diabetic_df.discharge_disposition_id != 21]\n",
    "diabetic_df.shape"
   ]
  },
  {
   "cell_type": "code",
   "execution_count": 16,
   "metadata": {},
   "outputs": [
    {
     "data": {
      "text/plain": [
       "encounter_id                69973\n",
       "patient_nbr                 69973\n",
       "race                        68055\n",
       "gender                      69973\n",
       "age                         69973\n",
       "weight                       2788\n",
       "admission_type_id           69973\n",
       "discharge_disposition_id    69973\n",
       "admission_source_id         69973\n",
       "time_in_hospital            69973\n",
       "payer_code                  39558\n",
       "medical_specialty           36334\n",
       "num_lab_procedures          69973\n",
       "num_procedures              69973\n",
       "num_medications             69973\n",
       "number_outpatient           69973\n",
       "number_emergency            69973\n",
       "number_inpatient            69973\n",
       "diag_1                      69963\n",
       "diag_2                      69680\n",
       "diag_3                      68749\n",
       "number_diagnoses            69973\n",
       "max_glu_serum               69973\n",
       "A1Cresult                   69973\n",
       "metformin                   69973\n",
       "repaglinide                 69973\n",
       "nateglinide                 69973\n",
       "chlorpropamide              69973\n",
       "glimepiride                 69973\n",
       "acetohexamide               69973\n",
       "glipizide                   69973\n",
       "glyburide                   69973\n",
       "tolbutamide                 69973\n",
       "pioglitazone                69973\n",
       "rosiglitazone               69973\n",
       "acarbose                    69973\n",
       "miglitol                    69973\n",
       "troglitazone                69973\n",
       "tolazamide                  69973\n",
       "examide                     69973\n",
       "citoglipton                 69973\n",
       "insulin                     69973\n",
       "glyburide-metformin         69973\n",
       "glipizide-metformin         69973\n",
       "glimepiride-pioglitazone    69973\n",
       "metformin-rosiglitazone     69973\n",
       "metformin-pioglitazone      69973\n",
       "change                      69973\n",
       "diabetesMed                 69973\n",
       "readmitted                  69973\n",
       "dtype: int64"
      ]
     },
     "execution_count": 16,
     "metadata": {},
     "output_type": "execute_result"
    }
   ],
   "source": [
    "#Handling missing values\n",
    "diabetic_df.count(axis=0)"
   ]
  },
  {
   "cell_type": "code",
   "execution_count": 17,
   "metadata": {},
   "outputs": [
    {
     "data": {
      "text/plain": [
       "(69973, 49)"
      ]
     },
     "execution_count": 17,
     "metadata": {},
     "output_type": "execute_result"
    }
   ],
   "source": [
    "#Dropping the 'weight' column as we have only 3% of the values. There are 98569 missing values.\n",
    "diabetic_df = diabetic_df.drop('weight',axis=1,inplace=False)\n",
    "diabetic_df.shape"
   ]
  },
  {
   "cell_type": "code",
   "execution_count": 18,
   "metadata": {
    "collapsed": true
   },
   "outputs": [],
   "source": [
    "#Dropping the column - payer_code as there are more than 50% missing values. And payer_code not relevant to the outcome.\n",
    "diabetic_df.drop('payer_code',axis=1,inplace=True)"
   ]
  },
  {
   "cell_type": "code",
   "execution_count": 19,
   "metadata": {},
   "outputs": [
    {
     "data": {
      "text/plain": [
       "(69973, 48)"
      ]
     },
     "execution_count": 19,
     "metadata": {},
     "output_type": "execute_result"
    }
   ],
   "source": [
    "diabetic_df.shape"
   ]
  },
  {
   "cell_type": "code",
   "execution_count": 20,
   "metadata": {},
   "outputs": [
    {
     "data": {
      "text/plain": [
       "Caucasian          52292\n",
       "AfricanAmerican    12625\n",
       "NaN                 1918\n",
       "Hispanic            1500\n",
       "Other               1150\n",
       "Asian                488\n",
       "Name: race, dtype: int64"
      ]
     },
     "execution_count": 20,
     "metadata": {},
     "output_type": "execute_result"
    }
   ],
   "source": [
    "#Counts of unique values for the 'Race' column\n",
    "diabetic_df.race.value_counts(dropna=False)\n",
    "#NaN -- 1918"
   ]
  },
  {
   "cell_type": "code",
   "execution_count": 21,
   "metadata": {},
   "outputs": [
    {
     "data": {
      "text/plain": [
       "(69973, 48)"
      ]
     },
     "execution_count": 21,
     "metadata": {},
     "output_type": "execute_result"
    }
   ],
   "source": [
    "#Filling the NA values with 'missing' value for medical_speciality and race columns \n",
    "diabetic_df.medical_specialty.fillna('missing',inplace=True)\n",
    "diabetic_df.shape"
   ]
  },
  {
   "cell_type": "code",
   "execution_count": 22,
   "metadata": {},
   "outputs": [
    {
     "data": {
      "text/plain": [
       "encounter_id                69973\n",
       "patient_nbr                 69973\n",
       "race                        69973\n",
       "gender                      69973\n",
       "age                         69973\n",
       "admission_type_id           69973\n",
       "discharge_disposition_id    69973\n",
       "admission_source_id         69973\n",
       "time_in_hospital            69973\n",
       "medical_specialty           69973\n",
       "num_lab_procedures          69973\n",
       "num_procedures              69973\n",
       "num_medications             69973\n",
       "number_outpatient           69973\n",
       "number_emergency            69973\n",
       "number_inpatient            69973\n",
       "diag_1                      69963\n",
       "diag_2                      69680\n",
       "diag_3                      68749\n",
       "number_diagnoses            69973\n",
       "max_glu_serum               69973\n",
       "A1Cresult                   69973\n",
       "metformin                   69973\n",
       "repaglinide                 69973\n",
       "nateglinide                 69973\n",
       "chlorpropamide              69973\n",
       "glimepiride                 69973\n",
       "acetohexamide               69973\n",
       "glipizide                   69973\n",
       "glyburide                   69973\n",
       "tolbutamide                 69973\n",
       "pioglitazone                69973\n",
       "rosiglitazone               69973\n",
       "acarbose                    69973\n",
       "miglitol                    69973\n",
       "troglitazone                69973\n",
       "tolazamide                  69973\n",
       "examide                     69973\n",
       "citoglipton                 69973\n",
       "insulin                     69973\n",
       "glyburide-metformin         69973\n",
       "glipizide-metformin         69973\n",
       "glimepiride-pioglitazone    69973\n",
       "metformin-rosiglitazone     69973\n",
       "metformin-pioglitazone      69973\n",
       "change                      69973\n",
       "diabetesMed                 69973\n",
       "readmitted                  69973\n",
       "dtype: int64"
      ]
     },
     "execution_count": 22,
     "metadata": {},
     "output_type": "execute_result"
    }
   ],
   "source": [
    "diabetic_df.race.fillna('missing',inplace=True)\n",
    "diabetic_df.count(axis=0)"
   ]
  },
  {
   "cell_type": "code",
   "execution_count": 23,
   "metadata": {},
   "outputs": [
    {
     "data": {
      "text/html": [
       "<div>\n",
       "<table border=\"1\" class=\"dataframe\">\n",
       "  <thead>\n",
       "    <tr style=\"text-align: right;\">\n",
       "      <th></th>\n",
       "      <th>race</th>\n",
       "      <th>gender</th>\n",
       "      <th>age</th>\n",
       "      <th>medical_specialty</th>\n",
       "      <th>diag_1</th>\n",
       "      <th>diag_2</th>\n",
       "      <th>diag_3</th>\n",
       "      <th>max_glu_serum</th>\n",
       "      <th>A1Cresult</th>\n",
       "      <th>metformin</th>\n",
       "      <th>repaglinide</th>\n",
       "      <th>nateglinide</th>\n",
       "      <th>chlorpropamide</th>\n",
       "      <th>glimepiride</th>\n",
       "      <th>acetohexamide</th>\n",
       "      <th>glipizide</th>\n",
       "      <th>glyburide</th>\n",
       "      <th>tolbutamide</th>\n",
       "      <th>pioglitazone</th>\n",
       "      <th>rosiglitazone</th>\n",
       "      <th>acarbose</th>\n",
       "      <th>miglitol</th>\n",
       "      <th>troglitazone</th>\n",
       "      <th>tolazamide</th>\n",
       "      <th>examide</th>\n",
       "      <th>citoglipton</th>\n",
       "      <th>insulin</th>\n",
       "      <th>glyburide-metformin</th>\n",
       "      <th>glipizide-metformin</th>\n",
       "      <th>glimepiride-pioglitazone</th>\n",
       "      <th>metformin-rosiglitazone</th>\n",
       "      <th>metformin-pioglitazone</th>\n",
       "      <th>change</th>\n",
       "      <th>diabetesMed</th>\n",
       "      <th>readmitted</th>\n",
       "    </tr>\n",
       "  </thead>\n",
       "  <tbody>\n",
       "    <tr>\n",
       "      <th>count</th>\n",
       "      <td>69973</td>\n",
       "      <td>69973</td>\n",
       "      <td>69973</td>\n",
       "      <td>69973</td>\n",
       "      <td>69963</td>\n",
       "      <td>69680</td>\n",
       "      <td>68749</td>\n",
       "      <td>69973</td>\n",
       "      <td>69973</td>\n",
       "      <td>69973</td>\n",
       "      <td>69973</td>\n",
       "      <td>69973</td>\n",
       "      <td>69973</td>\n",
       "      <td>69973</td>\n",
       "      <td>69973</td>\n",
       "      <td>69973</td>\n",
       "      <td>69973</td>\n",
       "      <td>69973</td>\n",
       "      <td>69973</td>\n",
       "      <td>69973</td>\n",
       "      <td>69973</td>\n",
       "      <td>69973</td>\n",
       "      <td>69973</td>\n",
       "      <td>69973</td>\n",
       "      <td>69973</td>\n",
       "      <td>69973</td>\n",
       "      <td>69973</td>\n",
       "      <td>69973</td>\n",
       "      <td>69973</td>\n",
       "      <td>69973</td>\n",
       "      <td>69973</td>\n",
       "      <td>69973</td>\n",
       "      <td>69973</td>\n",
       "      <td>69973</td>\n",
       "      <td>69973</td>\n",
       "    </tr>\n",
       "    <tr>\n",
       "      <th>unique</th>\n",
       "      <td>6</td>\n",
       "      <td>3</td>\n",
       "      <td>10</td>\n",
       "      <td>71</td>\n",
       "      <td>694</td>\n",
       "      <td>723</td>\n",
       "      <td>756</td>\n",
       "      <td>4</td>\n",
       "      <td>4</td>\n",
       "      <td>4</td>\n",
       "      <td>4</td>\n",
       "      <td>4</td>\n",
       "      <td>4</td>\n",
       "      <td>4</td>\n",
       "      <td>2</td>\n",
       "      <td>4</td>\n",
       "      <td>4</td>\n",
       "      <td>2</td>\n",
       "      <td>4</td>\n",
       "      <td>4</td>\n",
       "      <td>3</td>\n",
       "      <td>4</td>\n",
       "      <td>2</td>\n",
       "      <td>2</td>\n",
       "      <td>1</td>\n",
       "      <td>1</td>\n",
       "      <td>4</td>\n",
       "      <td>4</td>\n",
       "      <td>2</td>\n",
       "      <td>1</td>\n",
       "      <td>2</td>\n",
       "      <td>2</td>\n",
       "      <td>2</td>\n",
       "      <td>2</td>\n",
       "      <td>3</td>\n",
       "    </tr>\n",
       "    <tr>\n",
       "      <th>top</th>\n",
       "      <td>Caucasian</td>\n",
       "      <td>Female</td>\n",
       "      <td>[70-80)</td>\n",
       "      <td>missing</td>\n",
       "      <td>414</td>\n",
       "      <td>250</td>\n",
       "      <td>250</td>\n",
       "      <td>None</td>\n",
       "      <td>None</td>\n",
       "      <td>No</td>\n",
       "      <td>No</td>\n",
       "      <td>No</td>\n",
       "      <td>No</td>\n",
       "      <td>No</td>\n",
       "      <td>No</td>\n",
       "      <td>No</td>\n",
       "      <td>No</td>\n",
       "      <td>No</td>\n",
       "      <td>No</td>\n",
       "      <td>No</td>\n",
       "      <td>No</td>\n",
       "      <td>No</td>\n",
       "      <td>No</td>\n",
       "      <td>No</td>\n",
       "      <td>No</td>\n",
       "      <td>No</td>\n",
       "      <td>No</td>\n",
       "      <td>No</td>\n",
       "      <td>No</td>\n",
       "      <td>No</td>\n",
       "      <td>No</td>\n",
       "      <td>No</td>\n",
       "      <td>No</td>\n",
       "      <td>Yes</td>\n",
       "      <td>NO</td>\n",
       "    </tr>\n",
       "    <tr>\n",
       "      <th>freq</th>\n",
       "      <td>52292</td>\n",
       "      <td>37229</td>\n",
       "      <td>17750</td>\n",
       "      <td>33639</td>\n",
       "      <td>5209</td>\n",
       "      <td>4996</td>\n",
       "      <td>8980</td>\n",
       "      <td>66625</td>\n",
       "      <td>57128</td>\n",
       "      <td>55070</td>\n",
       "      <td>69056</td>\n",
       "      <td>69482</td>\n",
       "      <td>69902</td>\n",
       "      <td>66276</td>\n",
       "      <td>69972</td>\n",
       "      <td>60966</td>\n",
       "      <td>62198</td>\n",
       "      <td>69956</td>\n",
       "      <td>64710</td>\n",
       "      <td>65312</td>\n",
       "      <td>69773</td>\n",
       "      <td>69953</td>\n",
       "      <td>69970</td>\n",
       "      <td>69943</td>\n",
       "      <td>69973</td>\n",
       "      <td>69973</td>\n",
       "      <td>34258</td>\n",
       "      <td>69477</td>\n",
       "      <td>69966</td>\n",
       "      <td>69973</td>\n",
       "      <td>69971</td>\n",
       "      <td>69972</td>\n",
       "      <td>38482</td>\n",
       "      <td>53293</td>\n",
       "      <td>41474</td>\n",
       "    </tr>\n",
       "  </tbody>\n",
       "</table>\n",
       "</div>"
      ],
      "text/plain": [
       "             race  gender      age medical_specialty diag_1 diag_2 diag_3  \\\n",
       "count       69973   69973    69973             69973  69963  69680  68749   \n",
       "unique          6       3       10                71    694    723    756   \n",
       "top     Caucasian  Female  [70-80)           missing    414    250    250   \n",
       "freq        52292   37229    17750             33639   5209   4996   8980   \n",
       "\n",
       "       max_glu_serum A1Cresult metformin repaglinide nateglinide  \\\n",
       "count          69973     69973     69973       69973       69973   \n",
       "unique             4         4         4           4           4   \n",
       "top             None      None        No          No          No   \n",
       "freq           66625     57128     55070       69056       69482   \n",
       "\n",
       "       chlorpropamide glimepiride acetohexamide glipizide glyburide  \\\n",
       "count           69973       69973         69973     69973     69973   \n",
       "unique              4           4             2         4         4   \n",
       "top                No          No            No        No        No   \n",
       "freq            69902       66276         69972     60966     62198   \n",
       "\n",
       "       tolbutamide pioglitazone rosiglitazone acarbose miglitol troglitazone  \\\n",
       "count        69973        69973         69973    69973    69973        69973   \n",
       "unique           2            4             4        3        4            2   \n",
       "top             No           No            No       No       No           No   \n",
       "freq         69956        64710         65312    69773    69953        69970   \n",
       "\n",
       "       tolazamide examide citoglipton insulin glyburide-metformin  \\\n",
       "count       69973   69973       69973   69973               69973   \n",
       "unique          2       1           1       4                   4   \n",
       "top            No      No          No      No                  No   \n",
       "freq        69943   69973       69973   34258               69477   \n",
       "\n",
       "       glipizide-metformin glimepiride-pioglitazone metformin-rosiglitazone  \\\n",
       "count                69973                    69973                   69973   \n",
       "unique                   2                        1                       2   \n",
       "top                     No                       No                      No   \n",
       "freq                 69966                    69973                   69971   \n",
       "\n",
       "       metformin-pioglitazone change diabetesMed readmitted  \n",
       "count                   69973  69973       69973      69973  \n",
       "unique                      2      2           2          3  \n",
       "top                        No     No         Yes         NO  \n",
       "freq                    69972  38482       53293      41474  "
      ]
     },
     "execution_count": 23,
     "metadata": {},
     "output_type": "execute_result"
    }
   ],
   "source": [
    "diabetic_df.describe(include=[np.object])"
   ]
  },
  {
   "cell_type": "code",
   "execution_count": 24,
   "metadata": {},
   "outputs": [
    {
     "data": {
      "text/plain": [
       "(68689, 48)"
      ]
     },
     "execution_count": 24,
     "metadata": {},
     "output_type": "execute_result"
    }
   ],
   "source": [
    "#Eliminating 'NaNs' from diag_1,diag_2 and diag_3 columns\n",
    "diabetic_df.dropna(axis=0,inplace=True)\n",
    "diabetic_df.shape"
   ]
  },
  {
   "cell_type": "code",
   "execution_count": 25,
   "metadata": {},
   "outputs": [
    {
     "data": {
      "text/html": [
       "<div>\n",
       "<table border=\"1\" class=\"dataframe\">\n",
       "  <thead>\n",
       "    <tr style=\"text-align: right;\">\n",
       "      <th></th>\n",
       "      <th>race</th>\n",
       "      <th>gender</th>\n",
       "      <th>age</th>\n",
       "      <th>medical_specialty</th>\n",
       "      <th>diag_1</th>\n",
       "      <th>diag_2</th>\n",
       "      <th>diag_3</th>\n",
       "      <th>max_glu_serum</th>\n",
       "      <th>A1Cresult</th>\n",
       "      <th>metformin</th>\n",
       "      <th>repaglinide</th>\n",
       "      <th>nateglinide</th>\n",
       "      <th>chlorpropamide</th>\n",
       "      <th>glimepiride</th>\n",
       "      <th>acetohexamide</th>\n",
       "      <th>glipizide</th>\n",
       "      <th>glyburide</th>\n",
       "      <th>tolbutamide</th>\n",
       "      <th>pioglitazone</th>\n",
       "      <th>rosiglitazone</th>\n",
       "      <th>acarbose</th>\n",
       "      <th>miglitol</th>\n",
       "      <th>troglitazone</th>\n",
       "      <th>tolazamide</th>\n",
       "      <th>examide</th>\n",
       "      <th>citoglipton</th>\n",
       "      <th>insulin</th>\n",
       "      <th>glyburide-metformin</th>\n",
       "      <th>glipizide-metformin</th>\n",
       "      <th>glimepiride-pioglitazone</th>\n",
       "      <th>metformin-rosiglitazone</th>\n",
       "      <th>metformin-pioglitazone</th>\n",
       "      <th>change</th>\n",
       "      <th>diabetesMed</th>\n",
       "      <th>readmitted</th>\n",
       "    </tr>\n",
       "  </thead>\n",
       "  <tbody>\n",
       "    <tr>\n",
       "      <th>count</th>\n",
       "      <td>68689</td>\n",
       "      <td>68689</td>\n",
       "      <td>68689</td>\n",
       "      <td>68689</td>\n",
       "      <td>68689</td>\n",
       "      <td>68689</td>\n",
       "      <td>68689</td>\n",
       "      <td>68689</td>\n",
       "      <td>68689</td>\n",
       "      <td>68689</td>\n",
       "      <td>68689</td>\n",
       "      <td>68689</td>\n",
       "      <td>68689</td>\n",
       "      <td>68689</td>\n",
       "      <td>68689</td>\n",
       "      <td>68689</td>\n",
       "      <td>68689</td>\n",
       "      <td>68689</td>\n",
       "      <td>68689</td>\n",
       "      <td>68689</td>\n",
       "      <td>68689</td>\n",
       "      <td>68689</td>\n",
       "      <td>68689</td>\n",
       "      <td>68689</td>\n",
       "      <td>68689</td>\n",
       "      <td>68689</td>\n",
       "      <td>68689</td>\n",
       "      <td>68689</td>\n",
       "      <td>68689</td>\n",
       "      <td>68689</td>\n",
       "      <td>68689</td>\n",
       "      <td>68689</td>\n",
       "      <td>68689</td>\n",
       "      <td>68689</td>\n",
       "      <td>68689</td>\n",
       "    </tr>\n",
       "    <tr>\n",
       "      <th>unique</th>\n",
       "      <td>6</td>\n",
       "      <td>3</td>\n",
       "      <td>10</td>\n",
       "      <td>71</td>\n",
       "      <td>692</td>\n",
       "      <td>716</td>\n",
       "      <td>756</td>\n",
       "      <td>4</td>\n",
       "      <td>4</td>\n",
       "      <td>4</td>\n",
       "      <td>4</td>\n",
       "      <td>4</td>\n",
       "      <td>4</td>\n",
       "      <td>4</td>\n",
       "      <td>2</td>\n",
       "      <td>4</td>\n",
       "      <td>4</td>\n",
       "      <td>2</td>\n",
       "      <td>4</td>\n",
       "      <td>4</td>\n",
       "      <td>3</td>\n",
       "      <td>4</td>\n",
       "      <td>2</td>\n",
       "      <td>2</td>\n",
       "      <td>1</td>\n",
       "      <td>1</td>\n",
       "      <td>4</td>\n",
       "      <td>4</td>\n",
       "      <td>2</td>\n",
       "      <td>1</td>\n",
       "      <td>2</td>\n",
       "      <td>2</td>\n",
       "      <td>2</td>\n",
       "      <td>2</td>\n",
       "      <td>3</td>\n",
       "    </tr>\n",
       "    <tr>\n",
       "      <th>top</th>\n",
       "      <td>Caucasian</td>\n",
       "      <td>Female</td>\n",
       "      <td>[70-80)</td>\n",
       "      <td>missing</td>\n",
       "      <td>414</td>\n",
       "      <td>250</td>\n",
       "      <td>250</td>\n",
       "      <td>None</td>\n",
       "      <td>None</td>\n",
       "      <td>No</td>\n",
       "      <td>No</td>\n",
       "      <td>No</td>\n",
       "      <td>No</td>\n",
       "      <td>No</td>\n",
       "      <td>No</td>\n",
       "      <td>No</td>\n",
       "      <td>No</td>\n",
       "      <td>No</td>\n",
       "      <td>No</td>\n",
       "      <td>No</td>\n",
       "      <td>No</td>\n",
       "      <td>No</td>\n",
       "      <td>No</td>\n",
       "      <td>No</td>\n",
       "      <td>No</td>\n",
       "      <td>No</td>\n",
       "      <td>No</td>\n",
       "      <td>No</td>\n",
       "      <td>No</td>\n",
       "      <td>No</td>\n",
       "      <td>No</td>\n",
       "      <td>No</td>\n",
       "      <td>No</td>\n",
       "      <td>Yes</td>\n",
       "      <td>NO</td>\n",
       "    </tr>\n",
       "    <tr>\n",
       "      <th>freq</th>\n",
       "      <td>51439</td>\n",
       "      <td>36587</td>\n",
       "      <td>17610</td>\n",
       "      <td>33266</td>\n",
       "      <td>5180</td>\n",
       "      <td>4556</td>\n",
       "      <td>8965</td>\n",
       "      <td>65416</td>\n",
       "      <td>56229</td>\n",
       "      <td>54038</td>\n",
       "      <td>67778</td>\n",
       "      <td>68202</td>\n",
       "      <td>68620</td>\n",
       "      <td>65033</td>\n",
       "      <td>68688</td>\n",
       "      <td>59784</td>\n",
       "      <td>61028</td>\n",
       "      <td>68672</td>\n",
       "      <td>63493</td>\n",
       "      <td>64082</td>\n",
       "      <td>68492</td>\n",
       "      <td>68669</td>\n",
       "      <td>68686</td>\n",
       "      <td>68661</td>\n",
       "      <td>68689</td>\n",
       "      <td>68689</td>\n",
       "      <td>33751</td>\n",
       "      <td>68202</td>\n",
       "      <td>68682</td>\n",
       "      <td>68689</td>\n",
       "      <td>68687</td>\n",
       "      <td>68688</td>\n",
       "      <td>37742</td>\n",
       "      <td>52281</td>\n",
       "      <td>40534</td>\n",
       "    </tr>\n",
       "  </tbody>\n",
       "</table>\n",
       "</div>"
      ],
      "text/plain": [
       "             race  gender      age medical_specialty diag_1 diag_2 diag_3  \\\n",
       "count       68689   68689    68689             68689  68689  68689  68689   \n",
       "unique          6       3       10                71    692    716    756   \n",
       "top     Caucasian  Female  [70-80)           missing    414    250    250   \n",
       "freq        51439   36587    17610             33266   5180   4556   8965   \n",
       "\n",
       "       max_glu_serum A1Cresult metformin repaglinide nateglinide  \\\n",
       "count          68689     68689     68689       68689       68689   \n",
       "unique             4         4         4           4           4   \n",
       "top             None      None        No          No          No   \n",
       "freq           65416     56229     54038       67778       68202   \n",
       "\n",
       "       chlorpropamide glimepiride acetohexamide glipizide glyburide  \\\n",
       "count           68689       68689         68689     68689     68689   \n",
       "unique              4           4             2         4         4   \n",
       "top                No          No            No        No        No   \n",
       "freq            68620       65033         68688     59784     61028   \n",
       "\n",
       "       tolbutamide pioglitazone rosiglitazone acarbose miglitol troglitazone  \\\n",
       "count        68689        68689         68689    68689    68689        68689   \n",
       "unique           2            4             4        3        4            2   \n",
       "top             No           No            No       No       No           No   \n",
       "freq         68672        63493         64082    68492    68669        68686   \n",
       "\n",
       "       tolazamide examide citoglipton insulin glyburide-metformin  \\\n",
       "count       68689   68689       68689   68689               68689   \n",
       "unique          2       1           1       4                   4   \n",
       "top            No      No          No      No                  No   \n",
       "freq        68661   68689       68689   33751               68202   \n",
       "\n",
       "       glipizide-metformin glimepiride-pioglitazone metformin-rosiglitazone  \\\n",
       "count                68689                    68689                   68689   \n",
       "unique                   2                        1                       2   \n",
       "top                     No                       No                      No   \n",
       "freq                 68682                    68689                   68687   \n",
       "\n",
       "       metformin-pioglitazone change diabetesMed readmitted  \n",
       "count                   68689  68689       68689      68689  \n",
       "unique                      2      2           2          3  \n",
       "top                        No     No         Yes         NO  \n",
       "freq                    68688  37742       52281      40534  "
      ]
     },
     "execution_count": 25,
     "metadata": {},
     "output_type": "execute_result"
    }
   ],
   "source": [
    "diabetic_df.describe(include=[np.object])"
   ]
  },
  {
   "cell_type": "code",
   "execution_count": 26,
   "metadata": {},
   "outputs": [
    {
     "data": {
      "text/plain": [
       "<matplotlib.text.Text at 0x111f727f0>"
      ]
     },
     "execution_count": 26,
     "metadata": {},
     "output_type": "execute_result"
    },
    {
     "data": {
      "image/png": "[encoded data removed]",
      "text/plain": [
       "<matplotlib.figure.Figure at 0x111e3b0f0>"
      ]
     },
     "metadata": {},
     "output_type": "display_data"
    }
   ],
   "source": [
    "#Dropping columns which have only 1 unique value -- acetohexamide,examide,citoglipton,glimepiride-pioglitazone\n",
    "#All values in the column correspond to NO\n",
    "\n",
    "diabetic_df.acetohexamide.value_counts().plot(kind='bar',grid=True)\n",
    "plt.title('Bar plot for acetohexamide')"
   ]
  },
  {
   "cell_type": "code",
   "execution_count": 27,
   "metadata": {},
   "outputs": [
    {
     "data": {
      "text/plain": [
       "<matplotlib.text.Text at 0x112eefd30>"
      ]
     },
     "execution_count": 27,
     "metadata": {},
     "output_type": "execute_result"
    },
    {
     "data": {
      "image/png": "[encoded data removed]",
      "text/plain": [
       "<matplotlib.figure.Figure at 0x111e408d0>"
      ]
     },
     "metadata": {},
     "output_type": "display_data"
    }
   ],
   "source": [
    "diabetic_df.examide.value_counts().plot(kind='bar',grid=True)\n",
    "plt.title('Bar plot for examide')"
   ]
  },
  {
   "cell_type": "code",
   "execution_count": 28,
   "metadata": {},
   "outputs": [
    {
     "data": {
      "text/plain": [
       "<matplotlib.text.Text at 0x112f5e588>"
      ]
     },
     "execution_count": 28,
     "metadata": {},
     "output_type": "execute_result"
    },
    {
     "data": {
      "image/png": "[encoded data removed]",
      "text/plain": [
       "<matplotlib.figure.Figure at 0x112ee00b8>"
      ]
     },
     "metadata": {},
     "output_type": "display_data"
    }
   ],
   "source": [
    "diabetic_df.citoglipton.value_counts().plot(kind='bar',grid=True)\n",
    "plt.title('Bar plot for citoglipton')"
   ]
  },
  {
   "cell_type": "code",
   "execution_count": 29,
   "metadata": {},
   "outputs": [
    {
     "data": {
      "text/plain": [
       "<matplotlib.text.Text at 0x1136c5358>"
      ]
     },
     "execution_count": 29,
     "metadata": {},
     "output_type": "execute_result"
    },
    {
     "data": {
      "image/png": "[encoded data removed]",
      "text/plain": [
       "<matplotlib.figure.Figure at 0x112f4d438>"
      ]
     },
     "metadata": {},
     "output_type": "display_data"
    }
   ],
   "source": [
    "diabetic_df['glimepiride-pioglitazone'].value_counts().plot(kind='bar',grid=True)\n",
    "plt.title('Bar plot for glimepiride-pioglitazone')"
   ]
  },
  {
   "cell_type": "code",
   "execution_count": 30,
   "metadata": {},
   "outputs": [
    {
     "data": {
      "text/plain": [
       "NO     40534\n",
       ">30    21944\n",
       "<30     6211\n",
       "Name: readmitted, dtype: int64"
      ]
     },
     "execution_count": 30,
     "metadata": {},
     "output_type": "execute_result"
    }
   ],
   "source": [
    "#Examining the outcome variable\n",
    "diabetic_df.readmitted.value_counts()"
   ]
  },
  {
   "cell_type": "code",
   "execution_count": 31,
   "metadata": {},
   "outputs": [
    {
     "data": {
      "text/plain": [
       "(68689, 44)"
      ]
     },
     "execution_count": 31,
     "metadata": {},
     "output_type": "execute_result"
    }
   ],
   "source": [
    "diabetic_df = diabetic_df.drop(['acetohexamide','examide','citoglipton','glimepiride-pioglitazone'],axis=1)\n",
    "diabetic_df.shape"
   ]
  },
  {
   "cell_type": "code",
   "execution_count": 32,
   "metadata": {},
   "outputs": [
    {
     "data": {
      "text/plain": [
       "<matplotlib.text.Text at 0x113a33d68>"
      ]
     },
     "execution_count": 32,
     "metadata": {},
     "output_type": "execute_result"
    },
    {
     "data": {
      "image/png": "[encoded data removed]",
      "text/plain": [
       "<matplotlib.figure.Figure at 0x111f84ba8>"
      ]
     },
     "metadata": {},
     "output_type": "display_data"
    }
   ],
   "source": [
    "diabetic_df.readmitted.value_counts().plot(kind='bar',grid=True)\n",
    "plt.title('Bar plot for readmitted')"
   ]
  },
  {
   "cell_type": "markdown",
   "metadata": {},
   "source": [
    "Defining the readmission attribute (outcome) as having two values: \"readmitted\" if the patient was readmitted within 30 days of discharge or “NO,”  no readmission at all. Dropping rows who got readmitted >30 days.\n"
   ]
  },
  {
   "cell_type": "code",
   "execution_count": 33,
   "metadata": {
    "collapsed": true
   },
   "outputs": [],
   "source": [
    "df_40k = diabetic_df[diabetic_df.readmitted != '>30']"
   ]
  },
  {
   "cell_type": "code",
   "execution_count": 34,
   "metadata": {},
   "outputs": [
    {
     "data": {
      "text/plain": [
       "(46745, 44)"
      ]
     },
     "execution_count": 34,
     "metadata": {},
     "output_type": "execute_result"
    }
   ],
   "source": [
    "df_40k.shape"
   ]
  },
  {
   "cell_type": "code",
   "execution_count": 35,
   "metadata": {},
   "outputs": [
    {
     "data": {
      "text/plain": [
       "NO     40534\n",
       "<30     6211\n",
       "Name: readmitted, dtype: int64"
      ]
     },
     "execution_count": 35,
     "metadata": {},
     "output_type": "execute_result"
    }
   ],
   "source": [
    "df_40k.readmitted.value_counts()"
   ]
  },
  {
   "cell_type": "code",
   "execution_count": 36,
   "metadata": {},
   "outputs": [
    {
     "data": {
      "text/plain": [
       "(46745,)"
      ]
     },
     "execution_count": 36,
     "metadata": {},
     "output_type": "execute_result"
    }
   ],
   "source": [
    "df_Y = df_40k['readmitted']\n",
    "df_Y.shape"
   ]
  },
  {
   "cell_type": "code",
   "execution_count": 37,
   "metadata": {},
   "outputs": [
    {
     "data": {
      "text/plain": [
       "(46745, 43)"
      ]
     },
     "execution_count": 37,
     "metadata": {},
     "output_type": "execute_result"
    }
   ],
   "source": [
    "df_X = df_40k.drop('readmitted',inplace=False,axis=1)\n",
    "df_X.shape"
   ]
  },
  {
   "cell_type": "code",
   "execution_count": 38,
   "metadata": {},
   "outputs": [
    {
     "data": {
      "text/html": [
       "<div>\n",
       "<table border=\"1\" class=\"dataframe\">\n",
       "  <thead>\n",
       "    <tr style=\"text-align: right;\">\n",
       "      <th></th>\n",
       "      <th>encounter_id</th>\n",
       "      <th>patient_nbr</th>\n",
       "      <th>race</th>\n",
       "      <th>gender</th>\n",
       "      <th>age</th>\n",
       "      <th>admission_type_id</th>\n",
       "      <th>discharge_disposition_id</th>\n",
       "      <th>admission_source_id</th>\n",
       "      <th>time_in_hospital</th>\n",
       "      <th>medical_specialty</th>\n",
       "      <th>num_lab_procedures</th>\n",
       "      <th>num_procedures</th>\n",
       "      <th>num_medications</th>\n",
       "      <th>number_outpatient</th>\n",
       "      <th>number_emergency</th>\n",
       "      <th>number_inpatient</th>\n",
       "      <th>diag_1</th>\n",
       "      <th>diag_2</th>\n",
       "      <th>diag_3</th>\n",
       "      <th>number_diagnoses</th>\n",
       "      <th>max_glu_serum</th>\n",
       "      <th>A1Cresult</th>\n",
       "      <th>metformin</th>\n",
       "      <th>repaglinide</th>\n",
       "      <th>nateglinide</th>\n",
       "      <th>chlorpropamide</th>\n",
       "      <th>glimepiride</th>\n",
       "      <th>glipizide</th>\n",
       "      <th>glyburide</th>\n",
       "      <th>tolbutamide</th>\n",
       "      <th>pioglitazone</th>\n",
       "      <th>rosiglitazone</th>\n",
       "      <th>acarbose</th>\n",
       "      <th>miglitol</th>\n",
       "      <th>troglitazone</th>\n",
       "      <th>tolazamide</th>\n",
       "      <th>insulin</th>\n",
       "      <th>glyburide-metformin</th>\n",
       "      <th>glipizide-metformin</th>\n",
       "      <th>metformin-rosiglitazone</th>\n",
       "      <th>metformin-pioglitazone</th>\n",
       "      <th>change</th>\n",
       "      <th>diabetesMed</th>\n",
       "    </tr>\n",
       "  </thead>\n",
       "  <tbody>\n",
       "    <tr>\n",
       "      <th>2</th>\n",
       "      <td>64410</td>\n",
       "      <td>86047875</td>\n",
       "      <td>AfricanAmerican</td>\n",
       "      <td>Female</td>\n",
       "      <td>[20-30)</td>\n",
       "      <td>1</td>\n",
       "      <td>1</td>\n",
       "      <td>7</td>\n",
       "      <td>2</td>\n",
       "      <td>missing</td>\n",
       "      <td>11</td>\n",
       "      <td>5</td>\n",
       "      <td>13</td>\n",
       "      <td>2</td>\n",
       "      <td>0</td>\n",
       "      <td>1</td>\n",
       "      <td>648</td>\n",
       "      <td>250</td>\n",
       "      <td>V27</td>\n",
       "      <td>6</td>\n",
       "      <td>None</td>\n",
       "      <td>None</td>\n",
       "      <td>No</td>\n",
       "      <td>No</td>\n",
       "      <td>No</td>\n",
       "      <td>No</td>\n",
       "      <td>No</td>\n",
       "      <td>Steady</td>\n",
       "      <td>No</td>\n",
       "      <td>No</td>\n",
       "      <td>No</td>\n",
       "      <td>No</td>\n",
       "      <td>No</td>\n",
       "      <td>No</td>\n",
       "      <td>No</td>\n",
       "      <td>No</td>\n",
       "      <td>No</td>\n",
       "      <td>No</td>\n",
       "      <td>No</td>\n",
       "      <td>No</td>\n",
       "      <td>No</td>\n",
       "      <td>No</td>\n",
       "      <td>Yes</td>\n",
       "    </tr>\n",
       "    <tr>\n",
       "      <th>3</th>\n",
       "      <td>500364</td>\n",
       "      <td>82442376</td>\n",
       "      <td>Caucasian</td>\n",
       "      <td>Male</td>\n",
       "      <td>[30-40)</td>\n",
       "      <td>1</td>\n",
       "      <td>1</td>\n",
       "      <td>7</td>\n",
       "      <td>2</td>\n",
       "      <td>missing</td>\n",
       "      <td>44</td>\n",
       "      <td>1</td>\n",
       "      <td>16</td>\n",
       "      <td>0</td>\n",
       "      <td>0</td>\n",
       "      <td>0</td>\n",
       "      <td>8</td>\n",
       "      <td>250.43</td>\n",
       "      <td>403</td>\n",
       "      <td>7</td>\n",
       "      <td>None</td>\n",
       "      <td>None</td>\n",
       "      <td>No</td>\n",
       "      <td>No</td>\n",
       "      <td>No</td>\n",
       "      <td>No</td>\n",
       "      <td>No</td>\n",
       "      <td>No</td>\n",
       "      <td>No</td>\n",
       "      <td>No</td>\n",
       "      <td>No</td>\n",
       "      <td>No</td>\n",
       "      <td>No</td>\n",
       "      <td>No</td>\n",
       "      <td>No</td>\n",
       "      <td>No</td>\n",
       "      <td>Up</td>\n",
       "      <td>No</td>\n",
       "      <td>No</td>\n",
       "      <td>No</td>\n",
       "      <td>No</td>\n",
       "      <td>Ch</td>\n",
       "      <td>Yes</td>\n",
       "    </tr>\n",
       "    <tr>\n",
       "      <th>4</th>\n",
       "      <td>16680</td>\n",
       "      <td>42519267</td>\n",
       "      <td>Caucasian</td>\n",
       "      <td>Male</td>\n",
       "      <td>[40-50)</td>\n",
       "      <td>1</td>\n",
       "      <td>1</td>\n",
       "      <td>7</td>\n",
       "      <td>1</td>\n",
       "      <td>missing</td>\n",
       "      <td>51</td>\n",
       "      <td>0</td>\n",
       "      <td>8</td>\n",
       "      <td>0</td>\n",
       "      <td>0</td>\n",
       "      <td>0</td>\n",
       "      <td>197</td>\n",
       "      <td>157</td>\n",
       "      <td>250</td>\n",
       "      <td>5</td>\n",
       "      <td>None</td>\n",
       "      <td>None</td>\n",
       "      <td>No</td>\n",
       "      <td>No</td>\n",
       "      <td>No</td>\n",
       "      <td>No</td>\n",
       "      <td>No</td>\n",
       "      <td>Steady</td>\n",
       "      <td>No</td>\n",
       "      <td>No</td>\n",
       "      <td>No</td>\n",
       "      <td>No</td>\n",
       "      <td>No</td>\n",
       "      <td>No</td>\n",
       "      <td>No</td>\n",
       "      <td>No</td>\n",
       "      <td>Steady</td>\n",
       "      <td>No</td>\n",
       "      <td>No</td>\n",
       "      <td>No</td>\n",
       "      <td>No</td>\n",
       "      <td>Ch</td>\n",
       "      <td>Yes</td>\n",
       "    </tr>\n",
       "    <tr>\n",
       "      <th>6</th>\n",
       "      <td>55842</td>\n",
       "      <td>84259809</td>\n",
       "      <td>Caucasian</td>\n",
       "      <td>Male</td>\n",
       "      <td>[60-70)</td>\n",
       "      <td>3</td>\n",
       "      <td>1</td>\n",
       "      <td>2</td>\n",
       "      <td>4</td>\n",
       "      <td>missing</td>\n",
       "      <td>70</td>\n",
       "      <td>1</td>\n",
       "      <td>21</td>\n",
       "      <td>0</td>\n",
       "      <td>0</td>\n",
       "      <td>0</td>\n",
       "      <td>414</td>\n",
       "      <td>411</td>\n",
       "      <td>V45</td>\n",
       "      <td>7</td>\n",
       "      <td>None</td>\n",
       "      <td>None</td>\n",
       "      <td>Steady</td>\n",
       "      <td>No</td>\n",
       "      <td>No</td>\n",
       "      <td>No</td>\n",
       "      <td>Steady</td>\n",
       "      <td>No</td>\n",
       "      <td>No</td>\n",
       "      <td>No</td>\n",
       "      <td>No</td>\n",
       "      <td>No</td>\n",
       "      <td>No</td>\n",
       "      <td>No</td>\n",
       "      <td>No</td>\n",
       "      <td>No</td>\n",
       "      <td>Steady</td>\n",
       "      <td>No</td>\n",
       "      <td>No</td>\n",
       "      <td>No</td>\n",
       "      <td>No</td>\n",
       "      <td>Ch</td>\n",
       "      <td>Yes</td>\n",
       "    </tr>\n",
       "    <tr>\n",
       "      <th>8</th>\n",
       "      <td>12522</td>\n",
       "      <td>48330783</td>\n",
       "      <td>Caucasian</td>\n",
       "      <td>Female</td>\n",
       "      <td>[80-90)</td>\n",
       "      <td>2</td>\n",
       "      <td>1</td>\n",
       "      <td>4</td>\n",
       "      <td>13</td>\n",
       "      <td>missing</td>\n",
       "      <td>68</td>\n",
       "      <td>2</td>\n",
       "      <td>28</td>\n",
       "      <td>0</td>\n",
       "      <td>0</td>\n",
       "      <td>0</td>\n",
       "      <td>398</td>\n",
       "      <td>427</td>\n",
       "      <td>38</td>\n",
       "      <td>8</td>\n",
       "      <td>None</td>\n",
       "      <td>None</td>\n",
       "      <td>No</td>\n",
       "      <td>No</td>\n",
       "      <td>No</td>\n",
       "      <td>No</td>\n",
       "      <td>No</td>\n",
       "      <td>Steady</td>\n",
       "      <td>No</td>\n",
       "      <td>No</td>\n",
       "      <td>No</td>\n",
       "      <td>No</td>\n",
       "      <td>No</td>\n",
       "      <td>No</td>\n",
       "      <td>No</td>\n",
       "      <td>No</td>\n",
       "      <td>Steady</td>\n",
       "      <td>No</td>\n",
       "      <td>No</td>\n",
       "      <td>No</td>\n",
       "      <td>No</td>\n",
       "      <td>Ch</td>\n",
       "      <td>Yes</td>\n",
       "    </tr>\n",
       "  </tbody>\n",
       "</table>\n",
       "</div>"
      ],
      "text/plain": [
       "   encounter_id  patient_nbr             race  gender      age  \\\n",
       "2         64410     86047875  AfricanAmerican  Female  [20-30)   \n",
       "3        500364     82442376        Caucasian    Male  [30-40)   \n",
       "4         16680     42519267        Caucasian    Male  [40-50)   \n",
       "6         55842     84259809        Caucasian    Male  [60-70)   \n",
       "8         12522     48330783        Caucasian  Female  [80-90)   \n",
       "\n",
       "   admission_type_id  discharge_disposition_id  admission_source_id  \\\n",
       "2                  1                         1                    7   \n",
       "3                  1                         1                    7   \n",
       "4                  1                         1                    7   \n",
       "6                  3                         1                    2   \n",
       "8                  2                         1                    4   \n",
       "\n",
       "   time_in_hospital medical_specialty  num_lab_procedures  num_procedures  \\\n",
       "2                 2           missing                  11               5   \n",
       "3                 2           missing                  44               1   \n",
       "4                 1           missing                  51               0   \n",
       "6                 4           missing                  70               1   \n",
       "8                13           missing                  68               2   \n",
       "\n",
       "   num_medications  number_outpatient  number_emergency  number_inpatient  \\\n",
       "2               13                  2                 0                 1   \n",
       "3               16                  0                 0                 0   \n",
       "4                8                  0                 0                 0   \n",
       "6               21                  0                 0                 0   \n",
       "8               28                  0                 0                 0   \n",
       "\n",
       "  diag_1  diag_2 diag_3  number_diagnoses max_glu_serum A1Cresult metformin  \\\n",
       "2    648     250    V27                 6          None      None        No   \n",
       "3      8  250.43    403                 7          None      None        No   \n",
       "4    197     157    250                 5          None      None        No   \n",
       "6    414     411    V45                 7          None      None    Steady   \n",
       "8    398     427     38                 8          None      None        No   \n",
       "\n",
       "  repaglinide nateglinide chlorpropamide glimepiride glipizide glyburide  \\\n",
       "2          No          No             No          No    Steady        No   \n",
       "3          No          No             No          No        No        No   \n",
       "4          No          No             No          No    Steady        No   \n",
       "6          No          No             No      Steady        No        No   \n",
       "8          No          No             No          No    Steady        No   \n",
       "\n",
       "  tolbutamide pioglitazone rosiglitazone acarbose miglitol troglitazone  \\\n",
       "2          No           No            No       No       No           No   \n",
       "3          No           No            No       No       No           No   \n",
       "4          No           No            No       No       No           No   \n",
       "6          No           No            No       No       No           No   \n",
       "8          No           No            No       No       No           No   \n",
       "\n",
       "  tolazamide insulin glyburide-metformin glipizide-metformin  \\\n",
       "2         No      No                  No                  No   \n",
       "3         No      Up                  No                  No   \n",
       "4         No  Steady                  No                  No   \n",
       "6         No  Steady                  No                  No   \n",
       "8         No  Steady                  No                  No   \n",
       "\n",
       "  metformin-rosiglitazone metformin-pioglitazone change diabetesMed  \n",
       "2                      No                     No     No         Yes  \n",
       "3                      No                     No     Ch         Yes  \n",
       "4                      No                     No     Ch         Yes  \n",
       "6                      No                     No     Ch         Yes  \n",
       "8                      No                     No     Ch         Yes  "
      ]
     },
     "execution_count": 38,
     "metadata": {},
     "output_type": "execute_result"
    }
   ],
   "source": [
    "df_X.head()"
   ]
  },
  {
   "cell_type": "code",
   "execution_count": 39,
   "metadata": {},
   "outputs": [
    {
     "data": {
      "text/plain": [
       "Index(['encounter_id', 'patient_nbr', 'race', 'gender', 'age',\n",
       "       'admission_type_id', 'discharge_disposition_id', 'admission_source_id',\n",
       "       'time_in_hospital', 'medical_specialty', 'num_lab_procedures',\n",
       "       'num_procedures', 'num_medications', 'number_outpatient',\n",
       "       'number_emergency', 'number_inpatient', 'diag_1', 'diag_2', 'diag_3',\n",
       "       'number_diagnoses', 'max_glu_serum', 'A1Cresult', 'metformin',\n",
       "       'repaglinide', 'nateglinide', 'chlorpropamide', 'glimepiride',\n",
       "       'glipizide', 'glyburide', 'tolbutamide', 'pioglitazone',\n",
       "       'rosiglitazone', 'acarbose', 'miglitol', 'troglitazone', 'tolazamide',\n",
       "       'insulin', 'glyburide-metformin', 'glipizide-metformin',\n",
       "       'metformin-rosiglitazone', 'metformin-pioglitazone', 'change',\n",
       "       'diabetesMed'],\n",
       "      dtype='object')"
      ]
     },
     "execution_count": 39,
     "metadata": {},
     "output_type": "execute_result"
    }
   ],
   "source": [
    "df_X.columns"
   ]
  },
  {
   "cell_type": "code",
   "execution_count": 40,
   "metadata": {},
   "outputs": [
    {
     "data": {
      "text/html": [
       "<div>\n",
       "<table border=\"1\" class=\"dataframe\">\n",
       "  <thead>\n",
       "    <tr style=\"text-align: right;\">\n",
       "      <th></th>\n",
       "      <th>race</th>\n",
       "      <th>gender</th>\n",
       "      <th>age</th>\n",
       "      <th>medical_specialty</th>\n",
       "      <th>diag_1</th>\n",
       "      <th>diag_2</th>\n",
       "      <th>diag_3</th>\n",
       "      <th>max_glu_serum</th>\n",
       "      <th>A1Cresult</th>\n",
       "      <th>metformin</th>\n",
       "      <th>repaglinide</th>\n",
       "      <th>nateglinide</th>\n",
       "      <th>chlorpropamide</th>\n",
       "      <th>glimepiride</th>\n",
       "      <th>glipizide</th>\n",
       "      <th>glyburide</th>\n",
       "      <th>tolbutamide</th>\n",
       "      <th>pioglitazone</th>\n",
       "      <th>rosiglitazone</th>\n",
       "      <th>acarbose</th>\n",
       "      <th>miglitol</th>\n",
       "      <th>troglitazone</th>\n",
       "      <th>tolazamide</th>\n",
       "      <th>insulin</th>\n",
       "      <th>glyburide-metformin</th>\n",
       "      <th>glipizide-metformin</th>\n",
       "      <th>metformin-rosiglitazone</th>\n",
       "      <th>metformin-pioglitazone</th>\n",
       "      <th>change</th>\n",
       "      <th>diabetesMed</th>\n",
       "    </tr>\n",
       "  </thead>\n",
       "  <tbody>\n",
       "    <tr>\n",
       "      <th>count</th>\n",
       "      <td>46745</td>\n",
       "      <td>46745</td>\n",
       "      <td>46745</td>\n",
       "      <td>46745</td>\n",
       "      <td>46745</td>\n",
       "      <td>46745</td>\n",
       "      <td>46745</td>\n",
       "      <td>46745</td>\n",
       "      <td>46745</td>\n",
       "      <td>46745</td>\n",
       "      <td>46745</td>\n",
       "      <td>46745</td>\n",
       "      <td>46745</td>\n",
       "      <td>46745</td>\n",
       "      <td>46745</td>\n",
       "      <td>46745</td>\n",
       "      <td>46745</td>\n",
       "      <td>46745</td>\n",
       "      <td>46745</td>\n",
       "      <td>46745</td>\n",
       "      <td>46745</td>\n",
       "      <td>46745</td>\n",
       "      <td>46745</td>\n",
       "      <td>46745</td>\n",
       "      <td>46745</td>\n",
       "      <td>46745</td>\n",
       "      <td>46745</td>\n",
       "      <td>46745</td>\n",
       "      <td>46745</td>\n",
       "      <td>46745</td>\n",
       "    </tr>\n",
       "    <tr>\n",
       "      <th>unique</th>\n",
       "      <td>6</td>\n",
       "      <td>3</td>\n",
       "      <td>10</td>\n",
       "      <td>67</td>\n",
       "      <td>657</td>\n",
       "      <td>670</td>\n",
       "      <td>723</td>\n",
       "      <td>4</td>\n",
       "      <td>4</td>\n",
       "      <td>4</td>\n",
       "      <td>4</td>\n",
       "      <td>4</td>\n",
       "      <td>4</td>\n",
       "      <td>4</td>\n",
       "      <td>4</td>\n",
       "      <td>4</td>\n",
       "      <td>2</td>\n",
       "      <td>4</td>\n",
       "      <td>4</td>\n",
       "      <td>3</td>\n",
       "      <td>2</td>\n",
       "      <td>2</td>\n",
       "      <td>2</td>\n",
       "      <td>4</td>\n",
       "      <td>4</td>\n",
       "      <td>2</td>\n",
       "      <td>2</td>\n",
       "      <td>2</td>\n",
       "      <td>2</td>\n",
       "      <td>2</td>\n",
       "    </tr>\n",
       "    <tr>\n",
       "      <th>top</th>\n",
       "      <td>Caucasian</td>\n",
       "      <td>Female</td>\n",
       "      <td>[70-80)</td>\n",
       "      <td>missing</td>\n",
       "      <td>414</td>\n",
       "      <td>250</td>\n",
       "      <td>250</td>\n",
       "      <td>None</td>\n",
       "      <td>None</td>\n",
       "      <td>No</td>\n",
       "      <td>No</td>\n",
       "      <td>No</td>\n",
       "      <td>No</td>\n",
       "      <td>No</td>\n",
       "      <td>No</td>\n",
       "      <td>No</td>\n",
       "      <td>No</td>\n",
       "      <td>No</td>\n",
       "      <td>No</td>\n",
       "      <td>No</td>\n",
       "      <td>No</td>\n",
       "      <td>No</td>\n",
       "      <td>No</td>\n",
       "      <td>No</td>\n",
       "      <td>No</td>\n",
       "      <td>No</td>\n",
       "      <td>No</td>\n",
       "      <td>No</td>\n",
       "      <td>No</td>\n",
       "      <td>Yes</td>\n",
       "    </tr>\n",
       "    <tr>\n",
       "      <th>freq</th>\n",
       "      <td>34536</td>\n",
       "      <td>24654</td>\n",
       "      <td>11521</td>\n",
       "      <td>22297</td>\n",
       "      <td>3622</td>\n",
       "      <td>3403</td>\n",
       "      <td>6512</td>\n",
       "      <td>44613</td>\n",
       "      <td>38077</td>\n",
       "      <td>36542</td>\n",
       "      <td>46172</td>\n",
       "      <td>46433</td>\n",
       "      <td>46704</td>\n",
       "      <td>44295</td>\n",
       "      <td>40914</td>\n",
       "      <td>41583</td>\n",
       "      <td>46733</td>\n",
       "      <td>43354</td>\n",
       "      <td>43787</td>\n",
       "      <td>46634</td>\n",
       "      <td>46737</td>\n",
       "      <td>46744</td>\n",
       "      <td>46726</td>\n",
       "      <td>23327</td>\n",
       "      <td>46423</td>\n",
       "      <td>46742</td>\n",
       "      <td>46743</td>\n",
       "      <td>46744</td>\n",
       "      <td>26134</td>\n",
       "      <td>34933</td>\n",
       "    </tr>\n",
       "  </tbody>\n",
       "</table>\n",
       "</div>"
      ],
      "text/plain": [
       "             race  gender      age medical_specialty diag_1 diag_2 diag_3  \\\n",
       "count       46745   46745    46745             46745  46745  46745  46745   \n",
       "unique          6       3       10                67    657    670    723   \n",
       "top     Caucasian  Female  [70-80)           missing    414    250    250   \n",
       "freq        34536   24654    11521             22297   3622   3403   6512   \n",
       "\n",
       "       max_glu_serum A1Cresult metformin repaglinide nateglinide  \\\n",
       "count          46745     46745     46745       46745       46745   \n",
       "unique             4         4         4           4           4   \n",
       "top             None      None        No          No          No   \n",
       "freq           44613     38077     36542       46172       46433   \n",
       "\n",
       "       chlorpropamide glimepiride glipizide glyburide tolbutamide  \\\n",
       "count           46745       46745     46745     46745       46745   \n",
       "unique              4           4         4         4           2   \n",
       "top                No          No        No        No          No   \n",
       "freq            46704       44295     40914     41583       46733   \n",
       "\n",
       "       pioglitazone rosiglitazone acarbose miglitol troglitazone tolazamide  \\\n",
       "count         46745         46745    46745    46745        46745      46745   \n",
       "unique            4             4        3        2            2          2   \n",
       "top              No            No       No       No           No         No   \n",
       "freq          43354         43787    46634    46737        46744      46726   \n",
       "\n",
       "       insulin glyburide-metformin glipizide-metformin  \\\n",
       "count    46745               46745               46745   \n",
       "unique       4                   4                   2   \n",
       "top         No                  No                  No   \n",
       "freq     23327               46423               46742   \n",
       "\n",
       "       metformin-rosiglitazone metformin-pioglitazone change diabetesMed  \n",
       "count                    46745                  46745  46745       46745  \n",
       "unique                       2                      2      2           2  \n",
       "top                         No                     No     No         Yes  \n",
       "freq                     46743                  46744  26134       34933  "
      ]
     },
     "execution_count": 40,
     "metadata": {},
     "output_type": "execute_result"
    }
   ],
   "source": [
    "df_X.describe(include=[np.object])"
   ]
  },
  {
   "cell_type": "code",
   "execution_count": 41,
   "metadata": {},
   "outputs": [
    {
     "data": {
      "text/plain": [
       "encounter_id                int64\n",
       "patient_nbr                 int64\n",
       "race                        int64\n",
       "gender                      int64\n",
       "age                         int64\n",
       "admission_type_id           int64\n",
       "discharge_disposition_id    int64\n",
       "admission_source_id         int64\n",
       "time_in_hospital            int64\n",
       "medical_specialty           int64\n",
       "num_lab_procedures          int64\n",
       "num_procedures              int64\n",
       "num_medications             int64\n",
       "number_outpatient           int64\n",
       "number_emergency            int64\n",
       "number_inpatient            int64\n",
       "diag_1                      int64\n",
       "diag_2                      int64\n",
       "diag_3                      int64\n",
       "number_diagnoses            int64\n",
       "max_glu_serum               int64\n",
       "A1Cresult                   int64\n",
       "metformin                   int64\n",
       "repaglinide                 int64\n",
       "nateglinide                 int64\n",
       "chlorpropamide              int64\n",
       "glimepiride                 int64\n",
       "glipizide                   int64\n",
       "glyburide                   int64\n",
       "tolbutamide                 int64\n",
       "pioglitazone                int64\n",
       "rosiglitazone               int64\n",
       "acarbose                    int64\n",
       "miglitol                    int64\n",
       "troglitazone                int64\n",
       "tolazamide                  int64\n",
       "insulin                     int64\n",
       "glyburide-metformin         int64\n",
       "glipizide-metformin         int64\n",
       "metformin-rosiglitazone     int64\n",
       "metformin-pioglitazone      int64\n",
       "change                      int64\n",
       "diabetesMed                 int64\n",
       "dtype: object"
      ]
     },
     "execution_count": 41,
     "metadata": {},
     "output_type": "execute_result"
    }
   ],
   "source": [
    "#Using Label Encoder to convert categorical to nominal categorical variables for further processing\n",
    "from sklearn import preprocessing\n",
    "le = preprocessing.LabelEncoder()\n",
    "le.fit(df_X['race'])\n",
    "df_X['race']= le.transform(df_X['race'])\n",
    "\n",
    "le.fit(df_X['gender'])\n",
    "df_X['gender']= le.transform(df_X['gender'])\n",
    "\n",
    "le.fit(df_X['age'])\n",
    "df_X['age']= le.transform(df_X['age'])\n",
    "\n",
    "le.fit(df_X['medical_specialty'])\n",
    "df_X['medical_specialty']= le.transform(df_X['medical_specialty'])\n",
    "\n",
    "le.fit(df_X['diag_1'])\n",
    "df_X['diag_1']= le.transform(df_X['diag_1'])\n",
    "\n",
    "le.fit(df_X['diag_2'])\n",
    "df_X['diag_2']= le.transform(df_X['diag_2'])\n",
    "\n",
    "le.fit(df_X['diag_3'])\n",
    "df_X['diag_3']= le.transform(df_X['diag_3'])\n",
    "\n",
    "le.fit(df_X['max_glu_serum'])\n",
    "df_X['max_glu_serum']= le.transform(df_X['max_glu_serum'])\n",
    "\n",
    "le.fit(df_X['A1Cresult'])\n",
    "df_X['A1Cresult']= le.transform(df_X['A1Cresult'])\n",
    "\n",
    "le.fit(df_X['metformin'])\n",
    "df_X['metformin']= le.transform(df_X['metformin'])\n",
    "\n",
    "le.fit(df_X['glipizide'])\n",
    "df_X['glipizide']= le.transform(df_X['glipizide'])\n",
    "\n",
    "le.fit(df_X['glyburide'])\n",
    "df_X['glyburide']= le.transform(df_X['glyburide'])\n",
    "\n",
    "le.fit(df_X['insulin'])\n",
    "df_X['insulin']= le.transform(df_X['insulin'])\n",
    "\n",
    "le.fit(df_X['change'])\n",
    "df_X['change']= le.transform(df_X['change'])\n",
    "\n",
    "le.fit(df_X['diabetesMed'])\n",
    "df_X['diabetesMed']= le.transform(df_X['diabetesMed'])\n",
    "\n",
    "le.fit(df_X['repaglinide'])\n",
    "df_X['repaglinide']= le.transform(df_X['repaglinide'])\n",
    "\n",
    "le.fit(df_X['nateglinide'])\n",
    "df_X['nateglinide']= le.transform(df_X['nateglinide'])\n",
    "\n",
    "le.fit(df_X['chlorpropamide'])\n",
    "df_X['chlorpropamide']= le.transform(df_X['chlorpropamide'])\n",
    "\n",
    "le.fit(df_X['glimepiride'])\n",
    "df_X['glimepiride']= le.transform(df_X['glimepiride'])\n",
    "\n",
    "le.fit(df_X['tolbutamide'])\n",
    "df_X['tolbutamide']= le.transform(df_X['tolbutamide'])\n",
    "\n",
    "le.fit(df_X['pioglitazone'])\n",
    "df_X['pioglitazone']= le.transform(df_X['pioglitazone'])\n",
    "\n",
    "le.fit(df_X['rosiglitazone'])\n",
    "df_X['rosiglitazone']= le.transform(df_X['rosiglitazone'])\n",
    "\n",
    "le.fit(df_X['acarbose'])\n",
    "df_X['acarbose']= le.transform(df_X['acarbose'])\n",
    "\n",
    "le.fit(df_X['miglitol'])\n",
    "df_X['miglitol']= le.transform(df_X['miglitol'])\n",
    "\n",
    "le.fit(df_X['troglitazone'])\n",
    "df_X['troglitazone']= le.transform(df_X['troglitazone'])\n",
    "\n",
    "le.fit(df_X['tolazamide'])\n",
    "df_X['tolazamide']= le.transform(df_X['tolazamide'])\n",
    "\n",
    "le.fit(df_X['glyburide-metformin'])\n",
    "df_X['glyburide-metformin']= le.transform(df_X['glyburide-metformin'])\n",
    "\n",
    "le.fit(df_X['glipizide-metformin'])\n",
    "df_X['glipizide-metformin']= le.transform(df_X['glipizide-metformin'])\n",
    "\n",
    "le.fit(df_X['metformin-rosiglitazone'])\n",
    "df_X['metformin-rosiglitazone']= le.transform(df_X['metformin-rosiglitazone'])\n",
    "\n",
    "le.fit(df_X['metformin-pioglitazone'])\n",
    "df_X['metformin-pioglitazone']= le.transform(df_X['metformin-pioglitazone'])\n",
    "\n",
    "df_X.dtypes"
   ]
  },
  {
   "cell_type": "code",
   "execution_count": 42,
   "metadata": {},
   "outputs": [
    {
     "data": {
      "text/html": [
       "<div>\n",
       "<table border=\"1\" class=\"dataframe\">\n",
       "  <thead>\n",
       "    <tr style=\"text-align: right;\">\n",
       "      <th></th>\n",
       "      <th>encounter_id</th>\n",
       "      <th>patient_nbr</th>\n",
       "      <th>race</th>\n",
       "      <th>gender</th>\n",
       "      <th>age</th>\n",
       "      <th>admission_type_id</th>\n",
       "      <th>discharge_disposition_id</th>\n",
       "      <th>admission_source_id</th>\n",
       "      <th>time_in_hospital</th>\n",
       "      <th>medical_specialty</th>\n",
       "      <th>num_lab_procedures</th>\n",
       "      <th>num_procedures</th>\n",
       "      <th>num_medications</th>\n",
       "      <th>number_outpatient</th>\n",
       "      <th>number_emergency</th>\n",
       "      <th>number_inpatient</th>\n",
       "      <th>diag_1</th>\n",
       "      <th>diag_2</th>\n",
       "      <th>diag_3</th>\n",
       "      <th>number_diagnoses</th>\n",
       "      <th>max_glu_serum</th>\n",
       "      <th>A1Cresult</th>\n",
       "      <th>metformin</th>\n",
       "      <th>repaglinide</th>\n",
       "      <th>nateglinide</th>\n",
       "      <th>chlorpropamide</th>\n",
       "      <th>glimepiride</th>\n",
       "      <th>glipizide</th>\n",
       "      <th>glyburide</th>\n",
       "      <th>tolbutamide</th>\n",
       "      <th>pioglitazone</th>\n",
       "      <th>rosiglitazone</th>\n",
       "      <th>acarbose</th>\n",
       "      <th>miglitol</th>\n",
       "      <th>troglitazone</th>\n",
       "      <th>tolazamide</th>\n",
       "      <th>insulin</th>\n",
       "      <th>glyburide-metformin</th>\n",
       "      <th>glipizide-metformin</th>\n",
       "      <th>metformin-rosiglitazone</th>\n",
       "      <th>metformin-pioglitazone</th>\n",
       "      <th>change</th>\n",
       "      <th>diabetesMed</th>\n",
       "    </tr>\n",
       "  </thead>\n",
       "  <tbody>\n",
       "    <tr>\n",
       "      <th>2</th>\n",
       "      <td>64410</td>\n",
       "      <td>86047875</td>\n",
       "      <td>0</td>\n",
       "      <td>0</td>\n",
       "      <td>2</td>\n",
       "      <td>1</td>\n",
       "      <td>1</td>\n",
       "      <td>7</td>\n",
       "      <td>2</td>\n",
       "      <td>66</td>\n",
       "      <td>11</td>\n",
       "      <td>5</td>\n",
       "      <td>13</td>\n",
       "      <td>2</td>\n",
       "      <td>0</td>\n",
       "      <td>1</td>\n",
       "      <td>425</td>\n",
       "      <td>69</td>\n",
       "      <td>700</td>\n",
       "      <td>6</td>\n",
       "      <td>2</td>\n",
       "      <td>2</td>\n",
       "      <td>1</td>\n",
       "      <td>1</td>\n",
       "      <td>1</td>\n",
       "      <td>1</td>\n",
       "      <td>1</td>\n",
       "      <td>2</td>\n",
       "      <td>1</td>\n",
       "      <td>0</td>\n",
       "      <td>1</td>\n",
       "      <td>1</td>\n",
       "      <td>0</td>\n",
       "      <td>0</td>\n",
       "      <td>0</td>\n",
       "      <td>0</td>\n",
       "      <td>1</td>\n",
       "      <td>1</td>\n",
       "      <td>0</td>\n",
       "      <td>0</td>\n",
       "      <td>0</td>\n",
       "      <td>1</td>\n",
       "      <td>1</td>\n",
       "    </tr>\n",
       "    <tr>\n",
       "      <th>3</th>\n",
       "      <td>500364</td>\n",
       "      <td>82442376</td>\n",
       "      <td>2</td>\n",
       "      <td>1</td>\n",
       "      <td>3</td>\n",
       "      <td>1</td>\n",
       "      <td>1</td>\n",
       "      <td>7</td>\n",
       "      <td>2</td>\n",
       "      <td>66</td>\n",
       "      <td>44</td>\n",
       "      <td>1</td>\n",
       "      <td>16</td>\n",
       "      <td>0</td>\n",
       "      <td>0</td>\n",
       "      <td>0</td>\n",
       "      <td>520</td>\n",
       "      <td>85</td>\n",
       "      <td>228</td>\n",
       "      <td>7</td>\n",
       "      <td>2</td>\n",
       "      <td>2</td>\n",
       "      <td>1</td>\n",
       "      <td>1</td>\n",
       "      <td>1</td>\n",
       "      <td>1</td>\n",
       "      <td>1</td>\n",
       "      <td>1</td>\n",
       "      <td>1</td>\n",
       "      <td>0</td>\n",
       "      <td>1</td>\n",
       "      <td>1</td>\n",
       "      <td>0</td>\n",
       "      <td>0</td>\n",
       "      <td>0</td>\n",
       "      <td>0</td>\n",
       "      <td>3</td>\n",
       "      <td>1</td>\n",
       "      <td>0</td>\n",
       "      <td>0</td>\n",
       "      <td>0</td>\n",
       "      <td>0</td>\n",
       "      <td>1</td>\n",
       "    </tr>\n",
       "    <tr>\n",
       "      <th>4</th>\n",
       "      <td>16680</td>\n",
       "      <td>42519267</td>\n",
       "      <td>2</td>\n",
       "      <td>1</td>\n",
       "      <td>4</td>\n",
       "      <td>1</td>\n",
       "      <td>1</td>\n",
       "      <td>7</td>\n",
       "      <td>1</td>\n",
       "      <td>66</td>\n",
       "      <td>51</td>\n",
       "      <td>0</td>\n",
       "      <td>8</td>\n",
       "      <td>0</td>\n",
       "      <td>0</td>\n",
       "      <td>0</td>\n",
       "      <td>50</td>\n",
       "      <td>20</td>\n",
       "      <td>71</td>\n",
       "      <td>5</td>\n",
       "      <td>2</td>\n",
       "      <td>2</td>\n",
       "      <td>1</td>\n",
       "      <td>1</td>\n",
       "      <td>1</td>\n",
       "      <td>1</td>\n",
       "      <td>1</td>\n",
       "      <td>2</td>\n",
       "      <td>1</td>\n",
       "      <td>0</td>\n",
       "      <td>1</td>\n",
       "      <td>1</td>\n",
       "      <td>0</td>\n",
       "      <td>0</td>\n",
       "      <td>0</td>\n",
       "      <td>0</td>\n",
       "      <td>2</td>\n",
       "      <td>1</td>\n",
       "      <td>0</td>\n",
       "      <td>0</td>\n",
       "      <td>0</td>\n",
       "      <td>0</td>\n",
       "      <td>1</td>\n",
       "    </tr>\n",
       "    <tr>\n",
       "      <th>6</th>\n",
       "      <td>55842</td>\n",
       "      <td>84259809</td>\n",
       "      <td>2</td>\n",
       "      <td>1</td>\n",
       "      <td>6</td>\n",
       "      <td>3</td>\n",
       "      <td>1</td>\n",
       "      <td>2</td>\n",
       "      <td>4</td>\n",
       "      <td>66</td>\n",
       "      <td>70</td>\n",
       "      <td>1</td>\n",
       "      <td>21</td>\n",
       "      <td>0</td>\n",
       "      <td>0</td>\n",
       "      <td>0</td>\n",
       "      <td>244</td>\n",
       "      <td>225</td>\n",
       "      <td>704</td>\n",
       "      <td>7</td>\n",
       "      <td>2</td>\n",
       "      <td>2</td>\n",
       "      <td>2</td>\n",
       "      <td>1</td>\n",
       "      <td>1</td>\n",
       "      <td>1</td>\n",
       "      <td>2</td>\n",
       "      <td>1</td>\n",
       "      <td>1</td>\n",
       "      <td>0</td>\n",
       "      <td>1</td>\n",
       "      <td>1</td>\n",
       "      <td>0</td>\n",
       "      <td>0</td>\n",
       "      <td>0</td>\n",
       "      <td>0</td>\n",
       "      <td>2</td>\n",
       "      <td>1</td>\n",
       "      <td>0</td>\n",
       "      <td>0</td>\n",
       "      <td>0</td>\n",
       "      <td>0</td>\n",
       "      <td>1</td>\n",
       "    </tr>\n",
       "    <tr>\n",
       "      <th>8</th>\n",
       "      <td>12522</td>\n",
       "      <td>48330783</td>\n",
       "      <td>2</td>\n",
       "      <td>0</td>\n",
       "      <td>8</td>\n",
       "      <td>2</td>\n",
       "      <td>1</td>\n",
       "      <td>4</td>\n",
       "      <td>13</td>\n",
       "      <td>66</td>\n",
       "      <td>68</td>\n",
       "      <td>2</td>\n",
       "      <td>28</td>\n",
       "      <td>0</td>\n",
       "      <td>0</td>\n",
       "      <td>0</td>\n",
       "      <td>233</td>\n",
       "      <td>239</td>\n",
       "      <td>209</td>\n",
       "      <td>8</td>\n",
       "      <td>2</td>\n",
       "      <td>2</td>\n",
       "      <td>1</td>\n",
       "      <td>1</td>\n",
       "      <td>1</td>\n",
       "      <td>1</td>\n",
       "      <td>1</td>\n",
       "      <td>2</td>\n",
       "      <td>1</td>\n",
       "      <td>0</td>\n",
       "      <td>1</td>\n",
       "      <td>1</td>\n",
       "      <td>0</td>\n",
       "      <td>0</td>\n",
       "      <td>0</td>\n",
       "      <td>0</td>\n",
       "      <td>2</td>\n",
       "      <td>1</td>\n",
       "      <td>0</td>\n",
       "      <td>0</td>\n",
       "      <td>0</td>\n",
       "      <td>0</td>\n",
       "      <td>1</td>\n",
       "    </tr>\n",
       "  </tbody>\n",
       "</table>\n",
       "</div>"
      ],
      "text/plain": [
       "   encounter_id  patient_nbr  race  gender  age  admission_type_id  \\\n",
       "2         64410     86047875     0       0    2                  1   \n",
       "3        500364     82442376     2       1    3                  1   \n",
       "4         16680     42519267     2       1    4                  1   \n",
       "6         55842     84259809     2       1    6                  3   \n",
       "8         12522     48330783     2       0    8                  2   \n",
       "\n",
       "   discharge_disposition_id  admission_source_id  time_in_hospital  \\\n",
       "2                         1                    7                 2   \n",
       "3                         1                    7                 2   \n",
       "4                         1                    7                 1   \n",
       "6                         1                    2                 4   \n",
       "8                         1                    4                13   \n",
       "\n",
       "   medical_specialty  num_lab_procedures  num_procedures  num_medications  \\\n",
       "2                 66                  11               5               13   \n",
       "3                 66                  44               1               16   \n",
       "4                 66                  51               0                8   \n",
       "6                 66                  70               1               21   \n",
       "8                 66                  68               2               28   \n",
       "\n",
       "   number_outpatient  number_emergency  number_inpatient  diag_1  diag_2  \\\n",
       "2                  2                 0                 1     425      69   \n",
       "3                  0                 0                 0     520      85   \n",
       "4                  0                 0                 0      50      20   \n",
       "6                  0                 0                 0     244     225   \n",
       "8                  0                 0                 0     233     239   \n",
       "\n",
       "   diag_3  number_diagnoses  max_glu_serum  A1Cresult  metformin  repaglinide  \\\n",
       "2     700                 6              2          2          1            1   \n",
       "3     228                 7              2          2          1            1   \n",
       "4      71                 5              2          2          1            1   \n",
       "6     704                 7              2          2          2            1   \n",
       "8     209                 8              2          2          1            1   \n",
       "\n",
       "   nateglinide  chlorpropamide  glimepiride  glipizide  glyburide  \\\n",
       "2            1               1            1          2          1   \n",
       "3            1               1            1          1          1   \n",
       "4            1               1            1          2          1   \n",
       "6            1               1            2          1          1   \n",
       "8            1               1            1          2          1   \n",
       "\n",
       "   tolbutamide  pioglitazone  rosiglitazone  acarbose  miglitol  troglitazone  \\\n",
       "2            0             1              1         0         0             0   \n",
       "3            0             1              1         0         0             0   \n",
       "4            0             1              1         0         0             0   \n",
       "6            0             1              1         0         0             0   \n",
       "8            0             1              1         0         0             0   \n",
       "\n",
       "   tolazamide  insulin  glyburide-metformin  glipizide-metformin  \\\n",
       "2           0        1                    1                    0   \n",
       "3           0        3                    1                    0   \n",
       "4           0        2                    1                    0   \n",
       "6           0        2                    1                    0   \n",
       "8           0        2                    1                    0   \n",
       "\n",
       "   metformin-rosiglitazone  metformin-pioglitazone  change  diabetesMed  \n",
       "2                        0                       0       1            1  \n",
       "3                        0                       0       0            1  \n",
       "4                        0                       0       0            1  \n",
       "6                        0                       0       0            1  \n",
       "8                        0                       0       0            1  "
      ]
     },
     "execution_count": 42,
     "metadata": {},
     "output_type": "execute_result"
    }
   ],
   "source": [
    "df_X.head()"
   ]
  },
  {
   "cell_type": "code",
   "execution_count": 43,
   "metadata": {},
   "outputs": [
    {
     "data": {
      "text/plain": [
       "2    NO\n",
       "3    NO\n",
       "4    NO\n",
       "6    NO\n",
       "8    NO\n",
       "Name: readmitted, dtype: object"
      ]
     },
     "execution_count": 43,
     "metadata": {},
     "output_type": "execute_result"
    }
   ],
   "source": [
    "df_Y.head()"
   ]
  },
  {
   "cell_type": "code",
   "execution_count": 44,
   "metadata": {},
   "outputs": [
    {
     "data": {
      "text/plain": [
       "array([1, 1, 1, 1, 1, 1, 0, 0, 1, 1])"
      ]
     },
     "execution_count": 44,
     "metadata": {},
     "output_type": "execute_result"
    }
   ],
   "source": [
    "#Label encoding for the target variable\n",
    "le.fit(df_Y)\n",
    "df_Yarray= le.transform(df_Y)\n",
    "\n",
    "df_Yarray[0:10]"
   ]
  },
  {
   "cell_type": "code",
   "execution_count": 45,
   "metadata": {},
   "outputs": [
    {
     "data": {
      "text/plain": [
       "(46745, 41)"
      ]
     },
     "execution_count": 45,
     "metadata": {},
     "output_type": "execute_result"
    }
   ],
   "source": [
    "#Dropping patient_nbr and encounter_id as every instance is unique and they don't contribute to the outcome of the target variable\n",
    "df_X.drop(['encounter_id','patient_nbr'],axis=1,inplace=True)\n",
    "df_X.shape"
   ]
  },
  {
   "cell_type": "code",
   "execution_count": 46,
   "metadata": {},
   "outputs": [
    {
     "data": {
      "text/plain": [
       "(46745, 41)"
      ]
     },
     "execution_count": 46,
     "metadata": {},
     "output_type": "execute_result"
    }
   ],
   "source": [
    "df_X.shape"
   ]
  },
  {
   "cell_type": "markdown",
   "metadata": {},
   "source": [
    "## Random Forest - Feature selection, model building and evaluation"
   ]
  },
  {
   "cell_type": "code",
   "execution_count": 82,
   "metadata": {},
   "outputs": [
    {
     "data": {
      "text/plain": [
       "Index(['race', 'gender', 'age', 'admission_type_id',\n",
       "       'discharge_disposition_id', 'admission_source_id', 'time_in_hospital',\n",
       "       'medical_specialty', 'num_lab_procedures', 'num_procedures',\n",
       "       'num_medications', 'number_outpatient', 'number_emergency',\n",
       "       'number_inpatient', 'diag_1', 'diag_2', 'diag_3', 'number_diagnoses',\n",
       "       'max_glu_serum', 'A1Cresult', 'metformin', 'repaglinide', 'nateglinide',\n",
       "       'chlorpropamide', 'glimepiride', 'glipizide', 'glyburide',\n",
       "       'tolbutamide', 'pioglitazone', 'rosiglitazone', 'acarbose', 'miglitol',\n",
       "       'troglitazone', 'tolazamide', 'insulin', 'glyburide-metformin',\n",
       "       'glipizide-metformin', 'metformin-rosiglitazone',\n",
       "       'metformin-pioglitazone', 'change', 'diabetesMed'],\n",
       "      dtype='object')"
      ]
     },
     "execution_count": 82,
     "metadata": {},
     "output_type": "execute_result"
    }
   ],
   "source": [
    "df_X.columns"
   ]
  },
  {
   "cell_type": "code",
   "execution_count": 49,
   "metadata": {},
   "outputs": [
    {
     "name": "stdout",
     "output_type": "stream",
     "text": [
      "Feature ranking:\n",
      "1. feature 13 (0.149045)\n",
      "2. feature 4 (0.130445)\n",
      "3. feature 14 (0.073629)\n",
      "4. feature 8 (0.064392)\n",
      "5. feature 10 (0.061099)\n",
      "6. feature 16 (0.058159)\n",
      "7. feature 15 (0.057160)\n",
      "8. feature 6 (0.055891)\n",
      "9. feature 2 (0.053429)\n",
      "10. feature 17 (0.048539)\n",
      "11. feature 7 (0.028852)\n",
      "12. feature 9 (0.024588)\n",
      "13. feature 12 (0.023680)\n",
      "14. feature 3 (0.020540)\n",
      "15. feature 40 (0.019594)\n",
      "16. feature 5 (0.018711)\n",
      "17. feature 0 (0.016829)\n",
      "18. feature 11 (0.015454)\n",
      "19. feature 34 (0.014855)\n",
      "20. feature 20 (0.010711)\n",
      "21. feature 19 (0.010670)\n",
      "22. feature 1 (0.009331)\n",
      "23. feature 39 (0.007296)\n",
      "24. feature 25 (0.005440)\n",
      "25. feature 18 (0.005023)\n",
      "26. feature 26 (0.004200)\n",
      "27. feature 28 (0.003627)\n",
      "28. feature 29 (0.003148)\n",
      "29. feature 24 (0.002702)\n",
      "30. feature 21 (0.001772)\n",
      "31. feature 35 (0.000572)\n",
      "32. feature 22 (0.000496)\n",
      "33. feature 30 (0.000100)\n",
      "34. feature 23 (0.000020)\n",
      "35. feature 33 (0.000000)\n",
      "36. feature 32 (0.000000)\n",
      "37. feature 31 (0.000000)\n",
      "38. feature 36 (0.000000)\n",
      "39. feature 37 (0.000000)\n",
      "40. feature 38 (0.000000)\n",
      "41. feature 27 (0.000000)\n"
     ]
    },
    {
     "data": {
      "image/png": "[encoded data removed]",
      "text/plain": [
       "<matplotlib.figure.Figure at 0x112185f98>"
      ]
     },
     "metadata": {},
     "output_type": "display_data"
    }
   ],
   "source": [
    "#Dataset with 41 features\n",
    "from sklearn.ensemble import RandomForestClassifier\n",
    "\n",
    "forest = RandomForestClassifier(n_estimators=500,criterion='entropy',class_weight='balanced_subsample',max_depth=10, min_samples_leaf=10)\n",
    "forest = forest.fit(df_X, df_Y)\n",
    "\n",
    "importances = forest.feature_importances_\n",
    "std = np.std([tree.feature_importances_ for tree in forest.estimators_],axis=0)\n",
    "indices = np.argsort(importances)[::-1]\n",
    "\n",
    "# Print the feature ranking\n",
    "print(\"Feature ranking:\")\n",
    "\n",
    "for f in range(df_X.shape[1]):\n",
    "    print(\"%d. feature %d (%f)\" % (f + 1, indices[f], importances[indices[f]]))\n",
    "\n",
    "# Plot the feature importances of the forest\n",
    "plt.figure()\n",
    "plt.title(\"Feature importances\")\n",
    "plt.bar(range(df_X.shape[1]), importances[indices],\n",
    "       color=\"r\", yerr=std[indices], align=\"center\")\n",
    "plt.xticks(range(df_X.shape[1]), indices)\n",
    "plt.xlim([-1, df_X.shape[1]])\n",
    "plt.show()"
   ]
  },
  {
   "cell_type": "code",
   "execution_count": 50,
   "metadata": {},
   "outputs": [
    {
     "name": "stderr",
     "output_type": "stream",
     "text": [
      "/Users/Bru/Downloads/anaconda/lib/python3.5/site-packages/sklearn/utils/deprecation.py:70: DeprecationWarning: Function transform is deprecated; Support to use estimators as feature selectors will be removed in version 0.19. Use SelectFromModel instead.\n",
      "  warnings.warn(msg, category=DeprecationWarning)\n"
     ]
    },
    {
     "data": {
      "text/plain": [
       "(46745, 21)"
      ]
     },
     "execution_count": 50,
     "metadata": {},
     "output_type": "execute_result"
    }
   ],
   "source": [
    "#Selecting the best 21 features by specifying the threshold\n",
    "df_X21 = forest.transform(df_X,threshold=0.010096)\n",
    "df_X21.shape"
   ]
  },
  {
   "cell_type": "code",
   "execution_count": 47,
   "metadata": {
    "collapsed": true
   },
   "outputs": [],
   "source": [
    "#Versatile function to measure performance of a model\n",
    "from sklearn import metrics\n",
    "\n",
    "def measure_performance(X, y, clf, show_accuracy=True, show_classification_report=True, show_confussion_matrix=True):\n",
    "    y_pred = clf.predict(X)   \n",
    "    if show_accuracy:\n",
    "         print(\"Accuracy:{0:.3f}\".format(metrics.accuracy_score(y, y_pred)),\"\\n\")\n",
    "    if show_classification_report:\n",
    "        print (\"Classification report\")\n",
    "        print (metrics.classification_report(y, y_pred),\"\\n\")\n",
    "      \n",
    "    if show_confussion_matrix:\n",
    "        print(\"Confussion matrix\")\n",
    "        print(metrics.confusion_matrix(y, y_pred),\"\\n\")"
   ]
  },
  {
   "cell_type": "code",
   "execution_count": 51,
   "metadata": {},
   "outputs": [
    {
     "name": "stdout",
     "output_type": "stream",
     "text": [
      "Accuracy:0.715 \n",
      "\n",
      "Classification report\n",
      "             precision    recall  f1-score   support\n",
      "\n",
      "        <30       0.27      0.66      0.38      6211\n",
      "         NO       0.93      0.72      0.81     40534\n",
      "\n",
      "avg / total       0.84      0.71      0.76     46745\n",
      " \n",
      "\n",
      "Confussion matrix\n",
      "[[ 4105  2106]\n",
      " [11224 29310]] \n",
      "\n"
     ]
    }
   ],
   "source": [
    "#Evaluating performance with 41 features\n",
    "measure_performance(df_X,df_Y,forest)"
   ]
  },
  {
   "cell_type": "code",
   "execution_count": 52,
   "metadata": {},
   "outputs": [
    {
     "name": "stdout",
     "output_type": "stream",
     "text": [
      "Feature ranking:\n",
      "1. feature 12 (0.146977)\n",
      "2. feature 3 (0.131185)\n",
      "3. feature 13 (0.082571)\n",
      "4. feature 7 (0.070595)\n",
      "5. feature 15 (0.065861)\n",
      "6. feature 9 (0.064457)\n",
      "7. feature 14 (0.064171)\n",
      "8. feature 5 (0.057722)\n",
      "9. feature 1 (0.054844)\n",
      "10. feature 16 (0.048690)\n",
      "11. feature 6 (0.030641)\n",
      "12. feature 8 (0.026492)\n",
      "13. feature 11 (0.023295)\n",
      "14. feature 2 (0.021464)\n",
      "15. feature 20 (0.020313)\n",
      "16. feature 4 (0.020019)\n",
      "17. feature 0 (0.017095)\n",
      "18. feature 19 (0.016536)\n",
      "19. feature 10 (0.014775)\n",
      "20. feature 17 (0.011474)\n",
      "21. feature 18 (0.010824)\n"
     ]
    },
    {
     "data": {
      "image/png": "[encoded data removed]",
      "text/plain": [
       "<matplotlib.figure.Figure at 0x114666f60>"
      ]
     },
     "metadata": {},
     "output_type": "display_data"
    }
   ],
   "source": [
    "#Dataset with 21 features\n",
    "from sklearn.ensemble import RandomForestClassifier\n",
    "\n",
    "forest = RandomForestClassifier(n_estimators=500,criterion='entropy',class_weight='balanced_subsample',max_depth=10, min_samples_leaf=10)\n",
    "forest = forest.fit(df_X21, df_Y)\n",
    "\n",
    "importances = forest.feature_importances_\n",
    "std = np.std([tree.feature_importances_ for tree in forest.estimators_],axis=0)\n",
    "indices = np.argsort(importances)[::-1]\n",
    "\n",
    "# Print the feature ranking\n",
    "print(\"Feature ranking:\")\n",
    "\n",
    "for f in range(df_X21.shape[1]):\n",
    "    print(\"%d. feature %d (%f)\" % (f + 1, indices[f], importances[indices[f]]))\n",
    "\n",
    "# Plot the feature importances of the forest\n",
    "plt.figure()\n",
    "plt.title(\"Feature importances\")\n",
    "plt.bar(range(df_X21.shape[1]), importances[indices],\n",
    "       color=\"r\", yerr=std[indices], align=\"center\")\n",
    "plt.xticks(range(df_X21.shape[1]), indices)\n",
    "plt.xlim([-1, df_X21.shape[1]])\n",
    "plt.show()"
   ]
  },
  {
   "cell_type": "code",
   "execution_count": 78,
   "metadata": {},
   "outputs": [
    {
     "data": {
      "text/plain": [
       "(46745, 21)"
      ]
     },
     "execution_count": 78,
     "metadata": {},
     "output_type": "execute_result"
    }
   ],
   "source": [
    "df_X21.shape"
   ]
  },
  {
   "cell_type": "code",
   "execution_count": 53,
   "metadata": {},
   "outputs": [
    {
     "name": "stderr",
     "output_type": "stream",
     "text": [
      "/Users/Bru/Downloads/anaconda/lib/python3.5/site-packages/sklearn/utils/deprecation.py:70: DeprecationWarning: Function transform is deprecated; Support to use estimators as feature selectors will be removed in version 0.19. Use SelectFromModel instead.\n",
      "  warnings.warn(msg, category=DeprecationWarning)\n"
     ]
    },
    {
     "data": {
      "text/plain": [
       "(46745, 10)"
      ]
     },
     "execution_count": 53,
     "metadata": {},
     "output_type": "execute_result"
    }
   ],
   "source": [
    "#Selecting the best 11 features by specifying the threshold\n",
    "df_X11 = forest.transform(df_X21,threshold=0.0312)\n",
    "df_X11.shape"
   ]
  },
  {
   "cell_type": "code",
   "execution_count": 81,
   "metadata": {},
   "outputs": [
    {
     "data": {
      "text/plain": [
       "array([[  0,   2,   1,   1,   7,   2,  66,  11,   5,  13,   2,   0,   1, 425,\n",
       "         69, 700,   6,   2,   1,   1,   1],\n",
       "       [  2,   3,   1,   1,   7,   2,  66,  44,   1,  16,   0,   0,   0, 520,\n",
       "         85, 228,   7,   2,   1,   3,   1],\n",
       "       [  2,   4,   1,   1,   7,   1,  66,  51,   0,   8,   0,   0,   0,  50,\n",
       "         20,  71,   5,   2,   1,   2,   1]])"
      ]
     },
     "execution_count": 81,
     "metadata": {},
     "output_type": "execute_result"
    }
   ],
   "source": [
    "df_X21[0:3]"
   ]
  },
  {
   "cell_type": "code",
   "execution_count": 54,
   "metadata": {},
   "outputs": [
    {
     "name": "stdout",
     "output_type": "stream",
     "text": [
      "Accuracy:0.722 \n",
      "\n",
      "Classification report\n",
      "             precision    recall  f1-score   support\n",
      "\n",
      "        <30       0.27      0.66      0.39      6211\n",
      "         NO       0.93      0.73      0.82     40534\n",
      "\n",
      "avg / total       0.85      0.72      0.76     46745\n",
      " \n",
      "\n",
      "Confussion matrix\n",
      "[[ 4093  2118]\n",
      " [10862 29672]] \n",
      "\n"
     ]
    }
   ],
   "source": [
    "#Evaluating performance with 21 features\n",
    "measure_performance(df_X21,df_Y,forest)"
   ]
  },
  {
   "cell_type": "code",
   "execution_count": 102,
   "metadata": {},
   "outputs": [
    {
     "name": "stdout",
     "output_type": "stream",
     "text": [
      "Feature ranking:\n",
      "1. feature 6 (0.166872)\n",
      "2. feature 1 (0.147286)\n",
      "3. feature 7 (0.111829)\n",
      "4. feature 4 (0.093218)\n",
      "5. feature 8 (0.088101)\n",
      "6. feature 9 (0.084896)\n",
      "7. feature 5 (0.083375)\n",
      "8. feature 2 (0.066100)\n",
      "9. feature 0 (0.060109)\n",
      "10. feature 10 (0.055732)\n",
      "11. feature 3 (0.042482)\n"
     ]
    },
    {
     "data": {
      "image/png": "[encoded data removed]",
      "text/plain": [
       "<matplotlib.figure.Figure at 0x112bf7b38>"
      ]
     },
     "metadata": {},
     "output_type": "display_data"
    }
   ],
   "source": [
    "#Dataset with 11 features\n",
    "from sklearn.ensemble import RandomForestClassifier\n",
    "\n",
    "forest = RandomForestClassifier(n_estimators=500,criterion='entropy',class_weight='balanced_subsample',max_depth=10, min_samples_leaf=10)\n",
    "forest = forest.fit(df_X11, df_Y)\n",
    "\n",
    "importances = forest.feature_importances_\n",
    "std = np.std([tree.feature_importances_ for tree in forest.estimators_],axis=0)\n",
    "indices = np.argsort(importances)[::-1]\n",
    "\n",
    "# Print the feature ranking\n",
    "print(\"Feature ranking:\")\n",
    "\n",
    "for f in range(df_X11.shape[1]):\n",
    "    print(\"%d. feature %d (%f)\" % (f + 1, indices[f], importances[indices[f]]))\n",
    "\n",
    "# Plot the feature importances of the forest\n",
    "plt.figure()\n",
    "plt.title(\"Feature importances\")\n",
    "plt.bar(range(df_X11.shape[1]), importances[indices],\n",
    "       color=\"r\", yerr=std[indices], align=\"center\")\n",
    "plt.xticks(range(df_X11.shape[1]), indices)\n",
    "plt.xlim([-1, df_X11.shape[1]])\n",
    "plt.show()"
   ]
  },
  {
   "cell_type": "code",
   "execution_count": 103,
   "metadata": {},
   "outputs": [
    {
     "name": "stdout",
     "output_type": "stream",
     "text": [
      "Accuracy:0.722 \n",
      "\n",
      "Classification report\n",
      "             precision    recall  f1-score   support\n",
      "\n",
      "        <30       0.27      0.65      0.38      6211\n",
      "         NO       0.93      0.73      0.82     40534\n",
      "\n",
      "avg / total       0.84      0.72      0.76     46745\n",
      " \n",
      "\n",
      "Confussion matrix\n",
      "[[ 4052  2159]\n",
      " [10825 29709]] \n",
      "\n"
     ]
    }
   ],
   "source": [
    "#Evaluating performance with 11 features\n",
    "measure_performance(df_X11,df_Y,forest)"
   ]
  },
  {
   "cell_type": "code",
   "execution_count": 112,
   "metadata": {
    "collapsed": true
   },
   "outputs": [],
   "source": [
    "from sklearn.grid_search import GridSearchCV\n",
    "from sklearn.ensemble import RandomForestClassifier\n",
    "\n",
    "forest = RandomForestClassifier()\n",
    "\n",
    "parameters = {\n",
    "    'n_estimators': [ 500, 1000, 2000],\n",
    "    'criterion': ['entropy','gini'],\n",
    "    'max_depth': [5,10,20],\n",
    "    'min_samples_leaf': [5,  15,  25],\n",
    "    'oob_score':['True','False'],\n",
    "    'class_weight':['balanced_subsample']\n",
    "}\n",
    "\n",
    "gs = GridSearchCV(forest, parameters, verbose=1, cv=5)"
   ]
  },
  {
   "cell_type": "code",
   "execution_count": 55,
   "metadata": {
    "collapsed": true
   },
   "outputs": [],
   "source": [
    "#Dataset with 20 features\n",
    "from sklearn.ensemble import RandomForestClassifier\n",
    "\n",
    "forest = RandomForestClassifier(n_estimators=500,criterion='gini',class_weight='balanced_subsample',max_depth=20, min_samples_leaf=5,min_samples_split=10)\n",
    "forest = forest.fit(df_X21, df_Y)\n"
   ]
  },
  {
   "cell_type": "code",
   "execution_count": 56,
   "metadata": {},
   "outputs": [
    {
     "name": "stdout",
     "output_type": "stream",
     "text": [
      "Accuracy:0.967 \n",
      "\n",
      "Classification report\n",
      "             precision    recall  f1-score   support\n",
      "\n",
      "        <30       0.86      0.90      0.88      6211\n",
      "         NO       0.98      0.98      0.98     40534\n",
      "\n",
      "avg / total       0.97      0.97      0.97     46745\n",
      " \n",
      "\n",
      "Confussion matrix\n",
      "[[ 5570   641]\n",
      " [  896 39638]] \n",
      "\n"
     ]
    }
   ],
   "source": [
    "measure_performance(df_X21, df_Y,forest)"
   ]
  },
  {
   "cell_type": "code",
   "execution_count": 57,
   "metadata": {
    "collapsed": true
   },
   "outputs": [],
   "source": [
    "#Dataset with 20 features\n",
    "from sklearn.ensemble import RandomForestClassifier\n",
    "\n",
    "forest = RandomForestClassifier(n_estimators=1000,criterion='gini',class_weight='balanced_subsample',max_depth=20, min_samples_leaf=5,min_samples_split=10)\n",
    "forest = forest.fit(df_X21, df_Y)"
   ]
  },
  {
   "cell_type": "code",
   "execution_count": 58,
   "metadata": {},
   "outputs": [
    {
     "name": "stdout",
     "output_type": "stream",
     "text": [
      "Accuracy:0.968 \n",
      "\n",
      "Classification report\n",
      "             precision    recall  f1-score   support\n",
      "\n",
      "        <30       0.86      0.90      0.88      6211\n",
      "         NO       0.98      0.98      0.98     40534\n",
      "\n",
      "avg / total       0.97      0.97      0.97     46745\n",
      " \n",
      "\n",
      "Confussion matrix\n",
      "[[ 5594   617]\n",
      " [  891 39643]] \n",
      "\n"
     ]
    }
   ],
   "source": [
    "measure_performance(df_X21, df_Y,forest)"
   ]
  },
  {
   "cell_type": "code",
   "execution_count": 59,
   "metadata": {
    "collapsed": true
   },
   "outputs": [],
   "source": [
    "#Dataset with 20 features\n",
    "from sklearn.ensemble import RandomForestClassifier\n",
    "\n",
    "forest = RandomForestClassifier(n_estimators=2000,criterion='gini',class_weight='balanced_subsample',max_depth=20, min_samples_leaf=5,min_samples_split=10)\n",
    "forest = forest.fit(df_X21, df_Y)"
   ]
  },
  {
   "cell_type": "code",
   "execution_count": 60,
   "metadata": {},
   "outputs": [
    {
     "name": "stdout",
     "output_type": "stream",
     "text": [
      "Accuracy:0.968 \n",
      "\n",
      "Classification report\n",
      "             precision    recall  f1-score   support\n",
      "\n",
      "        <30       0.87      0.90      0.88      6211\n",
      "         NO       0.98      0.98      0.98     40534\n",
      "\n",
      "avg / total       0.97      0.97      0.97     46745\n",
      " \n",
      "\n",
      "Confussion matrix\n",
      "[[ 5596   615]\n",
      " [  861 39673]] \n",
      "\n"
     ]
    }
   ],
   "source": [
    "measure_performance(df_X21, df_Y,forest)"
   ]
  },
  {
   "cell_type": "markdown",
   "metadata": {},
   "source": [
    "## Support Vector machine classifier "
   ]
  },
  {
   "cell_type": "code",
   "execution_count": 61,
   "metadata": {},
   "outputs": [
    {
     "data": {
      "text/plain": [
       "array([[-1.73, -0.95, -2.56, -0.74, -0.47,  0.36, -0.76,  0.91, -1.59,  1.99,\n",
       "        -0.32,  1.89, -0.18,  1.61,  0.73, -1.27,  2.68, -0.62,  0.04,  0.21,\n",
       "        -0.48, -0.1 , -0.08, -0.03, -0.21,  2.4 , -0.31, -0.02, -0.27, -0.25,\n",
       "        -0.05, -0.01, -0.  , -0.02, -0.5 , -0.08, -0.01, -0.01, -0.  ,  0.89,\n",
       "         0.58],\n",
       "       [ 0.22,  1.06, -1.92, -0.74, -0.47,  0.36, -0.76,  0.91,  0.08, -0.27,\n",
       "         0.04, -0.25, -0.18, -0.26,  1.37, -1.16, -0.14, -0.11,  0.04,  0.21,\n",
       "        -0.48, -0.1 , -0.08, -0.03, -0.21, -0.34, -0.31, -0.02, -0.27, -0.25,\n",
       "        -0.05, -0.01, -0.  , -0.02,  2.03, -0.08, -0.01, -0.01, -0.  , -1.13,\n",
       "         0.58],\n",
       "       [ 0.22,  1.06, -1.29, -0.74, -0.47,  0.36, -1.11,  0.91,  0.43, -0.83,\n",
       "        -0.9 , -0.25, -0.18, -0.26, -1.79, -1.62, -1.08, -1.14,  0.04,  0.21,\n",
       "        -0.48, -0.1 , -0.08, -0.03, -0.21,  2.4 , -0.31, -0.02, -0.27, -0.25,\n",
       "        -0.05, -0.01, -0.  , -0.02,  0.77, -0.08, -0.01, -0.01, -0.  , -1.13,\n",
       "         0.58],\n",
       "       [ 0.22,  1.06, -0.02,  0.62, -0.47, -0.85, -0.08,  0.91,  1.39, -0.27,\n",
       "         0.62, -0.25, -0.18, -0.26, -0.49, -0.19,  2.7 , -0.11,  0.04,  0.21,\n",
       "         1.72, -0.1 , -0.08, -0.03,  3.87, -0.34, -0.31, -0.02, -0.27, -0.25,\n",
       "        -0.05, -0.01, -0.  , -0.02,  0.77, -0.08, -0.01, -0.01, -0.  , -1.13,\n",
       "         0.58],\n",
       "       [ 0.22, -0.95,  1.25, -0.06, -0.47, -0.37,  3.  ,  0.91,  1.29,  0.3 ,\n",
       "         1.45, -0.25, -0.18, -0.26, -0.56, -0.09, -0.26,  0.41,  0.04,  0.21,\n",
       "        -0.48, -0.1 , -0.08, -0.03, -0.21,  2.4 , -0.31, -0.02, -0.27, -0.25,\n",
       "        -0.05, -0.01, -0.  , -0.02,  0.77, -0.08, -0.01, -0.01, -0.  , -1.13,\n",
       "         0.58]])"
      ]
     },
     "execution_count": 61,
     "metadata": {},
     "output_type": "execute_result"
    }
   ],
   "source": [
    "#Normalizing the input data using z-score normalization\n",
    "from sklearn.preprocessing import scale\n",
    "\n",
    "#fit and transform the data\n",
    "df_XNorm= scale(df_X, axis=0, with_mean=True, with_std=True, copy=True)\n",
    "\n",
    "np.set_printoptions(precision=2, linewidth=80, suppress=True)\n",
    "df_XNorm[0:5]"
   ]
  },
  {
   "cell_type": "code",
   "execution_count": 47,
   "metadata": {},
   "outputs": [
    {
     "name": "stderr",
     "output_type": "stream",
     "text": [
      "/Users/Bru/Downloads/anaconda/lib/python3.5/site-packages/sklearn/cross_validation.py:44: DeprecationWarning: This module was deprecated in version 0.18 in favor of the model_selection module into which all the refactored classes and functions are moved. Also note that the interface of the new CV iterators are different from that of this module. This module will be removed in 0.20.\n",
      "  \"This module will be removed in 0.20.\", DeprecationWarning)\n"
     ]
    }
   ],
   "source": [
    "#Build the training and testing dataset\n",
    "from sklearn.cross_validation import train_test_split\n",
    "X_train, X_test, y_train, y_test = train_test_split(df_XNorm, df_Y, test_size=0.2, random_state=33)\n"
   ]
  },
  {
   "cell_type": "code",
   "execution_count": 48,
   "metadata": {},
   "outputs": [
    {
     "data": {
      "text/plain": [
       "array([[-1.73,  1.06, -2.56, -0.74, -0.47,  0.36, -0.76,  0.91, -0.38, -0.83,\n",
       "        -1.37, -0.25, -0.18, -0.26, -1.46, -1.23, -0.15, -1.66,  0.04,  0.21,\n",
       "        -0.48, -0.1 , -0.08, -0.03, -0.21, -0.34,  2.52, -0.02, -0.27, -0.25,\n",
       "        -0.05, -0.01, -0.  , -0.02, -0.5 , -0.08, -0.01, -0.01, -0.  ,  0.89,\n",
       "         0.58],\n",
       "       [ 0.22,  1.06, -1.29, -0.74, -0.47,  0.36,  0.26,  0.91, -0.22, -0.83,\n",
       "        -1.02, -0.25, -0.18, -0.26,  0.87, -1.26, -0.12,  0.41,  0.04,  0.21,\n",
       "         1.72, -0.1 , -0.08, -0.03, -0.21, -0.34, -0.31, -0.02,  3.4 , -0.25,\n",
       "        -0.05, -0.01, -0.  , -0.02, -0.5 , -0.08, -0.01, -0.01, -0.  , -1.13,\n",
       "         0.58],\n",
       "       [ 0.22, -0.95,  1.88, -0.74, -0.1 ,  0.36, -0.08,  0.91,  0.28,  0.3 ,\n",
       "        -0.43, -0.25, -0.18, -0.26,  0.27, -0.9 , -0.15, -0.62,  0.04,  0.21,\n",
       "        -0.48, -0.1 , -0.08, -0.03, -0.21, -0.34, -0.31, -0.02, -0.27,  3.67,\n",
       "        -0.05, -0.01, -0.  , -0.02,  0.77, -0.08, -0.01, -0.01, -0.  , -1.13,\n",
       "         0.58]])"
      ]
     },
     "execution_count": 48,
     "metadata": {},
     "output_type": "execute_result"
    }
   ],
   "source": [
    "X_train[0:3]"
   ]
  },
  {
   "cell_type": "code",
   "execution_count": 51,
   "metadata": {},
   "outputs": [
    {
     "data": {
      "text/plain": [
       "array([[ 0.03,  0.03, -0.19, -0.02, -0.31, -0.02, -0.25, -0.  , -0.06,  0.08,\n",
       "        -0.  , -0.1 , -0.16, -0.39,  0.05,  0.03, -0.01, -0.14,  0.04, -0.03,\n",
       "         0.15, -0.04,  0.01,  0.05,  0.02, -0.03, -0.  ,  0.01,  0.02, -0.  ,\n",
       "        -0.01, -0.02,  0.  ,  0.02,  0.05,  0.02,  0.01,  0.01,  0.  ,  0.01,\n",
       "        -0.18]])"
      ]
     },
     "execution_count": 51,
     "metadata": {},
     "output_type": "execute_result"
    }
   ],
   "source": [
    "from sklearn.svm import SVC\n",
    "# create a base classifier used to evaluate a subset of attributes\n",
    "model = SVC(C=0.9, kernel='linear',class_weight='balanced')\n",
    "svm = model.fit(X_train, y_train)\n",
    "svm.coef_"
   ]
  },
  {
   "cell_type": "code",
   "execution_count": 54,
   "metadata": {},
   "outputs": [
    {
     "name": "stdout",
     "output_type": "stream",
     "text": [
      "Accuracy:0.683 \n",
      "\n",
      "Classification report\n",
      "             precision    recall  f1-score   support\n",
      "\n",
      "        <30       0.21      0.50      0.29      4963\n",
      "         NO       0.90      0.71      0.80     32433\n",
      "\n",
      "avg / total       0.81      0.68      0.73     37396\n",
      " \n",
      "\n",
      "Confussion matrix\n",
      "[[ 2471  2492]\n",
      " [ 9362 23071]] \n",
      "\n"
     ]
    }
   ],
   "source": [
    "#Accuracy with training data\n",
    "measure_performance(X_train, y_train, svm)"
   ]
  },
  {
   "cell_type": "code",
   "execution_count": 55,
   "metadata": {},
   "outputs": [
    {
     "name": "stdout",
     "output_type": "stream",
     "text": [
      "Accuracy:0.688 \n",
      "\n",
      "Classification report\n",
      "             precision    recall  f1-score   support\n",
      "\n",
      "        <30       0.22      0.51      0.30      1248\n",
      "         NO       0.90      0.72      0.80      8101\n",
      "\n",
      "avg / total       0.81      0.69      0.73      9349\n",
      " \n",
      "\n",
      "Confussion matrix\n",
      "[[ 634  614]\n",
      " [2301 5800]] \n",
      "\n"
     ]
    }
   ],
   "source": [
    "#Accuracy with testing data\n",
    "measure_performance(X_test, y_test, svm)"
   ]
  },
  {
   "cell_type": "markdown",
   "metadata": {},
   "source": [
    "Feature selection using Recursive Feature elimination"
   ]
  },
  {
   "cell_type": "code",
   "execution_count": 49,
   "metadata": {},
   "outputs": [
    {
     "name": "stdout",
     "output_type": "stream",
     "text": [
      "Num Features:  20\n",
      "Selected Features: \n",
      "  [ True  True  True False  True False  True False  True  True False  True  True\n",
      "  True  True  True False  True  True  True  True  True False  True False False\n",
      " False False False False False False False False  True False False False False\n",
      " False  True]\n",
      "Feature Ranking: \n",
      " [ 1  1  1  6  1  3  1 22  1  1 21  1  1  1  1  1 11  1  1  1  1  1 10  1  7  2\n",
      " 20 13  8 18 16  9 17  5  1  4 12 15 19 14  1]\n"
     ]
    }
   ],
   "source": [
    "from sklearn import feature_selection\n",
    "from sklearn.svm import SVC\n",
    "# Recursive Feature Elimination\n",
    "# create a base classifier used to evaluate a subset of attributes\n",
    "model = SVC(C=0.9, kernel='linear',class_weight='balanced')\n",
    "# create the RFE model\n",
    "rfe = feature_selection.RFE(model,20,step=1)\n",
    "X_train_fs = rfe.fit_transform(X_train, y_train)\n",
    "# summarize the selection of the attributes\n",
    "print(\"Num Features: \",rfe.n_features_)\n",
    "print(\"Selected Features: \\n \", rfe.support_)\n",
    "print(\"Feature Ranking: \\n\", rfe.ranking_)"
   ]
  },
  {
   "cell_type": "code",
   "execution_count": 50,
   "metadata": {},
   "outputs": [
    {
     "name": "stdout",
     "output_type": "stream",
     "text": [
      "[[-1.73  1.06 -2.56 ..., -0.03 -0.5   0.58]\n",
      " [ 0.22  1.06 -1.29 ..., -0.03 -0.5   0.58]\n",
      " [ 0.22 -0.95  1.88 ..., -0.03  0.77  0.58]\n",
      " ..., \n",
      " [ 0.22  1.06  1.25 ..., -0.03  2.03  0.58]\n",
      " [ 0.22  1.06 -0.65 ..., -0.03 -0.5   0.58]\n",
      " [ 0.22 -0.95  1.25 ..., -0.03 -0.5  -1.72]]\n"
     ]
    }
   ],
   "source": [
    "print(X_train_fs)"
   ]
  },
  {
   "cell_type": "code",
   "execution_count": 53,
   "metadata": {},
   "outputs": [
    {
     "name": "stdout",
     "output_type": "stream",
     "text": [
      "Accuracy:0.685 \n",
      "\n",
      "Classification report\n",
      "             precision    recall  f1-score   support\n",
      "\n",
      "        <30       0.21      0.50      0.29      4963\n",
      "         NO       0.90      0.71      0.80     32433\n",
      "\n",
      "avg / total       0.81      0.68      0.73     37396\n",
      " \n",
      "\n",
      "Confussion matrix\n",
      "[[ 2460  2503]\n",
      " [ 9288 23145]] \n",
      "\n"
     ]
    }
   ],
   "source": [
    "#Evaluate performance with the new feature set\n",
    "model = SVC(C=0.9, kernel='linear',class_weight='balanced')\n",
    "svm = model.fit(X_train_fs, y_train)\n",
    "\n",
    "#measure performance for training data with 20 best features for the model\n",
    "measure_performance(X_train_fs, y_train, svm)"
   ]
  },
  {
   "cell_type": "code",
   "execution_count": 54,
   "metadata": {},
   "outputs": [
    {
     "name": "stdout",
     "output_type": "stream",
     "text": [
      "Accuracy:0.693 \n",
      "\n",
      "Classification report\n",
      "             precision    recall  f1-score   support\n",
      "\n",
      "        <30       0.22      0.51      0.31      1248\n",
      "         NO       0.91      0.72      0.80      8101\n",
      "\n",
      "avg / total       0.81      0.69      0.74      9349\n",
      " \n",
      "\n",
      "Confussion matrix\n",
      "[[ 635  613]\n",
      " [2258 5843]] \n",
      "\n"
     ]
    }
   ],
   "source": [
    "X_test_fs = rfe.transform(X_test)\n",
    "measure_performance(X_test_fs, y_test, svm)"
   ]
  },
  {
   "cell_type": "code",
   "execution_count": 55,
   "metadata": {},
   "outputs": [
    {
     "name": "stdout",
     "output_type": "stream",
     "text": [
      "Accuracy:0.685 \n",
      "\n",
      "Classification report\n",
      "             precision    recall  f1-score   support\n",
      "\n",
      "        <30       0.21      0.50      0.29      4963\n",
      "         NO       0.90      0.71      0.80     32433\n",
      "\n",
      "avg / total       0.81      0.68      0.73     37396\n",
      " \n",
      "\n",
      "Confussion matrix\n",
      "[[ 2460  2503]\n",
      " [ 9286 23147]] \n",
      "\n"
     ]
    }
   ],
   "source": [
    "#Evaluate performance with the new feature set -- with C=1\n",
    "model = SVC(kernel='linear',class_weight='balanced')\n",
    "svm = model.fit(X_train_fs, y_train)\n",
    "\n",
    "#measure performance for training data with 20 best features for the model\n",
    "measure_performance(X_train_fs, y_train, svm)"
   ]
  },
  {
   "cell_type": "markdown",
   "metadata": {},
   "source": [
    "## Naive Bayes Classifer"
   ]
  },
  {
   "cell_type": "code",
   "execution_count": 104,
   "metadata": {
    "collapsed": true
   },
   "outputs": [],
   "source": [
    "#Build the training and testing dataset\n",
    "from sklearn.cross_validation import train_test_split\n",
    "X_train, X_test, y_train, y_test = train_test_split(df_X, df_Y, test_size=0.2, random_state=33)"
   ]
  },
  {
   "cell_type": "code",
   "execution_count": 105,
   "metadata": {
    "collapsed": true
   },
   "outputs": [],
   "source": [
    "from sklearn.naive_bayes import MultinomialNB\n",
    "\n",
    "clf = MultinomialNB()\n",
    "# create a base classifier used with 41 attributes\n",
    "clf = clf.fit(X_train, y_train)"
   ]
  },
  {
   "cell_type": "code",
   "execution_count": 106,
   "metadata": {},
   "outputs": [
    {
     "name": "stdout",
     "output_type": "stream",
     "text": [
      "Accuracy:0.653 \n",
      "\n",
      "Classification report\n",
      "             precision    recall  f1-score   support\n",
      "\n",
      "        <30       0.16      0.40      0.23      4963\n",
      "         NO       0.88      0.69      0.78     32433\n",
      "\n",
      "avg / total       0.79      0.65      0.70     37396\n",
      " \n",
      "\n",
      "Confussion matrix\n",
      "[[ 1972  2991]\n",
      " [ 9999 22434]] \n",
      "\n"
     ]
    }
   ],
   "source": [
    "measure_performance(X_train, y_train,clf)"
   ]
  },
  {
   "cell_type": "code",
   "execution_count": 107,
   "metadata": {},
   "outputs": [
    {
     "name": "stdout",
     "output_type": "stream",
     "text": [
      "Accuracy:0.663 \n",
      "\n",
      "Classification report\n",
      "             precision    recall  f1-score   support\n",
      "\n",
      "        <30       0.17      0.40      0.24      1248\n",
      "         NO       0.88      0.70      0.78      8101\n",
      "\n",
      "avg / total       0.79      0.66      0.71      9349\n",
      " \n",
      "\n",
      "Confussion matrix\n",
      "[[ 501  747]\n",
      " [2402 5699]] \n",
      "\n"
     ]
    }
   ],
   "source": [
    "measure_performance(X_test, y_test,clf)"
   ]
  },
  {
   "cell_type": "code",
   "execution_count": 108,
   "metadata": {},
   "outputs": [
    {
     "name": "stdout",
     "output_type": "stream",
     "text": [
      "Num Features:  20\n",
      "Selected Features: \n",
      "  [False  True False False False False False False False False False  True  True\n",
      "  True False False False False False False False  True  True  True  True False\n",
      " False  True False  True  True  True  True  True False  True  True  True  True\n",
      "  True  True]\n",
      "Feature Ranking: \n",
      " [ 8  1 15 11 12 14 13 19 18  7 17  1  1  1 22 21 20 16 10  9  5  1  1  1  1  4\n",
      "  3  1  2  1  1  1  1  1  6  1  1  1  1  1  1]\n"
     ]
    }
   ],
   "source": [
    "from sklearn import feature_selection\n",
    "from sklearn.naive_bayes import MultinomialNB\n",
    "# Recursive Feature Elimination\n",
    "# create a base classifier used to evaluate a subset of attributes\n",
    "clf = MultinomialNB()\n",
    "# create the RFE model\n",
    "rfe = feature_selection.RFE(clf,20,step=1)\n",
    "X_train_fs = rfe.fit_transform(X_train, y_train)\n",
    "# summarize the selection of the attributes\n",
    "print(\"Num Features: \",rfe.n_features_)\n",
    "print(\"Selected Features: \\n \", rfe.support_)\n",
    "print(\"Feature Ranking: \\n\", rfe.ranking_)"
   ]
  },
  {
   "cell_type": "code",
   "execution_count": 109,
   "metadata": {},
   "outputs": [
    {
     "name": "stdout",
     "output_type": "stream",
     "text": [
      "[[1 0 0 ..., 0 1 1]\n",
      " [1 0 0 ..., 0 0 1]\n",
      " [0 0 0 ..., 0 0 1]\n",
      " ..., \n",
      " [1 0 1 ..., 0 0 1]\n",
      " [1 0 0 ..., 0 1 1]\n",
      " [0 0 0 ..., 0 1 0]]\n"
     ]
    }
   ],
   "source": [
    "print(X_train_fs)"
   ]
  },
  {
   "cell_type": "code",
   "execution_count": 110,
   "metadata": {},
   "outputs": [
    {
     "name": "stdout",
     "output_type": "stream",
     "text": [
      "Accuracy:0.860 \n",
      "\n",
      "Classification report\n",
      "             precision    recall  f1-score   support\n",
      "\n",
      "        <30       0.38      0.09      0.15      4963\n",
      "         NO       0.88      0.98      0.92     32433\n",
      "\n",
      "avg / total       0.81      0.86      0.82     37396\n",
      " \n",
      "\n",
      "Confussion matrix\n",
      "[[  448  4515]\n",
      " [  723 31710]] \n",
      "\n"
     ]
    }
   ],
   "source": [
    "#Evaluate performance with the new feature set - 20 features\n",
    "clf = MultinomialNB()\n",
    "nb = clf.fit(X_train_fs, y_train)\n",
    "\n",
    "#measure performance for training data with 20 best features for the model\n",
    "measure_performance(X_train_fs, y_train, nb)"
   ]
  },
  {
   "cell_type": "code",
   "execution_count": 111,
   "metadata": {},
   "outputs": [
    {
     "name": "stdout",
     "output_type": "stream",
     "text": [
      "Accuracy:0.861 \n",
      "\n",
      "Classification report\n",
      "             precision    recall  f1-score   support\n",
      "\n",
      "        <30       0.42      0.10      0.16      1248\n",
      "         NO       0.88      0.98      0.92      8101\n",
      "\n",
      "avg / total       0.81      0.86      0.82      9349\n",
      " \n",
      "\n",
      "Confussion matrix\n",
      "[[ 122 1126]\n",
      " [ 169 7932]] \n",
      "\n"
     ]
    }
   ],
   "source": [
    "X_test_fs = rfe.transform(X_test)\n",
    "measure_performance(X_test_fs, y_test, nb)"
   ]
  },
  {
   "cell_type": "markdown",
   "metadata": {},
   "source": [
    "## Decision tree classifier -- Evaluating model and feature importances"
   ]
  },
  {
   "cell_type": "code",
   "execution_count": 56,
   "metadata": {},
   "outputs": [
    {
     "name": "stdout",
     "output_type": "stream",
     "text": [
      "Feature ranking:\n",
      "1. feature 4 (0.192168)\n",
      "2. feature 13 (0.179111)\n",
      "3. feature 14 (0.107953)\n",
      "4. feature 15 (0.071732)\n",
      "5. feature 8 (0.058627)\n",
      "6. feature 10 (0.050758)\n",
      "7. feature 16 (0.048692)\n",
      "8. feature 6 (0.047245)\n",
      "9. feature 17 (0.045900)\n",
      "10. feature 2 (0.035766)\n",
      "11. feature 7 (0.026653)\n",
      "12. feature 40 (0.019437)\n",
      "13. feature 34 (0.017214)\n",
      "14. feature 0 (0.015215)\n",
      "15. feature 9 (0.013409)\n",
      "16. feature 5 (0.013262)\n",
      "17. feature 12 (0.009605)\n",
      "18. feature 1 (0.009497)\n",
      "19. feature 3 (0.008900)\n",
      "20. feature 19 (0.008898)\n",
      "21. feature 11 (0.004231)\n",
      "22. feature 26 (0.004041)\n",
      "23. feature 28 (0.003796)\n",
      "24. feature 25 (0.002239)\n",
      "25. feature 35 (0.001942)\n",
      "26. feature 29 (0.001876)\n",
      "27. feature 18 (0.001295)\n",
      "28. feature 39 (0.000537)\n",
      "29. feature 38 (0.000000)\n",
      "30. feature 37 (0.000000)\n",
      "31. feature 33 (0.000000)\n",
      "32. feature 36 (0.000000)\n",
      "33. feature 31 (0.000000)\n",
      "34. feature 32 (0.000000)\n",
      "35. feature 30 (0.000000)\n",
      "36. feature 27 (0.000000)\n",
      "37. feature 21 (0.000000)\n",
      "38. feature 22 (0.000000)\n",
      "39. feature 23 (0.000000)\n",
      "40. feature 24 (0.000000)\n",
      "41. feature 20 (0.000000)\n"
     ]
    }
   ],
   "source": [
    "#Dataset with 41 features\n",
    "from sklearn.tree import DecisionTreeClassifier\n",
    "\n",
    "dt = DecisionTreeClassifier(criterion='entropy',class_weight='balanced',max_depth=10, min_samples_leaf=10)\n",
    "dt = dt.fit(df_X, df_Y)\n",
    "\n",
    "importances = dt.feature_importances_\n",
    "#std = np.std([tree.feature_importances_ for tree in dt.estimators_],axis=0)\n",
    "indices = np.argsort(importances)[::-1]\n",
    "\n",
    "# Print the feature ranking\n",
    "print(\"Feature ranking:\")\n",
    "\n",
    "for f in range(df_X.shape[1]):\n",
    "    print(\"%d. feature %d (%f)\" % (f + 1, indices[f], importances[indices[f]]))\n"
   ]
  },
  {
   "cell_type": "code",
   "execution_count": 57,
   "metadata": {},
   "outputs": [
    {
     "name": "stderr",
     "output_type": "stream",
     "text": [
      "/Users/Bru/Downloads/anaconda/lib/python3.5/site-packages/sklearn/utils/deprecation.py:70: DeprecationWarning: Function transform is deprecated; Support to use estimators as feature selectors will be removed in version 0.19. Use SelectFromModel instead.\n",
      "  warnings.warn(msg, category=DeprecationWarning)\n"
     ]
    },
    {
     "data": {
      "text/plain": [
       "(46745, 20)"
      ]
     },
     "execution_count": 57,
     "metadata": {},
     "output_type": "execute_result"
    }
   ],
   "source": [
    "#Selecting the best 21 features by specifying the threshold\n",
    "df_X21 = dt.transform(df_X,threshold=0.004233)\n",
    "df_X21.shape"
   ]
  },
  {
   "cell_type": "code",
   "execution_count": 58,
   "metadata": {},
   "outputs": [
    {
     "name": "stdout",
     "output_type": "stream",
     "text": [
      "Accuracy:0.650 \n",
      "\n",
      "Classification report\n",
      "             precision    recall  f1-score   support\n",
      "\n",
      "        <30       0.23      0.68      0.34      6211\n",
      "         NO       0.93      0.65      0.76     40534\n",
      "\n",
      "avg / total       0.84      0.65      0.71     46745\n",
      " \n",
      "\n",
      "Confussion matrix\n",
      "[[ 4240  1971]\n",
      " [14374 26160]] \n",
      "\n"
     ]
    }
   ],
   "source": [
    "measure_performance(df_X,df_Y,dt)"
   ]
  },
  {
   "cell_type": "code",
   "execution_count": 59,
   "metadata": {},
   "outputs": [
    {
     "name": "stdout",
     "output_type": "stream",
     "text": [
      "Feature ranking:\n",
      "1. feature 4 (0.190866)\n",
      "2. feature 12 (0.178653)\n",
      "3. feature 13 (0.106856)\n",
      "4. feature 14 (0.078936)\n",
      "5. feature 8 (0.063980)\n",
      "6. feature 10 (0.053891)\n",
      "7. feature 15 (0.050461)\n",
      "8. feature 16 (0.049292)\n",
      "9. feature 6 (0.046975)\n",
      "10. feature 2 (0.034445)\n",
      "11. feature 7 (0.027725)\n",
      "12. feature 19 (0.020745)\n",
      "13. feature 18 (0.017178)\n",
      "14. feature 0 (0.015996)\n",
      "15. feature 9 (0.013375)\n",
      "16. feature 5 (0.013228)\n",
      "17. feature 3 (0.009591)\n",
      "18. feature 1 (0.009473)\n",
      "19. feature 11 (0.009458)\n",
      "20. feature 17 (0.008875)\n"
     ]
    }
   ],
   "source": [
    "#Dataset with best 21 features\n",
    "from sklearn.tree import DecisionTreeClassifier\n",
    "\n",
    "dt = DecisionTreeClassifier(criterion='entropy',class_weight='balanced',max_depth=10, min_samples_leaf=10)\n",
    "dt = dt.fit(df_X21, df_Y)\n",
    "\n",
    "importances = dt.feature_importances_\n",
    "#std = np.std([tree.feature_importances_ for tree in dt.estimators_],axis=0)\n",
    "indices = np.argsort(importances)[::-1]\n",
    "\n",
    "# Print the feature ranking\n",
    "print(\"Feature ranking:\")\n",
    "\n",
    "for f in range(df_X21.shape[1]):\n",
    "    print(\"%d. feature %d (%f)\" % (f + 1, indices[f], importances[indices[f]]))\n"
   ]
  },
  {
   "cell_type": "code",
   "execution_count": 62,
   "metadata": {},
   "outputs": [
    {
     "name": "stderr",
     "output_type": "stream",
     "text": [
      "/Users/Bru/Downloads/anaconda/lib/python3.5/site-packages/sklearn/utils/deprecation.py:70: DeprecationWarning: Function transform is deprecated; Support to use estimators as feature selectors will be removed in version 0.19. Use SelectFromModel instead.\n",
      "  warnings.warn(msg, category=DeprecationWarning)\n"
     ]
    },
    {
     "data": {
      "text/plain": [
       "(46745, 11)"
      ]
     },
     "execution_count": 62,
     "metadata": {},
     "output_type": "execute_result"
    }
   ],
   "source": [
    "#Selecting the best 10 features by specifying the threshold\n",
    "df_X10 = dt.transform(df_X21,threshold=0.027725)\n",
    "df_X10.shape"
   ]
  },
  {
   "cell_type": "code",
   "execution_count": 63,
   "metadata": {},
   "outputs": [
    {
     "name": "stdout",
     "output_type": "stream",
     "text": [
      "Accuracy:0.652 \n",
      "\n",
      "Classification report\n",
      "             precision    recall  f1-score   support\n",
      "\n",
      "        <30       0.23      0.68      0.34      6211\n",
      "         NO       0.93      0.65      0.76     40534\n",
      "\n",
      "avg / total       0.84      0.65      0.71     46745\n",
      " \n",
      "\n",
      "Confussion matrix\n",
      "[[ 4247  1964]\n",
      " [14290 26244]] \n",
      "\n"
     ]
    }
   ],
   "source": [
    "measure_performance(df_X21,df_Y,dt)"
   ]
  },
  {
   "cell_type": "code",
   "execution_count": 64,
   "metadata": {},
   "outputs": [
    {
     "name": "stdout",
     "output_type": "stream",
     "text": [
      "Feature ranking:\n",
      "1. feature 1 (0.208148)\n",
      "2. feature 6 (0.195641)\n",
      "3. feature 7 (0.127189)\n",
      "4. feature 8 (0.076570)\n",
      "5. feature 5 (0.071167)\n",
      "6. feature 9 (0.069871)\n",
      "7. feature 4 (0.069268)\n",
      "8. feature 2 (0.055323)\n",
      "9. feature 10 (0.048330)\n",
      "10. feature 0 (0.041890)\n",
      "11. feature 3 (0.036602)\n"
     ]
    }
   ],
   "source": [
    "#Dataset with best 10 features\n",
    "from sklearn.tree import DecisionTreeClassifier\n",
    "\n",
    "dt = DecisionTreeClassifier(criterion='entropy',class_weight='balanced',max_depth=10, min_samples_leaf=10)\n",
    "dt = dt.fit(df_X10, df_Y)\n",
    "\n",
    "importances = dt.feature_importances_\n",
    "#std = np.std([tree.feature_importances_ for tree in dt.estimators_],axis=0)\n",
    "indices = np.argsort(importances)[::-1]\n",
    "\n",
    "# Print the feature ranking\n",
    "print(\"Feature ranking:\")\n",
    "\n",
    "for f in range(df_X10.shape[1]):\n",
    "    print(\"%d. feature %d (%f)\" % (f + 1, indices[f], importances[indices[f]]))\n"
   ]
  },
  {
   "cell_type": "code",
   "execution_count": 65,
   "metadata": {},
   "outputs": [
    {
     "name": "stdout",
     "output_type": "stream",
     "text": [
      "Accuracy:0.642 \n",
      "\n",
      "Classification report\n",
      "             precision    recall  f1-score   support\n",
      "\n",
      "        <30       0.22      0.68      0.34      6211\n",
      "         NO       0.93      0.64      0.75     40534\n",
      "\n",
      "avg / total       0.83      0.64      0.70     46745\n",
      " \n",
      "\n",
      "Confussion matrix\n",
      "[[ 4219  1992]\n",
      " [14755 25779]] \n",
      "\n"
     ]
    }
   ],
   "source": [
    "measure_performance(df_X10,df_Y,dt)"
   ]
  },
  {
   "cell_type": "code",
   "execution_count": 85,
   "metadata": {
    "collapsed": true
   },
   "outputs": [],
   "source": [
    "from sklearn.grid_search import GridSearchCV\n",
    "\n",
    "dt = DecisionTreeClassifier()\n",
    "\n",
    "parameters = {\n",
    "    'criterion': ['entropy','gini'],\n",
    "    'max_depth': [ 5, 10, 20, 10],\n",
    "    'min_samples_leaf': [ 5 ,10, 17 ,  30 ],\n",
    "    'min_samples_split': [ 2, 10,  20],\n",
    "    'class_weight': ['balanced']\n",
    "}\n",
    "\n",
    "gs = GridSearchCV(dt, parameters, verbose=1, cv=5)"
   ]
  },
  {
   "cell_type": "code",
   "execution_count": 86,
   "metadata": {},
   "outputs": [
    {
     "name": "stdout",
     "output_type": "stream",
     "text": [
      "Fitting 5 folds for each of 96 candidates, totalling 480 fits\n"
     ]
    },
    {
     "name": "stderr",
     "output_type": "stream",
     "text": [
      "[Parallel(n_jobs=1)]: Done 480 out of 480 | elapsed: 21.0min finished\n"
     ]
    },
    {
     "name": "stdout",
     "output_type": "stream",
     "text": [
      "CPU times: user 2min 7s, sys: 1.1 s, total: 2min 8s\n",
      "Wall time: 21min 2s\n"
     ]
    },
    {
     "data": {
      "text/plain": [
       "({'class_weight': 'balanced',\n",
       "  'criterion': 'gini',\n",
       "  'max_depth': 20,\n",
       "  'min_samples_leaf': 5,\n",
       "  'min_samples_split': 10},\n",
       " 0.6332655899026634)"
      ]
     },
     "execution_count": 86,
     "metadata": {},
     "output_type": "execute_result"
    }
   ],
   "source": [
    "%time _ = gs.fit(df_X21,df_Y)\n",
    "\n",
    "gs.best_params_, gs.best_score_"
   ]
  },
  {
   "cell_type": "code",
   "execution_count": 87,
   "metadata": {
    "collapsed": true
   },
   "outputs": [],
   "source": [
    "#Dataset with best 21 features\n",
    "from sklearn.tree import DecisionTreeClassifier\n",
    "\n",
    "dt = DecisionTreeClassifier(criterion='gini',class_weight='balanced',max_depth=20, min_samples_leaf=5,min_samples_split=10)\n",
    "dt = dt.fit(df_X21, df_Y)\n"
   ]
  },
  {
   "cell_type": "code",
   "execution_count": 88,
   "metadata": {},
   "outputs": [
    {
     "name": "stdout",
     "output_type": "stream",
     "text": [
      "Accuracy:0.787 \n",
      "\n",
      "Classification report\n",
      "             precision    recall  f1-score   support\n",
      "\n",
      "        <30       0.38      0.95      0.54      6211\n",
      "         NO       0.99      0.76      0.86     40534\n",
      "\n",
      "avg / total       0.91      0.79      0.82     46745\n",
      " \n",
      "\n",
      "Confussion matrix\n",
      "[[ 5895   316]\n",
      " [ 9618 30916]] \n",
      "\n"
     ]
    }
   ],
   "source": [
    "measure_performance(df_X21, df_Y,dt)"
   ]
  },
  {
   "cell_type": "markdown",
   "metadata": {
    "collapsed": true
   },
   "source": [
    "## PCA for Reduced Dimensionality in Clustering"
   ]
  },
  {
   "cell_type": "code",
   "execution_count": 62,
   "metadata": {},
   "outputs": [
    {
     "data": {
      "text/plain": [
       "array([[ 0.  ,  0.  ,  0.22,  0.  ,  0.  ,  0.25,  0.08,  1.  ,  0.08,  0.83,\n",
       "         0.15,  0.06,  0.  ,  0.08,  0.65,  0.1 ,  0.97,  0.23,  0.67,  0.67,\n",
       "         0.33,  0.33,  0.33,  0.33,  0.33,  0.67,  0.33,  0.  ,  0.33,  0.33,\n",
       "         0.  ,  0.  ,  0.  ,  0.  ,  0.33,  0.33,  0.  ,  0.  ,  0.  ,  1.  ,\n",
       "         1.  ],\n",
       "       [ 0.4 ,  0.5 ,  0.33,  0.  ,  0.  ,  0.25,  0.08,  1.  ,  0.33,  0.17,\n",
       "         0.19,  0.  ,  0.  ,  0.  ,  0.79,  0.13,  0.32,  0.31,  0.67,  0.67,\n",
       "         0.33,  0.33,  0.33,  0.33,  0.33,  0.33,  0.33,  0.  ,  0.33,  0.33,\n",
       "         0.  ,  0.  ,  0.  ,  0.  ,  1.  ,  0.33,  0.  ,  0.  ,  0.  ,  0.  ,\n",
       "         1.  ],\n",
       "       [ 0.4 ,  0.5 ,  0.44,  0.  ,  0.  ,  0.25,  0.  ,  1.  ,  0.38,  0.  ,\n",
       "         0.09,  0.  ,  0.  ,  0.  ,  0.08,  0.03,  0.1 ,  0.15,  0.67,  0.67,\n",
       "         0.33,  0.33,  0.33,  0.33,  0.33,  0.67,  0.33,  0.  ,  0.33,  0.33,\n",
       "         0.  ,  0.  ,  0.  ,  0.  ,  0.67,  0.33,  0.  ,  0.  ,  0.  ,  0.  ,\n",
       "         1.  ],\n",
       "       [ 0.4 ,  0.5 ,  0.67,  0.29,  0.  ,  0.04,  0.23,  1.  ,  0.53,  0.17,\n",
       "         0.25,  0.  ,  0.  ,  0.  ,  0.37,  0.34,  0.98,  0.31,  0.67,  0.67,\n",
       "         0.67,  0.33,  0.33,  0.33,  0.67,  0.33,  0.33,  0.  ,  0.33,  0.33,\n",
       "         0.  ,  0.  ,  0.  ,  0.  ,  0.67,  0.33,  0.  ,  0.  ,  0.  ,  0.  ,\n",
       "         1.  ],\n",
       "       [ 0.4 ,  0.  ,  0.89,  0.14,  0.  ,  0.12,  0.92,  1.  ,  0.51,  0.33,\n",
       "         0.34,  0.  ,  0.  ,  0.  ,  0.36,  0.36,  0.29,  0.38,  0.67,  0.67,\n",
       "         0.33,  0.33,  0.33,  0.33,  0.33,  0.67,  0.33,  0.  ,  0.33,  0.33,\n",
       "         0.  ,  0.  ,  0.  ,  0.  ,  0.67,  0.33,  0.  ,  0.  ,  0.  ,  0.  ,\n",
       "         1.  ]])"
      ]
     },
     "execution_count": 62,
     "metadata": {},
     "output_type": "execute_result"
    }
   ],
   "source": [
    "#Normalizing data using MixMaxScaler \n",
    "from sklearn.preprocessing import MinMaxScaler\n",
    "\n",
    "data_norm = preprocessing.MinMaxScaler().fit(df_X)\n",
    "df_Xnorm = data_norm.transform(df_X)\n",
    "\n",
    "np.set_printoptions(precision=2, linewidth=80, suppress=True)\n",
    "df_Xnorm[0:5]"
   ]
  },
  {
   "cell_type": "markdown",
   "metadata": {},
   "source": [
    "So we can see that all the features have been normalized to value between 0 and 1 as by default range is 0 to 1 for sklearn.preprocessing.MinMaxScaler."
   ]
  },
  {
   "cell_type": "code",
   "execution_count": 63,
   "metadata": {},
   "outputs": [
    {
     "data": {
      "text/plain": [
       "KMeans(algorithm='auto', copy_x=True, init='k-means++', max_iter=300,\n",
       "    n_clusters=2, n_init=10, n_jobs=1, precompute_distances='auto',\n",
       "    random_state=None, tol=0.0001, verbose=0)"
      ]
     },
     "execution_count": 63,
     "metadata": {},
     "output_type": "execute_result"
    }
   ],
   "source": [
    "#KMeans from scikit-learn\n",
    "from sklearn.cluster import KMeans\n",
    "kmeans = KMeans(n_clusters=2)\n",
    "#Fitting the data\n",
    "kmeans.fit(df_Xnorm)"
   ]
  },
  {
   "cell_type": "code",
   "execution_count": 64,
   "metadata": {},
   "outputs": [
    {
     "data": {
      "text/plain": [
       "array([0, 1, 1, ..., 1, 1, 0], dtype=int32)"
      ]
     },
     "execution_count": 64,
     "metadata": {},
     "output_type": "execute_result"
    }
   ],
   "source": [
    "kmeans.labels_"
   ]
  },
  {
   "cell_type": "code",
   "execution_count": 65,
   "metadata": {},
   "outputs": [
    {
     "data": {
      "text/plain": [
       "array([[ 0.35,  0.23,  0.68,  0.16,  0.09,  0.19,  0.23,  0.65,  0.31,  0.24,\n",
       "         0.16,  0.01,  0.  ,  0.01,  0.49,  0.38,  0.35,  0.32,  0.67,  0.64,\n",
       "         0.36,  0.33,  0.33,  0.33,  0.34,  0.35,  0.35,  0.  ,  0.34,  0.34,\n",
       "         0.  ,  0.  ,  0.  ,  0.  ,  0.43,  0.33, -0.  ,  0.  ,  0.  ,  1.  ,\n",
       "         0.55],\n",
       "       [ 0.36,  0.24,  0.66,  0.15,  0.09,  0.19,  0.28,  0.65,  0.33,  0.25,\n",
       "         0.21,  0.01,  0.  ,  0.01,  0.47,  0.37,  0.35,  0.33,  0.66,  0.61,\n",
       "         0.46,  0.34,  0.34,  0.33,  0.36,  0.4 ,  0.39,  0.  ,  0.38,  0.37,\n",
       "         0.  ,  0.  ,  0.  ,  0.  ,  0.51,  0.34,  0.  ,  0.  ,  0.  ,  0.  ,\n",
       "         1.  ]])"
      ]
     },
     "execution_count": 65,
     "metadata": {},
     "output_type": "execute_result"
    }
   ],
   "source": [
    "kmeans.cluster_centers_"
   ]
  },
  {
   "cell_type": "code",
   "execution_count": 66,
   "metadata": {},
   "outputs": [
    {
     "data": {
      "text/html": [
       "<div>\n",
       "<table border=\"1\" class=\"dataframe\">\n",
       "  <thead>\n",
       "    <tr style=\"text-align: right;\">\n",
       "      <th></th>\n",
       "      <th>Cluster 1</th>\n",
       "      <th>Cluster 2</th>\n",
       "    </tr>\n",
       "  </thead>\n",
       "  <tbody>\n",
       "    <tr>\n",
       "      <th>race</th>\n",
       "      <td>3.54596e-01</td>\n",
       "      <td>3.55635e-01</td>\n",
       "    </tr>\n",
       "    <tr>\n",
       "      <th>gender</th>\n",
       "      <td>2.30772e-01</td>\n",
       "      <td>2.43365e-01</td>\n",
       "    </tr>\n",
       "    <tr>\n",
       "      <th>age</th>\n",
       "      <td>6.76645e-01</td>\n",
       "      <td>6.62214e-01</td>\n",
       "    </tr>\n",
       "    <tr>\n",
       "      <th>admission_type_id</th>\n",
       "      <td>1.55960e-01</td>\n",
       "      <td>1.54342e-01</td>\n",
       "    </tr>\n",
       "    <tr>\n",
       "      <th>discharge_disposition_id</th>\n",
       "      <td>9.26833e-02</td>\n",
       "      <td>9.34830e-02</td>\n",
       "    </tr>\n",
       "    <tr>\n",
       "      <th>admission_source_id</th>\n",
       "      <td>1.87122e-01</td>\n",
       "      <td>1.88356e-01</td>\n",
       "    </tr>\n",
       "    <tr>\n",
       "      <th>time_in_hospital</th>\n",
       "      <td>2.26125e-01</td>\n",
       "      <td>2.78052e-01</td>\n",
       "    </tr>\n",
       "    <tr>\n",
       "      <th>medical_specialty</th>\n",
       "      <td>6.46341e-01</td>\n",
       "      <td>6.46642e-01</td>\n",
       "    </tr>\n",
       "    <tr>\n",
       "      <th>num_lab_procedures</th>\n",
       "      <td>3.05719e-01</td>\n",
       "      <td>3.30185e-01</td>\n",
       "    </tr>\n",
       "    <tr>\n",
       "      <th>num_procedures</th>\n",
       "      <td>2.41920e-01</td>\n",
       "      <td>2.50918e-01</td>\n",
       "    </tr>\n",
       "    <tr>\n",
       "      <th>num_medications</th>\n",
       "      <td>1.59950e-01</td>\n",
       "      <td>2.13731e-01</td>\n",
       "    </tr>\n",
       "    <tr>\n",
       "      <th>number_outpatient</th>\n",
       "      <td>5.88739e-03</td>\n",
       "      <td>7.40570e-03</td>\n",
       "    </tr>\n",
       "    <tr>\n",
       "      <th>number_emergency</th>\n",
       "      <td>1.85530e-03</td>\n",
       "      <td>2.69208e-03</td>\n",
       "    </tr>\n",
       "    <tr>\n",
       "      <th>number_inpatient</th>\n",
       "      <td>1.10361e-02</td>\n",
       "      <td>1.24893e-02</td>\n",
       "    </tr>\n",
       "    <tr>\n",
       "      <th>diag_1</th>\n",
       "      <td>4.90796e-01</td>\n",
       "      <td>4.71023e-01</td>\n",
       "    </tr>\n",
       "    <tr>\n",
       "      <th>diag_2</th>\n",
       "      <td>3.78280e-01</td>\n",
       "      <td>3.74550e-01</td>\n",
       "    </tr>\n",
       "    <tr>\n",
       "      <th>diag_3</th>\n",
       "      <td>3.48071e-01</td>\n",
       "      <td>3.49669e-01</td>\n",
       "    </tr>\n",
       "    <tr>\n",
       "      <th>number_diagnoses</th>\n",
       "      <td>3.16758e-01</td>\n",
       "      <td>3.31761e-01</td>\n",
       "    </tr>\n",
       "    <tr>\n",
       "      <th>max_glu_serum</th>\n",
       "      <td>6.66973e-01</td>\n",
       "      <td>6.58597e-01</td>\n",
       "    </tr>\n",
       "    <tr>\n",
       "      <th>A1Cresult</th>\n",
       "      <td>6.43198e-01</td>\n",
       "      <td>6.10354e-01</td>\n",
       "    </tr>\n",
       "    <tr>\n",
       "      <th>metformin</th>\n",
       "      <td>3.61611e-01</td>\n",
       "      <td>4.61938e-01</td>\n",
       "    </tr>\n",
       "    <tr>\n",
       "      <th>repaglinide</th>\n",
       "      <td>3.34915e-01</td>\n",
       "      <td>3.40902e-01</td>\n",
       "    </tr>\n",
       "    <tr>\n",
       "      <th>nateglinide</th>\n",
       "      <td>3.34124e-01</td>\n",
       "      <td>3.37393e-01</td>\n",
       "    </tr>\n",
       "    <tr>\n",
       "      <th>chlorpropamide</th>\n",
       "      <td>3.33665e-01</td>\n",
       "      <td>3.33560e-01</td>\n",
       "    </tr>\n",
       "    <tr>\n",
       "      <th>glimepiride</th>\n",
       "      <td>3.41063e-01</td>\n",
       "      <td>3.62800e-01</td>\n",
       "    </tr>\n",
       "    <tr>\n",
       "      <th>glipizide</th>\n",
       "      <td>3.53282e-01</td>\n",
       "      <td>4.00919e-01</td>\n",
       "    </tr>\n",
       "    <tr>\n",
       "      <th>glyburide</th>\n",
       "      <td>3.50756e-01</td>\n",
       "      <td>3.92946e-01</td>\n",
       "    </tr>\n",
       "    <tr>\n",
       "      <th>tolbutamide</th>\n",
       "      <td>3.06115e-04</td>\n",
       "      <td>1.94071e-04</td>\n",
       "    </tr>\n",
       "    <tr>\n",
       "      <th>pioglitazone</th>\n",
       "      <td>3.40782e-01</td>\n",
       "      <td>3.79021e-01</td>\n",
       "    </tr>\n",
       "    <tr>\n",
       "      <th>rosiglitazone</th>\n",
       "      <td>3.39188e-01</td>\n",
       "      <td>3.73458e-01</td>\n",
       "    </tr>\n",
       "    <tr>\n",
       "      <th>acarbose</th>\n",
       "      <td>1.53057e-04</td>\n",
       "      <td>2.64422e-03</td>\n",
       "    </tr>\n",
       "    <tr>\n",
       "      <th>miglitol</th>\n",
       "      <td>7.65287e-05</td>\n",
       "      <td>2.91107e-04</td>\n",
       "    </tr>\n",
       "    <tr>\n",
       "      <th>troglitazone</th>\n",
       "      <td>3.27971e-18</td>\n",
       "      <td>4.85178e-05</td>\n",
       "    </tr>\n",
       "    <tr>\n",
       "      <th>tolazamide</th>\n",
       "      <td>3.82643e-04</td>\n",
       "      <td>4.36660e-04</td>\n",
       "    </tr>\n",
       "    <tr>\n",
       "      <th>insulin</th>\n",
       "      <td>4.25155e-01</td>\n",
       "      <td>5.14596e-01</td>\n",
       "    </tr>\n",
       "    <tr>\n",
       "      <th>glyburide-metformin</th>\n",
       "      <td>3.34443e-01</td>\n",
       "      <td>3.37102e-01</td>\n",
       "    </tr>\n",
       "    <tr>\n",
       "      <th>glipizide-metformin</th>\n",
       "      <td>-3.42201e-17</td>\n",
       "      <td>1.45553e-04</td>\n",
       "    </tr>\n",
       "    <tr>\n",
       "      <th>metformin-rosiglitazone</th>\n",
       "      <td>6.55942e-18</td>\n",
       "      <td>9.70356e-05</td>\n",
       "    </tr>\n",
       "    <tr>\n",
       "      <th>metformin-pioglitazone</th>\n",
       "      <td>3.27971e-18</td>\n",
       "      <td>4.85178e-05</td>\n",
       "    </tr>\n",
       "    <tr>\n",
       "      <th>change</th>\n",
       "      <td>1.00000e+00</td>\n",
       "      <td>1.28009e-13</td>\n",
       "    </tr>\n",
       "    <tr>\n",
       "      <th>diabetesMed</th>\n",
       "      <td>5.48022e-01</td>\n",
       "      <td>1.00000e+00</td>\n",
       "    </tr>\n",
       "  </tbody>\n",
       "</table>\n",
       "</div>"
      ],
      "text/plain": [
       "                            Cluster 1    Cluster 2\n",
       "race                      3.54596e-01  3.55635e-01\n",
       "gender                    2.30772e-01  2.43365e-01\n",
       "age                       6.76645e-01  6.62214e-01\n",
       "admission_type_id         1.55960e-01  1.54342e-01\n",
       "discharge_disposition_id  9.26833e-02  9.34830e-02\n",
       "admission_source_id       1.87122e-01  1.88356e-01\n",
       "time_in_hospital          2.26125e-01  2.78052e-01\n",
       "medical_specialty         6.46341e-01  6.46642e-01\n",
       "num_lab_procedures        3.05719e-01  3.30185e-01\n",
       "num_procedures            2.41920e-01  2.50918e-01\n",
       "num_medications           1.59950e-01  2.13731e-01\n",
       "number_outpatient         5.88739e-03  7.40570e-03\n",
       "number_emergency          1.85530e-03  2.69208e-03\n",
       "number_inpatient          1.10361e-02  1.24893e-02\n",
       "diag_1                    4.90796e-01  4.71023e-01\n",
       "diag_2                    3.78280e-01  3.74550e-01\n",
       "diag_3                    3.48071e-01  3.49669e-01\n",
       "number_diagnoses          3.16758e-01  3.31761e-01\n",
       "max_glu_serum             6.66973e-01  6.58597e-01\n",
       "A1Cresult                 6.43198e-01  6.10354e-01\n",
       "metformin                 3.61611e-01  4.61938e-01\n",
       "repaglinide               3.34915e-01  3.40902e-01\n",
       "nateglinide               3.34124e-01  3.37393e-01\n",
       "chlorpropamide            3.33665e-01  3.33560e-01\n",
       "glimepiride               3.41063e-01  3.62800e-01\n",
       "glipizide                 3.53282e-01  4.00919e-01\n",
       "glyburide                 3.50756e-01  3.92946e-01\n",
       "tolbutamide               3.06115e-04  1.94071e-04\n",
       "pioglitazone              3.40782e-01  3.79021e-01\n",
       "rosiglitazone             3.39188e-01  3.73458e-01\n",
       "acarbose                  1.53057e-04  2.64422e-03\n",
       "miglitol                  7.65287e-05  2.91107e-04\n",
       "troglitazone              3.27971e-18  4.85178e-05\n",
       "tolazamide                3.82643e-04  4.36660e-04\n",
       "insulin                   4.25155e-01  5.14596e-01\n",
       "glyburide-metformin       3.34443e-01  3.37102e-01\n",
       "glipizide-metformin      -3.42201e-17  1.45553e-04\n",
       "metformin-rosiglitazone   6.55942e-18  9.70356e-05\n",
       "metformin-pioglitazone    3.27971e-18  4.85178e-05\n",
       "change                    1.00000e+00  1.28009e-13\n",
       "diabetesMed               5.48022e-01  1.00000e+00"
      ]
     },
     "execution_count": 66,
     "metadata": {},
     "output_type": "execute_result"
    }
   ],
   "source": [
    "#Converting cluster centers array to dataframe and trasposing it so that features are rows and clusters are columns\n",
    "#Providing it with column_names (features) as 'index' and Cluster Names as 'columns'\n",
    "\n",
    "pd.DataFrame(kmeans.cluster_centers_.T, index=df_X.columns, columns=['Cluster 1', 'Cluster 2'])"
   ]
  },
  {
   "cell_type": "code",
   "execution_count": 67,
   "metadata": {},
   "outputs": [
    {
     "name": "stdout",
     "output_type": "stream",
     "text": [
      "Completeness of Cluster: 0.000493587775882\n",
      "Homogeneity of Clusters: 0.000864396580773\n"
     ]
    }
   ],
   "source": [
    "from sklearn.metrics import completeness_score, homogeneity_score\n",
    "\n",
    "completeness = completeness_score(df_Yarray, kmeans.labels_)\n",
    "homogeneity = homogeneity_score(df_Yarray, kmeans.labels_)\n",
    "\n",
    "print('Completeness of Cluster: '+  str(completeness))\n",
    "print('Homogeneity of Clusters: '+ str(homogeneity))"
   ]
  },
  {
   "cell_type": "markdown",
   "metadata": {},
   "source": [
    "## PCA on the normalized data"
   ]
  },
  {
   "cell_type": "code",
   "execution_count": 68,
   "metadata": {
    "collapsed": true
   },
   "outputs": [],
   "source": [
    "#PCA Using scikit-learn\n",
    "from sklearn import decomposition\n",
    "pca = decomposition.PCA(n_components=20)\n",
    "DTtrans = pca.fit(df_Xnorm).transform(df_Xnorm)"
   ]
  },
  {
   "cell_type": "code",
   "execution_count": 69,
   "metadata": {},
   "outputs": [
    {
     "name": "stdout",
     "output_type": "stream",
     "text": [
      "[[ 0.22 -0.32  0.37 ...,  0.19  0.12  0.24]\n",
      " [-0.63 -0.35  0.05 ..., -0.02  0.04 -0.04]\n",
      " [-0.61 -0.32 -0.01 ...,  0.06 -0.1   0.22]\n",
      " ..., \n",
      " [-0.59 -0.42 -0.35 ...,  0.05  0.17  0.02]\n",
      " [-0.65 -0.38  0.01 ..., -0.07 -0.16 -0.03]\n",
      " [ 0.82 -0.4  -0.34 ...,  0.17  0.2   0.  ]]\n"
     ]
    }
   ],
   "source": [
    "np.set_printoptions(precision=2,suppress=True)\n",
    "print (DTtrans)"
   ]
  },
  {
   "cell_type": "code",
   "execution_count": 70,
   "metadata": {},
   "outputs": [
    {
     "name": "stdout",
     "output_type": "stream",
     "text": [
      "[ 0.25  0.11  0.08  0.07  0.05  0.04  0.04  0.04  0.04  0.03  0.03  0.03  0.02\n",
      "  0.02  0.02  0.02  0.01  0.01  0.01  0.01]\n"
     ]
    }
   ],
   "source": [
    "print(pca.explained_variance_ratio_)"
   ]
  },
  {
   "cell_type": "code",
   "execution_count": 71,
   "metadata": {},
   "outputs": [
    {
     "data": {
      "image/png": "[encoded data removed]",
      "text/plain": [
       "<matplotlib.figure.Figure at 0x1674147f0>"
      ]
     },
     "metadata": {},
     "output_type": "display_data"
    }
   ],
   "source": [
    "fig = plt.figure()\n",
    "ax = fig.add_subplot(111)\n",
    "ax.plot(range(1, 21), pca.explained_variance_ratio_*100, marker='^')\n",
    "plt.xlabel('Principal Component')\n",
    "plt.ylabel('Percentage of Variance (%)')\n",
    "plt.show()"
   ]
  },
  {
   "cell_type": "code",
   "execution_count": 72,
   "metadata": {},
   "outputs": [
    {
     "name": "stdout",
     "output_type": "stream",
     "text": [
      "Variance captured by PC 1: 25.1752946946\n",
      "Variance captured by PC 2: 36.3002413637\n",
      "Variance captured by PC 3: 44.0768804118\n",
      "Variance captured by PC 4: 51.2106911995\n",
      "Variance captured by PC 5: 56.0379097835\n",
      "Variance captured by PC 6: 60.5220069098\n",
      "Variance captured by PC 7: 64.8377857166\n",
      "Variance captured by PC 8: 68.8848833297\n",
      "Variance captured by PC 9: 72.5154426966\n",
      "Variance captured by PC 10: 75.8460689961\n",
      "Variance captured by PC 11: 79.0170093558\n",
      "Variance captured by PC 12: 82.0366106276\n",
      "Variance captured by PC 13: 84.5094480879\n",
      "Variance captured by PC 14: 86.9500781956\n",
      "Variance captured by PC 15: 89.0575258944\n",
      "Variance captured by PC 16: 90.948927752\n",
      "Variance captured by PC 17: 92.397717958\n",
      "Variance captured by PC 18: 93.6397881978\n",
      "Variance captured by PC 19: 94.8330831774\n",
      "Variance captured by PC 20: 95.9558017707\n"
     ]
    }
   ],
   "source": [
    "pc = 0\n",
    "total_var = 0\n",
    "for i in pca.explained_variance_ratio_:\n",
    "    pc += 1\n",
    "    total_var += i*100\n",
    "    print(\"Variance captured by PC \" + str(pc) + \": \" + str(total_var))"
   ]
  },
  {
   "cell_type": "markdown",
   "metadata": {},
   "source": [
    "### Performing kmeans again with PCA reduced data:"
   ]
  },
  {
   "cell_type": "code",
   "execution_count": 73,
   "metadata": {},
   "outputs": [
    {
     "data": {
      "text/plain": [
       "KMeans(algorithm='auto', copy_x=True, init='k-means++', max_iter=300,\n",
       "    n_clusters=2, n_init=10, n_jobs=1, precompute_distances='auto',\n",
       "    random_state=None, tol=0.0001, verbose=0)"
      ]
     },
     "execution_count": 73,
     "metadata": {},
     "output_type": "execute_result"
    }
   ],
   "source": [
    "kmeans = KMeans(n_clusters=2) #Number of clusters = 7)\n",
    "\n",
    "#Fitting the data\n",
    "kmeans.fit(DTtrans)"
   ]
  },
  {
   "cell_type": "code",
   "execution_count": 74,
   "metadata": {},
   "outputs": [
    {
     "data": {
      "text/plain": [
       "array([1, 0, 0, ..., 0, 0, 1], dtype=int32)"
      ]
     },
     "execution_count": 74,
     "metadata": {},
     "output_type": "execute_result"
    }
   ],
   "source": [
    "kmeans.labels_"
   ]
  },
  {
   "cell_type": "code",
   "execution_count": 75,
   "metadata": {},
   "outputs": [
    {
     "data": {
      "text/plain": [
       "array([[-0.6 , -0.01, -0.15, -0.03, -0.  , -0.01, -0.01,  0.01,  0.  , -0.  ,\n",
       "         0.  , -0.  , -0.  , -0.  , -0.  , -0.  , -0.  ,  0.  ,  0.  , -0.  ],\n",
       "       [ 0.48,  0.01,  0.11,  0.03,  0.  ,  0.01,  0.01, -0.01, -0.  ,  0.  ,\n",
       "        -0.  ,  0.  ,  0.  ,  0.  ,  0.  ,  0.  ,  0.  , -0.  , -0.  ,  0.  ]])"
      ]
     },
     "execution_count": 75,
     "metadata": {},
     "output_type": "execute_result"
    }
   ],
   "source": [
    "kmeans.cluster_centers_"
   ]
  },
  {
   "cell_type": "code",
   "execution_count": 76,
   "metadata": {},
   "outputs": [
    {
     "data": {
      "text/html": [
       "<div>\n",
       "<table border=\"1\" class=\"dataframe\">\n",
       "  <thead>\n",
       "    <tr style=\"text-align: right;\">\n",
       "      <th></th>\n",
       "      <th>Cluster 1</th>\n",
       "      <th>Cluster 2</th>\n",
       "    </tr>\n",
       "  </thead>\n",
       "  <tbody>\n",
       "    <tr>\n",
       "      <th>PC 1</th>\n",
       "      <td>-0.60371</td>\n",
       "      <td>0.47613</td>\n",
       "    </tr>\n",
       "    <tr>\n",
       "      <th>PC 2</th>\n",
       "      <td>-0.00876</td>\n",
       "      <td>0.00691</td>\n",
       "    </tr>\n",
       "    <tr>\n",
       "      <th>PC 3</th>\n",
       "      <td>-0.14553</td>\n",
       "      <td>0.11477</td>\n",
       "    </tr>\n",
       "    <tr>\n",
       "      <th>PC 4</th>\n",
       "      <td>-0.03206</td>\n",
       "      <td>0.02529</td>\n",
       "    </tr>\n",
       "    <tr>\n",
       "      <th>PC 5</th>\n",
       "      <td>-0.00047</td>\n",
       "      <td>0.00037</td>\n",
       "    </tr>\n",
       "    <tr>\n",
       "      <th>PC 6</th>\n",
       "      <td>-0.00775</td>\n",
       "      <td>0.00611</td>\n",
       "    </tr>\n",
       "    <tr>\n",
       "      <th>PC 7</th>\n",
       "      <td>-0.00704</td>\n",
       "      <td>0.00555</td>\n",
       "    </tr>\n",
       "    <tr>\n",
       "      <th>PC 8</th>\n",
       "      <td>0.00827</td>\n",
       "      <td>-0.00652</td>\n",
       "    </tr>\n",
       "    <tr>\n",
       "      <th>PC 9</th>\n",
       "      <td>0.00003</td>\n",
       "      <td>-0.00003</td>\n",
       "    </tr>\n",
       "    <tr>\n",
       "      <th>PC 10</th>\n",
       "      <td>-0.00070</td>\n",
       "      <td>0.00056</td>\n",
       "    </tr>\n",
       "    <tr>\n",
       "      <th>PC 11</th>\n",
       "      <td>0.00122</td>\n",
       "      <td>-0.00096</td>\n",
       "    </tr>\n",
       "    <tr>\n",
       "      <th>PC 12</th>\n",
       "      <td>-0.00009</td>\n",
       "      <td>0.00007</td>\n",
       "    </tr>\n",
       "    <tr>\n",
       "      <th>PC 13</th>\n",
       "      <td>-0.00279</td>\n",
       "      <td>0.00220</td>\n",
       "    </tr>\n",
       "    <tr>\n",
       "      <th>PC 14</th>\n",
       "      <td>-0.00153</td>\n",
       "      <td>0.00120</td>\n",
       "    </tr>\n",
       "    <tr>\n",
       "      <th>PC15</th>\n",
       "      <td>-0.00164</td>\n",
       "      <td>0.00129</td>\n",
       "    </tr>\n",
       "    <tr>\n",
       "      <th>PC16</th>\n",
       "      <td>-0.00026</td>\n",
       "      <td>0.00020</td>\n",
       "    </tr>\n",
       "    <tr>\n",
       "      <th>PC17</th>\n",
       "      <td>-0.00312</td>\n",
       "      <td>0.00246</td>\n",
       "    </tr>\n",
       "    <tr>\n",
       "      <th>PC18</th>\n",
       "      <td>0.00144</td>\n",
       "      <td>-0.00113</td>\n",
       "    </tr>\n",
       "    <tr>\n",
       "      <th>PC19</th>\n",
       "      <td>0.00006</td>\n",
       "      <td>-0.00005</td>\n",
       "    </tr>\n",
       "    <tr>\n",
       "      <th>PC20</th>\n",
       "      <td>-0.00084</td>\n",
       "      <td>0.00066</td>\n",
       "    </tr>\n",
       "  </tbody>\n",
       "</table>\n",
       "</div>"
      ],
      "text/plain": [
       "       Cluster 1  Cluster 2\n",
       "PC 1    -0.60371    0.47613\n",
       "PC 2    -0.00876    0.00691\n",
       "PC 3    -0.14553    0.11477\n",
       "PC 4    -0.03206    0.02529\n",
       "PC 5    -0.00047    0.00037\n",
       "PC 6    -0.00775    0.00611\n",
       "PC 7    -0.00704    0.00555\n",
       "PC 8     0.00827   -0.00652\n",
       "PC 9     0.00003   -0.00003\n",
       "PC 10   -0.00070    0.00056\n",
       "PC 11    0.00122   -0.00096\n",
       "PC 12   -0.00009    0.00007\n",
       "PC 13   -0.00279    0.00220\n",
       "PC 14   -0.00153    0.00120\n",
       "PC15    -0.00164    0.00129\n",
       "PC16    -0.00026    0.00020\n",
       "PC17    -0.00312    0.00246\n",
       "PC18     0.00144   -0.00113\n",
       "PC19     0.00006   -0.00005\n",
       "PC20    -0.00084    0.00066"
      ]
     },
     "execution_count": 76,
     "metadata": {},
     "output_type": "execute_result"
    }
   ],
   "source": [
    "#Converting cluster centers array to dataframe and trasposing it so that features are rows and clusters are columns\n",
    "#Providing it with column_names (features) as 'index' and Cluster Names as 'columns'\n",
    "\n",
    "pd.DataFrame(kmeans.cluster_centers_.T, index=['PC 1','PC 2','PC 3','PC 4', 'PC 5', 'PC 6', 'PC 7','PC 8','PC 9','PC 10','PC 11', 'PC 12', 'PC 13', 'PC 14','PC15','PC16','PC17','PC18','PC19','PC20'], columns=['Cluster 1', 'Cluster 2'])"
   ]
  },
  {
   "cell_type": "code",
   "execution_count": 77,
   "metadata": {},
   "outputs": [
    {
     "name": "stdout",
     "output_type": "stream",
     "text": [
      "Completeness of Cluster: 0.000493587775882\n",
      "Homogeneity of Clusters: 0.000864396580773\n"
     ]
    }
   ],
   "source": [
    "completeness = completeness_score(df_Yarray, kmeans.labels_)\n",
    "homogeneity = homogeneity_score(df_Yarray, kmeans.labels_)\n",
    "\n",
    "print('Completeness of Cluster: '+  str(completeness))\n",
    "print('Homogeneity of Clusters: '+ str(homogeneity))"
   ]
  },
  {
   "cell_type": "code",
   "execution_count": null,
   "metadata": {
    "collapsed": true
   },
   "outputs": [],
   "source": []
  }
 ],
 "metadata": {
  "anaconda-cloud": {},
  "kernelspec": {
   "display_name": "Python 2",
   "language": "python",
   "name": "python2"
  },
  "language_info": {
   "codemirror_mode": {
    "name": "ipython",
    "version": 2
   },
   "file_extension": ".py",
   "mimetype": "text/x-python",
   "name": "python",
   "nbconvert_exporter": "python",
   "pygments_lexer": "ipython2",
   "version": "2.7.14"
  }
 },
 "nbformat": 4,
 "nbformat_minor": 1
}
