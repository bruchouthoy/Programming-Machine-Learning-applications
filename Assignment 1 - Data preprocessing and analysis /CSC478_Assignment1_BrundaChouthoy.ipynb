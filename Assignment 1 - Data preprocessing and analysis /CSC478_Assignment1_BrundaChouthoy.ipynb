{
 "cells": [
  {
   "cell_type": "markdown",
   "metadata": {},
   "source": [
    "# CSC 478: Assignment-1\n",
    "# Brunda Chouthoy - 1804455\n",
    "# Bank data"
   ]
  },
  {
   "cell_type": "code",
   "execution_count": 86,
   "metadata": {
    "collapsed": true
   },
   "outputs": [],
   "source": [
    "## Import modules\n",
    "import numpy as np\n",
    "import pandas as pd\n",
    "## Set up matplotlib to work interactively.\n",
    "import matplotlib.pyplot as plt\n",
    "%matplotlib inline\n",
    "import os "
   ]
  },
  {
   "cell_type": "code",
   "execution_count": 87,
   "metadata": {
    "collapsed": false
   },
   "outputs": [
    {
     "data": {
      "text/plain": [
       "'/Users/Bru/Desktop/MS-PA/Spring2017/CSC478-ML/Week2/ipynb'"
      ]
     },
     "execution_count": 87,
     "metadata": {},
     "output_type": "execute_result"
    }
   ],
   "source": [
    "os.getcwd()"
   ]
  },
  {
   "cell_type": "code",
   "execution_count": 88,
   "metadata": {
    "collapsed": true
   },
   "outputs": [],
   "source": [
    "os.chdir('/Users/Bru/Desktop/MS-PA/Spring2017/CSC478-ML/Week2/ipynb')"
   ]
  },
  {
   "cell_type": "code",
   "execution_count": 89,
   "metadata": {
    "collapsed": false
   },
   "outputs": [
    {
     "data": {
      "text/html": [
       "<div>\n",
       "<table border=\"1\" class=\"dataframe\">\n",
       "  <thead>\n",
       "    <tr style=\"text-align: right;\">\n",
       "      <th></th>\n",
       "      <th>id</th>\n",
       "      <th>age</th>\n",
       "      <th>income</th>\n",
       "      <th>children</th>\n",
       "      <th>gender</th>\n",
       "      <th>region</th>\n",
       "      <th>married</th>\n",
       "      <th>car</th>\n",
       "      <th>savings_acct</th>\n",
       "      <th>current_acct</th>\n",
       "      <th>mortgage</th>\n",
       "      <th>pep</th>\n",
       "    </tr>\n",
       "  </thead>\n",
       "  <tbody>\n",
       "    <tr>\n",
       "      <th>0</th>\n",
       "      <td>ID12101</td>\n",
       "      <td>48</td>\n",
       "      <td>17546.0</td>\n",
       "      <td>1</td>\n",
       "      <td>FEMALE</td>\n",
       "      <td>INNER_CITY</td>\n",
       "      <td>NO</td>\n",
       "      <td>NO</td>\n",
       "      <td>NO</td>\n",
       "      <td>NO</td>\n",
       "      <td>NO</td>\n",
       "      <td>YES</td>\n",
       "    </tr>\n",
       "    <tr>\n",
       "      <th>1</th>\n",
       "      <td>ID12102</td>\n",
       "      <td>40</td>\n",
       "      <td>30085.1</td>\n",
       "      <td>3</td>\n",
       "      <td>MALE</td>\n",
       "      <td>TOWN</td>\n",
       "      <td>YES</td>\n",
       "      <td>YES</td>\n",
       "      <td>NO</td>\n",
       "      <td>YES</td>\n",
       "      <td>YES</td>\n",
       "      <td>NO</td>\n",
       "    </tr>\n",
       "    <tr>\n",
       "      <th>2</th>\n",
       "      <td>ID12103</td>\n",
       "      <td>51</td>\n",
       "      <td>16575.4</td>\n",
       "      <td>0</td>\n",
       "      <td>FEMALE</td>\n",
       "      <td>INNER_CITY</td>\n",
       "      <td>YES</td>\n",
       "      <td>YES</td>\n",
       "      <td>YES</td>\n",
       "      <td>YES</td>\n",
       "      <td>NO</td>\n",
       "      <td>NO</td>\n",
       "    </tr>\n",
       "    <tr>\n",
       "      <th>3</th>\n",
       "      <td>ID12104</td>\n",
       "      <td>23</td>\n",
       "      <td>20375.4</td>\n",
       "      <td>3</td>\n",
       "      <td>FEMALE</td>\n",
       "      <td>TOWN</td>\n",
       "      <td>YES</td>\n",
       "      <td>NO</td>\n",
       "      <td>NO</td>\n",
       "      <td>YES</td>\n",
       "      <td>NO</td>\n",
       "      <td>NO</td>\n",
       "    </tr>\n",
       "    <tr>\n",
       "      <th>4</th>\n",
       "      <td>ID12105</td>\n",
       "      <td>57</td>\n",
       "      <td>50576.3</td>\n",
       "      <td>0</td>\n",
       "      <td>FEMALE</td>\n",
       "      <td>RURAL</td>\n",
       "      <td>YES</td>\n",
       "      <td>NO</td>\n",
       "      <td>YES</td>\n",
       "      <td>NO</td>\n",
       "      <td>NO</td>\n",
       "      <td>NO</td>\n",
       "    </tr>\n",
       "  </tbody>\n",
       "</table>\n",
       "</div>"
      ],
      "text/plain": [
       "        id  age   income  children  gender      region married  car  \\\n",
       "0  ID12101   48  17546.0         1  FEMALE  INNER_CITY      NO   NO   \n",
       "1  ID12102   40  30085.1         3    MALE        TOWN     YES  YES   \n",
       "2  ID12103   51  16575.4         0  FEMALE  INNER_CITY     YES  YES   \n",
       "3  ID12104   23  20375.4         3  FEMALE        TOWN     YES   NO   \n",
       "4  ID12105   57  50576.3         0  FEMALE       RURAL     YES   NO   \n",
       "\n",
       "  savings_acct current_acct mortgage  pep  \n",
       "0           NO           NO       NO  YES  \n",
       "1           NO          YES      YES   NO  \n",
       "2          YES          YES       NO   NO  \n",
       "3           NO          YES       NO   NO  \n",
       "4          YES           NO       NO   NO  "
      ]
     },
     "execution_count": 89,
     "metadata": {},
     "output_type": "execute_result"
    }
   ],
   "source": [
    "## Load text file via read_csv\n",
    "bank_df = pd.read_csv(\"bank_data.csv\", sep=',')\n",
    "bank_df.head(5)"
   ]
  },
  {
   "cell_type": "markdown",
   "metadata": {},
   "source": [
    "# 1. Explore the general characteristics of the data as a whole: examine the means, standard deviations, and other statistics associated with the numerical attributes; show the distributions of values associated with categorical attributes; etc."
   ]
  },
  {
   "cell_type": "code",
   "execution_count": 90,
   "metadata": {
    "collapsed": false
   },
   "outputs": [
    {
     "data": {
      "text/html": [
       "<div>\n",
       "<table border=\"1\" class=\"dataframe\">\n",
       "  <thead>\n",
       "    <tr style=\"text-align: right;\">\n",
       "      <th></th>\n",
       "      <th>id</th>\n",
       "      <th>age</th>\n",
       "      <th>income</th>\n",
       "      <th>children</th>\n",
       "      <th>gender</th>\n",
       "      <th>region</th>\n",
       "      <th>married</th>\n",
       "      <th>car</th>\n",
       "      <th>savings_acct</th>\n",
       "      <th>current_acct</th>\n",
       "      <th>mortgage</th>\n",
       "      <th>pep</th>\n",
       "    </tr>\n",
       "  </thead>\n",
       "  <tbody>\n",
       "    <tr>\n",
       "      <th>count</th>\n",
       "      <td>600</td>\n",
       "      <td>600.000000</td>\n",
       "      <td>600.000000</td>\n",
       "      <td>600.000000</td>\n",
       "      <td>600</td>\n",
       "      <td>600</td>\n",
       "      <td>600</td>\n",
       "      <td>600</td>\n",
       "      <td>600</td>\n",
       "      <td>600</td>\n",
       "      <td>600</td>\n",
       "      <td>600</td>\n",
       "    </tr>\n",
       "    <tr>\n",
       "      <th>unique</th>\n",
       "      <td>600</td>\n",
       "      <td>NaN</td>\n",
       "      <td>NaN</td>\n",
       "      <td>NaN</td>\n",
       "      <td>2</td>\n",
       "      <td>4</td>\n",
       "      <td>2</td>\n",
       "      <td>2</td>\n",
       "      <td>2</td>\n",
       "      <td>2</td>\n",
       "      <td>2</td>\n",
       "      <td>2</td>\n",
       "    </tr>\n",
       "    <tr>\n",
       "      <th>top</th>\n",
       "      <td>ID12300</td>\n",
       "      <td>NaN</td>\n",
       "      <td>NaN</td>\n",
       "      <td>NaN</td>\n",
       "      <td>MALE</td>\n",
       "      <td>INNER_CITY</td>\n",
       "      <td>YES</td>\n",
       "      <td>NO</td>\n",
       "      <td>YES</td>\n",
       "      <td>YES</td>\n",
       "      <td>NO</td>\n",
       "      <td>NO</td>\n",
       "    </tr>\n",
       "    <tr>\n",
       "      <th>freq</th>\n",
       "      <td>1</td>\n",
       "      <td>NaN</td>\n",
       "      <td>NaN</td>\n",
       "      <td>NaN</td>\n",
       "      <td>300</td>\n",
       "      <td>269</td>\n",
       "      <td>396</td>\n",
       "      <td>304</td>\n",
       "      <td>414</td>\n",
       "      <td>455</td>\n",
       "      <td>391</td>\n",
       "      <td>326</td>\n",
       "    </tr>\n",
       "    <tr>\n",
       "      <th>mean</th>\n",
       "      <td>NaN</td>\n",
       "      <td>42.395000</td>\n",
       "      <td>27524.031217</td>\n",
       "      <td>1.011667</td>\n",
       "      <td>NaN</td>\n",
       "      <td>NaN</td>\n",
       "      <td>NaN</td>\n",
       "      <td>NaN</td>\n",
       "      <td>NaN</td>\n",
       "      <td>NaN</td>\n",
       "      <td>NaN</td>\n",
       "      <td>NaN</td>\n",
       "    </tr>\n",
       "    <tr>\n",
       "      <th>std</th>\n",
       "      <td>NaN</td>\n",
       "      <td>14.424947</td>\n",
       "      <td>12899.468246</td>\n",
       "      <td>1.056752</td>\n",
       "      <td>NaN</td>\n",
       "      <td>NaN</td>\n",
       "      <td>NaN</td>\n",
       "      <td>NaN</td>\n",
       "      <td>NaN</td>\n",
       "      <td>NaN</td>\n",
       "      <td>NaN</td>\n",
       "      <td>NaN</td>\n",
       "    </tr>\n",
       "    <tr>\n",
       "      <th>min</th>\n",
       "      <td>NaN</td>\n",
       "      <td>18.000000</td>\n",
       "      <td>5014.210000</td>\n",
       "      <td>0.000000</td>\n",
       "      <td>NaN</td>\n",
       "      <td>NaN</td>\n",
       "      <td>NaN</td>\n",
       "      <td>NaN</td>\n",
       "      <td>NaN</td>\n",
       "      <td>NaN</td>\n",
       "      <td>NaN</td>\n",
       "      <td>NaN</td>\n",
       "    </tr>\n",
       "    <tr>\n",
       "      <th>25%</th>\n",
       "      <td>NaN</td>\n",
       "      <td>30.000000</td>\n",
       "      <td>17264.500000</td>\n",
       "      <td>0.000000</td>\n",
       "      <td>NaN</td>\n",
       "      <td>NaN</td>\n",
       "      <td>NaN</td>\n",
       "      <td>NaN</td>\n",
       "      <td>NaN</td>\n",
       "      <td>NaN</td>\n",
       "      <td>NaN</td>\n",
       "      <td>NaN</td>\n",
       "    </tr>\n",
       "    <tr>\n",
       "      <th>50%</th>\n",
       "      <td>NaN</td>\n",
       "      <td>42.000000</td>\n",
       "      <td>24925.300000</td>\n",
       "      <td>1.000000</td>\n",
       "      <td>NaN</td>\n",
       "      <td>NaN</td>\n",
       "      <td>NaN</td>\n",
       "      <td>NaN</td>\n",
       "      <td>NaN</td>\n",
       "      <td>NaN</td>\n",
       "      <td>NaN</td>\n",
       "      <td>NaN</td>\n",
       "    </tr>\n",
       "    <tr>\n",
       "      <th>75%</th>\n",
       "      <td>NaN</td>\n",
       "      <td>55.250000</td>\n",
       "      <td>36172.675000</td>\n",
       "      <td>2.000000</td>\n",
       "      <td>NaN</td>\n",
       "      <td>NaN</td>\n",
       "      <td>NaN</td>\n",
       "      <td>NaN</td>\n",
       "      <td>NaN</td>\n",
       "      <td>NaN</td>\n",
       "      <td>NaN</td>\n",
       "      <td>NaN</td>\n",
       "    </tr>\n",
       "    <tr>\n",
       "      <th>max</th>\n",
       "      <td>NaN</td>\n",
       "      <td>67.000000</td>\n",
       "      <td>63130.100000</td>\n",
       "      <td>3.000000</td>\n",
       "      <td>NaN</td>\n",
       "      <td>NaN</td>\n",
       "      <td>NaN</td>\n",
       "      <td>NaN</td>\n",
       "      <td>NaN</td>\n",
       "      <td>NaN</td>\n",
       "      <td>NaN</td>\n",
       "      <td>NaN</td>\n",
       "    </tr>\n",
       "  </tbody>\n",
       "</table>\n",
       "</div>"
      ],
      "text/plain": [
       "             id         age        income    children gender      region  \\\n",
       "count       600  600.000000    600.000000  600.000000    600         600   \n",
       "unique      600         NaN           NaN         NaN      2           4   \n",
       "top     ID12300         NaN           NaN         NaN   MALE  INNER_CITY   \n",
       "freq          1         NaN           NaN         NaN    300         269   \n",
       "mean        NaN   42.395000  27524.031217    1.011667    NaN         NaN   \n",
       "std         NaN   14.424947  12899.468246    1.056752    NaN         NaN   \n",
       "min         NaN   18.000000   5014.210000    0.000000    NaN         NaN   \n",
       "25%         NaN   30.000000  17264.500000    0.000000    NaN         NaN   \n",
       "50%         NaN   42.000000  24925.300000    1.000000    NaN         NaN   \n",
       "75%         NaN   55.250000  36172.675000    2.000000    NaN         NaN   \n",
       "max         NaN   67.000000  63130.100000    3.000000    NaN         NaN   \n",
       "\n",
       "       married  car savings_acct current_acct mortgage  pep  \n",
       "count      600  600          600          600      600  600  \n",
       "unique       2    2            2            2        2    2  \n",
       "top        YES   NO          YES          YES       NO   NO  \n",
       "freq       396  304          414          455      391  326  \n",
       "mean       NaN  NaN          NaN          NaN      NaN  NaN  \n",
       "std        NaN  NaN          NaN          NaN      NaN  NaN  \n",
       "min        NaN  NaN          NaN          NaN      NaN  NaN  \n",
       "25%        NaN  NaN          NaN          NaN      NaN  NaN  \n",
       "50%        NaN  NaN          NaN          NaN      NaN  NaN  \n",
       "75%        NaN  NaN          NaN          NaN      NaN  NaN  \n",
       "max        NaN  NaN          NaN          NaN      NaN  NaN  "
      ]
     },
     "execution_count": 90,
     "metadata": {},
     "output_type": "execute_result"
    }
   ],
   "source": [
    "bank_df.describe(include=\"all\")"
   ]
  },
  {
   "cell_type": "markdown",
   "metadata": {},
   "source": [
    "So here we can see that the variables which have numeric values are Age, Income and Children, rest are all categorical variables. It can also be seen that there are no missing values for any of the variables."
   ]
  },
  {
   "cell_type": "code",
   "execution_count": 91,
   "metadata": {
    "collapsed": false
   },
   "outputs": [
    {
     "data": {
      "text/plain": [
       "Index(['id', 'age', 'income', 'children', 'gender', 'region', 'married', 'car',\n",
       "       'savings_acct', 'current_acct', 'mortgage', 'pep'],\n",
       "      dtype='object')"
      ]
     },
     "execution_count": 91,
     "metadata": {},
     "output_type": "execute_result"
    }
   ],
   "source": [
    "#Get columns and values\n",
    "bank_df.columns\n"
   ]
  },
  {
   "cell_type": "code",
   "execution_count": 92,
   "metadata": {
    "collapsed": false
   },
   "outputs": [
    {
     "data": {
      "text/plain": [
       "array([['ID12101', 48, 17546.0, ..., 'NO', 'NO', 'YES'],\n",
       "       ['ID12102', 40, 30085.1, ..., 'YES', 'YES', 'NO'],\n",
       "       ['ID12103', 51, 16575.4, ..., 'YES', 'NO', 'NO'],\n",
       "       ..., \n",
       "       ['ID12698', 31, 15976.3, ..., 'NO', 'NO', 'YES'],\n",
       "       ['ID12699', 29, 14711.8, ..., 'NO', 'YES', 'NO'],\n",
       "       ['ID12700', 38, 26671.6, ..., 'YES', 'YES', 'YES']], dtype=object)"
      ]
     },
     "execution_count": 92,
     "metadata": {},
     "output_type": "execute_result"
    }
   ],
   "source": [
    "bank_df.values"
   ]
  },
  {
   "cell_type": "code",
   "execution_count": 93,
   "metadata": {
    "collapsed": false
   },
   "outputs": [
    {
     "data": {
      "text/plain": [
       "id               object\n",
       "age               int64\n",
       "income          float64\n",
       "children          int64\n",
       "gender           object\n",
       "region           object\n",
       "married          object\n",
       "car              object\n",
       "savings_acct     object\n",
       "current_acct     object\n",
       "mortgage         object\n",
       "pep              object\n",
       "dtype: object"
      ]
     },
     "execution_count": 93,
     "metadata": {},
     "output_type": "execute_result"
    }
   ],
   "source": [
    "## Get column dtypes\n",
    "bank_df.dtypes"
   ]
  },
  {
   "cell_type": "code",
   "execution_count": 94,
   "metadata": {
    "collapsed": false
   },
   "outputs": [
    {
     "data": {
      "text/plain": [
       "age            42.395000\n",
       "income      27524.031217\n",
       "children        1.011667\n",
       "dtype: float64"
      ]
     },
     "execution_count": 94,
     "metadata": {},
     "output_type": "execute_result"
    }
   ],
   "source": [
    "#Mean age,income and children\n",
    "bank_avg = bank_df[[\"age\",\"income\",\"children\"]].mean()\n",
    "bank_avg"
   ]
  },
  {
   "cell_type": "code",
   "execution_count": 95,
   "metadata": {
    "collapsed": false
   },
   "outputs": [
    {
     "data": {
      "text/plain": [
       "age            14.424947\n",
       "income      12899.468246\n",
       "children        1.056752\n",
       "dtype: float64"
      ]
     },
     "execution_count": 95,
     "metadata": {},
     "output_type": "execute_result"
    }
   ],
   "source": [
    "#Std - Deviations for the age, income and children attributes\n",
    "bank_std = bank_df[[\"age\",\"income\",\"children\"]].std()\n",
    "bank_std"
   ]
  },
  {
   "cell_type": "code",
   "execution_count": 96,
   "metadata": {
    "collapsed": false
   },
   "outputs": [
    {
     "data": {
      "text/html": [
       "<div>\n",
       "<table border=\"1\" class=\"dataframe\">\n",
       "  <thead>\n",
       "    <tr style=\"text-align: right;\">\n",
       "      <th></th>\n",
       "      <th>age</th>\n",
       "      <th>income</th>\n",
       "      <th>children</th>\n",
       "    </tr>\n",
       "  </thead>\n",
       "  <tbody>\n",
       "    <tr>\n",
       "      <th>count</th>\n",
       "      <td>600.000000</td>\n",
       "      <td>600.000000</td>\n",
       "      <td>600.000000</td>\n",
       "    </tr>\n",
       "    <tr>\n",
       "      <th>mean</th>\n",
       "      <td>42.395000</td>\n",
       "      <td>27524.031217</td>\n",
       "      <td>1.011667</td>\n",
       "    </tr>\n",
       "    <tr>\n",
       "      <th>std</th>\n",
       "      <td>14.424947</td>\n",
       "      <td>12899.468246</td>\n",
       "      <td>1.056752</td>\n",
       "    </tr>\n",
       "    <tr>\n",
       "      <th>min</th>\n",
       "      <td>18.000000</td>\n",
       "      <td>5014.210000</td>\n",
       "      <td>0.000000</td>\n",
       "    </tr>\n",
       "    <tr>\n",
       "      <th>25%</th>\n",
       "      <td>30.000000</td>\n",
       "      <td>17264.500000</td>\n",
       "      <td>0.000000</td>\n",
       "    </tr>\n",
       "    <tr>\n",
       "      <th>50%</th>\n",
       "      <td>42.000000</td>\n",
       "      <td>24925.300000</td>\n",
       "      <td>1.000000</td>\n",
       "    </tr>\n",
       "    <tr>\n",
       "      <th>75%</th>\n",
       "      <td>55.250000</td>\n",
       "      <td>36172.675000</td>\n",
       "      <td>2.000000</td>\n",
       "    </tr>\n",
       "    <tr>\n",
       "      <th>max</th>\n",
       "      <td>67.000000</td>\n",
       "      <td>63130.100000</td>\n",
       "      <td>3.000000</td>\n",
       "    </tr>\n",
       "  </tbody>\n",
       "</table>\n",
       "</div>"
      ],
      "text/plain": [
       "              age        income    children\n",
       "count  600.000000    600.000000  600.000000\n",
       "mean    42.395000  27524.031217    1.011667\n",
       "std     14.424947  12899.468246    1.056752\n",
       "min     18.000000   5014.210000    0.000000\n",
       "25%     30.000000  17264.500000    0.000000\n",
       "50%     42.000000  24925.300000    1.000000\n",
       "75%     55.250000  36172.675000    2.000000\n",
       "max     67.000000  63130.100000    3.000000"
      ]
     },
     "execution_count": 96,
     "metadata": {},
     "output_type": "execute_result"
    }
   ],
   "source": [
    "#Descriptive statistics for the three numerical variables\n",
    "bank_df[[\"age\",\"income\",\"children\"]].describe()"
   ]
  },
  {
   "cell_type": "code",
   "execution_count": 97,
   "metadata": {
    "collapsed": false
   },
   "outputs": [
    {
     "data": {
      "text/html": [
       "<div>\n",
       "<table border=\"1\" class=\"dataframe\">\n",
       "  <thead>\n",
       "    <tr style=\"text-align: right;\">\n",
       "      <th></th>\n",
       "      <th>age</th>\n",
       "      <th>income</th>\n",
       "      <th>children</th>\n",
       "    </tr>\n",
       "  </thead>\n",
       "  <tbody>\n",
       "    <tr>\n",
       "      <th>age</th>\n",
       "      <td>1.000000</td>\n",
       "      <td>0.752726</td>\n",
       "      <td>0.023572</td>\n",
       "    </tr>\n",
       "    <tr>\n",
       "      <th>income</th>\n",
       "      <td>0.752726</td>\n",
       "      <td>1.000000</td>\n",
       "      <td>0.036761</td>\n",
       "    </tr>\n",
       "    <tr>\n",
       "      <th>children</th>\n",
       "      <td>0.023572</td>\n",
       "      <td>0.036761</td>\n",
       "      <td>1.000000</td>\n",
       "    </tr>\n",
       "  </tbody>\n",
       "</table>\n",
       "</div>"
      ],
      "text/plain": [
       "               age    income  children\n",
       "age       1.000000  0.752726  0.023572\n",
       "income    0.752726  1.000000  0.036761\n",
       "children  0.023572  0.036761  1.000000"
      ]
     },
     "execution_count": 97,
     "metadata": {},
     "output_type": "execute_result"
    }
   ],
   "source": [
    "#Correlation table\n",
    "bank_df.corr()"
   ]
  },
  {
   "cell_type": "code",
   "execution_count": 98,
   "metadata": {
    "collapsed": false
   },
   "outputs": [
    {
     "data": {
      "text/plain": [
       "<matplotlib.axes._subplots.AxesSubplot at 0x11a0a2b70>"
      ]
     },
     "execution_count": 98,
     "metadata": {},
     "output_type": "execute_result"
    },
    {
     "data": {
      "image/png": "[encoded data removed]",
      "text/plain": [
       "<matplotlib.figure.Figure at 0x11a0c34a8>"
      ]
     },
     "metadata": {},
     "output_type": "display_data"
    }
   ],
   "source": [
    "bank_df[\"income\"].plot(kind='hist',bins=7, title=\"Histogram of Income distribution\")\n",
    "##So we can see that most of the bank customers have income less than 30,000 and results in a right skewed histogram."
   ]
  },
  {
   "cell_type": "code",
   "execution_count": 99,
   "metadata": {
    "collapsed": false
   },
   "outputs": [
    {
     "data": {
      "text/plain": [
       "<matplotlib.axes._subplots.AxesSubplot at 0x11a304588>"
      ]
     },
     "execution_count": 99,
     "metadata": {},
     "output_type": "execute_result"
    },
    {
     "data": {
      "image/png": "[encoded data removed]",
      "text/plain": [
       "<matplotlib.figure.Figure at 0x11a30c3c8>"
      ]
     },
     "metadata": {},
     "output_type": "display_data"
    }
   ],
   "source": [
    "bank_df[\"age\"].plot.hist(alpha=0.5, bins=6)"
   ]
  },
  {
   "cell_type": "code",
   "execution_count": 100,
   "metadata": {
    "collapsed": false
   },
   "outputs": [
    {
     "data": {
      "text/plain": [
       "<matplotlib.axes._subplots.AxesSubplot at 0x11a332a90>"
      ]
     },
     "execution_count": 100,
     "metadata": {},
     "output_type": "execute_result"
    },
    {
     "data": {
      "image/png": "[encoded data removed]",
      "text/plain": [
       "<matplotlib.figure.Figure at 0x11a37e470>"
      ]
     },
     "metadata": {},
     "output_type": "display_data"
    }
   ],
   "source": [
    "bank_df.plot(x='income', y='age', kind='scatter')\n",
    "\n",
    "#From the scatterplot we can see the positive correlation, which was evident from the correlation table as well."
   ]
  },
  {
   "cell_type": "code",
   "execution_count": 101,
   "metadata": {
    "collapsed": false
   },
   "outputs": [
    {
     "data": {
      "text/html": [
       "<div>\n",
       "<table border=\"1\" class=\"dataframe\">\n",
       "  <thead>\n",
       "    <tr style=\"text-align: right;\">\n",
       "      <th></th>\n",
       "      <th>age</th>\n",
       "      <th>income</th>\n",
       "      <th>children</th>\n",
       "    </tr>\n",
       "    <tr>\n",
       "      <th>gender</th>\n",
       "      <th></th>\n",
       "      <th></th>\n",
       "      <th></th>\n",
       "    </tr>\n",
       "  </thead>\n",
       "  <tbody>\n",
       "    <tr>\n",
       "      <th>FEMALE</th>\n",
       "      <td>43.693333</td>\n",
       "      <td>27831.368233</td>\n",
       "      <td>1.026667</td>\n",
       "    </tr>\n",
       "    <tr>\n",
       "      <th>MALE</th>\n",
       "      <td>41.096667</td>\n",
       "      <td>27216.694200</td>\n",
       "      <td>0.996667</td>\n",
       "    </tr>\n",
       "  </tbody>\n",
       "</table>\n",
       "</div>"
      ],
      "text/plain": [
       "              age        income  children\n",
       "gender                                   \n",
       "FEMALE  43.693333  27831.368233  1.026667\n",
       "MALE    41.096667  27216.694200  0.996667"
      ]
     },
     "execution_count": 101,
     "metadata": {},
     "output_type": "execute_result"
    }
   ],
   "source": [
    "bank_df.groupby([\"gender\"]).mean()"
   ]
  },
  {
   "cell_type": "markdown",
   "metadata": {},
   "source": [
    "From the above table, we can see that the mean income of females is slightly higher than the mean income of males in this dataset. Also there is a difference of 2 years in the mean age of male and female and mean age of females is higher and so looking at the correlation between Age and Income, it supports the observation that income of females is higher than males."
   ]
  },
  {
   "cell_type": "code",
   "execution_count": 102,
   "metadata": {
    "collapsed": false
   },
   "outputs": [
    {
     "name": "stdout",
     "output_type": "stream",
     "text": [
      "                  age        income  children\n",
      "region                                       \n",
      "INNER_CITY  41.992565  26843.999963  0.951673\n",
      "RURAL       43.010417  30027.605417  1.229167\n",
      "SUBURBAN    43.725806  28656.356935  0.967742\n",
      "TOWN        42.202312  26786.349653  1.000000\n",
      "\n",
      "\n",
      "               age        income  children\n",
      "married                                   \n",
      "NO       42.186275  27674.627108  1.083333\n",
      "YES      42.502525  27446.451515  0.974747\n",
      "\n",
      "\n",
      "           age        income  children\n",
      "car                                   \n",
      "NO   41.289474  26486.807336  0.973684\n",
      "YES  43.530405  28589.288176  1.050676\n",
      "\n",
      "\n",
      "                    age        income  children\n",
      "savings_acct                                   \n",
      "NO            38.430108  22405.999194  0.946237\n",
      "YES           44.176329  29823.436908  1.041063\n",
      "\n",
      "\n",
      "                    age        income  children\n",
      "current_acct                                   \n",
      "NO            43.296552  26802.195655  1.000000\n",
      "YES           42.107692  27754.066725  1.015385\n",
      "\n",
      "\n",
      "                age        income  children\n",
      "mortgage                                   \n",
      "NO        42.565217  27662.194680  1.069054\n",
      "YES       42.076555  27265.553158  0.904306\n",
      "\n",
      "\n",
      "           age        income  children\n",
      "pep                                   \n",
      "NO   40.098160  24900.953374  1.067485\n",
      "YES  45.127737  30644.919453  0.945255\n",
      "\n",
      "\n"
     ]
    }
   ],
   "source": [
    "print(bank_df.groupby([\"region\"]).mean())\n",
    "print(\"\\n\")\n",
    "print(bank_df.groupby([\"married\"]).mean())\n",
    "print(\"\\n\")\n",
    "print(bank_df.groupby([\"car\"]).mean())\n",
    "print(\"\\n\")\n",
    "print(bank_df.groupby([\"savings_acct\"]).mean())\n",
    "print(\"\\n\")\n",
    "print(bank_df.groupby([\"current_acct\"]).mean())\n",
    "print(\"\\n\")\n",
    "print(bank_df.groupby([\"mortgage\"]).mean())\n",
    "print(\"\\n\")\n",
    "print(bank_df.groupby([\"pep\"]).mean())\n",
    "print(\"\\n\")"
   ]
  },
  {
   "cell_type": "markdown",
   "metadata": {},
   "source": [
    "Inference from the tables:\n",
    "REGION: We can see that customers from Inner City have least mean age and those from Suburban have the highest mean age, from which we can conclude the notion that younger people tend to live in Inner city where as older people are more in Suburban and Rural areas in this dataset. Also the mean income of the poeple living in Rural and Suburban regions is more as compared to mean income of customers from Inner city and Town.\n",
    "\n",
    "CAR: We can see from the table that customers with car have higher mean age and income compared to those without cars.\n",
    "\n",
    "SAVINGS account: We can see that people with more income are the ones who have savings account.\n",
    "CURRENT account: We can see that age and income are almost same for the people with and without current accounts.\n",
    "\n",
    "MORTGAGE: We can see that age and income are almost same for the people with and without mortgage.\n",
    "PEP: We can see that customers who have purchased or enrolled into PEP are the ones with higher income and age as compared to those who does not have PEP."
   ]
  },
  {
   "cell_type": "code",
   "execution_count": 103,
   "metadata": {
    "collapsed": false
   },
   "outputs": [
    {
     "data": {
      "text/plain": [
       "<matplotlib.axes._subplots.AxesSubplot at 0x11a468ba8>"
      ]
     },
     "execution_count": 103,
     "metadata": {},
     "output_type": "execute_result"
    },
    {
     "data": {
      "image/png": "[encoded data removed]",
      "text/plain": [
       "<matplotlib.figure.Figure at 0x11a46dac8>"
      ]
     },
     "metadata": {},
     "output_type": "display_data"
    }
   ],
   "source": [
    "#Plotting distributions of categorical variables\n",
    "bank_df[\"gender\"].value_counts().plot.bar(grid= True, title=\"Gender\")\n",
    "\n",
    "#So we can see that there are equal number of Male and Female customers in this dataset"
   ]
  },
  {
   "cell_type": "code",
   "execution_count": 104,
   "metadata": {
    "collapsed": false
   },
   "outputs": [
    {
     "data": {
      "text/plain": [
       "<matplotlib.axes._subplots.AxesSubplot at 0x11a6974a8>"
      ]
     },
     "execution_count": 104,
     "metadata": {},
     "output_type": "execute_result"
    },
    {
     "data": {
      "image/png": "[encoded data removed]",
      "text/plain": [
       "<matplotlib.figure.Figure at 0x11a6a3470>"
      ]
     },
     "metadata": {},
     "output_type": "display_data"
    }
   ],
   "source": [
    "#Index(['id', 'age', 'income', 'children', 'gender', 'region', 'married', 'car',\n",
    " #      'savings_acct', 'current_acct', 'mortgage', 'pep']\n",
    "\n",
    "bank_df[\"region\"].value_counts().plot.bar(grid= True, title=\"Region\")\n",
    "#So the bank customers are moslty from Inner_City and least number of customers are from Suburban region"
   ]
  },
  {
   "cell_type": "code",
   "execution_count": 105,
   "metadata": {
    "collapsed": false
   },
   "outputs": [
    {
     "data": {
      "text/plain": [
       "<matplotlib.axes._subplots.AxesSubplot at 0x11a6c2080>"
      ]
     },
     "execution_count": 105,
     "metadata": {},
     "output_type": "execute_result"
    },
    {
     "data": {
      "image/png": "[encoded data removed]",
      "text/plain": [
       "<matplotlib.figure.Figure at 0x11a8f6630>"
      ]
     },
     "metadata": {},
     "output_type": "display_data"
    }
   ],
   "source": [
    "bank_df[\"car\"].value_counts().plot.bar(grid= True, title=\"Car\")\n",
    "\n",
    "#More than half of the population in this bank data do not own a car"
   ]
  },
  {
   "cell_type": "code",
   "execution_count": 106,
   "metadata": {
    "collapsed": false
   },
   "outputs": [
    {
     "data": {
      "text/plain": [
       "<matplotlib.axes._subplots.AxesSubplot at 0x11a963080>"
      ]
     },
     "execution_count": 106,
     "metadata": {},
     "output_type": "execute_result"
    },
    {
     "data": {
      "image/png": "[encoded data removed]",
      "text/plain": [
       "<matplotlib.figure.Figure at 0x11a93b198>"
      ]
     },
     "metadata": {},
     "output_type": "display_data"
    }
   ],
   "source": [
    "bank_df[\"savings_acct\"].value_counts().plot.bar(grid= True, title=\"Savings Acct\")\n",
    "#Most of the people have a savings account"
   ]
  },
  {
   "cell_type": "code",
   "execution_count": 107,
   "metadata": {
    "collapsed": false
   },
   "outputs": [
    {
     "data": {
      "text/plain": [
       "<matplotlib.axes._subplots.AxesSubplot at 0x11a9cfb38>"
      ]
     },
     "execution_count": 107,
     "metadata": {},
     "output_type": "execute_result"
    },
    {
     "data": {
      "image/png": "[encoded data removed]",
      "text/plain": [
       "<matplotlib.figure.Figure at 0x11aca4a58>"
      ]
     },
     "metadata": {},
     "output_type": "display_data"
    }
   ],
   "source": [
    "bank_df[\"current_acct\"].value_counts().plot.bar(grid= True, title=\"Current Acct\")\n",
    "#Majority of the people have a current account"
   ]
  },
  {
   "cell_type": "code",
   "execution_count": 108,
   "metadata": {
    "collapsed": false
   },
   "outputs": [
    {
     "data": {
      "text/plain": [
       "<matplotlib.axes._subplots.AxesSubplot at 0x11a06c828>"
      ]
     },
     "execution_count": 108,
     "metadata": {},
     "output_type": "execute_result"
    },
    {
     "data": {
      "image/png": "[encoded data removed]",
      "text/plain": [
       "<matplotlib.figure.Figure at 0x11adb0860>"
      ]
     },
     "metadata": {},
     "output_type": "display_data"
    }
   ],
   "source": [
    "bank_df[\"pep\"].value_counts().plot.bar(grid= True, title=\"pep\")\n",
    "#Aroud 275 customers have enrolled into the Personal Equity Plan"
   ]
  },
  {
   "cell_type": "code",
   "execution_count": 109,
   "metadata": {
    "collapsed": false
   },
   "outputs": [
    {
     "data": {
      "text/plain": [
       "<matplotlib.axes._subplots.AxesSubplot at 0x11aed95c0>"
      ]
     },
     "execution_count": 109,
     "metadata": {},
     "output_type": "execute_result"
    },
    {
     "data": {
      "image/png": "[encoded data removed]",
      "text/plain": [
       "<matplotlib.figure.Figure at 0x11aeeaf98>"
      ]
     },
     "metadata": {},
     "output_type": "display_data"
    }
   ],
   "source": [
    "bank_df[\"mortgage\"].value_counts().plot.bar(grid= True, title=\"mortgage\")\n",
    "#approximately 66% (almost 400 out of 600) of the customers in this data set does not have a mortgage"
   ]
  },
  {
   "cell_type": "markdown",
   "metadata": {},
   "source": [
    "# 2. Suppose that because of the bank is particularly interested in customers who buy the PEP (Personal Equity Plan) product. Compare and contrast the subsets of customers who buy and don't buy the PEP. Compute summaries (as in part 1) of the selected data with respect to all other attributes. Can you observe any significant differences between these segments of customers? Discuss your observations."
   ]
  },
  {
   "cell_type": "code",
   "execution_count": 110,
   "metadata": {
    "collapsed": false
   },
   "outputs": [
    {
     "data": {
      "text/html": [
       "<div>\n",
       "<table border=\"1\" class=\"dataframe\">\n",
       "  <thead>\n",
       "    <tr style=\"text-align: right;\">\n",
       "      <th></th>\n",
       "      <th>age</th>\n",
       "      <th>income</th>\n",
       "      <th>children</th>\n",
       "    </tr>\n",
       "    <tr>\n",
       "      <th>pep</th>\n",
       "      <th></th>\n",
       "      <th></th>\n",
       "      <th></th>\n",
       "    </tr>\n",
       "  </thead>\n",
       "  <tbody>\n",
       "    <tr>\n",
       "      <th>NO</th>\n",
       "      <td>40.098160</td>\n",
       "      <td>24900.953374</td>\n",
       "      <td>1.067485</td>\n",
       "    </tr>\n",
       "    <tr>\n",
       "      <th>YES</th>\n",
       "      <td>45.127737</td>\n",
       "      <td>30644.919453</td>\n",
       "      <td>0.945255</td>\n",
       "    </tr>\n",
       "  </tbody>\n",
       "</table>\n",
       "</div>"
      ],
      "text/plain": [
       "           age        income  children\n",
       "pep                                   \n",
       "NO   40.098160  24900.953374  1.067485\n",
       "YES  45.127737  30644.919453  0.945255"
      ]
     },
     "execution_count": 110,
     "metadata": {},
     "output_type": "execute_result"
    }
   ],
   "source": [
    "bank_df.groupby(\"pep\").mean()"
   ]
  },
  {
   "cell_type": "code",
   "execution_count": 111,
   "metadata": {
    "collapsed": false
   },
   "outputs": [
    {
     "data": {
      "text/html": [
       "<div>\n",
       "<table border=\"1\" class=\"dataframe\">\n",
       "  <thead>\n",
       "    <tr style=\"text-align: right;\">\n",
       "      <th></th>\n",
       "      <th></th>\n",
       "      <th>age</th>\n",
       "      <th>children</th>\n",
       "      <th>income</th>\n",
       "    </tr>\n",
       "    <tr>\n",
       "      <th>pep</th>\n",
       "      <th></th>\n",
       "      <th></th>\n",
       "      <th></th>\n",
       "      <th></th>\n",
       "    </tr>\n",
       "  </thead>\n",
       "  <tbody>\n",
       "    <tr>\n",
       "      <th rowspan=\"8\" valign=\"top\">NO</th>\n",
       "      <th>count</th>\n",
       "      <td>326.000000</td>\n",
       "      <td>326.000000</td>\n",
       "      <td>326.000000</td>\n",
       "    </tr>\n",
       "    <tr>\n",
       "      <th>mean</th>\n",
       "      <td>40.098160</td>\n",
       "      <td>1.067485</td>\n",
       "      <td>24900.953374</td>\n",
       "    </tr>\n",
       "    <tr>\n",
       "      <th>std</th>\n",
       "      <td>14.123506</td>\n",
       "      <td>1.195524</td>\n",
       "      <td>11661.123422</td>\n",
       "    </tr>\n",
       "    <tr>\n",
       "      <th>min</th>\n",
       "      <td>18.000000</td>\n",
       "      <td>0.000000</td>\n",
       "      <td>5014.210000</td>\n",
       "    </tr>\n",
       "    <tr>\n",
       "      <th>25%</th>\n",
       "      <td>27.000000</td>\n",
       "      <td>0.000000</td>\n",
       "      <td>15366.475000</td>\n",
       "    </tr>\n",
       "    <tr>\n",
       "      <th>50%</th>\n",
       "      <td>40.000000</td>\n",
       "      <td>0.000000</td>\n",
       "      <td>23105.000000</td>\n",
       "    </tr>\n",
       "    <tr>\n",
       "      <th>75%</th>\n",
       "      <td>51.000000</td>\n",
       "      <td>2.000000</td>\n",
       "      <td>31210.900000</td>\n",
       "    </tr>\n",
       "    <tr>\n",
       "      <th>max</th>\n",
       "      <td>67.000000</td>\n",
       "      <td>3.000000</td>\n",
       "      <td>61554.600000</td>\n",
       "    </tr>\n",
       "    <tr>\n",
       "      <th rowspan=\"8\" valign=\"top\">YES</th>\n",
       "      <th>count</th>\n",
       "      <td>274.000000</td>\n",
       "      <td>274.000000</td>\n",
       "      <td>274.000000</td>\n",
       "    </tr>\n",
       "    <tr>\n",
       "      <th>mean</th>\n",
       "      <td>45.127737</td>\n",
       "      <td>0.945255</td>\n",
       "      <td>30644.919453</td>\n",
       "    </tr>\n",
       "    <tr>\n",
       "      <th>std</th>\n",
       "      <td>14.327991</td>\n",
       "      <td>0.860571</td>\n",
       "      <td>13609.613043</td>\n",
       "    </tr>\n",
       "    <tr>\n",
       "      <th>min</th>\n",
       "      <td>18.000000</td>\n",
       "      <td>0.000000</td>\n",
       "      <td>7756.360000</td>\n",
       "    </tr>\n",
       "    <tr>\n",
       "      <th>25%</th>\n",
       "      <td>34.000000</td>\n",
       "      <td>0.000000</td>\n",
       "      <td>19639.475000</td>\n",
       "    </tr>\n",
       "    <tr>\n",
       "      <th>50%</th>\n",
       "      <td>45.000000</td>\n",
       "      <td>1.000000</td>\n",
       "      <td>28080.050000</td>\n",
       "    </tr>\n",
       "    <tr>\n",
       "      <th>75%</th>\n",
       "      <td>58.000000</td>\n",
       "      <td>1.000000</td>\n",
       "      <td>38458.350000</td>\n",
       "    </tr>\n",
       "    <tr>\n",
       "      <th>max</th>\n",
       "      <td>67.000000</td>\n",
       "      <td>3.000000</td>\n",
       "      <td>63130.100000</td>\n",
       "    </tr>\n",
       "  </tbody>\n",
       "</table>\n",
       "</div>"
      ],
      "text/plain": [
       "                  age    children        income\n",
       "pep                                            \n",
       "NO  count  326.000000  326.000000    326.000000\n",
       "    mean    40.098160    1.067485  24900.953374\n",
       "    std     14.123506    1.195524  11661.123422\n",
       "    min     18.000000    0.000000   5014.210000\n",
       "    25%     27.000000    0.000000  15366.475000\n",
       "    50%     40.000000    0.000000  23105.000000\n",
       "    75%     51.000000    2.000000  31210.900000\n",
       "    max     67.000000    3.000000  61554.600000\n",
       "YES count  274.000000  274.000000    274.000000\n",
       "    mean    45.127737    0.945255  30644.919453\n",
       "    std     14.327991    0.860571  13609.613043\n",
       "    min     18.000000    0.000000   7756.360000\n",
       "    25%     34.000000    0.000000  19639.475000\n",
       "    50%     45.000000    1.000000  28080.050000\n",
       "    75%     58.000000    1.000000  38458.350000\n",
       "    max     67.000000    3.000000  63130.100000"
      ]
     },
     "execution_count": 111,
     "metadata": {},
     "output_type": "execute_result"
    }
   ],
   "source": [
    "bank_df.groupby(\"pep\").describe()"
   ]
  },
  {
   "cell_type": "markdown",
   "metadata": {},
   "source": [
    "So here we can see that the customers who usually buy PEP, have higher mean age and so we can say that older people are usually the one who are buying PEP.\n",
    "Also those with more mean income are the one who are buying Personal Equity Plans."
   ]
  },
  {
   "cell_type": "code",
   "execution_count": 112,
   "metadata": {
    "collapsed": false
   },
   "outputs": [
    {
     "data": {
      "text/plain": [
       "pep  gender\n",
       "NO   FEMALE    170\n",
       "     MALE      156\n",
       "YES  FEMALE    130\n",
       "     MALE      144\n",
       "Name: gender, dtype: int64"
      ]
     },
     "execution_count": 112,
     "metadata": {},
     "output_type": "execute_result"
    }
   ],
   "source": [
    "bank_df.groupby([\"pep\",\"gender\"])[\"gender\"].count()"
   ]
  },
  {
   "cell_type": "code",
   "execution_count": 113,
   "metadata": {
    "collapsed": false
   },
   "outputs": [
    {
     "data": {
      "text/html": [
       "<div>\n",
       "<table border=\"1\" class=\"dataframe\">\n",
       "  <thead>\n",
       "    <tr style=\"text-align: right;\">\n",
       "      <th>gender</th>\n",
       "      <th>FEMALE</th>\n",
       "      <th>MALE</th>\n",
       "    </tr>\n",
       "    <tr>\n",
       "      <th>pep</th>\n",
       "      <th></th>\n",
       "      <th></th>\n",
       "    </tr>\n",
       "  </thead>\n",
       "  <tbody>\n",
       "    <tr>\n",
       "      <th>NO</th>\n",
       "      <td>170</td>\n",
       "      <td>156</td>\n",
       "    </tr>\n",
       "    <tr>\n",
       "      <th>YES</th>\n",
       "      <td>130</td>\n",
       "      <td>144</td>\n",
       "    </tr>\n",
       "  </tbody>\n",
       "</table>\n",
       "</div>"
      ],
      "text/plain": [
       "gender  FEMALE  MALE\n",
       "pep                 \n",
       "NO         170   156\n",
       "YES        130   144"
      ]
     },
     "execution_count": 113,
     "metadata": {},
     "output_type": "execute_result"
    }
   ],
   "source": [
    "tab1 = pd.crosstab(bank_df[\"pep\"],bank_df[\"gender\"])\n",
    "tab1"
   ]
  },
  {
   "cell_type": "code",
   "execution_count": 114,
   "metadata": {
    "collapsed": false
   },
   "outputs": [
    {
     "data": {
      "text/plain": [
       "<matplotlib.axes._subplots.AxesSubplot at 0x11af05a58>"
      ]
     },
     "execution_count": 114,
     "metadata": {},
     "output_type": "execute_result"
    },
    {
     "data": {
      "image/png": "[encoded data removed]",
      "text/plain": [
       "<matplotlib.figure.Figure at 0x11af0a160>"
      ]
     },
     "metadata": {},
     "output_type": "display_data"
    }
   ],
   "source": [
    "tab1.plot.bar(title=\"Gender\")"
   ]
  },
  {
   "cell_type": "code",
   "execution_count": 115,
   "metadata": {
    "collapsed": false
   },
   "outputs": [
    {
     "data": {
      "text/plain": [
       "pep  region    \n",
       "NO   INNER_CITY    146\n",
       "     RURAL          50\n",
       "     SUBURBAN       28\n",
       "     TOWN          102\n",
       "YES  INNER_CITY    123\n",
       "     RURAL          46\n",
       "     SUBURBAN       34\n",
       "     TOWN           71\n",
       "Name: region, dtype: int64"
      ]
     },
     "execution_count": 115,
     "metadata": {},
     "output_type": "execute_result"
    }
   ],
   "source": [
    "bank_df.groupby([\"pep\",\"region\"])[\"region\"].count()"
   ]
  },
  {
   "cell_type": "code",
   "execution_count": 116,
   "metadata": {
    "collapsed": false
   },
   "outputs": [
    {
     "data": {
      "text/html": [
       "<div>\n",
       "<table border=\"1\" class=\"dataframe\">\n",
       "  <thead>\n",
       "    <tr style=\"text-align: right;\">\n",
       "      <th>region</th>\n",
       "      <th>INNER_CITY</th>\n",
       "      <th>RURAL</th>\n",
       "      <th>SUBURBAN</th>\n",
       "      <th>TOWN</th>\n",
       "    </tr>\n",
       "    <tr>\n",
       "      <th>pep</th>\n",
       "      <th></th>\n",
       "      <th></th>\n",
       "      <th></th>\n",
       "      <th></th>\n",
       "    </tr>\n",
       "  </thead>\n",
       "  <tbody>\n",
       "    <tr>\n",
       "      <th>NO</th>\n",
       "      <td>146</td>\n",
       "      <td>50</td>\n",
       "      <td>28</td>\n",
       "      <td>102</td>\n",
       "    </tr>\n",
       "    <tr>\n",
       "      <th>YES</th>\n",
       "      <td>123</td>\n",
       "      <td>46</td>\n",
       "      <td>34</td>\n",
       "      <td>71</td>\n",
       "    </tr>\n",
       "  </tbody>\n",
       "</table>\n",
       "</div>"
      ],
      "text/plain": [
       "region  INNER_CITY  RURAL  SUBURBAN  TOWN\n",
       "pep                                      \n",
       "NO             146     50        28   102\n",
       "YES            123     46        34    71"
      ]
     },
     "execution_count": 116,
     "metadata": {},
     "output_type": "execute_result"
    }
   ],
   "source": [
    "tab2 = pd.crosstab(bank_df[\"pep\"],bank_df[\"region\"])\n",
    "tab2"
   ]
  },
  {
   "cell_type": "code",
   "execution_count": 117,
   "metadata": {
    "collapsed": false
   },
   "outputs": [
    {
     "data": {
      "text/plain": [
       "<matplotlib.axes._subplots.AxesSubplot at 0x11b0422e8>"
      ]
     },
     "execution_count": 117,
     "metadata": {},
     "output_type": "execute_result"
    },
    {
     "data": {
      "image/png": "[encoded data removed]",
      "text/plain": [
       "<matplotlib.figure.Figure at 0x11b152b00>"
      ]
     },
     "metadata": {},
     "output_type": "display_data"
    }
   ],
   "source": [
    "tab2.plot.bar(title=\"Region\")"
   ]
  },
  {
   "cell_type": "code",
   "execution_count": 118,
   "metadata": {
    "collapsed": false
   },
   "outputs": [
    {
     "data": {
      "text/plain": [
       "pep  married\n",
       "NO   NO          84\n",
       "     YES        242\n",
       "YES  NO         120\n",
       "     YES        154\n",
       "Name: married, dtype: int64"
      ]
     },
     "execution_count": 118,
     "metadata": {},
     "output_type": "execute_result"
    }
   ],
   "source": [
    "bank_df.groupby([\"pep\",\"married\"])[\"married\"].count()"
   ]
  },
  {
   "cell_type": "code",
   "execution_count": 119,
   "metadata": {
    "collapsed": false
   },
   "outputs": [
    {
     "data": {
      "text/html": [
       "<div>\n",
       "<table border=\"1\" class=\"dataframe\">\n",
       "  <thead>\n",
       "    <tr style=\"text-align: right;\">\n",
       "      <th>married</th>\n",
       "      <th>NO</th>\n",
       "      <th>YES</th>\n",
       "    </tr>\n",
       "    <tr>\n",
       "      <th>pep</th>\n",
       "      <th></th>\n",
       "      <th></th>\n",
       "    </tr>\n",
       "  </thead>\n",
       "  <tbody>\n",
       "    <tr>\n",
       "      <th>NO</th>\n",
       "      <td>84</td>\n",
       "      <td>242</td>\n",
       "    </tr>\n",
       "    <tr>\n",
       "      <th>YES</th>\n",
       "      <td>120</td>\n",
       "      <td>154</td>\n",
       "    </tr>\n",
       "  </tbody>\n",
       "</table>\n",
       "</div>"
      ],
      "text/plain": [
       "married   NO  YES\n",
       "pep              \n",
       "NO        84  242\n",
       "YES      120  154"
      ]
     },
     "execution_count": 119,
     "metadata": {},
     "output_type": "execute_result"
    }
   ],
   "source": [
    "tab2 = pd.crosstab(bank_df[\"pep\"], bank_df[\"married\"])\n",
    "tab2"
   ]
  },
  {
   "cell_type": "code",
   "execution_count": 120,
   "metadata": {
    "collapsed": false
   },
   "outputs": [
    {
     "data": {
      "text/plain": [
       "<matplotlib.axes._subplots.AxesSubplot at 0x11b181240>"
      ]
     },
     "execution_count": 120,
     "metadata": {},
     "output_type": "execute_result"
    },
    {
     "data": {
      "image/png": "[encoded data removed]",
      "text/plain": [
       "<matplotlib.figure.Figure at 0x11b3d6320>"
      ]
     },
     "metadata": {},
     "output_type": "display_data"
    }
   ],
   "source": [
    "tab2.plot.bar(title=\"Married\")"
   ]
  },
  {
   "cell_type": "code",
   "execution_count": 121,
   "metadata": {
    "collapsed": false
   },
   "outputs": [
    {
     "data": {
      "text/plain": [
       "pep  car\n",
       "NO   NO     168\n",
       "     YES    158\n",
       "YES  NO     136\n",
       "     YES    138\n",
       "Name: car, dtype: int64"
      ]
     },
     "execution_count": 121,
     "metadata": {},
     "output_type": "execute_result"
    }
   ],
   "source": [
    "bank_df.groupby([\"pep\",\"car\"])[\"car\"].count()"
   ]
  },
  {
   "cell_type": "code",
   "execution_count": 122,
   "metadata": {
    "collapsed": false
   },
   "outputs": [
    {
     "data": {
      "text/html": [
       "<div>\n",
       "<table border=\"1\" class=\"dataframe\">\n",
       "  <thead>\n",
       "    <tr style=\"text-align: right;\">\n",
       "      <th>car</th>\n",
       "      <th>NO</th>\n",
       "      <th>YES</th>\n",
       "    </tr>\n",
       "    <tr>\n",
       "      <th>pep</th>\n",
       "      <th></th>\n",
       "      <th></th>\n",
       "    </tr>\n",
       "  </thead>\n",
       "  <tbody>\n",
       "    <tr>\n",
       "      <th>NO</th>\n",
       "      <td>168</td>\n",
       "      <td>158</td>\n",
       "    </tr>\n",
       "    <tr>\n",
       "      <th>YES</th>\n",
       "      <td>136</td>\n",
       "      <td>138</td>\n",
       "    </tr>\n",
       "  </tbody>\n",
       "</table>\n",
       "</div>"
      ],
      "text/plain": [
       "car   NO  YES\n",
       "pep          \n",
       "NO   168  158\n",
       "YES  136  138"
      ]
     },
     "execution_count": 122,
     "metadata": {},
     "output_type": "execute_result"
    }
   ],
   "source": [
    "tab3 = pd.crosstab(bank_df[\"pep\"], bank_df[\"car\"])\n",
    "tab3"
   ]
  },
  {
   "cell_type": "code",
   "execution_count": 123,
   "metadata": {
    "collapsed": false
   },
   "outputs": [
    {
     "data": {
      "text/plain": [
       "<matplotlib.axes._subplots.AxesSubplot at 0x11b3f9d68>"
      ]
     },
     "execution_count": 123,
     "metadata": {},
     "output_type": "execute_result"
    },
    {
     "data": {
      "image/png": "[encoded data removed]",
      "text/plain": [
       "<matplotlib.figure.Figure at 0x11b513eb8>"
      ]
     },
     "metadata": {},
     "output_type": "display_data"
    }
   ],
   "source": [
    "tab3.plot.bar(title=\"Pep-Car\")"
   ]
  },
  {
   "cell_type": "code",
   "execution_count": 124,
   "metadata": {
    "collapsed": false
   },
   "outputs": [
    {
     "data": {
      "text/plain": [
       "pep  mortgage\n",
       "NO   NO          209\n",
       "     YES         117\n",
       "YES  NO          182\n",
       "     YES          92\n",
       "Name: mortgage, dtype: int64"
      ]
     },
     "execution_count": 124,
     "metadata": {},
     "output_type": "execute_result"
    }
   ],
   "source": [
    "bank_df.groupby([\"pep\",\"mortgage\"])[\"mortgage\"].count()"
   ]
  },
  {
   "cell_type": "code",
   "execution_count": 125,
   "metadata": {
    "collapsed": false
   },
   "outputs": [
    {
     "data": {
      "text/html": [
       "<div>\n",
       "<table border=\"1\" class=\"dataframe\">\n",
       "  <thead>\n",
       "    <tr style=\"text-align: right;\">\n",
       "      <th>mortgage</th>\n",
       "      <th>NO</th>\n",
       "      <th>YES</th>\n",
       "    </tr>\n",
       "    <tr>\n",
       "      <th>pep</th>\n",
       "      <th></th>\n",
       "      <th></th>\n",
       "    </tr>\n",
       "  </thead>\n",
       "  <tbody>\n",
       "    <tr>\n",
       "      <th>NO</th>\n",
       "      <td>209</td>\n",
       "      <td>117</td>\n",
       "    </tr>\n",
       "    <tr>\n",
       "      <th>YES</th>\n",
       "      <td>182</td>\n",
       "      <td>92</td>\n",
       "    </tr>\n",
       "  </tbody>\n",
       "</table>\n",
       "</div>"
      ],
      "text/plain": [
       "mortgage   NO  YES\n",
       "pep               \n",
       "NO        209  117\n",
       "YES       182   92"
      ]
     },
     "execution_count": 125,
     "metadata": {},
     "output_type": "execute_result"
    }
   ],
   "source": [
    "tab4 = pd.crosstab(bank_df[\"pep\"], bank_df[\"mortgage\"])\n",
    "tab4"
   ]
  },
  {
   "cell_type": "code",
   "execution_count": 126,
   "metadata": {
    "collapsed": false
   },
   "outputs": [
    {
     "data": {
      "text/plain": [
       "<matplotlib.axes._subplots.AxesSubplot at 0x11b536780>"
      ]
     },
     "execution_count": 126,
     "metadata": {},
     "output_type": "execute_result"
    },
    {
     "data": {
      "image/png": "[encoded data removed]",
      "text/plain": [
       "<matplotlib.figure.Figure at 0x11b651ba8>"
      ]
     },
     "metadata": {},
     "output_type": "display_data"
    }
   ],
   "source": [
    "tab4.plot.bar(title=\"mortgage-pep\")"
   ]
  },
  {
   "cell_type": "code",
   "execution_count": 127,
   "metadata": {
    "collapsed": false
   },
   "outputs": [
    {
     "data": {
      "text/plain": [
       "pep  savings_acct\n",
       "NO   NO               91\n",
       "     YES             235\n",
       "YES  NO               95\n",
       "     YES             179\n",
       "Name: savings_acct, dtype: int64"
      ]
     },
     "execution_count": 127,
     "metadata": {},
     "output_type": "execute_result"
    }
   ],
   "source": [
    "bank_df.groupby([\"pep\",\"savings_acct\"])[\"savings_acct\"].count()"
   ]
  },
  {
   "cell_type": "code",
   "execution_count": 128,
   "metadata": {
    "collapsed": false
   },
   "outputs": [
    {
     "data": {
      "text/html": [
       "<div>\n",
       "<table border=\"1\" class=\"dataframe\">\n",
       "  <thead>\n",
       "    <tr style=\"text-align: right;\">\n",
       "      <th>savings_acct</th>\n",
       "      <th>NO</th>\n",
       "      <th>YES</th>\n",
       "    </tr>\n",
       "    <tr>\n",
       "      <th>pep</th>\n",
       "      <th></th>\n",
       "      <th></th>\n",
       "    </tr>\n",
       "  </thead>\n",
       "  <tbody>\n",
       "    <tr>\n",
       "      <th>NO</th>\n",
       "      <td>91</td>\n",
       "      <td>235</td>\n",
       "    </tr>\n",
       "    <tr>\n",
       "      <th>YES</th>\n",
       "      <td>95</td>\n",
       "      <td>179</td>\n",
       "    </tr>\n",
       "  </tbody>\n",
       "</table>\n",
       "</div>"
      ],
      "text/plain": [
       "savings_acct  NO  YES\n",
       "pep                  \n",
       "NO            91  235\n",
       "YES           95  179"
      ]
     },
     "execution_count": 128,
     "metadata": {},
     "output_type": "execute_result"
    }
   ],
   "source": [
    "tab5=pd.crosstab(bank_df[\"pep\"],bank_df[\"savings_acct\"])\n",
    "tab5"
   ]
  },
  {
   "cell_type": "code",
   "execution_count": 129,
   "metadata": {
    "collapsed": false
   },
   "outputs": [
    {
     "data": {
      "text/plain": [
       "<matplotlib.axes._subplots.AxesSubplot at 0x11b64d128>"
      ]
     },
     "execution_count": 129,
     "metadata": {},
     "output_type": "execute_result"
    },
    {
     "data": {
      "image/png": "[encoded data removed]",
      "text/plain": [
       "<matplotlib.figure.Figure at 0x11b685390>"
      ]
     },
     "metadata": {},
     "output_type": "display_data"
    }
   ],
   "source": [
    "tab5.plot.bar(title=\"Pep-SavingsAcct\")"
   ]
  },
  {
   "cell_type": "code",
   "execution_count": 130,
   "metadata": {
    "collapsed": false
   },
   "outputs": [
    {
     "data": {
      "text/plain": [
       "pep  current_acct\n",
       "NO   NO               82\n",
       "     YES             244\n",
       "YES  NO               63\n",
       "     YES             211\n",
       "Name: current_acct, dtype: int64"
      ]
     },
     "execution_count": 130,
     "metadata": {},
     "output_type": "execute_result"
    }
   ],
   "source": [
    "bank_df.groupby([\"pep\",\"current_acct\"])[\"current_acct\"].count()"
   ]
  },
  {
   "cell_type": "code",
   "execution_count": 131,
   "metadata": {
    "collapsed": false
   },
   "outputs": [
    {
     "data": {
      "text/html": [
       "<div>\n",
       "<table border=\"1\" class=\"dataframe\">\n",
       "  <thead>\n",
       "    <tr style=\"text-align: right;\">\n",
       "      <th>current_acct</th>\n",
       "      <th>NO</th>\n",
       "      <th>YES</th>\n",
       "    </tr>\n",
       "    <tr>\n",
       "      <th>pep</th>\n",
       "      <th></th>\n",
       "      <th></th>\n",
       "    </tr>\n",
       "  </thead>\n",
       "  <tbody>\n",
       "    <tr>\n",
       "      <th>NO</th>\n",
       "      <td>82</td>\n",
       "      <td>244</td>\n",
       "    </tr>\n",
       "    <tr>\n",
       "      <th>YES</th>\n",
       "      <td>63</td>\n",
       "      <td>211</td>\n",
       "    </tr>\n",
       "  </tbody>\n",
       "</table>\n",
       "</div>"
      ],
      "text/plain": [
       "current_acct  NO  YES\n",
       "pep                  \n",
       "NO            82  244\n",
       "YES           63  211"
      ]
     },
     "execution_count": 131,
     "metadata": {},
     "output_type": "execute_result"
    }
   ],
   "source": [
    "tab6 = pd.crosstab(bank_df[\"pep\"],bank_df[\"current_acct\"])\n",
    "tab6"
   ]
  },
  {
   "cell_type": "code",
   "execution_count": 132,
   "metadata": {
    "collapsed": false
   },
   "outputs": [
    {
     "data": {
      "text/plain": [
       "<matplotlib.axes._subplots.AxesSubplot at 0x11b8dbb70>"
      ]
     },
     "execution_count": 132,
     "metadata": {},
     "output_type": "execute_result"
    },
    {
     "data": {
      "image/png": "[encoded data removed]",
      "text/plain": [
       "<matplotlib.figure.Figure at 0x11b9fae10>"
      ]
     },
     "metadata": {},
     "output_type": "display_data"
    }
   ],
   "source": [
    "tab6.plot.bar(title=\"Pep-CurrentAcct\")"
   ]
  },
  {
   "cell_type": "markdown",
   "metadata": {},
   "source": [
    "It can be seen that the customers who usually buy PEP, have higher mean age and so we can say that older people are usually the one who are buying PEP. Also those with more mean income are the one who are buying Personal Equity Plans.\n",
    "In this given dataset, it can be inferred that people with older people with higher income are mostly buying PEPs.\n",
    "\n",
    "From the above analysis, we can see the aggregated counts of regions for PEP values. Also there is cross table showing 2 x 4 (pep x region) table with entries representing the counts. There is also a bar graph which visualized the crosstab and we can see that only for the suburban region the trend is different and there are more people with PEP value of YES where as for all the other regions there are more counts for PEP as NO. Similarly, the variable \"Pep\" is compared and evaluated against all the other variables and results are displayed."
   ]
  },
  {
   "cell_type": "markdown",
   "metadata": {},
   "source": [
    "# 3. Use z-score normalization to standardize the values of the income attribute. [Do not change the original income attribute in the table.]"
   ]
  },
  {
   "cell_type": "code",
   "execution_count": 133,
   "metadata": {
    "collapsed": false
   },
   "outputs": [
    {
     "data": {
      "text/plain": [
       "0   -0.773523\n",
       "1    0.198541\n",
       "2   -0.848766\n",
       "3   -0.554180\n",
       "4    1.787071\n",
       "Name: income, dtype: float64"
      ]
     },
     "execution_count": 133,
     "metadata": {},
     "output_type": "execute_result"
    }
   ],
   "source": [
    "income_z = (bank_df[\"income\"] - bank_df[\"income\"].mean())/bank_df[\"income\"].std()\n",
    "income_z.head()\n"
   ]
  },
  {
   "cell_type": "code",
   "execution_count": 134,
   "metadata": {
    "collapsed": false
   },
   "outputs": [
    {
     "name": "stdout",
     "output_type": "stream",
     "text": [
      "0     -0.773523\n",
      "1      0.198541\n",
      "2     -0.848766\n",
      "3     -0.554180\n",
      "4      1.787071\n",
      "5      0.802015\n",
      "6     -1.445560\n",
      "7     -0.199809\n",
      "8     -0.172079\n",
      "9     -0.256749\n",
      "10     2.502419\n",
      "11    -0.067075\n",
      "12    -0.913854\n",
      "13     2.145877\n",
      "14    -0.624013\n",
      "15    -0.401717\n",
      "16    -0.759274\n",
      "17     1.045932\n",
      "18    -0.047663\n",
      "19    -0.387708\n",
      "20     2.353327\n",
      "21    -0.854821\n",
      "22     0.846746\n",
      "23    -0.929126\n",
      "24    -1.153825\n",
      "25     1.047328\n",
      "26    -0.520512\n",
      "27    -0.574445\n",
      "28     0.142259\n",
      "29    -0.252253\n",
      "         ...   \n",
      "570    0.476102\n",
      "571    0.669963\n",
      "572    0.014642\n",
      "573   -0.397174\n",
      "574    0.073326\n",
      "575    0.229774\n",
      "576   -0.648378\n",
      "577    1.381334\n",
      "578   -1.645790\n",
      "579   -0.185770\n",
      "580    1.888083\n",
      "581   -1.153469\n",
      "582   -0.429446\n",
      "583    0.121638\n",
      "584   -0.309752\n",
      "585   -1.395958\n",
      "586   -0.710039\n",
      "587    0.290692\n",
      "588    1.717092\n",
      "589   -1.155135\n",
      "590   -0.287255\n",
      "591    0.306204\n",
      "592   -0.562506\n",
      "593    1.852244\n",
      "594    0.267280\n",
      "595    1.511765\n",
      "596   -1.383916\n",
      "597   -0.895210\n",
      "598   -0.993237\n",
      "599   -0.066083\n",
      "Name: income, dtype: float64\n"
     ]
    }
   ],
   "source": [
    "#A new variable \"income_z\" having standardized values of the income attribute converted using z-score normalization\n",
    "print(income_z)"
   ]
  },
  {
   "cell_type": "markdown",
   "metadata": {},
   "source": [
    "# 4. Discretize the age attribute into 3 categories (corresponding to \"young\", \"mid-age\", and \"old\"). [Do not change the original age attribute in the table.]"
   ]
  },
  {
   "cell_type": "code",
   "execution_count": 135,
   "metadata": {
    "collapsed": false
   },
   "outputs": [
    {
     "data": {
      "text/plain": [
       "0    48\n",
       "1    40\n",
       "2    51\n",
       "3    23\n",
       "4    57\n",
       "Name: age, dtype: int64"
      ]
     },
     "execution_count": 135,
     "metadata": {},
     "output_type": "execute_result"
    }
   ],
   "source": [
    "bank_df[\"age\"].head()"
   ]
  },
  {
   "cell_type": "code",
   "execution_count": 136,
   "metadata": {
    "collapsed": false
   },
   "outputs": [
    {
     "data": {
      "text/plain": [
       "(0      mid-age\n",
       " 1      mid-age\n",
       " 2          old\n",
       " 3        young\n",
       " 4          old\n",
       " 5          old\n",
       " 6        young\n",
       " 7          old\n",
       " 8      mid-age\n",
       " 9          old\n",
       " 10         old\n",
       " 11         old\n",
       " 12     mid-age\n",
       " 13         old\n",
       " 14     mid-age\n",
       " 15     mid-age\n",
       " 16     mid-age\n",
       " 17     mid-age\n",
       " 18         old\n",
       " 19       young\n",
       " 20         old\n",
       " 21         old\n",
       " 22         old\n",
       " 23       young\n",
       " 24       young\n",
       " 25         old\n",
       " 26     mid-age\n",
       " 27     mid-age\n",
       " 28     mid-age\n",
       " 29         old\n",
       "         ...   \n",
       " 570    mid-age\n",
       " 571    mid-age\n",
       " 572      young\n",
       " 573    mid-age\n",
       " 574    mid-age\n",
       " 575    mid-age\n",
       " 576      young\n",
       " 577        old\n",
       " 578      young\n",
       " 579    mid-age\n",
       " 580        old\n",
       " 581      young\n",
       " 582    mid-age\n",
       " 583    mid-age\n",
       " 584      young\n",
       " 585      young\n",
       " 586      young\n",
       " 587    mid-age\n",
       " 588        old\n",
       " 589      young\n",
       " 590      young\n",
       " 591    mid-age\n",
       " 592    mid-age\n",
       " 593        old\n",
       " 594        old\n",
       " 595        old\n",
       " 596      young\n",
       " 597      young\n",
       " 598      young\n",
       " 599    mid-age\n",
       " Name: age, dtype: category\n",
       " Categories (3, object): [young < mid-age < old],\n",
       " array([ 18.,  35.,  49.,  67.]))"
      ]
     },
     "execution_count": 136,
     "metadata": {},
     "output_type": "execute_result"
    }
   ],
   "source": [
    "#Using the pandas qcut method on the age attribute\n",
    "age_bins = pd.qcut(bank_df[\"age\"],[0, .33, .66, 1],labels=[\"young\",\"mid-age\",\"old\"],retbins = True)     \n",
    "age_bins"
   ]
  },
  {
   "cell_type": "markdown",
   "metadata": {},
   "source": [
    "# 5. Use Min-Max Normalization to transform the values of all numeric attributes in the original table (income, age, children) onto the range 0.0-1.0."
   ]
  },
  {
   "cell_type": "code",
   "execution_count": 137,
   "metadata": {
    "collapsed": false
   },
   "outputs": [
    {
     "data": {
      "text/html": [
       "<div>\n",
       "<table border=\"1\" class=\"dataframe\">\n",
       "  <thead>\n",
       "    <tr style=\"text-align: right;\">\n",
       "      <th></th>\n",
       "      <th>id</th>\n",
       "      <th>age</th>\n",
       "      <th>income</th>\n",
       "      <th>children</th>\n",
       "      <th>gender</th>\n",
       "      <th>region</th>\n",
       "      <th>married</th>\n",
       "      <th>car</th>\n",
       "      <th>savings_acct</th>\n",
       "      <th>current_acct</th>\n",
       "      <th>mortgage</th>\n",
       "      <th>pep</th>\n",
       "    </tr>\n",
       "  </thead>\n",
       "  <tbody>\n",
       "    <tr>\n",
       "      <th>0</th>\n",
       "      <td>ID12101</td>\n",
       "      <td>48</td>\n",
       "      <td>17546.0</td>\n",
       "      <td>1</td>\n",
       "      <td>FEMALE</td>\n",
       "      <td>INNER_CITY</td>\n",
       "      <td>NO</td>\n",
       "      <td>NO</td>\n",
       "      <td>NO</td>\n",
       "      <td>NO</td>\n",
       "      <td>NO</td>\n",
       "      <td>YES</td>\n",
       "    </tr>\n",
       "    <tr>\n",
       "      <th>1</th>\n",
       "      <td>ID12102</td>\n",
       "      <td>40</td>\n",
       "      <td>30085.1</td>\n",
       "      <td>3</td>\n",
       "      <td>MALE</td>\n",
       "      <td>TOWN</td>\n",
       "      <td>YES</td>\n",
       "      <td>YES</td>\n",
       "      <td>NO</td>\n",
       "      <td>YES</td>\n",
       "      <td>YES</td>\n",
       "      <td>NO</td>\n",
       "    </tr>\n",
       "    <tr>\n",
       "      <th>2</th>\n",
       "      <td>ID12103</td>\n",
       "      <td>51</td>\n",
       "      <td>16575.4</td>\n",
       "      <td>0</td>\n",
       "      <td>FEMALE</td>\n",
       "      <td>INNER_CITY</td>\n",
       "      <td>YES</td>\n",
       "      <td>YES</td>\n",
       "      <td>YES</td>\n",
       "      <td>YES</td>\n",
       "      <td>NO</td>\n",
       "      <td>NO</td>\n",
       "    </tr>\n",
       "    <tr>\n",
       "      <th>3</th>\n",
       "      <td>ID12104</td>\n",
       "      <td>23</td>\n",
       "      <td>20375.4</td>\n",
       "      <td>3</td>\n",
       "      <td>FEMALE</td>\n",
       "      <td>TOWN</td>\n",
       "      <td>YES</td>\n",
       "      <td>NO</td>\n",
       "      <td>NO</td>\n",
       "      <td>YES</td>\n",
       "      <td>NO</td>\n",
       "      <td>NO</td>\n",
       "    </tr>\n",
       "    <tr>\n",
       "      <th>4</th>\n",
       "      <td>ID12105</td>\n",
       "      <td>57</td>\n",
       "      <td>50576.3</td>\n",
       "      <td>0</td>\n",
       "      <td>FEMALE</td>\n",
       "      <td>RURAL</td>\n",
       "      <td>YES</td>\n",
       "      <td>NO</td>\n",
       "      <td>YES</td>\n",
       "      <td>NO</td>\n",
       "      <td>NO</td>\n",
       "      <td>NO</td>\n",
       "    </tr>\n",
       "  </tbody>\n",
       "</table>\n",
       "</div>"
      ],
      "text/plain": [
       "        id  age   income  children  gender      region married  car  \\\n",
       "0  ID12101   48  17546.0         1  FEMALE  INNER_CITY      NO   NO   \n",
       "1  ID12102   40  30085.1         3    MALE        TOWN     YES  YES   \n",
       "2  ID12103   51  16575.4         0  FEMALE  INNER_CITY     YES  YES   \n",
       "3  ID12104   23  20375.4         3  FEMALE        TOWN     YES   NO   \n",
       "4  ID12105   57  50576.3         0  FEMALE       RURAL     YES   NO   \n",
       "\n",
       "  savings_acct current_acct mortgage  pep  \n",
       "0           NO           NO       NO  YES  \n",
       "1           NO          YES      YES   NO  \n",
       "2          YES          YES       NO   NO  \n",
       "3           NO          YES       NO   NO  \n",
       "4          YES           NO       NO   NO  "
      ]
     },
     "execution_count": 137,
     "metadata": {},
     "output_type": "execute_result"
    }
   ],
   "source": [
    "bank_df.head()\n"
   ]
  },
  {
   "cell_type": "code",
   "execution_count": 138,
   "metadata": {
    "collapsed": false
   },
   "outputs": [],
   "source": [
    "cols = [\"age\",\"income\",\"children\"]\n",
    "bank_df[cols] = bank_df[cols].apply(lambda x: (x - x.min()) / (x.max() - x.min()))"
   ]
  },
  {
   "cell_type": "code",
   "execution_count": 139,
   "metadata": {
    "collapsed": false
   },
   "outputs": [
    {
     "data": {
      "text/html": [
       "<div>\n",
       "<table border=\"1\" class=\"dataframe\">\n",
       "  <thead>\n",
       "    <tr style=\"text-align: right;\">\n",
       "      <th></th>\n",
       "      <th>id</th>\n",
       "      <th>age</th>\n",
       "      <th>income</th>\n",
       "      <th>children</th>\n",
       "      <th>gender</th>\n",
       "      <th>region</th>\n",
       "      <th>married</th>\n",
       "      <th>car</th>\n",
       "      <th>savings_acct</th>\n",
       "      <th>current_acct</th>\n",
       "      <th>mortgage</th>\n",
       "      <th>pep</th>\n",
       "    </tr>\n",
       "  </thead>\n",
       "  <tbody>\n",
       "    <tr>\n",
       "      <th>0</th>\n",
       "      <td>ID12101</td>\n",
       "      <td>0.612245</td>\n",
       "      <td>0.215634</td>\n",
       "      <td>0.333333</td>\n",
       "      <td>FEMALE</td>\n",
       "      <td>INNER_CITY</td>\n",
       "      <td>NO</td>\n",
       "      <td>NO</td>\n",
       "      <td>NO</td>\n",
       "      <td>NO</td>\n",
       "      <td>NO</td>\n",
       "      <td>YES</td>\n",
       "    </tr>\n",
       "    <tr>\n",
       "      <th>1</th>\n",
       "      <td>ID12102</td>\n",
       "      <td>0.448980</td>\n",
       "      <td>0.431395</td>\n",
       "      <td>1.000000</td>\n",
       "      <td>MALE</td>\n",
       "      <td>TOWN</td>\n",
       "      <td>YES</td>\n",
       "      <td>YES</td>\n",
       "      <td>NO</td>\n",
       "      <td>YES</td>\n",
       "      <td>YES</td>\n",
       "      <td>NO</td>\n",
       "    </tr>\n",
       "    <tr>\n",
       "      <th>2</th>\n",
       "      <td>ID12103</td>\n",
       "      <td>0.673469</td>\n",
       "      <td>0.198933</td>\n",
       "      <td>0.000000</td>\n",
       "      <td>FEMALE</td>\n",
       "      <td>INNER_CITY</td>\n",
       "      <td>YES</td>\n",
       "      <td>YES</td>\n",
       "      <td>YES</td>\n",
       "      <td>YES</td>\n",
       "      <td>NO</td>\n",
       "      <td>NO</td>\n",
       "    </tr>\n",
       "    <tr>\n",
       "      <th>3</th>\n",
       "      <td>ID12104</td>\n",
       "      <td>0.102041</td>\n",
       "      <td>0.264320</td>\n",
       "      <td>1.000000</td>\n",
       "      <td>FEMALE</td>\n",
       "      <td>TOWN</td>\n",
       "      <td>YES</td>\n",
       "      <td>NO</td>\n",
       "      <td>NO</td>\n",
       "      <td>YES</td>\n",
       "      <td>NO</td>\n",
       "      <td>NO</td>\n",
       "    </tr>\n",
       "    <tr>\n",
       "      <th>4</th>\n",
       "      <td>ID12105</td>\n",
       "      <td>0.795918</td>\n",
       "      <td>0.783987</td>\n",
       "      <td>0.000000</td>\n",
       "      <td>FEMALE</td>\n",
       "      <td>RURAL</td>\n",
       "      <td>YES</td>\n",
       "      <td>NO</td>\n",
       "      <td>YES</td>\n",
       "      <td>NO</td>\n",
       "      <td>NO</td>\n",
       "      <td>NO</td>\n",
       "    </tr>\n",
       "  </tbody>\n",
       "</table>\n",
       "</div>"
      ],
      "text/plain": [
       "        id       age    income  children  gender      region married  car  \\\n",
       "0  ID12101  0.612245  0.215634  0.333333  FEMALE  INNER_CITY      NO   NO   \n",
       "1  ID12102  0.448980  0.431395  1.000000    MALE        TOWN     YES  YES   \n",
       "2  ID12103  0.673469  0.198933  0.000000  FEMALE  INNER_CITY     YES  YES   \n",
       "3  ID12104  0.102041  0.264320  1.000000  FEMALE        TOWN     YES   NO   \n",
       "4  ID12105  0.795918  0.783987  0.000000  FEMALE       RURAL     YES   NO   \n",
       "\n",
       "  savings_acct current_acct mortgage  pep  \n",
       "0           NO           NO       NO  YES  \n",
       "1           NO          YES      YES   NO  \n",
       "2          YES          YES       NO   NO  \n",
       "3           NO          YES       NO   NO  \n",
       "4          YES           NO       NO   NO  "
      ]
     },
     "execution_count": 139,
     "metadata": {},
     "output_type": "execute_result"
    }
   ],
   "source": [
    "bank_df.head()"
   ]
  },
  {
   "cell_type": "markdown",
   "metadata": {},
   "source": [
    "We can see from the table that the values of age, income and children are transformed and applying Min-Max normalization we have all values between 0.0 and 1.0, which we can verify using min and max methods for all 3 variables."
   ]
  },
  {
   "cell_type": "code",
   "execution_count": 140,
   "metadata": {
    "collapsed": false
   },
   "outputs": [
    {
     "name": "stdout",
     "output_type": "stream",
     "text": [
      "Min age: 0.0\n",
      "Max age: 1.0\n",
      "Min income: 0.0\n",
      "Max income: 1.0\n",
      "Min children: 0.0\n",
      "Max children: 1.0\n"
     ]
    }
   ],
   "source": [
    "print(\"Min age:\",bank_df[\"age\"].min())\n",
    "print(\"Max age:\",bank_df[\"age\"].max())\n",
    "print(\"Min income:\",bank_df[\"income\"].min())\n",
    "print(\"Max income:\",bank_df[\"income\"].max())\n",
    "print(\"Min children:\",bank_df[\"children\"].min())\n",
    "print(\"Max children:\",bank_df[\"children\"].max())"
   ]
  },
  {
   "cell_type": "markdown",
   "metadata": {},
   "source": [
    "# 6. Convert the table (after normalization in part 5) into the standard spreadsheet format. Note that this requires converting each categorical attribute into multiple binary (\"dummy\") attributes (one for each values of the categorical attribute) and assigning binary values corresponding to the presence or not presence of the attribute value in the original record). Then numeric attributes should remain unchanged. Save this new table into a file called bank_numeric.csv and submitit along with your assignment. [Hint: you might consider using the get_dummies for Pandas data frames.]"
   ]
  },
  {
   "cell_type": "code",
   "execution_count": 141,
   "metadata": {
    "collapsed": false
   },
   "outputs": [
    {
     "data": {
      "text/html": [
       "<div>\n",
       "<table border=\"1\" class=\"dataframe\">\n",
       "  <thead>\n",
       "    <tr style=\"text-align: right;\">\n",
       "      <th></th>\n",
       "      <th>id</th>\n",
       "      <th>age</th>\n",
       "      <th>income</th>\n",
       "      <th>children</th>\n",
       "      <th>pep</th>\n",
       "      <th>gender_FEMALE</th>\n",
       "      <th>gender_MALE</th>\n",
       "      <th>region_INNER_CITY</th>\n",
       "      <th>region_RURAL</th>\n",
       "      <th>region_SUBURBAN</th>\n",
       "      <th>...</th>\n",
       "      <th>married_NO</th>\n",
       "      <th>married_YES</th>\n",
       "      <th>car_NO</th>\n",
       "      <th>car_YES</th>\n",
       "      <th>savings_acct_NO</th>\n",
       "      <th>savings_acct_YES</th>\n",
       "      <th>current_acct_NO</th>\n",
       "      <th>current_acct_YES</th>\n",
       "      <th>mortgage_NO</th>\n",
       "      <th>mortgage_YES</th>\n",
       "    </tr>\n",
       "  </thead>\n",
       "  <tbody>\n",
       "    <tr>\n",
       "      <th>0</th>\n",
       "      <td>ID12101</td>\n",
       "      <td>0.612245</td>\n",
       "      <td>0.215634</td>\n",
       "      <td>0.333333</td>\n",
       "      <td>YES</td>\n",
       "      <td>1.0</td>\n",
       "      <td>0.0</td>\n",
       "      <td>1.0</td>\n",
       "      <td>0.0</td>\n",
       "      <td>0.0</td>\n",
       "      <td>...</td>\n",
       "      <td>1.0</td>\n",
       "      <td>0.0</td>\n",
       "      <td>1.0</td>\n",
       "      <td>0.0</td>\n",
       "      <td>1.0</td>\n",
       "      <td>0.0</td>\n",
       "      <td>1.0</td>\n",
       "      <td>0.0</td>\n",
       "      <td>1.0</td>\n",
       "      <td>0.0</td>\n",
       "    </tr>\n",
       "    <tr>\n",
       "      <th>1</th>\n",
       "      <td>ID12102</td>\n",
       "      <td>0.448980</td>\n",
       "      <td>0.431395</td>\n",
       "      <td>1.000000</td>\n",
       "      <td>NO</td>\n",
       "      <td>0.0</td>\n",
       "      <td>1.0</td>\n",
       "      <td>0.0</td>\n",
       "      <td>0.0</td>\n",
       "      <td>0.0</td>\n",
       "      <td>...</td>\n",
       "      <td>0.0</td>\n",
       "      <td>1.0</td>\n",
       "      <td>0.0</td>\n",
       "      <td>1.0</td>\n",
       "      <td>1.0</td>\n",
       "      <td>0.0</td>\n",
       "      <td>0.0</td>\n",
       "      <td>1.0</td>\n",
       "      <td>0.0</td>\n",
       "      <td>1.0</td>\n",
       "    </tr>\n",
       "    <tr>\n",
       "      <th>2</th>\n",
       "      <td>ID12103</td>\n",
       "      <td>0.673469</td>\n",
       "      <td>0.198933</td>\n",
       "      <td>0.000000</td>\n",
       "      <td>NO</td>\n",
       "      <td>1.0</td>\n",
       "      <td>0.0</td>\n",
       "      <td>1.0</td>\n",
       "      <td>0.0</td>\n",
       "      <td>0.0</td>\n",
       "      <td>...</td>\n",
       "      <td>0.0</td>\n",
       "      <td>1.0</td>\n",
       "      <td>0.0</td>\n",
       "      <td>1.0</td>\n",
       "      <td>0.0</td>\n",
       "      <td>1.0</td>\n",
       "      <td>0.0</td>\n",
       "      <td>1.0</td>\n",
       "      <td>1.0</td>\n",
       "      <td>0.0</td>\n",
       "    </tr>\n",
       "    <tr>\n",
       "      <th>3</th>\n",
       "      <td>ID12104</td>\n",
       "      <td>0.102041</td>\n",
       "      <td>0.264320</td>\n",
       "      <td>1.000000</td>\n",
       "      <td>NO</td>\n",
       "      <td>1.0</td>\n",
       "      <td>0.0</td>\n",
       "      <td>0.0</td>\n",
       "      <td>0.0</td>\n",
       "      <td>0.0</td>\n",
       "      <td>...</td>\n",
       "      <td>0.0</td>\n",
       "      <td>1.0</td>\n",
       "      <td>1.0</td>\n",
       "      <td>0.0</td>\n",
       "      <td>1.0</td>\n",
       "      <td>0.0</td>\n",
       "      <td>0.0</td>\n",
       "      <td>1.0</td>\n",
       "      <td>1.0</td>\n",
       "      <td>0.0</td>\n",
       "    </tr>\n",
       "    <tr>\n",
       "      <th>4</th>\n",
       "      <td>ID12105</td>\n",
       "      <td>0.795918</td>\n",
       "      <td>0.783987</td>\n",
       "      <td>0.000000</td>\n",
       "      <td>NO</td>\n",
       "      <td>1.0</td>\n",
       "      <td>0.0</td>\n",
       "      <td>0.0</td>\n",
       "      <td>1.0</td>\n",
       "      <td>0.0</td>\n",
       "      <td>...</td>\n",
       "      <td>0.0</td>\n",
       "      <td>1.0</td>\n",
       "      <td>1.0</td>\n",
       "      <td>0.0</td>\n",
       "      <td>0.0</td>\n",
       "      <td>1.0</td>\n",
       "      <td>1.0</td>\n",
       "      <td>0.0</td>\n",
       "      <td>1.0</td>\n",
       "      <td>0.0</td>\n",
       "    </tr>\n",
       "  </tbody>\n",
       "</table>\n",
       "<p>5 rows × 21 columns</p>\n",
       "</div>"
      ],
      "text/plain": [
       "        id       age    income  children  pep  gender_FEMALE  gender_MALE  \\\n",
       "0  ID12101  0.612245  0.215634  0.333333  YES            1.0          0.0   \n",
       "1  ID12102  0.448980  0.431395  1.000000   NO            0.0          1.0   \n",
       "2  ID12103  0.673469  0.198933  0.000000   NO            1.0          0.0   \n",
       "3  ID12104  0.102041  0.264320  1.000000   NO            1.0          0.0   \n",
       "4  ID12105  0.795918  0.783987  0.000000   NO            1.0          0.0   \n",
       "\n",
       "   region_INNER_CITY  region_RURAL  region_SUBURBAN      ...       married_NO  \\\n",
       "0                1.0           0.0              0.0      ...              1.0   \n",
       "1                0.0           0.0              0.0      ...              0.0   \n",
       "2                1.0           0.0              0.0      ...              0.0   \n",
       "3                0.0           0.0              0.0      ...              0.0   \n",
       "4                0.0           1.0              0.0      ...              0.0   \n",
       "\n",
       "   married_YES  car_NO  car_YES  savings_acct_NO  savings_acct_YES  \\\n",
       "0          0.0     1.0      0.0              1.0               0.0   \n",
       "1          1.0     0.0      1.0              1.0               0.0   \n",
       "2          1.0     0.0      1.0              0.0               1.0   \n",
       "3          1.0     1.0      0.0              1.0               0.0   \n",
       "4          1.0     1.0      0.0              0.0               1.0   \n",
       "\n",
       "   current_acct_NO  current_acct_YES  mortgage_NO  mortgage_YES  \n",
       "0              1.0               0.0          1.0           0.0  \n",
       "1              0.0               1.0          0.0           1.0  \n",
       "2              0.0               1.0          1.0           0.0  \n",
       "3              0.0               1.0          1.0           0.0  \n",
       "4              1.0               0.0          1.0           0.0  \n",
       "\n",
       "[5 rows x 21 columns]"
      ]
     },
     "execution_count": 141,
     "metadata": {},
     "output_type": "execute_result"
    }
   ],
   "source": [
    "bank_df_ssf = pd.get_dummies(bank_df, columns = [\"gender\",\"region\",\"married\",\"car\",\"savings_acct\",\"current_acct\",\"mortgage\"])\n",
    "bank_df_ssf.head()"
   ]
  },
  {
   "cell_type": "code",
   "execution_count": 142,
   "metadata": {
    "collapsed": true
   },
   "outputs": [],
   "source": [
    "#Saving dataframe to bank_numeric.csv\n",
    "bank_df_ssf.to_csv(\"bank_numeric.csv\", float_format=\"%1.4f\")"
   ]
  },
  {
   "cell_type": "markdown",
   "metadata": {},
   "source": [
    "So we have converted the data into numeric format with normalized Age, Income and Children and dummy vairbales for Gender, Region, Married, Car, Savings Account, Current Account, Mortgage and PEP. Though ID field has data type \"obj\" so by default if we do pd.get_dummies(data) that would convert ID to numeric as well which we do not want so I have specified columns in pd.get_dummies(). Have attached the CSV file \"Bank_Data_Numeric.csv\" in the submission."
   ]
  },
  {
   "cell_type": "markdown",
   "metadata": {},
   "source": [
    "# 7. Using the standardized data set (of the previous part), perform basic correlation analysis among the attributes. Discuss your results by indicating any significant positive or negative correlations among pairs of attributes. You need to construct a complete Correlation Matrix. Be sure to first remove the Customer ID column before creating the correlation matrix. [Hint: you can do this by using the corr() function in Pandas or corrcoef function in NumPy]."
   ]
  },
  {
   "cell_type": "code",
   "execution_count": 145,
   "metadata": {
    "collapsed": true
   },
   "outputs": [],
   "source": [
    "bank_df_ssf = bank_df_ssf.drop(\"id\",1)\n",
    "#Removing the customerID column before creating the correlation matrix"
   ]
  },
  {
   "cell_type": "code",
   "execution_count": 146,
   "metadata": {
    "collapsed": false
   },
   "outputs": [
    {
     "data": {
      "text/html": [
       "<div>\n",
       "<table border=\"1\" class=\"dataframe\">\n",
       "  <thead>\n",
       "    <tr style=\"text-align: right;\">\n",
       "      <th></th>\n",
       "      <th>age</th>\n",
       "      <th>income</th>\n",
       "      <th>children</th>\n",
       "      <th>pep</th>\n",
       "      <th>gender_FEMALE</th>\n",
       "      <th>gender_MALE</th>\n",
       "      <th>region_INNER_CITY</th>\n",
       "      <th>region_RURAL</th>\n",
       "      <th>region_SUBURBAN</th>\n",
       "      <th>region_TOWN</th>\n",
       "      <th>married_NO</th>\n",
       "      <th>married_YES</th>\n",
       "      <th>car_NO</th>\n",
       "      <th>car_YES</th>\n",
       "      <th>savings_acct_NO</th>\n",
       "      <th>savings_acct_YES</th>\n",
       "      <th>current_acct_NO</th>\n",
       "      <th>current_acct_YES</th>\n",
       "      <th>mortgage_NO</th>\n",
       "      <th>mortgage_YES</th>\n",
       "    </tr>\n",
       "  </thead>\n",
       "  <tbody>\n",
       "    <tr>\n",
       "      <th>0</th>\n",
       "      <td>0.612245</td>\n",
       "      <td>0.215634</td>\n",
       "      <td>0.333333</td>\n",
       "      <td>YES</td>\n",
       "      <td>1.0</td>\n",
       "      <td>0.0</td>\n",
       "      <td>1.0</td>\n",
       "      <td>0.0</td>\n",
       "      <td>0.0</td>\n",
       "      <td>0.0</td>\n",
       "      <td>1.0</td>\n",
       "      <td>0.0</td>\n",
       "      <td>1.0</td>\n",
       "      <td>0.0</td>\n",
       "      <td>1.0</td>\n",
       "      <td>0.0</td>\n",
       "      <td>1.0</td>\n",
       "      <td>0.0</td>\n",
       "      <td>1.0</td>\n",
       "      <td>0.0</td>\n",
       "    </tr>\n",
       "    <tr>\n",
       "      <th>1</th>\n",
       "      <td>0.448980</td>\n",
       "      <td>0.431395</td>\n",
       "      <td>1.000000</td>\n",
       "      <td>NO</td>\n",
       "      <td>0.0</td>\n",
       "      <td>1.0</td>\n",
       "      <td>0.0</td>\n",
       "      <td>0.0</td>\n",
       "      <td>0.0</td>\n",
       "      <td>1.0</td>\n",
       "      <td>0.0</td>\n",
       "      <td>1.0</td>\n",
       "      <td>0.0</td>\n",
       "      <td>1.0</td>\n",
       "      <td>1.0</td>\n",
       "      <td>0.0</td>\n",
       "      <td>0.0</td>\n",
       "      <td>1.0</td>\n",
       "      <td>0.0</td>\n",
       "      <td>1.0</td>\n",
       "    </tr>\n",
       "    <tr>\n",
       "      <th>2</th>\n",
       "      <td>0.673469</td>\n",
       "      <td>0.198933</td>\n",
       "      <td>0.000000</td>\n",
       "      <td>NO</td>\n",
       "      <td>1.0</td>\n",
       "      <td>0.0</td>\n",
       "      <td>1.0</td>\n",
       "      <td>0.0</td>\n",
       "      <td>0.0</td>\n",
       "      <td>0.0</td>\n",
       "      <td>0.0</td>\n",
       "      <td>1.0</td>\n",
       "      <td>0.0</td>\n",
       "      <td>1.0</td>\n",
       "      <td>0.0</td>\n",
       "      <td>1.0</td>\n",
       "      <td>0.0</td>\n",
       "      <td>1.0</td>\n",
       "      <td>1.0</td>\n",
       "      <td>0.0</td>\n",
       "    </tr>\n",
       "    <tr>\n",
       "      <th>3</th>\n",
       "      <td>0.102041</td>\n",
       "      <td>0.264320</td>\n",
       "      <td>1.000000</td>\n",
       "      <td>NO</td>\n",
       "      <td>1.0</td>\n",
       "      <td>0.0</td>\n",
       "      <td>0.0</td>\n",
       "      <td>0.0</td>\n",
       "      <td>0.0</td>\n",
       "      <td>1.0</td>\n",
       "      <td>0.0</td>\n",
       "      <td>1.0</td>\n",
       "      <td>1.0</td>\n",
       "      <td>0.0</td>\n",
       "      <td>1.0</td>\n",
       "      <td>0.0</td>\n",
       "      <td>0.0</td>\n",
       "      <td>1.0</td>\n",
       "      <td>1.0</td>\n",
       "      <td>0.0</td>\n",
       "    </tr>\n",
       "    <tr>\n",
       "      <th>4</th>\n",
       "      <td>0.795918</td>\n",
       "      <td>0.783987</td>\n",
       "      <td>0.000000</td>\n",
       "      <td>NO</td>\n",
       "      <td>1.0</td>\n",
       "      <td>0.0</td>\n",
       "      <td>0.0</td>\n",
       "      <td>1.0</td>\n",
       "      <td>0.0</td>\n",
       "      <td>0.0</td>\n",
       "      <td>0.0</td>\n",
       "      <td>1.0</td>\n",
       "      <td>1.0</td>\n",
       "      <td>0.0</td>\n",
       "      <td>0.0</td>\n",
       "      <td>1.0</td>\n",
       "      <td>1.0</td>\n",
       "      <td>0.0</td>\n",
       "      <td>1.0</td>\n",
       "      <td>0.0</td>\n",
       "    </tr>\n",
       "  </tbody>\n",
       "</table>\n",
       "</div>"
      ],
      "text/plain": [
       "        age    income  children  pep  gender_FEMALE  gender_MALE  \\\n",
       "0  0.612245  0.215634  0.333333  YES            1.0          0.0   \n",
       "1  0.448980  0.431395  1.000000   NO            0.0          1.0   \n",
       "2  0.673469  0.198933  0.000000   NO            1.0          0.0   \n",
       "3  0.102041  0.264320  1.000000   NO            1.0          0.0   \n",
       "4  0.795918  0.783987  0.000000   NO            1.0          0.0   \n",
       "\n",
       "   region_INNER_CITY  region_RURAL  region_SUBURBAN  region_TOWN  married_NO  \\\n",
       "0                1.0           0.0              0.0          0.0         1.0   \n",
       "1                0.0           0.0              0.0          1.0         0.0   \n",
       "2                1.0           0.0              0.0          0.0         0.0   \n",
       "3                0.0           0.0              0.0          1.0         0.0   \n",
       "4                0.0           1.0              0.0          0.0         0.0   \n",
       "\n",
       "   married_YES  car_NO  car_YES  savings_acct_NO  savings_acct_YES  \\\n",
       "0          0.0     1.0      0.0              1.0               0.0   \n",
       "1          1.0     0.0      1.0              1.0               0.0   \n",
       "2          1.0     0.0      1.0              0.0               1.0   \n",
       "3          1.0     1.0      0.0              1.0               0.0   \n",
       "4          1.0     1.0      0.0              0.0               1.0   \n",
       "\n",
       "   current_acct_NO  current_acct_YES  mortgage_NO  mortgage_YES  \n",
       "0              1.0               0.0          1.0           0.0  \n",
       "1              0.0               1.0          0.0           1.0  \n",
       "2              0.0               1.0          1.0           0.0  \n",
       "3              0.0               1.0          1.0           0.0  \n",
       "4              1.0               0.0          1.0           0.0  "
      ]
     },
     "execution_count": 146,
     "metadata": {},
     "output_type": "execute_result"
    }
   ],
   "source": [
    "bank_df_ssf.head()"
   ]
  },
  {
   "cell_type": "code",
   "execution_count": 147,
   "metadata": {
    "collapsed": false
   },
   "outputs": [
    {
     "data": {
      "text/html": [
       "<div>\n",
       "<table border=\"1\" class=\"dataframe\">\n",
       "  <thead>\n",
       "    <tr style=\"text-align: right;\">\n",
       "      <th></th>\n",
       "      <th>age</th>\n",
       "      <th>income</th>\n",
       "      <th>children</th>\n",
       "      <th>gender_FEMALE</th>\n",
       "      <th>gender_MALE</th>\n",
       "      <th>region_INNER_CITY</th>\n",
       "      <th>region_RURAL</th>\n",
       "      <th>region_SUBURBAN</th>\n",
       "      <th>region_TOWN</th>\n",
       "      <th>married_NO</th>\n",
       "      <th>married_YES</th>\n",
       "      <th>car_NO</th>\n",
       "      <th>car_YES</th>\n",
       "      <th>savings_acct_NO</th>\n",
       "      <th>savings_acct_YES</th>\n",
       "      <th>current_acct_NO</th>\n",
       "      <th>current_acct_YES</th>\n",
       "      <th>mortgage_NO</th>\n",
       "      <th>mortgage_YES</th>\n",
       "    </tr>\n",
       "  </thead>\n",
       "  <tbody>\n",
       "    <tr>\n",
       "      <th>age</th>\n",
       "      <td>1.000000</td>\n",
       "      <td>0.752726</td>\n",
       "      <td>0.023572</td>\n",
       "      <td>0.090081</td>\n",
       "      <td>-0.090081</td>\n",
       "      <td>-0.025171</td>\n",
       "      <td>0.018635</td>\n",
       "      <td>0.031345</td>\n",
       "      <td>-0.008510</td>\n",
       "      <td>-0.010394</td>\n",
       "      <td>0.010394</td>\n",
       "      <td>-0.077733</td>\n",
       "      <td>0.077733</td>\n",
       "      <td>-0.184389</td>\n",
       "      <td>0.184389</td>\n",
       "      <td>0.035312</td>\n",
       "      <td>-0.035312</td>\n",
       "      <td>0.016154</td>\n",
       "      <td>-0.016154</td>\n",
       "    </tr>\n",
       "    <tr>\n",
       "      <th>income</th>\n",
       "      <td>0.752726</td>\n",
       "      <td>1.000000</td>\n",
       "      <td>0.036761</td>\n",
       "      <td>0.023845</td>\n",
       "      <td>-0.023845</td>\n",
       "      <td>-0.047564</td>\n",
       "      <td>0.084776</td>\n",
       "      <td>0.029824</td>\n",
       "      <td>-0.036431</td>\n",
       "      <td>0.008386</td>\n",
       "      <td>-0.008386</td>\n",
       "      <td>-0.081556</td>\n",
       "      <td>0.081556</td>\n",
       "      <td>-0.266164</td>\n",
       "      <td>0.266164</td>\n",
       "      <td>-0.031616</td>\n",
       "      <td>0.031616</td>\n",
       "      <td>0.014662</td>\n",
       "      <td>-0.014662</td>\n",
       "    </tr>\n",
       "    <tr>\n",
       "      <th>children</th>\n",
       "      <td>0.023572</td>\n",
       "      <td>0.036761</td>\n",
       "      <td>1.000000</td>\n",
       "      <td>0.014206</td>\n",
       "      <td>-0.014206</td>\n",
       "      <td>-0.051222</td>\n",
       "      <td>0.089902</td>\n",
       "      <td>-0.014122</td>\n",
       "      <td>-0.007033</td>\n",
       "      <td>0.048716</td>\n",
       "      <td>-0.048716</td>\n",
       "      <td>-0.036455</td>\n",
       "      <td>0.036455</td>\n",
       "      <td>-0.041536</td>\n",
       "      <td>0.041536</td>\n",
       "      <td>-0.006238</td>\n",
       "      <td>0.006238</td>\n",
       "      <td>0.074339</td>\n",
       "      <td>-0.074339</td>\n",
       "    </tr>\n",
       "    <tr>\n",
       "      <th>gender_FEMALE</th>\n",
       "      <td>0.090081</td>\n",
       "      <td>0.023845</td>\n",
       "      <td>0.014206</td>\n",
       "      <td>1.000000</td>\n",
       "      <td>-1.000000</td>\n",
       "      <td>-0.023459</td>\n",
       "      <td>-0.009092</td>\n",
       "      <td>-0.010951</td>\n",
       "      <td>0.040472</td>\n",
       "      <td>0.021110</td>\n",
       "      <td>-0.021110</td>\n",
       "      <td>0.006667</td>\n",
       "      <td>-0.006667</td>\n",
       "      <td>0.007207</td>\n",
       "      <td>-0.007207</td>\n",
       "      <td>-0.019466</td>\n",
       "      <td>0.019466</td>\n",
       "      <td>0.066465</td>\n",
       "      <td>-0.066465</td>\n",
       "    </tr>\n",
       "    <tr>\n",
       "      <th>gender_MALE</th>\n",
       "      <td>-0.090081</td>\n",
       "      <td>-0.023845</td>\n",
       "      <td>-0.014206</td>\n",
       "      <td>-1.000000</td>\n",
       "      <td>1.000000</td>\n",
       "      <td>0.023459</td>\n",
       "      <td>0.009092</td>\n",
       "      <td>0.010951</td>\n",
       "      <td>-0.040472</td>\n",
       "      <td>-0.021110</td>\n",
       "      <td>0.021110</td>\n",
       "      <td>-0.006667</td>\n",
       "      <td>0.006667</td>\n",
       "      <td>-0.007207</td>\n",
       "      <td>0.007207</td>\n",
       "      <td>0.019466</td>\n",
       "      <td>-0.019466</td>\n",
       "      <td>-0.066465</td>\n",
       "      <td>0.066465</td>\n",
       "    </tr>\n",
       "    <tr>\n",
       "      <th>region_INNER_CITY</th>\n",
       "      <td>-0.025171</td>\n",
       "      <td>-0.047564</td>\n",
       "      <td>-0.051222</td>\n",
       "      <td>-0.023459</td>\n",
       "      <td>0.023459</td>\n",
       "      <td>1.000000</td>\n",
       "      <td>-0.393444</td>\n",
       "      <td>-0.306032</td>\n",
       "      <td>-0.573814</td>\n",
       "      <td>-0.003254</td>\n",
       "      <td>0.003254</td>\n",
       "      <td>0.018143</td>\n",
       "      <td>-0.018143</td>\n",
       "      <td>0.091373</td>\n",
       "      <td>-0.091373</td>\n",
       "      <td>-0.007894</td>\n",
       "      <td>0.007894</td>\n",
       "      <td>-0.002098</td>\n",
       "      <td>0.002098</td>\n",
       "    </tr>\n",
       "    <tr>\n",
       "      <th>region_RURAL</th>\n",
       "      <td>0.018635</td>\n",
       "      <td>0.084776</td>\n",
       "      <td>0.089902</td>\n",
       "      <td>-0.009092</td>\n",
       "      <td>0.009092</td>\n",
       "      <td>-0.393444</td>\n",
       "      <td>1.000000</td>\n",
       "      <td>-0.148158</td>\n",
       "      <td>-0.277798</td>\n",
       "      <td>0.022649</td>\n",
       "      <td>-0.022649</td>\n",
       "      <td>-0.024006</td>\n",
       "      <td>0.024006</td>\n",
       "      <td>-0.036960</td>\n",
       "      <td>0.036960</td>\n",
       "      <td>0.008496</td>\n",
       "      <td>-0.008496</td>\n",
       "      <td>0.051908</td>\n",
       "      <td>-0.051908</td>\n",
       "    </tr>\n",
       "    <tr>\n",
       "      <th>region_SUBURBAN</th>\n",
       "      <td>0.031345</td>\n",
       "      <td>0.029824</td>\n",
       "      <td>-0.014122</td>\n",
       "      <td>-0.010951</td>\n",
       "      <td>0.010951</td>\n",
       "      <td>-0.306032</td>\n",
       "      <td>-0.148158</td>\n",
       "      <td>1.000000</td>\n",
       "      <td>-0.216080</td>\n",
       "      <td>-0.012483</td>\n",
       "      <td>0.012483</td>\n",
       "      <td>0.061184</td>\n",
       "      <td>-0.061184</td>\n",
       "      <td>-0.002605</td>\n",
       "      <td>0.002605</td>\n",
       "      <td>-0.038157</td>\n",
       "      <td>0.038157</td>\n",
       "      <td>-0.004635</td>\n",
       "      <td>0.004635</td>\n",
       "    </tr>\n",
       "    <tr>\n",
       "      <th>region_TOWN</th>\n",
       "      <td>-0.008510</td>\n",
       "      <td>-0.036431</td>\n",
       "      <td>-0.007033</td>\n",
       "      <td>0.040472</td>\n",
       "      <td>-0.040472</td>\n",
       "      <td>-0.573814</td>\n",
       "      <td>-0.277798</td>\n",
       "      <td>-0.216080</td>\n",
       "      <td>1.000000</td>\n",
       "      <td>-0.006369</td>\n",
       "      <td>0.006369</td>\n",
       "      <td>-0.041604</td>\n",
       "      <td>0.041604</td>\n",
       "      <td>-0.068654</td>\n",
       "      <td>0.068654</td>\n",
       "      <td>0.027431</td>\n",
       "      <td>-0.027431</td>\n",
       "      <td>-0.036591</td>\n",
       "      <td>0.036591</td>\n",
       "    </tr>\n",
       "    <tr>\n",
       "      <th>married_NO</th>\n",
       "      <td>-0.010394</td>\n",
       "      <td>0.008386</td>\n",
       "      <td>0.048716</td>\n",
       "      <td>0.021110</td>\n",
       "      <td>-0.021110</td>\n",
       "      <td>-0.003254</td>\n",
       "      <td>0.022649</td>\n",
       "      <td>-0.012483</td>\n",
       "      <td>-0.006369</td>\n",
       "      <td>1.000000</td>\n",
       "      <td>-1.000000</td>\n",
       "      <td>-0.009571</td>\n",
       "      <td>0.009571</td>\n",
       "      <td>0.028604</td>\n",
       "      <td>-0.028604</td>\n",
       "      <td>-0.059996</td>\n",
       "      <td>0.059996</td>\n",
       "      <td>-0.021711</td>\n",
       "      <td>0.021711</td>\n",
       "    </tr>\n",
       "    <tr>\n",
       "      <th>married_YES</th>\n",
       "      <td>0.010394</td>\n",
       "      <td>-0.008386</td>\n",
       "      <td>-0.048716</td>\n",
       "      <td>-0.021110</td>\n",
       "      <td>0.021110</td>\n",
       "      <td>0.003254</td>\n",
       "      <td>-0.022649</td>\n",
       "      <td>0.012483</td>\n",
       "      <td>0.006369</td>\n",
       "      <td>-1.000000</td>\n",
       "      <td>1.000000</td>\n",
       "      <td>0.009571</td>\n",
       "      <td>-0.009571</td>\n",
       "      <td>-0.028604</td>\n",
       "      <td>0.028604</td>\n",
       "      <td>0.059996</td>\n",
       "      <td>-0.059996</td>\n",
       "      <td>0.021711</td>\n",
       "      <td>-0.021711</td>\n",
       "    </tr>\n",
       "    <tr>\n",
       "      <th>car_NO</th>\n",
       "      <td>-0.077733</td>\n",
       "      <td>-0.081556</td>\n",
       "      <td>-0.036455</td>\n",
       "      <td>0.006667</td>\n",
       "      <td>-0.006667</td>\n",
       "      <td>0.018143</td>\n",
       "      <td>-0.024006</td>\n",
       "      <td>0.061184</td>\n",
       "      <td>-0.041604</td>\n",
       "      <td>-0.009571</td>\n",
       "      <td>0.009571</td>\n",
       "      <td>1.000000</td>\n",
       "      <td>-1.000000</td>\n",
       "      <td>0.034310</td>\n",
       "      <td>-0.034310</td>\n",
       "      <td>-0.034783</td>\n",
       "      <td>0.034783</td>\n",
       "      <td>-0.007743</td>\n",
       "      <td>0.007743</td>\n",
       "    </tr>\n",
       "    <tr>\n",
       "      <th>car_YES</th>\n",
       "      <td>0.077733</td>\n",
       "      <td>0.081556</td>\n",
       "      <td>0.036455</td>\n",
       "      <td>-0.006667</td>\n",
       "      <td>0.006667</td>\n",
       "      <td>-0.018143</td>\n",
       "      <td>0.024006</td>\n",
       "      <td>-0.061184</td>\n",
       "      <td>0.041604</td>\n",
       "      <td>0.009571</td>\n",
       "      <td>-0.009571</td>\n",
       "      <td>-1.000000</td>\n",
       "      <td>1.000000</td>\n",
       "      <td>-0.034310</td>\n",
       "      <td>0.034310</td>\n",
       "      <td>0.034783</td>\n",
       "      <td>-0.034783</td>\n",
       "      <td>0.007743</td>\n",
       "      <td>-0.007743</td>\n",
       "    </tr>\n",
       "    <tr>\n",
       "      <th>savings_acct_NO</th>\n",
       "      <td>-0.184389</td>\n",
       "      <td>-0.266164</td>\n",
       "      <td>-0.041536</td>\n",
       "      <td>0.007207</td>\n",
       "      <td>-0.007207</td>\n",
       "      <td>0.091373</td>\n",
       "      <td>-0.036960</td>\n",
       "      <td>-0.002605</td>\n",
       "      <td>-0.068654</td>\n",
       "      <td>0.028604</td>\n",
       "      <td>-0.028604</td>\n",
       "      <td>0.034310</td>\n",
       "      <td>-0.034310</td>\n",
       "      <td>1.000000</td>\n",
       "      <td>-1.000000</td>\n",
       "      <td>0.042511</td>\n",
       "      <td>-0.042511</td>\n",
       "      <td>-0.001588</td>\n",
       "      <td>0.001588</td>\n",
       "    </tr>\n",
       "    <tr>\n",
       "      <th>savings_acct_YES</th>\n",
       "      <td>0.184389</td>\n",
       "      <td>0.266164</td>\n",
       "      <td>0.041536</td>\n",
       "      <td>-0.007207</td>\n",
       "      <td>0.007207</td>\n",
       "      <td>-0.091373</td>\n",
       "      <td>0.036960</td>\n",
       "      <td>0.002605</td>\n",
       "      <td>0.068654</td>\n",
       "      <td>-0.028604</td>\n",
       "      <td>0.028604</td>\n",
       "      <td>-0.034310</td>\n",
       "      <td>0.034310</td>\n",
       "      <td>-1.000000</td>\n",
       "      <td>1.000000</td>\n",
       "      <td>-0.042511</td>\n",
       "      <td>0.042511</td>\n",
       "      <td>0.001588</td>\n",
       "      <td>-0.001588</td>\n",
       "    </tr>\n",
       "    <tr>\n",
       "      <th>current_acct_NO</th>\n",
       "      <td>0.035312</td>\n",
       "      <td>-0.031616</td>\n",
       "      <td>-0.006238</td>\n",
       "      <td>-0.019466</td>\n",
       "      <td>0.019466</td>\n",
       "      <td>-0.007894</td>\n",
       "      <td>0.008496</td>\n",
       "      <td>-0.038157</td>\n",
       "      <td>0.027431</td>\n",
       "      <td>-0.059996</td>\n",
       "      <td>0.059996</td>\n",
       "      <td>-0.034783</td>\n",
       "      <td>0.034783</td>\n",
       "      <td>0.042511</td>\n",
       "      <td>-0.042511</td>\n",
       "      <td>1.000000</td>\n",
       "      <td>-1.000000</td>\n",
       "      <td>-0.036704</td>\n",
       "      <td>0.036704</td>\n",
       "    </tr>\n",
       "    <tr>\n",
       "      <th>current_acct_YES</th>\n",
       "      <td>-0.035312</td>\n",
       "      <td>0.031616</td>\n",
       "      <td>0.006238</td>\n",
       "      <td>0.019466</td>\n",
       "      <td>-0.019466</td>\n",
       "      <td>0.007894</td>\n",
       "      <td>-0.008496</td>\n",
       "      <td>0.038157</td>\n",
       "      <td>-0.027431</td>\n",
       "      <td>0.059996</td>\n",
       "      <td>-0.059996</td>\n",
       "      <td>0.034783</td>\n",
       "      <td>-0.034783</td>\n",
       "      <td>-0.042511</td>\n",
       "      <td>0.042511</td>\n",
       "      <td>-1.000000</td>\n",
       "      <td>1.000000</td>\n",
       "      <td>0.036704</td>\n",
       "      <td>-0.036704</td>\n",
       "    </tr>\n",
       "    <tr>\n",
       "      <th>mortgage_NO</th>\n",
       "      <td>0.016154</td>\n",
       "      <td>0.014662</td>\n",
       "      <td>0.074339</td>\n",
       "      <td>0.066465</td>\n",
       "      <td>-0.066465</td>\n",
       "      <td>-0.002098</td>\n",
       "      <td>0.051908</td>\n",
       "      <td>-0.004635</td>\n",
       "      <td>-0.036591</td>\n",
       "      <td>-0.021711</td>\n",
       "      <td>0.021711</td>\n",
       "      <td>-0.007743</td>\n",
       "      <td>0.007743</td>\n",
       "      <td>-0.001588</td>\n",
       "      <td>0.001588</td>\n",
       "      <td>-0.036704</td>\n",
       "      <td>0.036704</td>\n",
       "      <td>1.000000</td>\n",
       "      <td>-1.000000</td>\n",
       "    </tr>\n",
       "    <tr>\n",
       "      <th>mortgage_YES</th>\n",
       "      <td>-0.016154</td>\n",
       "      <td>-0.014662</td>\n",
       "      <td>-0.074339</td>\n",
       "      <td>-0.066465</td>\n",
       "      <td>0.066465</td>\n",
       "      <td>0.002098</td>\n",
       "      <td>-0.051908</td>\n",
       "      <td>0.004635</td>\n",
       "      <td>0.036591</td>\n",
       "      <td>0.021711</td>\n",
       "      <td>-0.021711</td>\n",
       "      <td>0.007743</td>\n",
       "      <td>-0.007743</td>\n",
       "      <td>0.001588</td>\n",
       "      <td>-0.001588</td>\n",
       "      <td>0.036704</td>\n",
       "      <td>-0.036704</td>\n",
       "      <td>-1.000000</td>\n",
       "      <td>1.000000</td>\n",
       "    </tr>\n",
       "  </tbody>\n",
       "</table>\n",
       "</div>"
      ],
      "text/plain": [
       "                        age    income  children  gender_FEMALE  gender_MALE  \\\n",
       "age                1.000000  0.752726  0.023572       0.090081    -0.090081   \n",
       "income             0.752726  1.000000  0.036761       0.023845    -0.023845   \n",
       "children           0.023572  0.036761  1.000000       0.014206    -0.014206   \n",
       "gender_FEMALE      0.090081  0.023845  0.014206       1.000000    -1.000000   \n",
       "gender_MALE       -0.090081 -0.023845 -0.014206      -1.000000     1.000000   \n",
       "region_INNER_CITY -0.025171 -0.047564 -0.051222      -0.023459     0.023459   \n",
       "region_RURAL       0.018635  0.084776  0.089902      -0.009092     0.009092   \n",
       "region_SUBURBAN    0.031345  0.029824 -0.014122      -0.010951     0.010951   \n",
       "region_TOWN       -0.008510 -0.036431 -0.007033       0.040472    -0.040472   \n",
       "married_NO        -0.010394  0.008386  0.048716       0.021110    -0.021110   \n",
       "married_YES        0.010394 -0.008386 -0.048716      -0.021110     0.021110   \n",
       "car_NO            -0.077733 -0.081556 -0.036455       0.006667    -0.006667   \n",
       "car_YES            0.077733  0.081556  0.036455      -0.006667     0.006667   \n",
       "savings_acct_NO   -0.184389 -0.266164 -0.041536       0.007207    -0.007207   \n",
       "savings_acct_YES   0.184389  0.266164  0.041536      -0.007207     0.007207   \n",
       "current_acct_NO    0.035312 -0.031616 -0.006238      -0.019466     0.019466   \n",
       "current_acct_YES  -0.035312  0.031616  0.006238       0.019466    -0.019466   \n",
       "mortgage_NO        0.016154  0.014662  0.074339       0.066465    -0.066465   \n",
       "mortgage_YES      -0.016154 -0.014662 -0.074339      -0.066465     0.066465   \n",
       "\n",
       "                   region_INNER_CITY  region_RURAL  region_SUBURBAN  \\\n",
       "age                        -0.025171      0.018635         0.031345   \n",
       "income                     -0.047564      0.084776         0.029824   \n",
       "children                   -0.051222      0.089902        -0.014122   \n",
       "gender_FEMALE              -0.023459     -0.009092        -0.010951   \n",
       "gender_MALE                 0.023459      0.009092         0.010951   \n",
       "region_INNER_CITY           1.000000     -0.393444        -0.306032   \n",
       "region_RURAL               -0.393444      1.000000        -0.148158   \n",
       "region_SUBURBAN            -0.306032     -0.148158         1.000000   \n",
       "region_TOWN                -0.573814     -0.277798        -0.216080   \n",
       "married_NO                 -0.003254      0.022649        -0.012483   \n",
       "married_YES                 0.003254     -0.022649         0.012483   \n",
       "car_NO                      0.018143     -0.024006         0.061184   \n",
       "car_YES                    -0.018143      0.024006        -0.061184   \n",
       "savings_acct_NO             0.091373     -0.036960        -0.002605   \n",
       "savings_acct_YES           -0.091373      0.036960         0.002605   \n",
       "current_acct_NO            -0.007894      0.008496        -0.038157   \n",
       "current_acct_YES            0.007894     -0.008496         0.038157   \n",
       "mortgage_NO                -0.002098      0.051908        -0.004635   \n",
       "mortgage_YES                0.002098     -0.051908         0.004635   \n",
       "\n",
       "                   region_TOWN  married_NO  married_YES    car_NO   car_YES  \\\n",
       "age                  -0.008510   -0.010394     0.010394 -0.077733  0.077733   \n",
       "income               -0.036431    0.008386    -0.008386 -0.081556  0.081556   \n",
       "children             -0.007033    0.048716    -0.048716 -0.036455  0.036455   \n",
       "gender_FEMALE         0.040472    0.021110    -0.021110  0.006667 -0.006667   \n",
       "gender_MALE          -0.040472   -0.021110     0.021110 -0.006667  0.006667   \n",
       "region_INNER_CITY    -0.573814   -0.003254     0.003254  0.018143 -0.018143   \n",
       "region_RURAL         -0.277798    0.022649    -0.022649 -0.024006  0.024006   \n",
       "region_SUBURBAN      -0.216080   -0.012483     0.012483  0.061184 -0.061184   \n",
       "region_TOWN           1.000000   -0.006369     0.006369 -0.041604  0.041604   \n",
       "married_NO           -0.006369    1.000000    -1.000000 -0.009571  0.009571   \n",
       "married_YES           0.006369   -1.000000     1.000000  0.009571 -0.009571   \n",
       "car_NO               -0.041604   -0.009571     0.009571  1.000000 -1.000000   \n",
       "car_YES               0.041604    0.009571    -0.009571 -1.000000  1.000000   \n",
       "savings_acct_NO      -0.068654    0.028604    -0.028604  0.034310 -0.034310   \n",
       "savings_acct_YES      0.068654   -0.028604     0.028604 -0.034310  0.034310   \n",
       "current_acct_NO       0.027431   -0.059996     0.059996 -0.034783  0.034783   \n",
       "current_acct_YES     -0.027431    0.059996    -0.059996  0.034783 -0.034783   \n",
       "mortgage_NO          -0.036591   -0.021711     0.021711 -0.007743  0.007743   \n",
       "mortgage_YES          0.036591    0.021711    -0.021711  0.007743 -0.007743   \n",
       "\n",
       "                   savings_acct_NO  savings_acct_YES  current_acct_NO  \\\n",
       "age                      -0.184389          0.184389         0.035312   \n",
       "income                   -0.266164          0.266164        -0.031616   \n",
       "children                 -0.041536          0.041536        -0.006238   \n",
       "gender_FEMALE             0.007207         -0.007207        -0.019466   \n",
       "gender_MALE              -0.007207          0.007207         0.019466   \n",
       "region_INNER_CITY         0.091373         -0.091373        -0.007894   \n",
       "region_RURAL             -0.036960          0.036960         0.008496   \n",
       "region_SUBURBAN          -0.002605          0.002605        -0.038157   \n",
       "region_TOWN              -0.068654          0.068654         0.027431   \n",
       "married_NO                0.028604         -0.028604        -0.059996   \n",
       "married_YES              -0.028604          0.028604         0.059996   \n",
       "car_NO                    0.034310         -0.034310        -0.034783   \n",
       "car_YES                  -0.034310          0.034310         0.034783   \n",
       "savings_acct_NO           1.000000         -1.000000         0.042511   \n",
       "savings_acct_YES         -1.000000          1.000000        -0.042511   \n",
       "current_acct_NO           0.042511         -0.042511         1.000000   \n",
       "current_acct_YES         -0.042511          0.042511        -1.000000   \n",
       "mortgage_NO              -0.001588          0.001588        -0.036704   \n",
       "mortgage_YES              0.001588         -0.001588         0.036704   \n",
       "\n",
       "                   current_acct_YES  mortgage_NO  mortgage_YES  \n",
       "age                       -0.035312     0.016154     -0.016154  \n",
       "income                     0.031616     0.014662     -0.014662  \n",
       "children                   0.006238     0.074339     -0.074339  \n",
       "gender_FEMALE              0.019466     0.066465     -0.066465  \n",
       "gender_MALE               -0.019466    -0.066465      0.066465  \n",
       "region_INNER_CITY          0.007894    -0.002098      0.002098  \n",
       "region_RURAL              -0.008496     0.051908     -0.051908  \n",
       "region_SUBURBAN            0.038157    -0.004635      0.004635  \n",
       "region_TOWN               -0.027431    -0.036591      0.036591  \n",
       "married_NO                 0.059996    -0.021711      0.021711  \n",
       "married_YES               -0.059996     0.021711     -0.021711  \n",
       "car_NO                     0.034783    -0.007743      0.007743  \n",
       "car_YES                   -0.034783     0.007743     -0.007743  \n",
       "savings_acct_NO           -0.042511    -0.001588      0.001588  \n",
       "savings_acct_YES           0.042511     0.001588     -0.001588  \n",
       "current_acct_NO           -1.000000    -0.036704      0.036704  \n",
       "current_acct_YES           1.000000     0.036704     -0.036704  \n",
       "mortgage_NO                0.036704     1.000000     -1.000000  \n",
       "mortgage_YES              -0.036704    -1.000000      1.000000  "
      ]
     },
     "execution_count": 147,
     "metadata": {},
     "output_type": "execute_result"
    }
   ],
   "source": [
    "bank_df_ssf.corr()"
   ]
  },
  {
   "cell_type": "markdown",
   "metadata": {},
   "source": [
    "From the correlation table above, we can see that there is positive correlation between Age and Income and the correlation coefficient comes out to be 0.75. No other correlation coefficients show that strong positive or negative correlation as seen from the table. There is correlation between variables like PEP (YES/NO) and Income and Age and Savings Account (YES/NO) and Income and Age but the correlation coefficients are very small with values less than 0.3 and correlation of around -0.39 between dummies like Region_Rural and Region_InnerCity and negative correlation of -0.5 between Region_Town and Region_InnerCity which explain the observations we made before that those regions differ from each other, but it doesn't provide any valuable insights or analysis so we the only significant correlation we can see from the table is between Age and Income. Also there are very weak positive correaltions between Age and Income and SavingsAccount_Yes and PEP_Yes which supports the claim we made earlier that people with higher income and age are the ones who have savings accounts and are enrolled into PEP."
   ]
  },
  {
   "cell_type": "markdown",
   "metadata": {},
   "source": [
    "# 8. Using Matplotlib library and/or ploting capabilties of Pandas, create a scatter plot of the (non-normalized) Income attribute relative to Age. Be sure that your plot contains appropriate labels for the axes. Do these variables seem correlated?"
   ]
  },
  {
   "cell_type": "code",
   "execution_count": 149,
   "metadata": {
    "collapsed": false
   },
   "outputs": [
    {
     "data": {
      "text/plain": [
       "<matplotlib.axes._subplots.AxesSubplot at 0x11bc80da0>"
      ]
     },
     "execution_count": 149,
     "metadata": {},
     "output_type": "execute_result"
    },
    {
     "data": {
      "image/png": "[encoded data removed]",
      "text/plain": [
       "<matplotlib.figure.Figure at 0x11bb27f60>"
      ]
     },
     "metadata": {},
     "output_type": "display_data"
    }
   ],
   "source": [
    "bank_df.plot(x='income', y='age', kind='scatter', title=\"Scatter plot of income vs age\")"
   ]
  },
  {
   "cell_type": "markdown",
   "metadata": {},
   "source": [
    "From the scatterplot we can see the moderately strong positive correlation, which was evident from the correlation table as well. X-axis has \"Income\" label and Y-Axis has \"Age\" label."
   ]
  },
  {
   "cell_type": "markdown",
   "metadata": {},
   "source": [
    "# 9. Create histograms for (non-normalized) Income (using 9 bins) and Age (using 15 bins)."
   ]
  },
  {
   "cell_type": "code",
   "execution_count": 161,
   "metadata": {
    "collapsed": false
   },
   "outputs": [
    {
     "data": {
      "text/plain": [
       "<matplotlib.axes._subplots.AxesSubplot at 0x11d11bdd8>"
      ]
     },
     "execution_count": 161,
     "metadata": {},
     "output_type": "execute_result"
    },
    {
     "data": {
      "image/png": "[encoded data removed]",
      "text/plain": [
       "<matplotlib.figure.Figure at 0x11d23e2b0>"
      ]
     },
     "metadata": {},
     "output_type": "display_data"
    }
   ],
   "source": [
    "bank_df[\"income\"].plot(x=\"income\",bins=9, kind=\"hist\", title=\"Histogram for Income\",grid=True)"
   ]
  },
  {
   "cell_type": "code",
   "execution_count": 158,
   "metadata": {
    "collapsed": false
   },
   "outputs": [
    {
     "data": {
      "text/plain": [
       "<matplotlib.axes._subplots.AxesSubplot at 0x11cd22ba8>"
      ]
     },
     "execution_count": 158,
     "metadata": {},
     "output_type": "execute_result"
    },
    {
     "data": {
      "image/png": "[encoded data removed]",
      "text/plain": [
       "<matplotlib.figure.Figure at 0x11cced908>"
      ]
     },
     "metadata": {},
     "output_type": "display_data"
    }
   ],
   "source": [
    "bank_df[\"age\"].plot(x=\"age\", bins=15, kind=\"hist\", title=\"Histogram for Age\", grid=True)"
   ]
  },
  {
   "cell_type": "markdown",
   "metadata": {},
   "source": [
    "# 10. Using a bargraph, plot the distribution of the values of the region attribute."
   ]
  },
  {
   "cell_type": "code",
   "execution_count": 168,
   "metadata": {
    "collapsed": false
   },
   "outputs": [
    {
     "data": {
      "text/plain": [
       "<matplotlib.axes._subplots.AxesSubplot at 0x11f4237f0>"
      ]
     },
     "execution_count": 168,
     "metadata": {},
     "output_type": "execute_result"
    },
    {
     "data": {
      "image/png": "[encoded data removed]",
      "text/plain": [
       "<matplotlib.figure.Figure at 0x1211545c0>"
      ]
     },
     "metadata": {},
     "output_type": "display_data"
    }
   ],
   "source": [
    "bank_df[\"region\"].value_counts().plot(kind=\"bar\",title=\"Bar plot for the region attribute\", grid=True)"
   ]
  },
  {
   "cell_type": "markdown",
   "metadata": {},
   "source": [
    "From the Bar plot, it can be inferred that the highest number of customers are from INNER_CITY in this dataset and the least count is of SUBURBAN region."
   ]
  },
  {
   "cell_type": "markdown",
   "metadata": {},
   "source": [
    "# 11. Perform a cross-tabulation of the region attribute with the pep attribute. This requires the aggregation of the occurrences of each pep value (yes or no) separately for each value of the region attribute. Show the results as a 4 by 2 (region x pep) table with entries representing the counts. [Hint: you can either use Numpy or use aggregations fucntions in Pandas such as groupby() and  cross-tab().] Then, either using Matplotlib directly or the plot() function in Pandas create a bar chart graph to visualize of the relationships between these sets of variables. [Hint: This example of creating simple bar charts using Matplotlib may be useful.]"
   ]
  },
  {
   "cell_type": "code",
   "execution_count": 172,
   "metadata": {
    "collapsed": false
   },
   "outputs": [
    {
     "data": {
      "text/plain": [
       "region      pep\n",
       "INNER_CITY  NO     146\n",
       "            YES    123\n",
       "RURAL       NO      50\n",
       "            YES     46\n",
       "SUBURBAN    NO      28\n",
       "            YES     34\n",
       "TOWN        NO     102\n",
       "            YES     71\n",
       "Name: pep, dtype: int64"
      ]
     },
     "execution_count": 172,
     "metadata": {},
     "output_type": "execute_result"
    }
   ],
   "source": [
    "bank_df.groupby([\"region\",\"pep\"])[\"pep\"].count()"
   ]
  },
  {
   "cell_type": "code",
   "execution_count": 174,
   "metadata": {
    "collapsed": false
   },
   "outputs": [
    {
     "data": {
      "text/html": [
       "<div>\n",
       "<table border=\"1\" class=\"dataframe\">\n",
       "  <thead>\n",
       "    <tr style=\"text-align: right;\">\n",
       "      <th>pep</th>\n",
       "      <th>NO</th>\n",
       "      <th>YES</th>\n",
       "    </tr>\n",
       "    <tr>\n",
       "      <th>region</th>\n",
       "      <th></th>\n",
       "      <th></th>\n",
       "    </tr>\n",
       "  </thead>\n",
       "  <tbody>\n",
       "    <tr>\n",
       "      <th>INNER_CITY</th>\n",
       "      <td>146</td>\n",
       "      <td>123</td>\n",
       "    </tr>\n",
       "    <tr>\n",
       "      <th>RURAL</th>\n",
       "      <td>50</td>\n",
       "      <td>46</td>\n",
       "    </tr>\n",
       "    <tr>\n",
       "      <th>SUBURBAN</th>\n",
       "      <td>28</td>\n",
       "      <td>34</td>\n",
       "    </tr>\n",
       "    <tr>\n",
       "      <th>TOWN</th>\n",
       "      <td>102</td>\n",
       "      <td>71</td>\n",
       "    </tr>\n",
       "  </tbody>\n",
       "</table>\n",
       "</div>"
      ],
      "text/plain": [
       "pep          NO  YES\n",
       "region              \n",
       "INNER_CITY  146  123\n",
       "RURAL        50   46\n",
       "SUBURBAN     28   34\n",
       "TOWN        102   71"
      ]
     },
     "execution_count": 174,
     "metadata": {},
     "output_type": "execute_result"
    }
   ],
   "source": [
    "tab= pd.crosstab(bank_df[\"region\"],bank_df[\"pep\"])\n",
    "tab"
   ]
  },
  {
   "cell_type": "code",
   "execution_count": 178,
   "metadata": {
    "collapsed": false
   },
   "outputs": [
    {
     "data": {
      "text/plain": [
       "<matplotlib.axes._subplots.AxesSubplot at 0x1248fbf28>"
      ]
     },
     "execution_count": 178,
     "metadata": {},
     "output_type": "execute_result"
    },
    {
     "data": {
      "image/png": "[encoded data removed]",
      "text/plain": [
       "<matplotlib.figure.Figure at 0x124af9048>"
      ]
     },
     "metadata": {},
     "output_type": "display_data"
    }
   ],
   "source": [
    "tab.plot(legend=True,grid=True, kind=\"bar\",title=\"Region-Pep Crosstab\")"
   ]
  },
  {
   "cell_type": "markdown",
   "metadata": {},
   "source": [
    "From the above analysis, we can see the aggregated counts of regions for PEP values. Also there is crosstab showing 4 x 2 (region x pep) table with entries representing the counts.The bar graph visualizes the crosstab and we can see that only for the suburban region the trend is different and there are more people with PEP value of YES where as for all the other regions there are more counts for PEP as NO."
   ]
  },
  {
   "cell_type": "code",
   "execution_count": null,
   "metadata": {
    "collapsed": true
   },
   "outputs": [],
   "source": []
  }
 ],
 "metadata": {
  "anaconda-cloud": {},
  "kernelspec": {
   "display_name": "Python [conda root]",
   "language": "python",
   "name": "conda-root-py"
  },
  "language_info": {
   "codemirror_mode": {
    "name": "ipython",
    "version": 3
   },
   "file_extension": ".py",
   "mimetype": "text/x-python",
   "name": "python",
   "nbconvert_exporter": "python",
   "pygments_lexer": "ipython3",
   "version": "3.5.2"
  }
 },
 "nbformat": 4,
 "nbformat_minor": 1
}
