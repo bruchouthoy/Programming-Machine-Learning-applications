{
 "cells": [
  {
   "cell_type": "markdown",
   "metadata": {},
   "source": [
    "# CSC478 - Assignment 2: Part 2\n",
    "\n",
    "## Classification using scikit-learn [Dataset: bank_data.csv]\n",
    "\n",
    "#### For this problem you will experiment with various classifiers provided as part of the scikit-learn (sklearn) machine learning module, as well as with some of its preprocessing and model evaluation capabilities.  [Note: This module is already part of the Anaconda distributions. However, if you are using standalone Python distributions, you will need to first obtain and install it]. You will work with a modified subset of a real data set of customers for a bank. This is the same data set used in Assignment 1. The data is provided in a CSV formatted file with the first row containing the attribute names. The description of the the different fields in the data are provided in this document.\n",
    "\n"
   ]
  },
  {
   "cell_type": "markdown",
   "metadata": {},
   "source": [
    "## a) Load and preprocess the data using Numpy or Pandas and the preprocessing functions from scikit-learn. Specifically, you need to separate the target attribute (\"pep\") from the portion of the data to be used for training and testing. You will need to convert the selected dataset into the Standard Spreadsheet format (scikit-learn functions generally assume that all attributes are in numeric form). Finally, you need to split the transformed data into training and test sets (using 80%-20% randomized split)."
   ]
  },
  {
   "cell_type": "code",
   "execution_count": 1,
   "metadata": {
    "collapsed": false
   },
   "outputs": [
    {
     "data": {
      "text/plain": [
       "'/Users/Bru/Desktop/MS-PA/Spring2017/CSC478-ML/CSC478 - Assignments/HW2'"
      ]
     },
     "execution_count": 1,
     "metadata": {},
     "output_type": "execute_result"
    }
   ],
   "source": [
    "pwd"
   ]
  },
  {
   "cell_type": "code",
   "execution_count": 2,
   "metadata": {
    "collapsed": true
   },
   "outputs": [],
   "source": [
    "# Importing Libraries\n",
    "import pandas as pd\n",
    "import numpy as np\n",
    "import matplotlib.pyplot as plt\n",
    "%matplotlib inline"
   ]
  },
  {
   "cell_type": "code",
   "execution_count": 4,
   "metadata": {
    "collapsed": false
   },
   "outputs": [
    {
     "data": {
      "text/html": [
       "<div>\n",
       "<table border=\"1\" class=\"dataframe\">\n",
       "  <thead>\n",
       "    <tr style=\"text-align: right;\">\n",
       "      <th></th>\n",
       "      <th>age</th>\n",
       "      <th>income</th>\n",
       "      <th>children</th>\n",
       "      <th>gender</th>\n",
       "      <th>region</th>\n",
       "      <th>married</th>\n",
       "      <th>car</th>\n",
       "      <th>savings_acct</th>\n",
       "      <th>current_acct</th>\n",
       "      <th>mortgage</th>\n",
       "      <th>pep</th>\n",
       "    </tr>\n",
       "    <tr>\n",
       "      <th>id</th>\n",
       "      <th></th>\n",
       "      <th></th>\n",
       "      <th></th>\n",
       "      <th></th>\n",
       "      <th></th>\n",
       "      <th></th>\n",
       "      <th></th>\n",
       "      <th></th>\n",
       "      <th></th>\n",
       "      <th></th>\n",
       "      <th></th>\n",
       "    </tr>\n",
       "  </thead>\n",
       "  <tbody>\n",
       "    <tr>\n",
       "      <th>ID12101</th>\n",
       "      <td>48</td>\n",
       "      <td>17546.0</td>\n",
       "      <td>1</td>\n",
       "      <td>FEMALE</td>\n",
       "      <td>INNER_CITY</td>\n",
       "      <td>NO</td>\n",
       "      <td>NO</td>\n",
       "      <td>NO</td>\n",
       "      <td>NO</td>\n",
       "      <td>NO</td>\n",
       "      <td>YES</td>\n",
       "    </tr>\n",
       "    <tr>\n",
       "      <th>ID12102</th>\n",
       "      <td>40</td>\n",
       "      <td>30085.1</td>\n",
       "      <td>3</td>\n",
       "      <td>MALE</td>\n",
       "      <td>TOWN</td>\n",
       "      <td>YES</td>\n",
       "      <td>YES</td>\n",
       "      <td>NO</td>\n",
       "      <td>YES</td>\n",
       "      <td>YES</td>\n",
       "      <td>NO</td>\n",
       "    </tr>\n",
       "    <tr>\n",
       "      <th>ID12103</th>\n",
       "      <td>51</td>\n",
       "      <td>16575.4</td>\n",
       "      <td>0</td>\n",
       "      <td>FEMALE</td>\n",
       "      <td>INNER_CITY</td>\n",
       "      <td>YES</td>\n",
       "      <td>YES</td>\n",
       "      <td>YES</td>\n",
       "      <td>YES</td>\n",
       "      <td>NO</td>\n",
       "      <td>NO</td>\n",
       "    </tr>\n",
       "    <tr>\n",
       "      <th>ID12104</th>\n",
       "      <td>23</td>\n",
       "      <td>20375.4</td>\n",
       "      <td>3</td>\n",
       "      <td>FEMALE</td>\n",
       "      <td>TOWN</td>\n",
       "      <td>YES</td>\n",
       "      <td>NO</td>\n",
       "      <td>NO</td>\n",
       "      <td>YES</td>\n",
       "      <td>NO</td>\n",
       "      <td>NO</td>\n",
       "    </tr>\n",
       "    <tr>\n",
       "      <th>ID12105</th>\n",
       "      <td>57</td>\n",
       "      <td>50576.3</td>\n",
       "      <td>0</td>\n",
       "      <td>FEMALE</td>\n",
       "      <td>RURAL</td>\n",
       "      <td>YES</td>\n",
       "      <td>NO</td>\n",
       "      <td>YES</td>\n",
       "      <td>NO</td>\n",
       "      <td>NO</td>\n",
       "      <td>NO</td>\n",
       "    </tr>\n",
       "  </tbody>\n",
       "</table>\n",
       "</div>"
      ],
      "text/plain": [
       "         age   income  children  gender      region married  car savings_acct  \\\n",
       "id                                                                              \n",
       "ID12101   48  17546.0         1  FEMALE  INNER_CITY      NO   NO           NO   \n",
       "ID12102   40  30085.1         3    MALE        TOWN     YES  YES           NO   \n",
       "ID12103   51  16575.4         0  FEMALE  INNER_CITY     YES  YES          YES   \n",
       "ID12104   23  20375.4         3  FEMALE        TOWN     YES   NO           NO   \n",
       "ID12105   57  50576.3         0  FEMALE       RURAL     YES   NO          YES   \n",
       "\n",
       "        current_acct mortgage  pep  \n",
       "id                                  \n",
       "ID12101           NO       NO  YES  \n",
       "ID12102          YES      YES   NO  \n",
       "ID12103          YES       NO   NO  \n",
       "ID12104          YES       NO   NO  \n",
       "ID12105           NO       NO   NO  "
      ]
     },
     "execution_count": 4,
     "metadata": {},
     "output_type": "execute_result"
    }
   ],
   "source": [
    "bank_df = pd.read_csv('bank_data.csv', index_col=0)\n",
    "bank_df.head()"
   ]
  },
  {
   "cell_type": "code",
   "execution_count": 5,
   "metadata": {
    "collapsed": false
   },
   "outputs": [
    {
     "data": {
      "text/plain": [
       "(600, 11)"
      ]
     },
     "execution_count": 5,
     "metadata": {},
     "output_type": "execute_result"
    }
   ],
   "source": [
    "bank_df.shape"
   ]
  },
  {
   "cell_type": "code",
   "execution_count": 6,
   "metadata": {
    "collapsed": false
   },
   "outputs": [
    {
     "data": {
      "text/html": [
       "<div>\n",
       "<table border=\"1\" class=\"dataframe\">\n",
       "  <thead>\n",
       "    <tr style=\"text-align: right;\">\n",
       "      <th></th>\n",
       "      <th>age</th>\n",
       "      <th>income</th>\n",
       "      <th>children</th>\n",
       "      <th>gender</th>\n",
       "      <th>region</th>\n",
       "      <th>married</th>\n",
       "      <th>car</th>\n",
       "      <th>savings_acct</th>\n",
       "      <th>current_acct</th>\n",
       "      <th>mortgage</th>\n",
       "    </tr>\n",
       "    <tr>\n",
       "      <th>id</th>\n",
       "      <th></th>\n",
       "      <th></th>\n",
       "      <th></th>\n",
       "      <th></th>\n",
       "      <th></th>\n",
       "      <th></th>\n",
       "      <th></th>\n",
       "      <th></th>\n",
       "      <th></th>\n",
       "      <th></th>\n",
       "    </tr>\n",
       "  </thead>\n",
       "  <tbody>\n",
       "    <tr>\n",
       "      <th>ID12101</th>\n",
       "      <td>48</td>\n",
       "      <td>17546.0</td>\n",
       "      <td>1</td>\n",
       "      <td>FEMALE</td>\n",
       "      <td>INNER_CITY</td>\n",
       "      <td>NO</td>\n",
       "      <td>NO</td>\n",
       "      <td>NO</td>\n",
       "      <td>NO</td>\n",
       "      <td>NO</td>\n",
       "    </tr>\n",
       "    <tr>\n",
       "      <th>ID12102</th>\n",
       "      <td>40</td>\n",
       "      <td>30085.1</td>\n",
       "      <td>3</td>\n",
       "      <td>MALE</td>\n",
       "      <td>TOWN</td>\n",
       "      <td>YES</td>\n",
       "      <td>YES</td>\n",
       "      <td>NO</td>\n",
       "      <td>YES</td>\n",
       "      <td>YES</td>\n",
       "    </tr>\n",
       "    <tr>\n",
       "      <th>ID12103</th>\n",
       "      <td>51</td>\n",
       "      <td>16575.4</td>\n",
       "      <td>0</td>\n",
       "      <td>FEMALE</td>\n",
       "      <td>INNER_CITY</td>\n",
       "      <td>YES</td>\n",
       "      <td>YES</td>\n",
       "      <td>YES</td>\n",
       "      <td>YES</td>\n",
       "      <td>NO</td>\n",
       "    </tr>\n",
       "    <tr>\n",
       "      <th>ID12104</th>\n",
       "      <td>23</td>\n",
       "      <td>20375.4</td>\n",
       "      <td>3</td>\n",
       "      <td>FEMALE</td>\n",
       "      <td>TOWN</td>\n",
       "      <td>YES</td>\n",
       "      <td>NO</td>\n",
       "      <td>NO</td>\n",
       "      <td>YES</td>\n",
       "      <td>NO</td>\n",
       "    </tr>\n",
       "    <tr>\n",
       "      <th>ID12105</th>\n",
       "      <td>57</td>\n",
       "      <td>50576.3</td>\n",
       "      <td>0</td>\n",
       "      <td>FEMALE</td>\n",
       "      <td>RURAL</td>\n",
       "      <td>YES</td>\n",
       "      <td>NO</td>\n",
       "      <td>YES</td>\n",
       "      <td>NO</td>\n",
       "      <td>NO</td>\n",
       "    </tr>\n",
       "  </tbody>\n",
       "</table>\n",
       "</div>"
      ],
      "text/plain": [
       "         age   income  children  gender      region married  car savings_acct  \\\n",
       "id                                                                              \n",
       "ID12101   48  17546.0         1  FEMALE  INNER_CITY      NO   NO           NO   \n",
       "ID12102   40  30085.1         3    MALE        TOWN     YES  YES           NO   \n",
       "ID12103   51  16575.4         0  FEMALE  INNER_CITY     YES  YES          YES   \n",
       "ID12104   23  20375.4         3  FEMALE        TOWN     YES   NO           NO   \n",
       "ID12105   57  50576.3         0  FEMALE       RURAL     YES   NO          YES   \n",
       "\n",
       "        current_acct mortgage  \n",
       "id                             \n",
       "ID12101           NO       NO  \n",
       "ID12102          YES      YES  \n",
       "ID12103          YES       NO  \n",
       "ID12104          YES       NO  \n",
       "ID12105           NO       NO  "
      ]
     },
     "execution_count": 6,
     "metadata": {},
     "output_type": "execute_result"
    }
   ],
   "source": [
    "bank_df_x = bank_df[['age','income','children','gender','region','married','car','savings_acct','current_acct','mortgage']]\n",
    "bank_df_x.head()"
   ]
  },
  {
   "cell_type": "code",
   "execution_count": 7,
   "metadata": {
    "collapsed": false
   },
   "outputs": [
    {
     "data": {
      "text/html": [
       "<div>\n",
       "<table border=\"1\" class=\"dataframe\">\n",
       "  <thead>\n",
       "    <tr style=\"text-align: right;\">\n",
       "      <th></th>\n",
       "      <th>pep</th>\n",
       "    </tr>\n",
       "    <tr>\n",
       "      <th>id</th>\n",
       "      <th></th>\n",
       "    </tr>\n",
       "  </thead>\n",
       "  <tbody>\n",
       "    <tr>\n",
       "      <th>ID12101</th>\n",
       "      <td>YES</td>\n",
       "    </tr>\n",
       "    <tr>\n",
       "      <th>ID12102</th>\n",
       "      <td>NO</td>\n",
       "    </tr>\n",
       "    <tr>\n",
       "      <th>ID12103</th>\n",
       "      <td>NO</td>\n",
       "    </tr>\n",
       "    <tr>\n",
       "      <th>ID12104</th>\n",
       "      <td>NO</td>\n",
       "    </tr>\n",
       "    <tr>\n",
       "      <th>ID12105</th>\n",
       "      <td>NO</td>\n",
       "    </tr>\n",
       "  </tbody>\n",
       "</table>\n",
       "</div>"
      ],
      "text/plain": [
       "         pep\n",
       "id          \n",
       "ID12101  YES\n",
       "ID12102   NO\n",
       "ID12103   NO\n",
       "ID12104   NO\n",
       "ID12105   NO"
      ]
     },
     "execution_count": 7,
     "metadata": {},
     "output_type": "execute_result"
    }
   ],
   "source": [
    "bank_df_y = bank_df[['pep']]\n",
    "bank_df_y.head()"
   ]
  },
  {
   "cell_type": "code",
   "execution_count": 9,
   "metadata": {
    "collapsed": false
   },
   "outputs": [
    {
     "data": {
      "text/html": [
       "<div>\n",
       "<table border=\"1\" class=\"dataframe\">\n",
       "  <thead>\n",
       "    <tr style=\"text-align: right;\">\n",
       "      <th></th>\n",
       "      <th>age</th>\n",
       "      <th>income</th>\n",
       "      <th>children</th>\n",
       "      <th>gender_FEMALE</th>\n",
       "      <th>gender_MALE</th>\n",
       "      <th>region_INNER_CITY</th>\n",
       "      <th>region_RURAL</th>\n",
       "      <th>region_SUBURBAN</th>\n",
       "      <th>region_TOWN</th>\n",
       "      <th>married_NO</th>\n",
       "      <th>married_YES</th>\n",
       "      <th>car_NO</th>\n",
       "      <th>car_YES</th>\n",
       "      <th>savings_acct_NO</th>\n",
       "      <th>savings_acct_YES</th>\n",
       "      <th>current_acct_NO</th>\n",
       "      <th>current_acct_YES</th>\n",
       "      <th>mortgage_NO</th>\n",
       "      <th>mortgage_YES</th>\n",
       "    </tr>\n",
       "    <tr>\n",
       "      <th>id</th>\n",
       "      <th></th>\n",
       "      <th></th>\n",
       "      <th></th>\n",
       "      <th></th>\n",
       "      <th></th>\n",
       "      <th></th>\n",
       "      <th></th>\n",
       "      <th></th>\n",
       "      <th></th>\n",
       "      <th></th>\n",
       "      <th></th>\n",
       "      <th></th>\n",
       "      <th></th>\n",
       "      <th></th>\n",
       "      <th></th>\n",
       "      <th></th>\n",
       "      <th></th>\n",
       "      <th></th>\n",
       "      <th></th>\n",
       "    </tr>\n",
       "  </thead>\n",
       "  <tbody>\n",
       "    <tr>\n",
       "      <th>ID12101</th>\n",
       "      <td>48</td>\n",
       "      <td>17546.0</td>\n",
       "      <td>1</td>\n",
       "      <td>1.0</td>\n",
       "      <td>0.0</td>\n",
       "      <td>1.0</td>\n",
       "      <td>0.0</td>\n",
       "      <td>0.0</td>\n",
       "      <td>0.0</td>\n",
       "      <td>1.0</td>\n",
       "      <td>0.0</td>\n",
       "      <td>1.0</td>\n",
       "      <td>0.0</td>\n",
       "      <td>1.0</td>\n",
       "      <td>0.0</td>\n",
       "      <td>1.0</td>\n",
       "      <td>0.0</td>\n",
       "      <td>1.0</td>\n",
       "      <td>0.0</td>\n",
       "    </tr>\n",
       "    <tr>\n",
       "      <th>ID12102</th>\n",
       "      <td>40</td>\n",
       "      <td>30085.1</td>\n",
       "      <td>3</td>\n",
       "      <td>0.0</td>\n",
       "      <td>1.0</td>\n",
       "      <td>0.0</td>\n",
       "      <td>0.0</td>\n",
       "      <td>0.0</td>\n",
       "      <td>1.0</td>\n",
       "      <td>0.0</td>\n",
       "      <td>1.0</td>\n",
       "      <td>0.0</td>\n",
       "      <td>1.0</td>\n",
       "      <td>1.0</td>\n",
       "      <td>0.0</td>\n",
       "      <td>0.0</td>\n",
       "      <td>1.0</td>\n",
       "      <td>0.0</td>\n",
       "      <td>1.0</td>\n",
       "    </tr>\n",
       "    <tr>\n",
       "      <th>ID12103</th>\n",
       "      <td>51</td>\n",
       "      <td>16575.4</td>\n",
       "      <td>0</td>\n",
       "      <td>1.0</td>\n",
       "      <td>0.0</td>\n",
       "      <td>1.0</td>\n",
       "      <td>0.0</td>\n",
       "      <td>0.0</td>\n",
       "      <td>0.0</td>\n",
       "      <td>0.0</td>\n",
       "      <td>1.0</td>\n",
       "      <td>0.0</td>\n",
       "      <td>1.0</td>\n",
       "      <td>0.0</td>\n",
       "      <td>1.0</td>\n",
       "      <td>0.0</td>\n",
       "      <td>1.0</td>\n",
       "      <td>1.0</td>\n",
       "      <td>0.0</td>\n",
       "    </tr>\n",
       "    <tr>\n",
       "      <th>ID12104</th>\n",
       "      <td>23</td>\n",
       "      <td>20375.4</td>\n",
       "      <td>3</td>\n",
       "      <td>1.0</td>\n",
       "      <td>0.0</td>\n",
       "      <td>0.0</td>\n",
       "      <td>0.0</td>\n",
       "      <td>0.0</td>\n",
       "      <td>1.0</td>\n",
       "      <td>0.0</td>\n",
       "      <td>1.0</td>\n",
       "      <td>1.0</td>\n",
       "      <td>0.0</td>\n",
       "      <td>1.0</td>\n",
       "      <td>0.0</td>\n",
       "      <td>0.0</td>\n",
       "      <td>1.0</td>\n",
       "      <td>1.0</td>\n",
       "      <td>0.0</td>\n",
       "    </tr>\n",
       "    <tr>\n",
       "      <th>ID12105</th>\n",
       "      <td>57</td>\n",
       "      <td>50576.3</td>\n",
       "      <td>0</td>\n",
       "      <td>1.0</td>\n",
       "      <td>0.0</td>\n",
       "      <td>0.0</td>\n",
       "      <td>1.0</td>\n",
       "      <td>0.0</td>\n",
       "      <td>0.0</td>\n",
       "      <td>0.0</td>\n",
       "      <td>1.0</td>\n",
       "      <td>1.0</td>\n",
       "      <td>0.0</td>\n",
       "      <td>0.0</td>\n",
       "      <td>1.0</td>\n",
       "      <td>1.0</td>\n",
       "      <td>0.0</td>\n",
       "      <td>1.0</td>\n",
       "      <td>0.0</td>\n",
       "    </tr>\n",
       "  </tbody>\n",
       "</table>\n",
       "</div>"
      ],
      "text/plain": [
       "         age   income  children  gender_FEMALE  gender_MALE  \\\n",
       "id                                                            \n",
       "ID12101   48  17546.0         1            1.0          0.0   \n",
       "ID12102   40  30085.1         3            0.0          1.0   \n",
       "ID12103   51  16575.4         0            1.0          0.0   \n",
       "ID12104   23  20375.4         3            1.0          0.0   \n",
       "ID12105   57  50576.3         0            1.0          0.0   \n",
       "\n",
       "         region_INNER_CITY  region_RURAL  region_SUBURBAN  region_TOWN  \\\n",
       "id                                                                       \n",
       "ID12101                1.0           0.0              0.0          0.0   \n",
       "ID12102                0.0           0.0              0.0          1.0   \n",
       "ID12103                1.0           0.0              0.0          0.0   \n",
       "ID12104                0.0           0.0              0.0          1.0   \n",
       "ID12105                0.0           1.0              0.0          0.0   \n",
       "\n",
       "         married_NO  married_YES  car_NO  car_YES  savings_acct_NO  \\\n",
       "id                                                                   \n",
       "ID12101         1.0          0.0     1.0      0.0              1.0   \n",
       "ID12102         0.0          1.0     0.0      1.0              1.0   \n",
       "ID12103         0.0          1.0     0.0      1.0              0.0   \n",
       "ID12104         0.0          1.0     1.0      0.0              1.0   \n",
       "ID12105         0.0          1.0     1.0      0.0              0.0   \n",
       "\n",
       "         savings_acct_YES  current_acct_NO  current_acct_YES  mortgage_NO  \\\n",
       "id                                                                          \n",
       "ID12101               0.0              1.0               0.0          1.0   \n",
       "ID12102               0.0              0.0               1.0          0.0   \n",
       "ID12103               1.0              0.0               1.0          1.0   \n",
       "ID12104               0.0              0.0               1.0          1.0   \n",
       "ID12105               1.0              1.0               0.0          1.0   \n",
       "\n",
       "         mortgage_YES  \n",
       "id                     \n",
       "ID12101           0.0  \n",
       "ID12102           1.0  \n",
       "ID12103           0.0  \n",
       "ID12104           0.0  \n",
       "ID12105           0.0  "
      ]
     },
     "execution_count": 9,
     "metadata": {},
     "output_type": "execute_result"
    }
   ],
   "source": [
    "# converting to Standard Spreadsheet format \n",
    "bank_ssf = pd.get_dummies(bank_df_x, columns = ['gender','region','married','car','savings_acct','current_acct','mortgage'])\n",
    "bank_ssf.head()"
   ]
  },
  {
   "cell_type": "markdown",
   "metadata": {},
   "source": [
    "Next, we divide the data into randomized training and test partitions (note that the same split should also be performed on the target attribute). The easiest way to do this is to use the \"train_test_split\" module of \"sklearn.cross_validation\"."
   ]
  },
  {
   "cell_type": "code",
   "execution_count": 11,
   "metadata": {
    "collapsed": false
   },
   "outputs": [
    {
     "name": "stderr",
     "output_type": "stream",
     "text": [
      "/Users/Bru/Downloads/anaconda/lib/python3.5/site-packages/sklearn/cross_validation.py:44: DeprecationWarning: This module was deprecated in version 0.18 in favor of the model_selection module into which all the refactored classes and functions are moved. Also note that the interface of the new CV iterators are different from that of this module. This module will be removed in 0.20.\n",
      "  \"This module will be removed in 0.20.\", DeprecationWarning)\n"
     ]
    }
   ],
   "source": [
    "from sklearn.cross_validation import train_test_split  "
   ]
  },
  {
   "cell_type": "code",
   "execution_count": 12,
   "metadata": {
    "collapsed": true
   },
   "outputs": [],
   "source": [
    "X_train, X_test, y_train, y_test = train_test_split(bank_ssf, bank_df_y , test_size=0.20, random_state=42)"
   ]
  },
  {
   "cell_type": "code",
   "execution_count": 13,
   "metadata": {
    "collapsed": false
   },
   "outputs": [
    {
     "data": {
      "text/plain": [
       "(480, 19)"
      ]
     },
     "execution_count": 13,
     "metadata": {},
     "output_type": "execute_result"
    }
   ],
   "source": [
    "X_train.shape"
   ]
  },
  {
   "cell_type": "code",
   "execution_count": 14,
   "metadata": {
    "collapsed": false
   },
   "outputs": [
    {
     "data": {
      "text/plain": [
       "(120, 19)"
      ]
     },
     "execution_count": 14,
     "metadata": {},
     "output_type": "execute_result"
    }
   ],
   "source": [
    "X_test.shape"
   ]
  },
  {
   "cell_type": "code",
   "execution_count": 15,
   "metadata": {
    "collapsed": false
   },
   "outputs": [
    {
     "data": {
      "text/plain": [
       "(480, 1)"
      ]
     },
     "execution_count": 15,
     "metadata": {},
     "output_type": "execute_result"
    }
   ],
   "source": [
    "y_train.shape"
   ]
  },
  {
   "cell_type": "code",
   "execution_count": 16,
   "metadata": {
    "collapsed": false
   },
   "outputs": [
    {
     "data": {
      "text/plain": [
       "(120, 1)"
      ]
     },
     "execution_count": 16,
     "metadata": {},
     "output_type": "execute_result"
    }
   ],
   "source": [
    "y_test.shape"
   ]
  },
  {
   "cell_type": "code",
   "execution_count": 17,
   "metadata": {
    "collapsed": false
   },
   "outputs": [
    {
     "data": {
      "text/html": [
       "<div>\n",
       "<table border=\"1\" class=\"dataframe\">\n",
       "  <thead>\n",
       "    <tr style=\"text-align: right;\">\n",
       "      <th></th>\n",
       "      <th>age</th>\n",
       "      <th>income</th>\n",
       "      <th>children</th>\n",
       "      <th>gender_FEMALE</th>\n",
       "      <th>gender_MALE</th>\n",
       "      <th>region_INNER_CITY</th>\n",
       "      <th>region_RURAL</th>\n",
       "      <th>region_SUBURBAN</th>\n",
       "      <th>region_TOWN</th>\n",
       "      <th>married_NO</th>\n",
       "      <th>married_YES</th>\n",
       "      <th>car_NO</th>\n",
       "      <th>car_YES</th>\n",
       "      <th>savings_acct_NO</th>\n",
       "      <th>savings_acct_YES</th>\n",
       "      <th>current_acct_NO</th>\n",
       "      <th>current_acct_YES</th>\n",
       "      <th>mortgage_NO</th>\n",
       "      <th>mortgage_YES</th>\n",
       "    </tr>\n",
       "    <tr>\n",
       "      <th>id</th>\n",
       "      <th></th>\n",
       "      <th></th>\n",
       "      <th></th>\n",
       "      <th></th>\n",
       "      <th></th>\n",
       "      <th></th>\n",
       "      <th></th>\n",
       "      <th></th>\n",
       "      <th></th>\n",
       "      <th></th>\n",
       "      <th></th>\n",
       "      <th></th>\n",
       "      <th></th>\n",
       "      <th></th>\n",
       "      <th></th>\n",
       "      <th></th>\n",
       "      <th></th>\n",
       "      <th></th>\n",
       "      <th></th>\n",
       "    </tr>\n",
       "  </thead>\n",
       "  <tbody>\n",
       "    <tr>\n",
       "      <th>ID12246</th>\n",
       "      <td>58</td>\n",
       "      <td>51204.2</td>\n",
       "      <td>0</td>\n",
       "      <td>0.0</td>\n",
       "      <td>1.0</td>\n",
       "      <td>0.0</td>\n",
       "      <td>0.0</td>\n",
       "      <td>1.0</td>\n",
       "      <td>0.0</td>\n",
       "      <td>0.0</td>\n",
       "      <td>1.0</td>\n",
       "      <td>1.0</td>\n",
       "      <td>0.0</td>\n",
       "      <td>0.0</td>\n",
       "      <td>1.0</td>\n",
       "      <td>1.0</td>\n",
       "      <td>0.0</td>\n",
       "      <td>0.0</td>\n",
       "      <td>1.0</td>\n",
       "    </tr>\n",
       "    <tr>\n",
       "      <th>ID12110</th>\n",
       "      <td>54</td>\n",
       "      <td>24212.1</td>\n",
       "      <td>2</td>\n",
       "      <td>0.0</td>\n",
       "      <td>1.0</td>\n",
       "      <td>0.0</td>\n",
       "      <td>0.0</td>\n",
       "      <td>0.0</td>\n",
       "      <td>1.0</td>\n",
       "      <td>0.0</td>\n",
       "      <td>1.0</td>\n",
       "      <td>0.0</td>\n",
       "      <td>1.0</td>\n",
       "      <td>0.0</td>\n",
       "      <td>1.0</td>\n",
       "      <td>0.0</td>\n",
       "      <td>1.0</td>\n",
       "      <td>1.0</td>\n",
       "      <td>0.0</td>\n",
       "    </tr>\n",
       "    <tr>\n",
       "      <th>ID12476</th>\n",
       "      <td>41</td>\n",
       "      <td>20866.3</td>\n",
       "      <td>0</td>\n",
       "      <td>0.0</td>\n",
       "      <td>1.0</td>\n",
       "      <td>1.0</td>\n",
       "      <td>0.0</td>\n",
       "      <td>0.0</td>\n",
       "      <td>0.0</td>\n",
       "      <td>0.0</td>\n",
       "      <td>1.0</td>\n",
       "      <td>0.0</td>\n",
       "      <td>1.0</td>\n",
       "      <td>0.0</td>\n",
       "      <td>1.0</td>\n",
       "      <td>0.0</td>\n",
       "      <td>1.0</td>\n",
       "      <td>1.0</td>\n",
       "      <td>0.0</td>\n",
       "    </tr>\n",
       "    <tr>\n",
       "      <th>ID12624</th>\n",
       "      <td>34</td>\n",
       "      <td>16291.0</td>\n",
       "      <td>0</td>\n",
       "      <td>1.0</td>\n",
       "      <td>0.0</td>\n",
       "      <td>0.0</td>\n",
       "      <td>0.0</td>\n",
       "      <td>0.0</td>\n",
       "      <td>1.0</td>\n",
       "      <td>0.0</td>\n",
       "      <td>1.0</td>\n",
       "      <td>0.0</td>\n",
       "      <td>1.0</td>\n",
       "      <td>0.0</td>\n",
       "      <td>1.0</td>\n",
       "      <td>1.0</td>\n",
       "      <td>0.0</td>\n",
       "      <td>0.0</td>\n",
       "      <td>1.0</td>\n",
       "    </tr>\n",
       "    <tr>\n",
       "      <th>ID12289</th>\n",
       "      <td>38</td>\n",
       "      <td>34866.9</td>\n",
       "      <td>2</td>\n",
       "      <td>0.0</td>\n",
       "      <td>1.0</td>\n",
       "      <td>1.0</td>\n",
       "      <td>0.0</td>\n",
       "      <td>0.0</td>\n",
       "      <td>0.0</td>\n",
       "      <td>0.0</td>\n",
       "      <td>1.0</td>\n",
       "      <td>0.0</td>\n",
       "      <td>1.0</td>\n",
       "      <td>1.0</td>\n",
       "      <td>0.0</td>\n",
       "      <td>0.0</td>\n",
       "      <td>1.0</td>\n",
       "      <td>0.0</td>\n",
       "      <td>1.0</td>\n",
       "    </tr>\n",
       "  </tbody>\n",
       "</table>\n",
       "</div>"
      ],
      "text/plain": [
       "         age   income  children  gender_FEMALE  gender_MALE  \\\n",
       "id                                                            \n",
       "ID12246   58  51204.2         0            0.0          1.0   \n",
       "ID12110   54  24212.1         2            0.0          1.0   \n",
       "ID12476   41  20866.3         0            0.0          1.0   \n",
       "ID12624   34  16291.0         0            1.0          0.0   \n",
       "ID12289   38  34866.9         2            0.0          1.0   \n",
       "\n",
       "         region_INNER_CITY  region_RURAL  region_SUBURBAN  region_TOWN  \\\n",
       "id                                                                       \n",
       "ID12246                0.0           0.0              1.0          0.0   \n",
       "ID12110                0.0           0.0              0.0          1.0   \n",
       "ID12476                1.0           0.0              0.0          0.0   \n",
       "ID12624                0.0           0.0              0.0          1.0   \n",
       "ID12289                1.0           0.0              0.0          0.0   \n",
       "\n",
       "         married_NO  married_YES  car_NO  car_YES  savings_acct_NO  \\\n",
       "id                                                                   \n",
       "ID12246         0.0          1.0     1.0      0.0              0.0   \n",
       "ID12110         0.0          1.0     0.0      1.0              0.0   \n",
       "ID12476         0.0          1.0     0.0      1.0              0.0   \n",
       "ID12624         0.0          1.0     0.0      1.0              0.0   \n",
       "ID12289         0.0          1.0     0.0      1.0              1.0   \n",
       "\n",
       "         savings_acct_YES  current_acct_NO  current_acct_YES  mortgage_NO  \\\n",
       "id                                                                          \n",
       "ID12246               1.0              1.0               0.0          0.0   \n",
       "ID12110               1.0              0.0               1.0          1.0   \n",
       "ID12476               1.0              0.0               1.0          1.0   \n",
       "ID12624               1.0              1.0               0.0          0.0   \n",
       "ID12289               0.0              0.0               1.0          0.0   \n",
       "\n",
       "         mortgage_YES  \n",
       "id                     \n",
       "ID12246           1.0  \n",
       "ID12110           0.0  \n",
       "ID12476           0.0  \n",
       "ID12624           1.0  \n",
       "ID12289           1.0  "
      ]
     },
     "execution_count": 17,
     "metadata": {},
     "output_type": "execute_result"
    }
   ],
   "source": [
    "X_train.head()"
   ]
  },
  {
   "cell_type": "code",
   "execution_count": 18,
   "metadata": {
    "collapsed": false
   },
   "outputs": [
    {
     "data": {
      "text/html": [
       "<div>\n",
       "<table border=\"1\" class=\"dataframe\">\n",
       "  <thead>\n",
       "    <tr style=\"text-align: right;\">\n",
       "      <th></th>\n",
       "      <th>pep</th>\n",
       "    </tr>\n",
       "    <tr>\n",
       "      <th>id</th>\n",
       "      <th></th>\n",
       "    </tr>\n",
       "  </thead>\n",
       "  <tbody>\n",
       "    <tr>\n",
       "      <th>ID12246</th>\n",
       "      <td>YES</td>\n",
       "    </tr>\n",
       "    <tr>\n",
       "      <th>ID12110</th>\n",
       "      <td>NO</td>\n",
       "    </tr>\n",
       "    <tr>\n",
       "      <th>ID12476</th>\n",
       "      <td>NO</td>\n",
       "    </tr>\n",
       "    <tr>\n",
       "      <th>ID12624</th>\n",
       "      <td>NO</td>\n",
       "    </tr>\n",
       "    <tr>\n",
       "      <th>ID12289</th>\n",
       "      <td>NO</td>\n",
       "    </tr>\n",
       "  </tbody>\n",
       "</table>\n",
       "</div>"
      ],
      "text/plain": [
       "         pep\n",
       "id          \n",
       "ID12246  YES\n",
       "ID12110   NO\n",
       "ID12476   NO\n",
       "ID12624   NO\n",
       "ID12289   NO"
      ]
     },
     "execution_count": 18,
     "metadata": {},
     "output_type": "execute_result"
    }
   ],
   "source": [
    "y_train.head()"
   ]
  },
  {
   "cell_type": "markdown",
   "metadata": {},
   "source": [
    "## b) Run scikit-learn's KNN classifier on the test set. Note: in the case of KNN, you must first normalize the data so that all attributes are in the same scale (normalize so that the values are between 0 and 1). Generate the confusion matrix (visualize it using Matplotlib), as well as the classification report. Also, computing the average accuracy score. Experiment with different values of K and the weight parameter for KNN to see if you can improve accuracy (you do not need to provide the details of all of your experimentation, but provide a short discussion what parameters worked best)."
   ]
  },
  {
   "cell_type": "markdown",
   "metadata": {},
   "source": [
    "Normalizing using the preprocessing module in sklearn"
   ]
  },
  {
   "cell_type": "code",
   "execution_count": 22,
   "metadata": {
    "collapsed": false
   },
   "outputs": [],
   "source": [
    "from sklearn import preprocessing\n",
    "\n",
    "train_bank_N = preprocessing.MinMaxScaler().fit_transform(X_train)\n",
    "test_bank_N = preprocessing.MinMaxScaler().fit_transform(X_test)"
   ]
  },
  {
   "cell_type": "code",
   "execution_count": 27,
   "metadata": {
    "collapsed": false
   },
   "outputs": [
    {
     "data": {
      "text/plain": [
       "array([[ 0.82,  0.79,  0.  ,  0.  ,  1.  ,  0.  ,  0.  ,  1.  ,  0.  ,  0.  ,\n",
       "         1.  ,  1.  ,  0.  ,  0.  ,  1.  ,  1.  ,  0.  ,  0.  ,  1.  ],\n",
       "       [ 0.73,  0.33,  0.67,  0.  ,  1.  ,  0.  ,  0.  ,  0.  ,  1.  ,  0.  ,\n",
       "         1.  ,  0.  ,  1.  ,  0.  ,  1.  ,  0.  ,  1.  ,  1.  ,  0.  ],\n",
       "       [ 0.47,  0.27,  0.  ,  0.  ,  1.  ,  1.  ,  0.  ,  0.  ,  0.  ,  0.  ,\n",
       "         1.  ,  0.  ,  1.  ,  0.  ,  1.  ,  0.  ,  1.  ,  1.  ,  0.  ],\n",
       "       [ 0.33,  0.19,  0.  ,  1.  ,  0.  ,  0.  ,  0.  ,  0.  ,  1.  ,  0.  ,\n",
       "         1.  ,  0.  ,  1.  ,  0.  ,  1.  ,  1.  ,  0.  ,  0.  ,  1.  ],\n",
       "       [ 0.41,  0.51,  0.67,  0.  ,  1.  ,  1.  ,  0.  ,  0.  ,  0.  ,  0.  ,\n",
       "         1.  ,  0.  ,  1.  ,  1.  ,  0.  ,  0.  ,  1.  ,  0.  ,  1.  ]])"
      ]
     },
     "execution_count": 27,
     "metadata": {},
     "output_type": "execute_result"
    }
   ],
   "source": [
    "np.set_printoptions(precision=2, linewidth=80, suppress=True)\n",
    "train_bank_N[0:5]"
   ]
  },
  {
   "cell_type": "code",
   "execution_count": 28,
   "metadata": {
    "collapsed": false
   },
   "outputs": [
    {
     "data": {
      "text/plain": [
       "array([[ 0.37,  0.57,  0.67,  0.  ,  1.  ,  0.  ,  0.  ,  0.  ,  1.  ,  1.  ,\n",
       "         0.  ,  1.  ,  0.  ,  0.  ,  1.  ,  0.  ,  1.  ,  1.  ,  0.  ],\n",
       "       [ 0.8 ,  0.27,  0.  ,  0.  ,  1.  ,  0.  ,  0.  ,  0.  ,  1.  ,  0.  ,\n",
       "         1.  ,  1.  ,  0.  ,  0.  ,  1.  ,  0.  ,  1.  ,  0.  ,  1.  ],\n",
       "       [ 0.24,  0.33,  0.  ,  0.  ,  1.  ,  0.  ,  0.  ,  0.  ,  1.  ,  0.  ,\n",
       "         1.  ,  0.  ,  1.  ,  0.  ,  1.  ,  1.  ,  0.  ,  1.  ,  0.  ],\n",
       "       [ 0.88,  0.8 ,  0.33,  0.  ,  1.  ,  1.  ,  0.  ,  0.  ,  0.  ,  0.  ,\n",
       "         1.  ,  0.  ,  1.  ,  0.  ,  1.  ,  0.  ,  1.  ,  0.  ,  1.  ],\n",
       "       [ 0.86,  0.94,  0.  ,  0.  ,  1.  ,  0.  ,  1.  ,  0.  ,  0.  ,  1.  ,\n",
       "         0.  ,  1.  ,  0.  ,  0.  ,  1.  ,  0.  ,  1.  ,  1.  ,  0.  ]])"
      ]
     },
     "execution_count": 28,
     "metadata": {},
     "output_type": "execute_result"
    }
   ],
   "source": [
    "test_bank_N[0:5]"
   ]
  },
  {
   "cell_type": "code",
   "execution_count": 34,
   "metadata": {
    "collapsed": false
   },
   "outputs": [
    {
     "name": "stderr",
     "output_type": "stream",
     "text": [
      "/Users/Bru/Downloads/anaconda/lib/python3.5/site-packages/ipykernel/__main__.py:5: DataConversionWarning: A column-vector y was passed when a 1d array was expected. Please change the shape of y to (n_samples, ), for example using ravel().\n"
     ]
    },
    {
     "data": {
      "text/plain": [
       "KNeighborsClassifier(algorithm='auto', leaf_size=30, metric='euclidean',\n",
       "           metric_params=None, n_jobs=1, n_neighbors=4, p=2,\n",
       "           weights='uniform')"
      ]
     },
     "execution_count": 34,
     "metadata": {},
     "output_type": "execute_result"
    }
   ],
   "source": [
    "#KNN classifier\n",
    "from sklearn.neighbors import KNeighborsClassifier\n",
    "\n",
    "bank_knn = KNeighborsClassifier(n_neighbors=4, algorithm='auto', metric='euclidean')\n",
    "bank_knn.fit(train_bank_N,y_train)"
   ]
  },
  {
   "cell_type": "code",
   "execution_count": 37,
   "metadata": {
    "collapsed": false
   },
   "outputs": [
    {
     "data": {
      "text/plain": [
       "array(['NO', 'NO', 'NO', 'NO', 'YES', 'NO', 'YES', 'YES', 'NO', 'YES', 'NO',\n",
       "       'YES', 'NO', 'NO', 'YES', 'NO', 'NO', 'NO', 'NO', 'NO', 'NO', 'YES',\n",
       "       'NO', 'NO', 'NO', 'NO', 'NO', 'NO', 'NO', 'NO', 'NO', 'YES', 'NO', 'NO',\n",
       "       'NO', 'NO', 'NO', 'NO', 'NO', 'YES', 'NO', 'NO', 'NO', 'NO', 'YES', 'NO',\n",
       "       'NO', 'NO', 'NO', 'NO', 'NO', 'NO', 'NO', 'NO', 'NO', 'NO', 'YES', 'NO',\n",
       "       'YES', 'YES', 'NO', 'NO', 'YES', 'YES', 'YES', 'NO', 'YES', 'YES', 'NO',\n",
       "       'YES', 'YES', 'YES', 'NO', 'YES', 'NO', 'YES', 'YES', 'NO', 'YES', 'NO',\n",
       "       'NO', 'NO', 'NO', 'NO', 'NO', 'NO', 'NO', 'NO', 'NO', 'YES', 'NO', 'YES',\n",
       "       'NO', 'NO', 'NO', 'NO', 'YES', 'NO', 'YES', 'NO', 'NO', 'NO', 'NO', 'NO',\n",
       "       'NO', 'NO', 'NO', 'NO', 'NO', 'NO', 'NO', 'YES', 'NO', 'NO', 'NO', 'NO',\n",
       "       'NO', 'NO', 'NO', 'NO'], dtype=object)"
      ]
     },
     "execution_count": 37,
     "metadata": {},
     "output_type": "execute_result"
    }
   ],
   "source": [
    "bank_predict_y = bank_knn.predict(test_bank_N)\n",
    "bank_predict_y"
   ]
  },
  {
   "cell_type": "code",
   "execution_count": 38,
   "metadata": {
    "collapsed": false
   },
   "outputs": [
    {
     "name": "stdout",
     "output_type": "stream",
     "text": [
      "             precision    recall  f1-score   support\n",
      "\n",
      "         NO       0.64      0.88      0.74        66\n",
      "        YES       0.73      0.41      0.52        54\n",
      "\n",
      "avg / total       0.68      0.67      0.64       120\n",
      "\n"
     ]
    }
   ],
   "source": [
    "#Classification report \n",
    "from sklearn.metrics import classification_report\n",
    "\n",
    "print(classification_report(y_test, bank_predict_y))"
   ]
  },
  {
   "cell_type": "code",
   "execution_count": 39,
   "metadata": {
    "collapsed": false
   },
   "outputs": [
    {
     "name": "stdout",
     "output_type": "stream",
     "text": [
      "[[58  8]\n",
      " [32 22]]\n"
     ]
    },
    {
     "data": {
      "image/png": "[encoded data removed]",
      "text/plain": [
       "<matplotlib.figure.Figure at 0x1120839b0>"
      ]
     },
     "metadata": {},
     "output_type": "display_data"
    }
   ],
   "source": [
    "#Confusion matrix and visualization using matplotlib\n",
    "\n",
    "from sklearn.metrics import confusion_matrix\n",
    "knn_confusion_matrix = confusion_matrix(y_true = y_test, y_pred = bank_predict_y)\n",
    "\n",
    "print(knn_confusion_matrix)\n",
    "\n",
    "plt.matshow(knn_confusion_matrix)\n",
    "plt.title('Confusion matrix')\n",
    "plt.colorbar()\n",
    "plt.ylabel('Actual')\n",
    "plt.xlabel('Predicted')\n",
    "plt.show()"
   ]
  },
  {
   "cell_type": "code",
   "execution_count": 40,
   "metadata": {
    "collapsed": false
   },
   "outputs": [
    {
     "data": {
      "text/plain": [
       "0.66666666666666663"
      ]
     },
     "execution_count": 40,
     "metadata": {},
     "output_type": "execute_result"
    }
   ],
   "source": [
    "# Average Accuracy Score (over test data)\n",
    "bank_knn.score(test_bank_N,y_test)"
   ]
  },
  {
   "cell_type": "code",
   "execution_count": 41,
   "metadata": {
    "collapsed": false
   },
   "outputs": [
    {
     "data": {
      "text/plain": [
       "0.76666666666666672"
      ]
     },
     "execution_count": 41,
     "metadata": {},
     "output_type": "execute_result"
    }
   ],
   "source": [
    "# Average Accuracy Score (over train data)\n",
    "bank_knn.score(train_bank_N,y_train)"
   ]
  },
  {
   "cell_type": "code",
   "execution_count": 42,
   "metadata": {
    "collapsed": false
   },
   "outputs": [
    {
     "name": "stdout",
     "output_type": "stream",
     "text": [
      "             precision    recall  f1-score   support\n",
      "\n",
      "         NO       0.66      0.74      0.70        66\n",
      "        YES       0.63      0.54      0.58        54\n",
      "\n",
      "avg / total       0.65      0.65      0.65       120\n",
      "\n",
      "[[49 17]\n",
      " [25 29]]\n",
      "Accuracy on test data:0.65\n",
      "Accuracy on training data:1.0\n"
     ]
    },
    {
     "name": "stderr",
     "output_type": "stream",
     "text": [
      "/Users/Bru/Downloads/anaconda/lib/python3.5/site-packages/ipykernel/__main__.py:4: DataConversionWarning: A column-vector y was passed when a 1d array was expected. Please change the shape of y to (n_samples, ), for example using ravel().\n"
     ]
    }
   ],
   "source": [
    "# Changing K values\n",
    "#K = 3\n",
    "bank_knn = KNeighborsClassifier(n_neighbors = 3, weights = 'distance', metric='euclidean')\n",
    "bank_knn.fit(train_bank_N,y_train)\n",
    "bank_predict_y = bank_knn.predict(test_bank_N)\n",
    "\n",
    "from sklearn.metrics import classification_report\n",
    "print(classification_report(y_test, bank_predict_y))\n",
    "\n",
    "from sklearn.metrics import confusion_matrix\n",
    "knn_confusion_matrix = confusion_matrix(y_true = y_test, y_pred = bank_predict_y)\n",
    "print(knn_confusion_matrix)\n",
    "\n",
    "print(\"Accuracy on test data:\" + str(bank_knn.score(test_bank_N,y_test)))\n",
    "print(\"Accuracy on training data:\" + str(bank_knn.score(train_bank_N,y_train)))"
   ]
  },
  {
   "cell_type": "code",
   "execution_count": 46,
   "metadata": {
    "collapsed": false
   },
   "outputs": [
    {
     "name": "stdout",
     "output_type": "stream",
     "text": [
      "             precision    recall  f1-score   support\n",
      "\n",
      "         NO       0.68      0.76      0.72        66\n",
      "        YES       0.66      0.57      0.61        54\n",
      "\n",
      "avg / total       0.67      0.68      0.67       120\n",
      "\n",
      "[[50 16]\n",
      " [23 31]]\n",
      "Accuracy on test data:0.675\n",
      "Accuracy on training data:1.0\n"
     ]
    },
    {
     "name": "stderr",
     "output_type": "stream",
     "text": [
      "/Users/Bru/Downloads/anaconda/lib/python3.5/site-packages/ipykernel/__main__.py:3: DataConversionWarning: A column-vector y was passed when a 1d array was expected. Please change the shape of y to (n_samples, ), for example using ravel().\n",
      "  app.launch_new_instance()\n"
     ]
    }
   ],
   "source": [
    "#K=7\n",
    "bank_knn = KNeighborsClassifier(n_neighbors = 7, weights = 'distance', metric='euclidean')\n",
    "bank_knn.fit(train_bank_N,y_train)\n",
    "bank_predict_y = bank_knn.predict(test_bank_N)\n",
    "\n",
    "from sklearn.metrics import classification_report\n",
    "print(classification_report(y_test, bank_predict_y))\n",
    "\n",
    "from sklearn.metrics import confusion_matrix\n",
    "knn_confusion_matrix = confusion_matrix(y_true = y_test, y_pred = bank_predict_y)\n",
    "print(knn_confusion_matrix)\n",
    "\n",
    "print(\"Accuracy on test data:\" + str(bank_knn.score(test_bank_N,y_test)))\n",
    "print(\"Accuracy on training data:\" + str(bank_knn.score(train_bank_N,y_train)))"
   ]
  },
  {
   "cell_type": "code",
   "execution_count": 44,
   "metadata": {
    "collapsed": false
   },
   "outputs": [
    {
     "name": "stdout",
     "output_type": "stream",
     "text": [
      "             precision    recall  f1-score   support\n",
      "\n",
      "         NO       0.64      0.71      0.67        66\n",
      "        YES       0.59      0.50      0.54        54\n",
      "\n",
      "avg / total       0.61      0.62      0.61       120\n",
      "\n",
      "[[47 19]\n",
      " [27 27]]\n",
      "Accuracy on test data:0.616666666667\n",
      "Accuracy on training data:1.0\n"
     ]
    },
    {
     "name": "stderr",
     "output_type": "stream",
     "text": [
      "/Users/Bru/Downloads/anaconda/lib/python3.5/site-packages/ipykernel/__main__.py:3: DataConversionWarning: A column-vector y was passed when a 1d array was expected. Please change the shape of y to (n_samples, ), for example using ravel().\n",
      "  app.launch_new_instance()\n"
     ]
    }
   ],
   "source": [
    "#K=10\n",
    "bank_knn = KNeighborsClassifier(n_neighbors = 10, weights = 'distance', metric='euclidean')\n",
    "bank_knn.fit(train_bank_N,y_train)\n",
    "bank_predict_y = bank_knn.predict(test_bank_N)\n",
    "\n",
    "from sklearn.metrics import classification_report\n",
    "print(classification_report(y_test, bank_predict_y))\n",
    "\n",
    "from sklearn.metrics import confusion_matrix\n",
    "knn_confusion_matrix = confusion_matrix(y_true = y_test, y_pred = bank_predict_y)\n",
    "print(knn_confusion_matrix)\n",
    "\n",
    "print(\"Accuracy on test data:\" + str(bank_knn.score(test_bank_N,y_test)))\n",
    "print(\"Accuracy on training data:\" + str(bank_knn.score(train_bank_N,y_train)))"
   ]
  },
  {
   "cell_type": "code",
   "execution_count": 45,
   "metadata": {
    "collapsed": false
   },
   "outputs": [
    {
     "name": "stdout",
     "output_type": "stream",
     "text": [
      "             precision    recall  f1-score   support\n",
      "\n",
      "         NO       0.65      0.70      0.67        66\n",
      "        YES       0.59      0.54      0.56        54\n",
      "\n",
      "avg / total       0.62      0.62      0.62       120\n",
      "\n",
      "[[46 20]\n",
      " [25 29]]\n",
      "Accuracy on test data:0.625\n",
      "Accuracy on training data:1.0\n"
     ]
    },
    {
     "name": "stderr",
     "output_type": "stream",
     "text": [
      "/Users/Bru/Downloads/anaconda/lib/python3.5/site-packages/ipykernel/__main__.py:3: DataConversionWarning: A column-vector y was passed when a 1d array was expected. Please change the shape of y to (n_samples, ), for example using ravel().\n",
      "  app.launch_new_instance()\n"
     ]
    }
   ],
   "source": [
    "#K=8\n",
    "bank_knn = KNeighborsClassifier(n_neighbors = 8, weights = 'distance', metric='euclidean')\n",
    "bank_knn.fit(train_bank_N,y_train)\n",
    "bank_predict_y = bank_knn.predict(test_bank_N)\n",
    "\n",
    "from sklearn.metrics import classification_report\n",
    "print(classification_report(y_test, bank_predict_y))\n",
    "\n",
    "from sklearn.metrics import confusion_matrix\n",
    "knn_confusion_matrix = confusion_matrix(y_true = y_test, y_pred = bank_predict_y)\n",
    "print(knn_confusion_matrix)\n",
    "\n",
    "print(\"Accuracy on test data:\" + str(bank_knn.score(test_bank_N,y_test)))\n",
    "print(\"Accuracy on training data:\" + str(bank_knn.score(train_bank_N,y_train)))"
   ]
  },
  {
   "cell_type": "code",
   "execution_count": 47,
   "metadata": {
    "collapsed": false
   },
   "outputs": [
    {
     "name": "stdout",
     "output_type": "stream",
     "text": [
      "             precision    recall  f1-score   support\n",
      "\n",
      "         NO       0.69      0.77      0.73        66\n",
      "        YES       0.67      0.57      0.62        54\n",
      "\n",
      "avg / total       0.68      0.68      0.68       120\n",
      "\n",
      "[[51 15]\n",
      " [23 31]]\n",
      "Accuracy on test data:0.683333333333\n",
      "Accuracy on training data:1.0\n"
     ]
    },
    {
     "name": "stderr",
     "output_type": "stream",
     "text": [
      "/Users/Bru/Downloads/anaconda/lib/python3.5/site-packages/ipykernel/__main__.py:3: DataConversionWarning: A column-vector y was passed when a 1d array was expected. Please change the shape of y to (n_samples, ), for example using ravel().\n",
      "  app.launch_new_instance()\n"
     ]
    }
   ],
   "source": [
    "#K=13\n",
    "bank_knn = KNeighborsClassifier(n_neighbors = 13, weights = 'distance', metric='euclidean')\n",
    "bank_knn.fit(train_bank_N,y_train)\n",
    "bank_predict_y = bank_knn.predict(test_bank_N)\n",
    "\n",
    "from sklearn.metrics import classification_report\n",
    "print(classification_report(y_test, bank_predict_y))\n",
    "\n",
    "from sklearn.metrics import confusion_matrix\n",
    "knn_confusion_matrix = confusion_matrix(y_true = y_test, y_pred = bank_predict_y)\n",
    "print(knn_confusion_matrix)\n",
    "\n",
    "print(\"Accuracy on test data:\" + str(bank_knn.score(test_bank_N,y_test)))\n",
    "print(\"Accuracy on training data:\" + str(bank_knn.score(train_bank_N,y_train)))"
   ]
  },
  {
   "cell_type": "code",
   "execution_count": 48,
   "metadata": {
    "collapsed": false
   },
   "outputs": [
    {
     "name": "stdout",
     "output_type": "stream",
     "text": [
      "             precision    recall  f1-score   support\n",
      "\n",
      "         NO       0.65      0.73      0.69        66\n",
      "        YES       0.61      0.52      0.56        54\n",
      "\n",
      "avg / total       0.63      0.63      0.63       120\n",
      "\n",
      "[[48 18]\n",
      " [26 28]]\n",
      "Accuracy on test data:0.633333333333\n",
      "Accuracy on training data:1.0\n"
     ]
    },
    {
     "name": "stderr",
     "output_type": "stream",
     "text": [
      "/Users/Bru/Downloads/anaconda/lib/python3.5/site-packages/ipykernel/__main__.py:3: DataConversionWarning: A column-vector y was passed when a 1d array was expected. Please change the shape of y to (n_samples, ), for example using ravel().\n",
      "  app.launch_new_instance()\n"
     ]
    }
   ],
   "source": [
    "#K=15\n",
    "bank_knn = KNeighborsClassifier(n_neighbors = 15, weights = 'distance', metric='euclidean')\n",
    "bank_knn.fit(train_bank_N,y_train)\n",
    "bank_predict_y = bank_knn.predict(test_bank_N)\n",
    "\n",
    "from sklearn.metrics import classification_report\n",
    "print(classification_report(y_test, bank_predict_y))\n",
    "\n",
    "from sklearn.metrics import confusion_matrix\n",
    "knn_confusion_matrix = confusion_matrix(y_true = y_test, y_pred = bank_predict_y)\n",
    "print(knn_confusion_matrix)\n",
    "\n",
    "print(\"Accuracy on test data:\" + str(bank_knn.score(test_bank_N,y_test)))\n",
    "print(\"Accuracy on training data:\" + str(bank_knn.score(train_bank_N,y_train)))"
   ]
  },
  {
   "cell_type": "markdown",
   "metadata": {},
   "source": [
    "Changing the value of K in the model parameters we can see that the maximum accuracy achieved on test data is 68.3% or 0.683 for k = 13\n",
    "\n",
    "Changing the value of weight to 'uniform'"
   ]
  },
  {
   "cell_type": "code",
   "execution_count": 50,
   "metadata": {
    "collapsed": false
   },
   "outputs": [
    {
     "name": "stdout",
     "output_type": "stream",
     "text": [
      "             precision    recall  f1-score   support\n",
      "\n",
      "         NO       0.64      0.71      0.68        66\n",
      "        YES       0.60      0.52      0.55        54\n",
      "\n",
      "avg / total       0.62      0.62      0.62       120\n",
      "\n",
      "[[47 19]\n",
      " [26 28]]\n",
      "Accuracy on test data:0.625\n",
      "Accuracy on training data:0.802083333333\n"
     ]
    },
    {
     "name": "stderr",
     "output_type": "stream",
     "text": [
      "/Users/Bru/Downloads/anaconda/lib/python3.5/site-packages/ipykernel/__main__.py:2: DataConversionWarning: A column-vector y was passed when a 1d array was expected. Please change the shape of y to (n_samples, ), for example using ravel().\n",
      "  from ipykernel import kernelapp as app\n"
     ]
    }
   ],
   "source": [
    "bank_knn = KNeighborsClassifier(n_neighbors = 3, weights = 'uniform', metric='euclidean')\n",
    "bank_knn.fit(train_bank_N,y_train)\n",
    "bank_predict_y = bank_knn.predict(test_bank_N)\n",
    "\n",
    "from sklearn.metrics import classification_report\n",
    "print(classification_report(y_test, bank_predict_y))\n",
    "\n",
    "from sklearn.metrics import confusion_matrix\n",
    "knn_confusion_matrix = confusion_matrix(y_true = y_test, y_pred = bank_predict_y)\n",
    "print(knn_confusion_matrix)\n",
    "\n",
    "print(\"Accuracy on test data:\" + str(bank_knn.score(test_bank_N,y_test)))\n",
    "print(\"Accuracy on training data:\" + str(bank_knn.score(train_bank_N,y_train)))"
   ]
  },
  {
   "cell_type": "code",
   "execution_count": 52,
   "metadata": {
    "collapsed": false
   },
   "outputs": [
    {
     "name": "stdout",
     "output_type": "stream",
     "text": [
      "             precision    recall  f1-score   support\n",
      "\n",
      "         NO       0.72      0.73      0.72        66\n",
      "        YES       0.66      0.65      0.65        54\n",
      "\n",
      "avg / total       0.69      0.69      0.69       120\n",
      "\n",
      "[[48 18]\n",
      " [19 35]]\n",
      "Accuracy on test data:0.691666666667\n",
      "Accuracy on training data:0.74375\n"
     ]
    },
    {
     "name": "stderr",
     "output_type": "stream",
     "text": [
      "/Users/Bru/Downloads/anaconda/lib/python3.5/site-packages/ipykernel/__main__.py:2: DataConversionWarning: A column-vector y was passed when a 1d array was expected. Please change the shape of y to (n_samples, ), for example using ravel().\n",
      "  from ipykernel import kernelapp as app\n"
     ]
    }
   ],
   "source": [
    "bank_knn = KNeighborsClassifier(n_neighbors = 7, weights = 'uniform', metric='euclidean')\n",
    "bank_knn.fit(train_bank_N,y_train)\n",
    "bank_predict_y = bank_knn.predict(test_bank_N)\n",
    "\n",
    "from sklearn.metrics import classification_report\n",
    "print(classification_report(y_test, bank_predict_y))\n",
    "\n",
    "from sklearn.metrics import confusion_matrix\n",
    "knn_confusion_matrix = confusion_matrix(y_true = y_test, y_pred = bank_predict_y)\n",
    "print(knn_confusion_matrix)\n",
    "\n",
    "print(\"Accuracy on test data:\" + str(bank_knn.score(test_bank_N,y_test)))\n",
    "print(\"Accuracy on training data:\" + str(bank_knn.score(train_bank_N,y_train)))"
   ]
  },
  {
   "cell_type": "code",
   "execution_count": 53,
   "metadata": {
    "collapsed": false
   },
   "outputs": [
    {
     "name": "stdout",
     "output_type": "stream",
     "text": [
      "             precision    recall  f1-score   support\n",
      "\n",
      "         NO       0.65      0.83      0.73        66\n",
      "        YES       0.69      0.46      0.56        54\n",
      "\n",
      "avg / total       0.67      0.67      0.65       120\n",
      "\n",
      "[[55 11]\n",
      " [29 25]]\n",
      "Accuracy on test data:0.666666666667\n",
      "Accuracy on training data:0.741666666667\n"
     ]
    },
    {
     "name": "stderr",
     "output_type": "stream",
     "text": [
      "/Users/Bru/Downloads/anaconda/lib/python3.5/site-packages/ipykernel/__main__.py:2: DataConversionWarning: A column-vector y was passed when a 1d array was expected. Please change the shape of y to (n_samples, ), for example using ravel().\n",
      "  from ipykernel import kernelapp as app\n"
     ]
    }
   ],
   "source": [
    "bank_knn = KNeighborsClassifier(n_neighbors = 10, weights = 'uniform', metric='euclidean')\n",
    "bank_knn.fit(train_bank_N,y_train)\n",
    "bank_predict_y = bank_knn.predict(test_bank_N)\n",
    "\n",
    "from sklearn.metrics import classification_report\n",
    "print(classification_report(y_test, bank_predict_y))\n",
    "\n",
    "from sklearn.metrics import confusion_matrix\n",
    "knn_confusion_matrix = confusion_matrix(y_true = y_test, y_pred = bank_predict_y)\n",
    "print(knn_confusion_matrix)\n",
    "\n",
    "print(\"Accuracy on test data:\" + str(bank_knn.score(test_bank_N,y_test)))\n",
    "print(\"Accuracy on training data:\" + str(bank_knn.score(train_bank_N,y_train)))"
   ]
  },
  {
   "cell_type": "code",
   "execution_count": 54,
   "metadata": {
    "collapsed": false
   },
   "outputs": [
    {
     "name": "stdout",
     "output_type": "stream",
     "text": [
      "             precision    recall  f1-score   support\n",
      "\n",
      "         NO       0.70      0.79      0.74        66\n",
      "        YES       0.70      0.59      0.64        54\n",
      "\n",
      "avg / total       0.70      0.70      0.70       120\n",
      "\n",
      "[[52 14]\n",
      " [22 32]]\n",
      "Accuracy on test data:0.7\n",
      "Accuracy on training data:0.747916666667\n"
     ]
    },
    {
     "name": "stderr",
     "output_type": "stream",
     "text": [
      "/Users/Bru/Downloads/anaconda/lib/python3.5/site-packages/ipykernel/__main__.py:2: DataConversionWarning: A column-vector y was passed when a 1d array was expected. Please change the shape of y to (n_samples, ), for example using ravel().\n",
      "  from ipykernel import kernelapp as app\n"
     ]
    }
   ],
   "source": [
    "bank_knn = KNeighborsClassifier(n_neighbors = 13, weights = 'uniform', metric='euclidean')\n",
    "bank_knn.fit(train_bank_N,y_train)\n",
    "bank_predict_y = bank_knn.predict(test_bank_N)\n",
    "\n",
    "from sklearn.metrics import classification_report\n",
    "print(classification_report(y_test, bank_predict_y))\n",
    "\n",
    "from sklearn.metrics import confusion_matrix\n",
    "knn_confusion_matrix = confusion_matrix(y_true = y_test, y_pred = bank_predict_y)\n",
    "print(knn_confusion_matrix)\n",
    "\n",
    "print(\"Accuracy on test data:\" + str(bank_knn.score(test_bank_N,y_test)))\n",
    "print(\"Accuracy on training data:\" + str(bank_knn.score(train_bank_N,y_train)))"
   ]
  },
  {
   "cell_type": "code",
   "execution_count": 55,
   "metadata": {
    "collapsed": false
   },
   "outputs": [
    {
     "name": "stdout",
     "output_type": "stream",
     "text": [
      "             precision    recall  f1-score   support\n",
      "\n",
      "         NO       0.69      0.77      0.73        66\n",
      "        YES       0.67      0.57      0.62        54\n",
      "\n",
      "avg / total       0.68      0.68      0.68       120\n",
      "\n",
      "[[51 15]\n",
      " [23 31]]\n",
      "Accuracy on test data:0.683333333333\n",
      "Accuracy on training data:0.739583333333\n"
     ]
    },
    {
     "name": "stderr",
     "output_type": "stream",
     "text": [
      "/Users/Bru/Downloads/anaconda/lib/python3.5/site-packages/ipykernel/__main__.py:2: DataConversionWarning: A column-vector y was passed when a 1d array was expected. Please change the shape of y to (n_samples, ), for example using ravel().\n",
      "  from ipykernel import kernelapp as app\n"
     ]
    }
   ],
   "source": [
    "bank_knn = KNeighborsClassifier(n_neighbors = 15, weights = 'uniform', metric='euclidean')\n",
    "bank_knn.fit(train_bank_N,y_train)\n",
    "bank_predict_y = bank_knn.predict(test_bank_N)\n",
    "\n",
    "from sklearn.metrics import classification_report\n",
    "print(classification_report(y_test, bank_predict_y))\n",
    "\n",
    "from sklearn.metrics import confusion_matrix\n",
    "knn_confusion_matrix = confusion_matrix(y_true = y_test, y_pred = bank_predict_y)\n",
    "print(knn_confusion_matrix)\n",
    "\n",
    "print(\"Accuracy on test data:\" + str(bank_knn.score(test_bank_N,y_test)))\n",
    "print(\"Accuracy on training data:\" + str(bank_knn.score(train_bank_N,y_train)))"
   ]
  },
  {
   "cell_type": "markdown",
   "metadata": {},
   "source": [
    "Changing the value of weights param to 'uniform', the highest average accuracy achieved on test data is 0.7 for k = 13\n",
    "\n",
    "Changing the weight parameter"
   ]
  },
  {
   "cell_type": "code",
   "execution_count": 57,
   "metadata": {
    "collapsed": false
   },
   "outputs": [
    {
     "name": "stdout",
     "output_type": "stream",
     "text": [
      "             precision    recall  f1-score   support\n",
      "\n",
      "         NO       0.66      0.74      0.70        66\n",
      "        YES       0.63      0.54      0.58        54\n",
      "\n",
      "avg / total       0.65      0.65      0.65       120\n",
      "\n",
      "[[49 17]\n",
      " [25 29]]\n",
      "Accuracy on test data:0.65\n",
      "Accuracy on training data:1.0\n"
     ]
    },
    {
     "name": "stderr",
     "output_type": "stream",
     "text": [
      "/Users/Bru/Downloads/anaconda/lib/python3.5/site-packages/ipykernel/__main__.py:2: DataConversionWarning: A column-vector y was passed when a 1d array was expected. Please change the shape of y to (n_samples, ), for example using ravel().\n",
      "  from ipykernel import kernelapp as app\n"
     ]
    }
   ],
   "source": [
    "bank_knn = KNeighborsClassifier(n_neighbors = 3, weights = 'distance', metric='manhattan')\n",
    "bank_knn.fit(train_bank_N,y_train)\n",
    "bank_predict_y = bank_knn.predict(test_bank_N)\n",
    "\n",
    "from sklearn.metrics import classification_report\n",
    "print(classification_report(y_test, bank_predict_y))\n",
    "\n",
    "from sklearn.metrics import confusion_matrix\n",
    "knn_confusion_matrix = confusion_matrix(y_true = y_test, y_pred = bank_predict_y)\n",
    "print(knn_confusion_matrix)\n",
    "\n",
    "print(\"Accuracy on test data:\" + str(bank_knn.score(test_bank_N,y_test)))\n",
    "print(\"Accuracy on training data:\" + str(bank_knn.score(train_bank_N,y_train)))"
   ]
  },
  {
   "cell_type": "code",
   "execution_count": 58,
   "metadata": {
    "collapsed": false
   },
   "outputs": [
    {
     "name": "stdout",
     "output_type": "stream",
     "text": [
      "             precision    recall  f1-score   support\n",
      "\n",
      "         NO       0.67      0.76      0.71        66\n",
      "        YES       0.64      0.54      0.59        54\n",
      "\n",
      "avg / total       0.66      0.66      0.65       120\n",
      "\n",
      "[[50 16]\n",
      " [25 29]]\n",
      "Accuracy on test data:0.658333333333\n",
      "Accuracy on training data:1.0\n"
     ]
    },
    {
     "name": "stderr",
     "output_type": "stream",
     "text": [
      "/Users/Bru/Downloads/anaconda/lib/python3.5/site-packages/ipykernel/__main__.py:2: DataConversionWarning: A column-vector y was passed when a 1d array was expected. Please change the shape of y to (n_samples, ), for example using ravel().\n",
      "  from ipykernel import kernelapp as app\n"
     ]
    }
   ],
   "source": [
    "bank_knn = KNeighborsClassifier(n_neighbors = 5, weights = 'distance', metric='manhattan')\n",
    "bank_knn.fit(train_bank_N,y_train)\n",
    "bank_predict_y = bank_knn.predict(test_bank_N)\n",
    "\n",
    "from sklearn.metrics import classification_report\n",
    "print(classification_report(y_test, bank_predict_y))\n",
    "\n",
    "from sklearn.metrics import confusion_matrix\n",
    "knn_confusion_matrix = confusion_matrix(y_true = y_test, y_pred = bank_predict_y)\n",
    "print(knn_confusion_matrix)\n",
    "\n",
    "print(\"Accuracy on test data:\" + str(bank_knn.score(test_bank_N,y_test)))\n",
    "print(\"Accuracy on training data:\" + str(bank_knn.score(train_bank_N,y_train)))"
   ]
  },
  {
   "cell_type": "code",
   "execution_count": 59,
   "metadata": {
    "collapsed": false
   },
   "outputs": [
    {
     "name": "stdout",
     "output_type": "stream",
     "text": [
      "             precision    recall  f1-score   support\n",
      "\n",
      "         NO       0.67      0.74      0.71        66\n",
      "        YES       0.64      0.56      0.59        54\n",
      "\n",
      "avg / total       0.66      0.66      0.66       120\n",
      "\n",
      "[[49 17]\n",
      " [24 30]]\n",
      "Accuracy on test data:0.658333333333\n",
      "Accuracy on training data:1.0\n"
     ]
    },
    {
     "name": "stderr",
     "output_type": "stream",
     "text": [
      "/Users/Bru/Downloads/anaconda/lib/python3.5/site-packages/ipykernel/__main__.py:2: DataConversionWarning: A column-vector y was passed when a 1d array was expected. Please change the shape of y to (n_samples, ), for example using ravel().\n",
      "  from ipykernel import kernelapp as app\n"
     ]
    }
   ],
   "source": [
    "bank_knn = KNeighborsClassifier(n_neighbors = 7, weights = 'distance', metric='manhattan')\n",
    "bank_knn.fit(train_bank_N,y_train)\n",
    "bank_predict_y = bank_knn.predict(test_bank_N)\n",
    "\n",
    "from sklearn.metrics import classification_report\n",
    "print(classification_report(y_test, bank_predict_y))\n",
    "\n",
    "from sklearn.metrics import confusion_matrix\n",
    "knn_confusion_matrix = confusion_matrix(y_true = y_test, y_pred = bank_predict_y)\n",
    "print(knn_confusion_matrix)\n",
    "\n",
    "print(\"Accuracy on test data:\" + str(bank_knn.score(test_bank_N,y_test)))\n",
    "print(\"Accuracy on training data:\" + str(bank_knn.score(train_bank_N,y_train)))"
   ]
  },
  {
   "cell_type": "code",
   "execution_count": 60,
   "metadata": {
    "collapsed": false
   },
   "outputs": [
    {
     "name": "stdout",
     "output_type": "stream",
     "text": [
      "             precision    recall  f1-score   support\n",
      "\n",
      "         NO       0.67      0.77      0.72        66\n",
      "        YES       0.66      0.54      0.59        54\n",
      "\n",
      "avg / total       0.67      0.67      0.66       120\n",
      "\n",
      "[[51 15]\n",
      " [25 29]]\n",
      "Accuracy on test data:0.666666666667\n",
      "Accuracy on training data:1.0\n"
     ]
    },
    {
     "name": "stderr",
     "output_type": "stream",
     "text": [
      "/Users/Bru/Downloads/anaconda/lib/python3.5/site-packages/ipykernel/__main__.py:2: DataConversionWarning: A column-vector y was passed when a 1d array was expected. Please change the shape of y to (n_samples, ), for example using ravel().\n",
      "  from ipykernel import kernelapp as app\n"
     ]
    }
   ],
   "source": [
    "bank_knn = KNeighborsClassifier(n_neighbors = 10, weights = 'distance', metric='manhattan')\n",
    "bank_knn.fit(train_bank_N,y_train)\n",
    "bank_predict_y = bank_knn.predict(test_bank_N)\n",
    "\n",
    "from sklearn.metrics import classification_report\n",
    "print(classification_report(y_test, bank_predict_y))\n",
    "\n",
    "from sklearn.metrics import confusion_matrix\n",
    "knn_confusion_matrix = confusion_matrix(y_true = y_test, y_pred = bank_predict_y)\n",
    "print(knn_confusion_matrix)\n",
    "\n",
    "print(\"Accuracy on test data:\" + str(bank_knn.score(test_bank_N,y_test)))\n",
    "print(\"Accuracy on training data:\" + str(bank_knn.score(train_bank_N,y_train)))"
   ]
  },
  {
   "cell_type": "code",
   "execution_count": 61,
   "metadata": {
    "collapsed": false
   },
   "outputs": [
    {
     "name": "stdout",
     "output_type": "stream",
     "text": [
      "             precision    recall  f1-score   support\n",
      "\n",
      "         NO       0.65      0.79      0.71        66\n",
      "        YES       0.65      0.48      0.55        54\n",
      "\n",
      "avg / total       0.65      0.65      0.64       120\n",
      "\n",
      "[[52 14]\n",
      " [28 26]]\n",
      "Accuracy on test data:0.65\n",
      "Accuracy on training data:1.0\n"
     ]
    },
    {
     "name": "stderr",
     "output_type": "stream",
     "text": [
      "/Users/Bru/Downloads/anaconda/lib/python3.5/site-packages/ipykernel/__main__.py:2: DataConversionWarning: A column-vector y was passed when a 1d array was expected. Please change the shape of y to (n_samples, ), for example using ravel().\n",
      "  from ipykernel import kernelapp as app\n"
     ]
    }
   ],
   "source": [
    "bank_knn = KNeighborsClassifier(n_neighbors = 13, weights = 'distance', metric='manhattan')\n",
    "bank_knn.fit(train_bank_N,y_train)\n",
    "bank_predict_y = bank_knn.predict(test_bank_N)\n",
    "\n",
    "from sklearn.metrics import classification_report\n",
    "print(classification_report(y_test, bank_predict_y))\n",
    "\n",
    "from sklearn.metrics import confusion_matrix\n",
    "knn_confusion_matrix = confusion_matrix(y_true = y_test, y_pred = bank_predict_y)\n",
    "print(knn_confusion_matrix)\n",
    "\n",
    "print(\"Accuracy on test data:\" + str(bank_knn.score(test_bank_N,y_test)))\n",
    "print(\"Accuracy on training data:\" + str(bank_knn.score(train_bank_N,y_train)))"
   ]
  },
  {
   "cell_type": "code",
   "execution_count": 62,
   "metadata": {
    "collapsed": false
   },
   "outputs": [
    {
     "name": "stdout",
     "output_type": "stream",
     "text": [
      "             precision    recall  f1-score   support\n",
      "\n",
      "         NO       0.66      0.77      0.71        66\n",
      "        YES       0.65      0.52      0.58        54\n",
      "\n",
      "avg / total       0.66      0.66      0.65       120\n",
      "\n",
      "[[51 15]\n",
      " [26 28]]\n",
      "Accuracy on test data:0.658333333333\n",
      "Accuracy on training data:1.0\n"
     ]
    },
    {
     "name": "stderr",
     "output_type": "stream",
     "text": [
      "/Users/Bru/Downloads/anaconda/lib/python3.5/site-packages/ipykernel/__main__.py:2: DataConversionWarning: A column-vector y was passed when a 1d array was expected. Please change the shape of y to (n_samples, ), for example using ravel().\n",
      "  from ipykernel import kernelapp as app\n"
     ]
    }
   ],
   "source": [
    "bank_knn = KNeighborsClassifier(n_neighbors = 15, weights = 'distance', metric='manhattan')\n",
    "bank_knn.fit(train_bank_N,y_train)\n",
    "bank_predict_y = bank_knn.predict(test_bank_N)\n",
    "\n",
    "from sklearn.metrics import classification_report\n",
    "print(classification_report(y_test, bank_predict_y))\n",
    "\n",
    "from sklearn.metrics import confusion_matrix\n",
    "knn_confusion_matrix = confusion_matrix(y_true = y_test, y_pred = bank_predict_y)\n",
    "print(knn_confusion_matrix)\n",
    "\n",
    "print(\"Accuracy on test data:\" + str(bank_knn.score(test_bank_N,y_test)))\n",
    "print(\"Accuracy on training data:\" + str(bank_knn.score(train_bank_N,y_train)))"
   ]
  },
  {
   "cell_type": "markdown",
   "metadata": {},
   "source": [
    "#### Accuracy seems to increase with 'euclidean' distance.. The overall maximum accuracy achieved is for k = 13 i.e 70% or 0.70"
   ]
  },
  {
   "cell_type": "markdown",
   "metadata": {},
   "source": [
    "## c) Repeat the classification using scikit-learn's decision tree classifier (using the default parameters) and the naive Bayes (Gaussian) classifier. As above, generate the confusion matrix, classification report, and average accuracy score for each classifier. For each model, compare the average accuracry scores on the test and the training data sets. What does the comparison tell you in terms of bias-variance trade-off?"
   ]
  },
  {
   "cell_type": "code",
   "execution_count": 63,
   "metadata": {
    "collapsed": true
   },
   "outputs": [],
   "source": [
    "#Decision tree classifier  - scikit-learn (default paramters)\n",
    "from sklearn.tree import tree\n",
    "\n",
    "treeclf = tree.DecisionTreeClassifier(random_state = 9)\n",
    "#Fit the model to the training data\n",
    "treeclf = treeclf.fit(train_bank_N, y_train)\n",
    "\n",
    "treepreds_test = treeclf.predict(test_bank_N)"
   ]
  },
  {
   "cell_type": "code",
   "execution_count": 64,
   "metadata": {
    "collapsed": false
   },
   "outputs": [
    {
     "name": "stdout",
     "output_type": "stream",
     "text": [
      "0.85\n"
     ]
    }
   ],
   "source": [
    "#Accuracy on testing data\n",
    "\n",
    "print (treeclf.score(test_bank_N, y_test))"
   ]
  },
  {
   "cell_type": "code",
   "execution_count": 65,
   "metadata": {
    "collapsed": false
   },
   "outputs": [
    {
     "name": "stdout",
     "output_type": "stream",
     "text": [
      "1.0\n"
     ]
    }
   ],
   "source": [
    "#Accuracy on training data\n",
    "print(treeclf.score(train_bank_N,y_train))"
   ]
  },
  {
   "cell_type": "code",
   "execution_count": 66,
   "metadata": {
    "collapsed": false
   },
   "outputs": [
    {
     "name": "stdout",
     "output_type": "stream",
     "text": [
      "             precision    recall  f1-score   support\n",
      "\n",
      "         NO       0.86      0.86      0.86        66\n",
      "        YES       0.83      0.83      0.83        54\n",
      "\n",
      "avg / total       0.85      0.85      0.85       120\n",
      "\n"
     ]
    }
   ],
   "source": [
    "print(classification_report(y_test, treepreds_test))"
   ]
  },
  {
   "cell_type": "code",
   "execution_count": 68,
   "metadata": {
    "collapsed": false
   },
   "outputs": [
    {
     "name": "stdout",
     "output_type": "stream",
     "text": [
      "[[57  9]\n",
      " [ 9 45]]\n"
     ]
    },
    {
     "data": {
      "image/png": "[encoded data removed]",
      "text/plain": [
       "<matplotlib.figure.Figure at 0x1155216d8>"
      ]
     },
     "metadata": {},
     "output_type": "display_data"
    }
   ],
   "source": [
    "from sklearn.metrics import confusion_matrix\n",
    "\n",
    "dTree_confusion_matrix = confusion_matrix(y_true = y_test, y_pred = treepreds_test)\n",
    "\n",
    "print(dTree_confusion_matrix)\n",
    "\n",
    "plt.matshow(dTree_confusion_matrix)\n",
    "plt.title('Confusion matrix')\n",
    "plt.colorbar()\n",
    "plt.ylabel('Actual')\n",
    "plt.xlabel('Predicted')\n",
    "plt.show()"
   ]
  },
  {
   "cell_type": "code",
   "execution_count": 69,
   "metadata": {
    "collapsed": false
   },
   "outputs": [
    {
     "name": "stdout",
     "output_type": "stream",
     "text": [
      "Accuracy on test data 0.85\n",
      "Accuracy on train data 0.866666666667\n",
      "             precision    recall  f1-score   support\n",
      "\n",
      "         NO       0.86      0.86      0.86        66\n",
      "        YES       0.83      0.83      0.83        54\n",
      "\n",
      "avg / total       0.85      0.85      0.85       120\n",
      "\n"
     ]
    }
   ],
   "source": [
    "#Decision tree with modified parameters\n",
    "\n",
    "treeclf = tree.DecisionTreeClassifier(min_samples_leaf = 12, random_state = 9)\n",
    "#Fit the model to the training data\n",
    "treeclf = treeclf.fit(train_bank_N, y_train)\n",
    "print (\"Accuracy on test data\",treeclf.score(test_bank_N, y_test))\n",
    "print (\"Accuracy on train data\",treeclf.score(train_bank_N, y_train))\n",
    "print(classification_report(y_test, treepreds_test))"
   ]
  },
  {
   "cell_type": "code",
   "execution_count": 70,
   "metadata": {
    "collapsed": false
   },
   "outputs": [
    {
     "name": "stdout",
     "output_type": "stream",
     "text": [
      "Accuracy on test data 0.775\n",
      "Accuracy on train data 0.760416666667\n",
      "             precision    recall  f1-score   support\n",
      "\n",
      "         NO       0.86      0.86      0.86        66\n",
      "        YES       0.83      0.83      0.83        54\n",
      "\n",
      "avg / total       0.85      0.85      0.85       120\n",
      "\n"
     ]
    }
   ],
   "source": [
    "#Decision tree with modified parameters\n",
    "\n",
    "treeclf = tree.DecisionTreeClassifier(min_samples_leaf = 50, random_state = 9)\n",
    "#Fit the model to the training data\n",
    "treeclf = treeclf.fit(train_bank_N, y_train)\n",
    "print (\"Accuracy on test data\",treeclf.score(test_bank_N, y_test))\n",
    "print (\"Accuracy on train data\",treeclf.score(train_bank_N, y_train))\n",
    "print(classification_report(y_test, treepreds_test))"
   ]
  },
  {
   "cell_type": "markdown",
   "metadata": {},
   "source": [
    "ANALYSIS:\n",
    "If we keep the default parameters, that is minimum samples per leaf value to be 1 (very complex tree), we can see that we are getting 100% accuracy on training data but accuracy on testing data comes out to be 80% which shows that we are overfitting the data in our model and it performs very well on training set but its performance goes down on testing data and training and testing accuracies are not within acceptables ranges (more than 10% difference).\n",
    "\n",
    "So here we can see that the accuracy we get using decision tree when we change one of its parameters (min_samples_leaf = 12), is 85.0% on testing data and 85.00% on training data, so testing and training accuracy are within acceptable ranges (less than 10% difference) and there is no bias-variance trade off or in other words underfitting or overfitting.\n",
    "\n",
    "If we keep the miminum samples per leaf value to be high and equal to 50 (comparitively simple tree), we can see that the accuracy on both testing and training comes down to around 77.5% and 76.04%, which is probably we are underfitting the data and keeping the models too simple, which is resulting into high bias, which can cause an algorithm to miss the relevant relations between features and target outputs (in other words underfitting)."
   ]
  },
  {
   "cell_type": "code",
   "execution_count": 71,
   "metadata": {
    "collapsed": false
   },
   "outputs": [
    {
     "name": "stderr",
     "output_type": "stream",
     "text": [
      "/Users/Bru/Downloads/anaconda/lib/python3.5/site-packages/sklearn/utils/validation.py:526: DataConversionWarning: A column-vector y was passed when a 1d array was expected. Please change the shape of y to (n_samples, ), for example using ravel().\n",
      "  y = column_or_1d(y, warn=True)\n"
     ]
    }
   ],
   "source": [
    "#(Gaussian) naive Bayes classifier\n",
    "from sklearn import naive_bayes\n",
    "\n",
    "nbclf = naive_bayes.GaussianNB()\n",
    "nbclf = nbclf.fit(train_bank_N, y_train)\n",
    "nbpreds_test = nbclf.predict(test_bank_N)"
   ]
  },
  {
   "cell_type": "code",
   "execution_count": 72,
   "metadata": {
    "collapsed": false
   },
   "outputs": [
    {
     "name": "stdout",
     "output_type": "stream",
     "text": [
      "0.566666666667\n"
     ]
    }
   ],
   "source": [
    "#Accuracy on testing data\n",
    "print (nbclf.score(test_bank_N, y_test))\n"
   ]
  },
  {
   "cell_type": "code",
   "execution_count": 73,
   "metadata": {
    "collapsed": false
   },
   "outputs": [
    {
     "name": "stdout",
     "output_type": "stream",
     "text": [
      "0.677083333333\n"
     ]
    }
   ],
   "source": [
    "#Accuracy on training data\n",
    "print (nbclf.score(train_bank_N, y_train))"
   ]
  },
  {
   "cell_type": "code",
   "execution_count": 74,
   "metadata": {
    "collapsed": false
   },
   "outputs": [
    {
     "name": "stdout",
     "output_type": "stream",
     "text": [
      "             precision    recall  f1-score   support\n",
      "\n",
      "         NO       0.61      0.59      0.60        66\n",
      "        YES       0.52      0.54      0.53        54\n",
      "\n",
      "avg / total       0.57      0.57      0.57       120\n",
      "\n"
     ]
    }
   ],
   "source": [
    "print(classification_report(y_test, nbpreds_test))"
   ]
  },
  {
   "cell_type": "code",
   "execution_count": 76,
   "metadata": {
    "collapsed": false
   },
   "outputs": [
    {
     "name": "stdout",
     "output_type": "stream",
     "text": [
      "[[39 27]\n",
      " [25 29]]\n"
     ]
    },
    {
     "data": {
      "image/png": "[encoded data removed]",
      "text/plain": [
       "<matplotlib.figure.Figure at 0x11597c7b8>"
      ]
     },
     "metadata": {},
     "output_type": "display_data"
    }
   ],
   "source": [
    "from sklearn.metrics import confusion_matrix\n",
    "\n",
    "nb_confusion_matrix = confusion_matrix(y_true = y_test, y_pred = nbpreds_test)\n",
    "\n",
    "print(nb_confusion_matrix)\n",
    "\n",
    "plt.matshow(nb_confusion_matrix)\n",
    "plt.title('Confusion matrix')\n",
    "plt.colorbar()\n",
    "plt.ylabel('Actual')\n",
    "plt.xlabel('Predicted')\n",
    "plt.show()"
   ]
  },
  {
   "cell_type": "markdown",
   "metadata": {},
   "source": [
    "So here we can see that the accuracy we get using naive bayes, is 57% on testing data and 67.7% on training data, so testing and training accuracy are within acceptable ranges (has around 10% difference) and there might be some overfitting."
   ]
  },
  {
   "cell_type": "markdown",
   "metadata": {},
   "source": [
    "## d) Discuss your observations based on the above experiments."
   ]
  },
  {
   "cell_type": "markdown",
   "metadata": {},
   "source": [
    "From the above experiments, it can be seen that the Decision Tree classifier works best on this given dataset in the task of classifying the records into whether they will buy PEP or not. The accuracy for decision tree with modified parameters comes out to be 85% on testing data where as the peak accuracy achieved using k Nearest Neighbour classifier is around 70% for k=13 and Naive Bayes classifier with 57% accuracy on testing data.\n",
    "\n",
    "Also by tweaking the parameters of the k Nearest Neighbour classifier we observed that:\n",
    "\n",
    "1) Changing the value of K in the model parameters we can see that the maximum accuracy achieved on test data is 68.3% or 0.683 for k = 13.\n",
    "2) Changing the value of weights param to 'uniform', the highest average accuracy achieved on test data is 0.7 for k = 13\n",
    "3) Changing the value of distance metric in the model parameters we can see that the maximum accuracy we achieve on test data is 66.66% or 0.6666 for k = 11 and then it starts decreasing. So maximum accuracy achieved using \"manhattan\" distance is slightly more than what we achieved using \"euclidean\", so we can say for classification in this dataset manhattan seems to have better accuracy than euclidean.\n",
    "\n",
    "Modifying the parameters of decision tree we were able to see bias-variance trade off and how model underfits and overfits."
   ]
  },
  {
   "cell_type": "code",
   "execution_count": null,
   "metadata": {
    "collapsed": true
   },
   "outputs": [],
   "source": []
  }
 ],
 "metadata": {
  "kernelspec": {
   "display_name": "Python [conda root]",
   "language": "python",
   "name": "conda-root-py"
  },
  "language_info": {
   "codemirror_mode": {
    "name": "ipython",
    "version": 3
   },
   "file_extension": ".py",
   "mimetype": "text/x-python",
   "name": "python",
   "nbconvert_exporter": "python",
   "pygments_lexer": "ipython3",
   "version": "3.5.2"
  }
 },
 "nbformat": 4,
 "nbformat_minor": 1
}
