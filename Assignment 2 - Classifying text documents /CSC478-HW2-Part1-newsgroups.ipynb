{
 "cells": [
  {
   "cell_type": "markdown",
   "metadata": {},
   "source": [
    "# CSC478 - Assignment 2: Part 1\n",
    "### K-Nearest-Neighbor (KNN) classification"
   ]
  },
  {
   "cell_type": "code",
   "execution_count": 2,
   "metadata": {
    "collapsed": true
   },
   "outputs": [],
   "source": [
    "import pandas as pd\n",
    "import numpy as np\n",
    "import matplotlib.pyplot as plt\n",
    "%matplotlib inline \n",
    "import os"
   ]
  },
  {
   "cell_type": "code",
   "execution_count": 3,
   "metadata": {
    "collapsed": false
   },
   "outputs": [
    {
     "data": {
      "text/plain": [
       "'/Users/Bru/Desktop/MS-PA/Spring2017/CSC478-ML/CSC478 - Assignments/HW2'"
      ]
     },
     "execution_count": 3,
     "metadata": {},
     "output_type": "execute_result"
    }
   ],
   "source": [
    "os.getcwd()"
   ]
  },
  {
   "cell_type": "code",
   "execution_count": 4,
   "metadata": {
    "collapsed": false
   },
   "outputs": [
    {
     "name": "stdout",
     "output_type": "stream",
     "text": [
      "/Users/Bru/Desktop/MS-PA/Spring2017/CSC478-ML/CSC478 - Assignments/HW2/newsgroups\n"
     ]
    }
   ],
   "source": [
    "cd '/Users/Bru/Desktop/MS-PA/Spring2017/CSC478-ML/CSC478 - Assignments/HW2/newsgroups'"
   ]
  },
  {
   "cell_type": "markdown",
   "metadata": {},
   "source": [
    "## 1. K-Nearest-Neighbor (KNN) classification on Newsgroups [Dataset: newsgroups.zip]\n",
    "### For this problem you will use a subset of the 20 Newsgroup data set. The full data set contains 20,000 newsgroup documents, partitioned (nearly) evenly across 20 different newsgroups and has been often used for experiments in text applications of machine learning techniques, such as text classification and text clustering (see the description of the full dataset). The assignment data set contains a subset of 1000 documents and a vocabulary of  terms. Each document belongs to one of two classes Hockey (class label 1) and Microsoft Windows (class label 0). The data has already been split (80%, 20%) into training and test data. The class labels for the training and test data are also provided in separate files. The training and test data contain a row for each term in the vocabulary and a column for each document. The values in the table represent raw term frequencies. The data has already been preprocessed to extract terms, remove stop words and perform stemming (so, the vocabulary contains stems not full terms). Please be sure to read the readme.txt file in the distribution."
   ]
  },
  {
   "cell_type": "code",
   "execution_count": 5,
   "metadata": {
    "collapsed": true
   },
   "outputs": [],
   "source": [
    "#Loading data\n",
    "\n",
    "train_data = pd.read_table('trainMatrixModified.txt',header=None)"
   ]
  },
  {
   "cell_type": "code",
   "execution_count": 6,
   "metadata": {
    "collapsed": false
   },
   "outputs": [
    {
     "data": {
      "text/plain": [
       "(5500, 800)"
      ]
     },
     "execution_count": 6,
     "metadata": {},
     "output_type": "execute_result"
    }
   ],
   "source": [
    "train_data.shape"
   ]
  },
  {
   "cell_type": "code",
   "execution_count": 7,
   "metadata": {
    "collapsed": false
   },
   "outputs": [
    {
     "data": {
      "text/html": [
       "<div>\n",
       "<table border=\"1\" class=\"dataframe\">\n",
       "  <thead>\n",
       "    <tr style=\"text-align: right;\">\n",
       "      <th></th>\n",
       "      <th>0</th>\n",
       "      <th>1</th>\n",
       "      <th>2</th>\n",
       "      <th>3</th>\n",
       "      <th>4</th>\n",
       "      <th>5</th>\n",
       "      <th>6</th>\n",
       "      <th>7</th>\n",
       "      <th>8</th>\n",
       "      <th>9</th>\n",
       "      <th>...</th>\n",
       "      <th>790</th>\n",
       "      <th>791</th>\n",
       "      <th>792</th>\n",
       "      <th>793</th>\n",
       "      <th>794</th>\n",
       "      <th>795</th>\n",
       "      <th>796</th>\n",
       "      <th>797</th>\n",
       "      <th>798</th>\n",
       "      <th>799</th>\n",
       "    </tr>\n",
       "  </thead>\n",
       "  <tbody>\n",
       "    <tr>\n",
       "      <th>0</th>\n",
       "      <td>2.0</td>\n",
       "      <td>0.0</td>\n",
       "      <td>0.0</td>\n",
       "      <td>2.0</td>\n",
       "      <td>2.0</td>\n",
       "      <td>0.0</td>\n",
       "      <td>0.0</td>\n",
       "      <td>0.0</td>\n",
       "      <td>0.0</td>\n",
       "      <td>0.0</td>\n",
       "      <td>...</td>\n",
       "      <td>0.0</td>\n",
       "      <td>0.0</td>\n",
       "      <td>0.0</td>\n",
       "      <td>0.0</td>\n",
       "      <td>0.0</td>\n",
       "      <td>0.0</td>\n",
       "      <td>0.0</td>\n",
       "      <td>0.0</td>\n",
       "      <td>0.0</td>\n",
       "      <td>0.0</td>\n",
       "    </tr>\n",
       "    <tr>\n",
       "      <th>1</th>\n",
       "      <td>2.0</td>\n",
       "      <td>0.0</td>\n",
       "      <td>0.0</td>\n",
       "      <td>0.0</td>\n",
       "      <td>0.0</td>\n",
       "      <td>0.0</td>\n",
       "      <td>0.0</td>\n",
       "      <td>0.0</td>\n",
       "      <td>0.0</td>\n",
       "      <td>0.0</td>\n",
       "      <td>...</td>\n",
       "      <td>0.0</td>\n",
       "      <td>0.0</td>\n",
       "      <td>3.0</td>\n",
       "      <td>0.0</td>\n",
       "      <td>0.0</td>\n",
       "      <td>0.0</td>\n",
       "      <td>0.0</td>\n",
       "      <td>0.0</td>\n",
       "      <td>0.0</td>\n",
       "      <td>0.0</td>\n",
       "    </tr>\n",
       "    <tr>\n",
       "      <th>2</th>\n",
       "      <td>2.0</td>\n",
       "      <td>0.0</td>\n",
       "      <td>0.0</td>\n",
       "      <td>0.0</td>\n",
       "      <td>0.0</td>\n",
       "      <td>0.0</td>\n",
       "      <td>0.0</td>\n",
       "      <td>0.0</td>\n",
       "      <td>0.0</td>\n",
       "      <td>0.0</td>\n",
       "      <td>...</td>\n",
       "      <td>0.0</td>\n",
       "      <td>0.0</td>\n",
       "      <td>0.0</td>\n",
       "      <td>0.0</td>\n",
       "      <td>0.0</td>\n",
       "      <td>0.0</td>\n",
       "      <td>0.0</td>\n",
       "      <td>0.0</td>\n",
       "      <td>0.0</td>\n",
       "      <td>0.0</td>\n",
       "    </tr>\n",
       "    <tr>\n",
       "      <th>3</th>\n",
       "      <td>1.0</td>\n",
       "      <td>1.0</td>\n",
       "      <td>1.0</td>\n",
       "      <td>1.0</td>\n",
       "      <td>1.0</td>\n",
       "      <td>1.0</td>\n",
       "      <td>2.0</td>\n",
       "      <td>1.0</td>\n",
       "      <td>1.0</td>\n",
       "      <td>1.0</td>\n",
       "      <td>...</td>\n",
       "      <td>1.0</td>\n",
       "      <td>1.0</td>\n",
       "      <td>1.0</td>\n",
       "      <td>1.0</td>\n",
       "      <td>1.0</td>\n",
       "      <td>1.0</td>\n",
       "      <td>1.0</td>\n",
       "      <td>1.0</td>\n",
       "      <td>1.0</td>\n",
       "      <td>1.0</td>\n",
       "    </tr>\n",
       "    <tr>\n",
       "      <th>4</th>\n",
       "      <td>8.0</td>\n",
       "      <td>1.0</td>\n",
       "      <td>0.0</td>\n",
       "      <td>0.0</td>\n",
       "      <td>0.0</td>\n",
       "      <td>0.0</td>\n",
       "      <td>0.0</td>\n",
       "      <td>0.0</td>\n",
       "      <td>0.0</td>\n",
       "      <td>0.0</td>\n",
       "      <td>...</td>\n",
       "      <td>0.0</td>\n",
       "      <td>0.0</td>\n",
       "      <td>2.0</td>\n",
       "      <td>0.0</td>\n",
       "      <td>0.0</td>\n",
       "      <td>0.0</td>\n",
       "      <td>0.0</td>\n",
       "      <td>0.0</td>\n",
       "      <td>0.0</td>\n",
       "      <td>1.0</td>\n",
       "    </tr>\n",
       "  </tbody>\n",
       "</table>\n",
       "<p>5 rows × 800 columns</p>\n",
       "</div>"
      ],
      "text/plain": [
       "   0    1    2    3    4    5    6    7    8    9   ...   790  791  792  793  \\\n",
       "0  2.0  0.0  0.0  2.0  2.0  0.0  0.0  0.0  0.0  0.0 ...   0.0  0.0  0.0  0.0   \n",
       "1  2.0  0.0  0.0  0.0  0.0  0.0  0.0  0.0  0.0  0.0 ...   0.0  0.0  3.0  0.0   \n",
       "2  2.0  0.0  0.0  0.0  0.0  0.0  0.0  0.0  0.0  0.0 ...   0.0  0.0  0.0  0.0   \n",
       "3  1.0  1.0  1.0  1.0  1.0  1.0  2.0  1.0  1.0  1.0 ...   1.0  1.0  1.0  1.0   \n",
       "4  8.0  1.0  0.0  0.0  0.0  0.0  0.0  0.0  0.0  0.0 ...   0.0  0.0  2.0  0.0   \n",
       "\n",
       "   794  795  796  797  798  799  \n",
       "0  0.0  0.0  0.0  0.0  0.0  0.0  \n",
       "1  0.0  0.0  0.0  0.0  0.0  0.0  \n",
       "2  0.0  0.0  0.0  0.0  0.0  0.0  \n",
       "3  1.0  1.0  1.0  1.0  1.0  1.0  \n",
       "4  0.0  0.0  0.0  0.0  0.0  1.0  \n",
       "\n",
       "[5 rows x 800 columns]"
      ]
     },
     "execution_count": 7,
     "metadata": {},
     "output_type": "execute_result"
    }
   ],
   "source": [
    "train_data.head()"
   ]
  },
  {
   "cell_type": "code",
   "execution_count": 8,
   "metadata": {
    "collapsed": true
   },
   "outputs": [],
   "source": [
    "test_data = pd.read_table('testMatrixModified.txt',header=None)"
   ]
  },
  {
   "cell_type": "code",
   "execution_count": 9,
   "metadata": {
    "collapsed": false
   },
   "outputs": [
    {
     "data": {
      "text/plain": [
       "(5500, 200)"
      ]
     },
     "execution_count": 9,
     "metadata": {},
     "output_type": "execute_result"
    }
   ],
   "source": [
    "test_data.shape"
   ]
  },
  {
   "cell_type": "code",
   "execution_count": 10,
   "metadata": {
    "collapsed": false
   },
   "outputs": [
    {
     "data": {
      "text/html": [
       "<div>\n",
       "<table border=\"1\" class=\"dataframe\">\n",
       "  <thead>\n",
       "    <tr style=\"text-align: right;\">\n",
       "      <th></th>\n",
       "      <th>0</th>\n",
       "      <th>1</th>\n",
       "      <th>2</th>\n",
       "      <th>3</th>\n",
       "      <th>4</th>\n",
       "      <th>5</th>\n",
       "      <th>6</th>\n",
       "      <th>7</th>\n",
       "      <th>8</th>\n",
       "      <th>9</th>\n",
       "      <th>...</th>\n",
       "      <th>190</th>\n",
       "      <th>191</th>\n",
       "      <th>192</th>\n",
       "      <th>193</th>\n",
       "      <th>194</th>\n",
       "      <th>195</th>\n",
       "      <th>196</th>\n",
       "      <th>197</th>\n",
       "      <th>198</th>\n",
       "      <th>199</th>\n",
       "    </tr>\n",
       "  </thead>\n",
       "  <tbody>\n",
       "    <tr>\n",
       "      <th>0</th>\n",
       "      <td>0.0</td>\n",
       "      <td>0.0</td>\n",
       "      <td>1.0</td>\n",
       "      <td>0.0</td>\n",
       "      <td>0.0</td>\n",
       "      <td>0.0</td>\n",
       "      <td>0.0</td>\n",
       "      <td>0.0</td>\n",
       "      <td>0.0</td>\n",
       "      <td>0.0</td>\n",
       "      <td>...</td>\n",
       "      <td>0.0</td>\n",
       "      <td>0.0</td>\n",
       "      <td>0.0</td>\n",
       "      <td>0.0</td>\n",
       "      <td>0.0</td>\n",
       "      <td>0.0</td>\n",
       "      <td>0.0</td>\n",
       "      <td>0.0</td>\n",
       "      <td>0.0</td>\n",
       "      <td>0.0</td>\n",
       "    </tr>\n",
       "    <tr>\n",
       "      <th>1</th>\n",
       "      <td>0.0</td>\n",
       "      <td>0.0</td>\n",
       "      <td>0.0</td>\n",
       "      <td>0.0</td>\n",
       "      <td>0.0</td>\n",
       "      <td>0.0</td>\n",
       "      <td>0.0</td>\n",
       "      <td>0.0</td>\n",
       "      <td>0.0</td>\n",
       "      <td>0.0</td>\n",
       "      <td>...</td>\n",
       "      <td>0.0</td>\n",
       "      <td>0.0</td>\n",
       "      <td>0.0</td>\n",
       "      <td>0.0</td>\n",
       "      <td>0.0</td>\n",
       "      <td>0.0</td>\n",
       "      <td>0.0</td>\n",
       "      <td>0.0</td>\n",
       "      <td>0.0</td>\n",
       "      <td>0.0</td>\n",
       "    </tr>\n",
       "    <tr>\n",
       "      <th>2</th>\n",
       "      <td>0.0</td>\n",
       "      <td>0.0</td>\n",
       "      <td>0.0</td>\n",
       "      <td>0.0</td>\n",
       "      <td>0.0</td>\n",
       "      <td>0.0</td>\n",
       "      <td>0.0</td>\n",
       "      <td>0.0</td>\n",
       "      <td>0.0</td>\n",
       "      <td>0.0</td>\n",
       "      <td>...</td>\n",
       "      <td>0.0</td>\n",
       "      <td>0.0</td>\n",
       "      <td>0.0</td>\n",
       "      <td>0.0</td>\n",
       "      <td>0.0</td>\n",
       "      <td>0.0</td>\n",
       "      <td>0.0</td>\n",
       "      <td>0.0</td>\n",
       "      <td>0.0</td>\n",
       "      <td>0.0</td>\n",
       "    </tr>\n",
       "    <tr>\n",
       "      <th>3</th>\n",
       "      <td>1.0</td>\n",
       "      <td>1.0</td>\n",
       "      <td>1.0</td>\n",
       "      <td>1.0</td>\n",
       "      <td>1.0</td>\n",
       "      <td>1.0</td>\n",
       "      <td>2.0</td>\n",
       "      <td>1.0</td>\n",
       "      <td>1.0</td>\n",
       "      <td>1.0</td>\n",
       "      <td>...</td>\n",
       "      <td>1.0</td>\n",
       "      <td>2.0</td>\n",
       "      <td>1.0</td>\n",
       "      <td>1.0</td>\n",
       "      <td>1.0</td>\n",
       "      <td>1.0</td>\n",
       "      <td>1.0</td>\n",
       "      <td>1.0</td>\n",
       "      <td>1.0</td>\n",
       "      <td>1.0</td>\n",
       "    </tr>\n",
       "    <tr>\n",
       "      <th>4</th>\n",
       "      <td>0.0</td>\n",
       "      <td>0.0</td>\n",
       "      <td>0.0</td>\n",
       "      <td>0.0</td>\n",
       "      <td>0.0</td>\n",
       "      <td>0.0</td>\n",
       "      <td>0.0</td>\n",
       "      <td>0.0</td>\n",
       "      <td>2.0</td>\n",
       "      <td>0.0</td>\n",
       "      <td>...</td>\n",
       "      <td>0.0</td>\n",
       "      <td>0.0</td>\n",
       "      <td>0.0</td>\n",
       "      <td>0.0</td>\n",
       "      <td>0.0</td>\n",
       "      <td>0.0</td>\n",
       "      <td>0.0</td>\n",
       "      <td>0.0</td>\n",
       "      <td>0.0</td>\n",
       "      <td>0.0</td>\n",
       "    </tr>\n",
       "  </tbody>\n",
       "</table>\n",
       "<p>5 rows × 200 columns</p>\n",
       "</div>"
      ],
      "text/plain": [
       "   0    1    2    3    4    5    6    7    8    9   ...   190  191  192  193  \\\n",
       "0  0.0  0.0  1.0  0.0  0.0  0.0  0.0  0.0  0.0  0.0 ...   0.0  0.0  0.0  0.0   \n",
       "1  0.0  0.0  0.0  0.0  0.0  0.0  0.0  0.0  0.0  0.0 ...   0.0  0.0  0.0  0.0   \n",
       "2  0.0  0.0  0.0  0.0  0.0  0.0  0.0  0.0  0.0  0.0 ...   0.0  0.0  0.0  0.0   \n",
       "3  1.0  1.0  1.0  1.0  1.0  1.0  2.0  1.0  1.0  1.0 ...   1.0  2.0  1.0  1.0   \n",
       "4  0.0  0.0  0.0  0.0  0.0  0.0  0.0  0.0  2.0  0.0 ...   0.0  0.0  0.0  0.0   \n",
       "\n",
       "   194  195  196  197  198  199  \n",
       "0  0.0  0.0  0.0  0.0  0.0  0.0  \n",
       "1  0.0  0.0  0.0  0.0  0.0  0.0  \n",
       "2  0.0  0.0  0.0  0.0  0.0  0.0  \n",
       "3  1.0  1.0  1.0  1.0  1.0  1.0  \n",
       "4  0.0  0.0  0.0  0.0  0.0  0.0  \n",
       "\n",
       "[5 rows x 200 columns]"
      ]
     },
     "execution_count": 10,
     "metadata": {},
     "output_type": "execute_result"
    }
   ],
   "source": [
    "test_data.head()"
   ]
  },
  {
   "cell_type": "code",
   "execution_count": 11,
   "metadata": {
    "collapsed": true
   },
   "outputs": [],
   "source": [
    "terms= pd.read_table('modifiedTerms.txt',header=None)"
   ]
  },
  {
   "cell_type": "code",
   "execution_count": 12,
   "metadata": {
    "collapsed": false
   },
   "outputs": [
    {
     "data": {
      "text/plain": [
       "(5500, 1)"
      ]
     },
     "execution_count": 12,
     "metadata": {},
     "output_type": "execute_result"
    }
   ],
   "source": [
    "terms.shape"
   ]
  },
  {
   "cell_type": "code",
   "execution_count": 13,
   "metadata": {
    "collapsed": false
   },
   "outputs": [
    {
     "data": {
      "text/html": [
       "<div>\n",
       "<table border=\"1\" class=\"dataframe\">\n",
       "  <thead>\n",
       "    <tr style=\"text-align: right;\">\n",
       "      <th></th>\n",
       "      <th>0</th>\n",
       "    </tr>\n",
       "  </thead>\n",
       "  <tbody>\n",
       "    <tr>\n",
       "      <th>0</th>\n",
       "      <td>david</td>\n",
       "    </tr>\n",
       "    <tr>\n",
       "      <th>1</th>\n",
       "      <td>rex</td>\n",
       "    </tr>\n",
       "    <tr>\n",
       "      <th>2</th>\n",
       "      <td>wood</td>\n",
       "    </tr>\n",
       "    <tr>\n",
       "      <th>3</th>\n",
       "      <td>subject</td>\n",
       "    </tr>\n",
       "    <tr>\n",
       "      <th>4</th>\n",
       "      <td>call</td>\n",
       "    </tr>\n",
       "  </tbody>\n",
       "</table>\n",
       "</div>"
      ],
      "text/plain": [
       "         0\n",
       "0    david\n",
       "1      rex\n",
       "2     wood\n",
       "3  subject\n",
       "4     call"
      ]
     },
     "execution_count": 13,
     "metadata": {},
     "output_type": "execute_result"
    }
   ],
   "source": [
    "terms.head()"
   ]
  },
  {
   "cell_type": "code",
   "execution_count": 14,
   "metadata": {
    "collapsed": true
   },
   "outputs": [],
   "source": [
    "train_class= pd.read_table('trainClasses.txt',usecols=[1],header=None)"
   ]
  },
  {
   "cell_type": "code",
   "execution_count": 15,
   "metadata": {
    "collapsed": false
   },
   "outputs": [
    {
     "data": {
      "text/plain": [
       "(800, 1)"
      ]
     },
     "execution_count": 15,
     "metadata": {},
     "output_type": "execute_result"
    }
   ],
   "source": [
    "train_class.shape"
   ]
  },
  {
   "cell_type": "code",
   "execution_count": 16,
   "metadata": {
    "collapsed": false
   },
   "outputs": [
    {
     "data": {
      "text/html": [
       "<div>\n",
       "<table border=\"1\" class=\"dataframe\">\n",
       "  <thead>\n",
       "    <tr style=\"text-align: right;\">\n",
       "      <th></th>\n",
       "      <th>1</th>\n",
       "    </tr>\n",
       "  </thead>\n",
       "  <tbody>\n",
       "    <tr>\n",
       "      <th>0</th>\n",
       "      <td>0</td>\n",
       "    </tr>\n",
       "    <tr>\n",
       "      <th>1</th>\n",
       "      <td>1</td>\n",
       "    </tr>\n",
       "    <tr>\n",
       "      <th>2</th>\n",
       "      <td>0</td>\n",
       "    </tr>\n",
       "    <tr>\n",
       "      <th>3</th>\n",
       "      <td>1</td>\n",
       "    </tr>\n",
       "    <tr>\n",
       "      <th>4</th>\n",
       "      <td>0</td>\n",
       "    </tr>\n",
       "  </tbody>\n",
       "</table>\n",
       "</div>"
      ],
      "text/plain": [
       "   1\n",
       "0  0\n",
       "1  1\n",
       "2  0\n",
       "3  1\n",
       "4  0"
      ]
     },
     "execution_count": 16,
     "metadata": {},
     "output_type": "execute_result"
    }
   ],
   "source": [
    "train_class.head()"
   ]
  },
  {
   "cell_type": "code",
   "execution_count": 17,
   "metadata": {
    "collapsed": true
   },
   "outputs": [],
   "source": [
    "test_class = pd.read_table('testClasses.txt',usecols=[1],header=None)"
   ]
  },
  {
   "cell_type": "code",
   "execution_count": 18,
   "metadata": {
    "collapsed": false
   },
   "outputs": [
    {
     "data": {
      "text/plain": [
       "(200, 1)"
      ]
     },
     "execution_count": 18,
     "metadata": {},
     "output_type": "execute_result"
    }
   ],
   "source": [
    "test_class.shape"
   ]
  },
  {
   "cell_type": "code",
   "execution_count": 19,
   "metadata": {
    "collapsed": false
   },
   "outputs": [
    {
     "data": {
      "text/html": [
       "<div>\n",
       "<table border=\"1\" class=\"dataframe\">\n",
       "  <thead>\n",
       "    <tr style=\"text-align: right;\">\n",
       "      <th></th>\n",
       "      <th>1</th>\n",
       "    </tr>\n",
       "  </thead>\n",
       "  <tbody>\n",
       "    <tr>\n",
       "      <th>0</th>\n",
       "      <td>1</td>\n",
       "    </tr>\n",
       "    <tr>\n",
       "      <th>1</th>\n",
       "      <td>0</td>\n",
       "    </tr>\n",
       "    <tr>\n",
       "      <th>2</th>\n",
       "      <td>0</td>\n",
       "    </tr>\n",
       "    <tr>\n",
       "      <th>3</th>\n",
       "      <td>1</td>\n",
       "    </tr>\n",
       "    <tr>\n",
       "      <th>4</th>\n",
       "      <td>1</td>\n",
       "    </tr>\n",
       "  </tbody>\n",
       "</table>\n",
       "</div>"
      ],
      "text/plain": [
       "   1\n",
       "0  1\n",
       "1  0\n",
       "2  0\n",
       "3  1\n",
       "4  1"
      ]
     },
     "execution_count": 19,
     "metadata": {},
     "output_type": "execute_result"
    }
   ],
   "source": [
    "test_class.head()"
   ]
  },
  {
   "cell_type": "code",
   "execution_count": 20,
   "metadata": {
    "collapsed": true
   },
   "outputs": [],
   "source": [
    "#converting from TD to DT matrix\n",
    "DT_train = train_data.T\n",
    "DT_test = test_data.T"
   ]
  },
  {
   "cell_type": "code",
   "execution_count": 21,
   "metadata": {
    "collapsed": false
   },
   "outputs": [
    {
     "data": {
      "text/plain": [
       "(800, 5500)"
      ]
     },
     "execution_count": 21,
     "metadata": {},
     "output_type": "execute_result"
    }
   ],
   "source": [
    "DT_train.shape"
   ]
  },
  {
   "cell_type": "code",
   "execution_count": 22,
   "metadata": {
    "collapsed": false
   },
   "outputs": [
    {
     "data": {
      "text/html": [
       "<div>\n",
       "<table border=\"1\" class=\"dataframe\">\n",
       "  <thead>\n",
       "    <tr style=\"text-align: right;\">\n",
       "      <th></th>\n",
       "      <th>0</th>\n",
       "      <th>1</th>\n",
       "      <th>2</th>\n",
       "      <th>3</th>\n",
       "      <th>4</th>\n",
       "      <th>5</th>\n",
       "      <th>6</th>\n",
       "      <th>7</th>\n",
       "      <th>8</th>\n",
       "      <th>9</th>\n",
       "      <th>...</th>\n",
       "      <th>5490</th>\n",
       "      <th>5491</th>\n",
       "      <th>5492</th>\n",
       "      <th>5493</th>\n",
       "      <th>5494</th>\n",
       "      <th>5495</th>\n",
       "      <th>5496</th>\n",
       "      <th>5497</th>\n",
       "      <th>5498</th>\n",
       "      <th>5499</th>\n",
       "    </tr>\n",
       "  </thead>\n",
       "  <tbody>\n",
       "    <tr>\n",
       "      <th>0</th>\n",
       "      <td>2.0</td>\n",
       "      <td>2.0</td>\n",
       "      <td>2.0</td>\n",
       "      <td>1.0</td>\n",
       "      <td>8.0</td>\n",
       "      <td>6.0</td>\n",
       "      <td>2.0</td>\n",
       "      <td>8.0</td>\n",
       "      <td>2.0</td>\n",
       "      <td>4.0</td>\n",
       "      <td>...</td>\n",
       "      <td>0.0</td>\n",
       "      <td>0.0</td>\n",
       "      <td>0.0</td>\n",
       "      <td>0.0</td>\n",
       "      <td>0.0</td>\n",
       "      <td>0.0</td>\n",
       "      <td>0.0</td>\n",
       "      <td>0.0</td>\n",
       "      <td>0.0</td>\n",
       "      <td>0.0</td>\n",
       "    </tr>\n",
       "    <tr>\n",
       "      <th>1</th>\n",
       "      <td>0.0</td>\n",
       "      <td>0.0</td>\n",
       "      <td>0.0</td>\n",
       "      <td>1.0</td>\n",
       "      <td>1.0</td>\n",
       "      <td>0.0</td>\n",
       "      <td>0.0</td>\n",
       "      <td>0.0</td>\n",
       "      <td>0.0</td>\n",
       "      <td>0.0</td>\n",
       "      <td>...</td>\n",
       "      <td>0.0</td>\n",
       "      <td>0.0</td>\n",
       "      <td>0.0</td>\n",
       "      <td>0.0</td>\n",
       "      <td>0.0</td>\n",
       "      <td>0.0</td>\n",
       "      <td>0.0</td>\n",
       "      <td>0.0</td>\n",
       "      <td>0.0</td>\n",
       "      <td>0.0</td>\n",
       "    </tr>\n",
       "    <tr>\n",
       "      <th>2</th>\n",
       "      <td>0.0</td>\n",
       "      <td>0.0</td>\n",
       "      <td>0.0</td>\n",
       "      <td>1.0</td>\n",
       "      <td>0.0</td>\n",
       "      <td>0.0</td>\n",
       "      <td>0.0</td>\n",
       "      <td>2.0</td>\n",
       "      <td>0.0</td>\n",
       "      <td>1.0</td>\n",
       "      <td>...</td>\n",
       "      <td>0.0</td>\n",
       "      <td>0.0</td>\n",
       "      <td>0.0</td>\n",
       "      <td>0.0</td>\n",
       "      <td>0.0</td>\n",
       "      <td>0.0</td>\n",
       "      <td>0.0</td>\n",
       "      <td>0.0</td>\n",
       "      <td>0.0</td>\n",
       "      <td>0.0</td>\n",
       "    </tr>\n",
       "    <tr>\n",
       "      <th>3</th>\n",
       "      <td>2.0</td>\n",
       "      <td>0.0</td>\n",
       "      <td>0.0</td>\n",
       "      <td>1.0</td>\n",
       "      <td>0.0</td>\n",
       "      <td>0.0</td>\n",
       "      <td>0.0</td>\n",
       "      <td>0.0</td>\n",
       "      <td>0.0</td>\n",
       "      <td>0.0</td>\n",
       "      <td>...</td>\n",
       "      <td>0.0</td>\n",
       "      <td>0.0</td>\n",
       "      <td>0.0</td>\n",
       "      <td>0.0</td>\n",
       "      <td>0.0</td>\n",
       "      <td>0.0</td>\n",
       "      <td>0.0</td>\n",
       "      <td>0.0</td>\n",
       "      <td>0.0</td>\n",
       "      <td>0.0</td>\n",
       "    </tr>\n",
       "    <tr>\n",
       "      <th>4</th>\n",
       "      <td>2.0</td>\n",
       "      <td>0.0</td>\n",
       "      <td>0.0</td>\n",
       "      <td>1.0</td>\n",
       "      <td>0.0</td>\n",
       "      <td>0.0</td>\n",
       "      <td>0.0</td>\n",
       "      <td>0.0</td>\n",
       "      <td>0.0</td>\n",
       "      <td>0.0</td>\n",
       "      <td>...</td>\n",
       "      <td>0.0</td>\n",
       "      <td>0.0</td>\n",
       "      <td>0.0</td>\n",
       "      <td>0.0</td>\n",
       "      <td>0.0</td>\n",
       "      <td>0.0</td>\n",
       "      <td>0.0</td>\n",
       "      <td>0.0</td>\n",
       "      <td>0.0</td>\n",
       "      <td>0.0</td>\n",
       "    </tr>\n",
       "  </tbody>\n",
       "</table>\n",
       "<p>5 rows × 5500 columns</p>\n",
       "</div>"
      ],
      "text/plain": [
       "   0     1     2     3     4     5     6     7     8     9     ...   5490  \\\n",
       "0   2.0   2.0   2.0   1.0   8.0   6.0   2.0   8.0   2.0   4.0  ...    0.0   \n",
       "1   0.0   0.0   0.0   1.0   1.0   0.0   0.0   0.0   0.0   0.0  ...    0.0   \n",
       "2   0.0   0.0   0.0   1.0   0.0   0.0   0.0   2.0   0.0   1.0  ...    0.0   \n",
       "3   2.0   0.0   0.0   1.0   0.0   0.0   0.0   0.0   0.0   0.0  ...    0.0   \n",
       "4   2.0   0.0   0.0   1.0   0.0   0.0   0.0   0.0   0.0   0.0  ...    0.0   \n",
       "\n",
       "   5491  5492  5493  5494  5495  5496  5497  5498  5499  \n",
       "0   0.0   0.0   0.0   0.0   0.0   0.0   0.0   0.0   0.0  \n",
       "1   0.0   0.0   0.0   0.0   0.0   0.0   0.0   0.0   0.0  \n",
       "2   0.0   0.0   0.0   0.0   0.0   0.0   0.0   0.0   0.0  \n",
       "3   0.0   0.0   0.0   0.0   0.0   0.0   0.0   0.0   0.0  \n",
       "4   0.0   0.0   0.0   0.0   0.0   0.0   0.0   0.0   0.0  \n",
       "\n",
       "[5 rows x 5500 columns]"
      ]
     },
     "execution_count": 22,
     "metadata": {},
     "output_type": "execute_result"
    }
   ],
   "source": [
    "DT_train.head()"
   ]
  },
  {
   "cell_type": "code",
   "execution_count": 23,
   "metadata": {
    "collapsed": false
   },
   "outputs": [
    {
     "data": {
      "text/html": [
       "<div>\n",
       "<table border=\"1\" class=\"dataframe\">\n",
       "  <thead>\n",
       "    <tr style=\"text-align: right;\">\n",
       "      <th></th>\n",
       "      <th>0</th>\n",
       "      <th>1</th>\n",
       "      <th>2</th>\n",
       "      <th>3</th>\n",
       "      <th>4</th>\n",
       "      <th>5</th>\n",
       "      <th>6</th>\n",
       "      <th>7</th>\n",
       "      <th>8</th>\n",
       "      <th>9</th>\n",
       "      <th>...</th>\n",
       "      <th>5490</th>\n",
       "      <th>5491</th>\n",
       "      <th>5492</th>\n",
       "      <th>5493</th>\n",
       "      <th>5494</th>\n",
       "      <th>5495</th>\n",
       "      <th>5496</th>\n",
       "      <th>5497</th>\n",
       "      <th>5498</th>\n",
       "      <th>5499</th>\n",
       "    </tr>\n",
       "  </thead>\n",
       "  <tbody>\n",
       "    <tr>\n",
       "      <th>0</th>\n",
       "      <td>0.0</td>\n",
       "      <td>0.0</td>\n",
       "      <td>0.0</td>\n",
       "      <td>1.0</td>\n",
       "      <td>0.0</td>\n",
       "      <td>0.0</td>\n",
       "      <td>0.0</td>\n",
       "      <td>0.0</td>\n",
       "      <td>0.0</td>\n",
       "      <td>1.0</td>\n",
       "      <td>...</td>\n",
       "      <td>0.0</td>\n",
       "      <td>0.0</td>\n",
       "      <td>0.0</td>\n",
       "      <td>0.0</td>\n",
       "      <td>0.0</td>\n",
       "      <td>0.0</td>\n",
       "      <td>0.0</td>\n",
       "      <td>0.0</td>\n",
       "      <td>0.0</td>\n",
       "      <td>0.0</td>\n",
       "    </tr>\n",
       "    <tr>\n",
       "      <th>1</th>\n",
       "      <td>0.0</td>\n",
       "      <td>0.0</td>\n",
       "      <td>0.0</td>\n",
       "      <td>1.0</td>\n",
       "      <td>0.0</td>\n",
       "      <td>0.0</td>\n",
       "      <td>0.0</td>\n",
       "      <td>0.0</td>\n",
       "      <td>0.0</td>\n",
       "      <td>0.0</td>\n",
       "      <td>...</td>\n",
       "      <td>0.0</td>\n",
       "      <td>0.0</td>\n",
       "      <td>0.0</td>\n",
       "      <td>0.0</td>\n",
       "      <td>0.0</td>\n",
       "      <td>0.0</td>\n",
       "      <td>0.0</td>\n",
       "      <td>0.0</td>\n",
       "      <td>0.0</td>\n",
       "      <td>0.0</td>\n",
       "    </tr>\n",
       "    <tr>\n",
       "      <th>2</th>\n",
       "      <td>1.0</td>\n",
       "      <td>0.0</td>\n",
       "      <td>0.0</td>\n",
       "      <td>1.0</td>\n",
       "      <td>0.0</td>\n",
       "      <td>0.0</td>\n",
       "      <td>0.0</td>\n",
       "      <td>0.0</td>\n",
       "      <td>0.0</td>\n",
       "      <td>0.0</td>\n",
       "      <td>...</td>\n",
       "      <td>0.0</td>\n",
       "      <td>0.0</td>\n",
       "      <td>0.0</td>\n",
       "      <td>0.0</td>\n",
       "      <td>0.0</td>\n",
       "      <td>0.0</td>\n",
       "      <td>0.0</td>\n",
       "      <td>0.0</td>\n",
       "      <td>0.0</td>\n",
       "      <td>0.0</td>\n",
       "    </tr>\n",
       "    <tr>\n",
       "      <th>3</th>\n",
       "      <td>0.0</td>\n",
       "      <td>0.0</td>\n",
       "      <td>0.0</td>\n",
       "      <td>1.0</td>\n",
       "      <td>0.0</td>\n",
       "      <td>0.0</td>\n",
       "      <td>0.0</td>\n",
       "      <td>0.0</td>\n",
       "      <td>0.0</td>\n",
       "      <td>0.0</td>\n",
       "      <td>...</td>\n",
       "      <td>0.0</td>\n",
       "      <td>0.0</td>\n",
       "      <td>0.0</td>\n",
       "      <td>0.0</td>\n",
       "      <td>0.0</td>\n",
       "      <td>0.0</td>\n",
       "      <td>0.0</td>\n",
       "      <td>0.0</td>\n",
       "      <td>0.0</td>\n",
       "      <td>0.0</td>\n",
       "    </tr>\n",
       "    <tr>\n",
       "      <th>4</th>\n",
       "      <td>0.0</td>\n",
       "      <td>0.0</td>\n",
       "      <td>0.0</td>\n",
       "      <td>1.0</td>\n",
       "      <td>0.0</td>\n",
       "      <td>0.0</td>\n",
       "      <td>0.0</td>\n",
       "      <td>0.0</td>\n",
       "      <td>0.0</td>\n",
       "      <td>1.0</td>\n",
       "      <td>...</td>\n",
       "      <td>0.0</td>\n",
       "      <td>0.0</td>\n",
       "      <td>0.0</td>\n",
       "      <td>0.0</td>\n",
       "      <td>0.0</td>\n",
       "      <td>0.0</td>\n",
       "      <td>0.0</td>\n",
       "      <td>0.0</td>\n",
       "      <td>0.0</td>\n",
       "      <td>0.0</td>\n",
       "    </tr>\n",
       "  </tbody>\n",
       "</table>\n",
       "<p>5 rows × 5500 columns</p>\n",
       "</div>"
      ],
      "text/plain": [
       "   0     1     2     3     4     5     6     7     8     9     ...   5490  \\\n",
       "0   0.0   0.0   0.0   1.0   0.0   0.0   0.0   0.0   0.0   1.0  ...    0.0   \n",
       "1   0.0   0.0   0.0   1.0   0.0   0.0   0.0   0.0   0.0   0.0  ...    0.0   \n",
       "2   1.0   0.0   0.0   1.0   0.0   0.0   0.0   0.0   0.0   0.0  ...    0.0   \n",
       "3   0.0   0.0   0.0   1.0   0.0   0.0   0.0   0.0   0.0   0.0  ...    0.0   \n",
       "4   0.0   0.0   0.0   1.0   0.0   0.0   0.0   0.0   0.0   1.0  ...    0.0   \n",
       "\n",
       "   5491  5492  5493  5494  5495  5496  5497  5498  5499  \n",
       "0   0.0   0.0   0.0   0.0   0.0   0.0   0.0   0.0   0.0  \n",
       "1   0.0   0.0   0.0   0.0   0.0   0.0   0.0   0.0   0.0  \n",
       "2   0.0   0.0   0.0   0.0   0.0   0.0   0.0   0.0   0.0  \n",
       "3   0.0   0.0   0.0   0.0   0.0   0.0   0.0   0.0   0.0  \n",
       "4   0.0   0.0   0.0   0.0   0.0   0.0   0.0   0.0   0.0  \n",
       "\n",
       "[5 rows x 5500 columns]"
      ]
     },
     "execution_count": 23,
     "metadata": {},
     "output_type": "execute_result"
    }
   ],
   "source": [
    "DT_test.head()"
   ]
  },
  {
   "cell_type": "code",
   "execution_count": 24,
   "metadata": {
    "collapsed": false
   },
   "outputs": [
    {
     "name": "stdout",
     "output_type": "stream",
     "text": [
      "['david' 'rex' 'wood' 'subject' 'call' 'librari' 'creat' 'widget' 'multipl'\n",
      " 'time']\n"
     ]
    }
   ],
   "source": [
    "terms= np.genfromtxt('modifiedTerms.txt',dtype=str)\n",
    "print(terms[0:10])"
   ]
  },
  {
   "cell_type": "code",
   "execution_count": 25,
   "metadata": {
    "collapsed": false
   },
   "outputs": [
    {
     "name": "stdout",
     "output_type": "stream",
     "text": [
      "0    102.0\n",
      "1     11.0\n",
      "2     22.0\n",
      "3    959.0\n",
      "4    222.0\n",
      "5     84.0\n",
      "6    108.0\n",
      "7    262.0\n",
      "8     55.0\n",
      "9    318.0\n",
      "dtype: float64\n"
     ]
    },
    {
     "data": {
      "text/plain": [
       "5500"
      ]
     },
     "execution_count": 25,
     "metadata": {},
     "output_type": "execute_result"
    }
   ],
   "source": [
    "termFreqs = train_data.sum(axis=1)\n",
    "print(termFreqs[0:10])\n",
    "len(termFreqs)"
   ]
  },
  {
   "cell_type": "code",
   "execution_count": 26,
   "metadata": {
    "collapsed": false
   },
   "outputs": [
    {
     "name": "stdout",
     "output_type": "stream",
     "text": [
      "[('00', 102.0), ('000', 34.0), ('01', 30.0), ('02', 28.0), ('0223', 7.0), ('0228', 2.0), ('03', 29.0), ('04', 26.0), ('0444', 5.0), ('05', 18.0), ('06', 23.0), ('07', 23.0), ('08', 14.0), ('09', 14.0), ('0ha', 3.0), ('0xff', 2.0), ('10', 249.0), ('100', 52.0), ('1000', 10.0), ('10000', 3.0), ('1006', 5.0), ('1008', 7.0), ('101', 18.0), ('1010', 3.0), ('1017', 5.0), ('1018', 3.0), ('1019', 2.0), ('102', 15.0), ('1020', 8.0), ('1021', 3.0), ('1024', 3.0), ('103', 16.0), ('1033', 5.0), ('1038', 4.0), ('104', 22.0), ('1040', 4.0), ('1043', 2.0), ('1046', 5.0), ('1049', 4.0), ('105', 14.0), ('10510', 3.0), ('1053', 4.0), ('1054', 5.0), ('1057', 3.0), ('106', 12.0), ('1062', 3.0), ('1063', 3.0), ('1067', 3.0), ('107', 8.0), ('1071', 4.0), ('1072', 3.0), ('1076', 4.0), ('108', 12.0), ('1082', 5.0), ('109', 8.0), ('1096', 3.0), ('10th', 3.0), ('10x20', 3.0), ('11', 178.0), ('110', 23.0), ('1109', 3.0), ('111', 21.0), ('11150', 4.0), ('112', 17.0), ('1120', 3.0), ('1121', 5.0), ('1126', 3.0), ('113', 12.0), ('1136', 3.0), ('114', 13.0), ('1140', 5.0), ('1142', 3.0), ('1146', 5.0), ('1149', 4.0), ('115', 10.0), ('1156', 3.0), ('116', 13.0), ('117', 10.0), ('1174', 4.0), ('118', 11.0), ('1180', 7.0), ('11800', 3.0), ('119', 12.0), ('1193', 4.0), ('1196', 3.0), ('11th', 2.0), ('12', 128.0), ('120', 13.0), ('121', 14.0), ('1210', 3.0), ('122', 14.0), ('1229', 3.0), ('123', 12.0), ('124', 10.0), ('1242', 3.0), ('125', 14.0), ('126', 12.0), ('127', 19.0), ('128', 12.0), ('1280', 6.0), ('129', 11.0), ('13', 101.0), ('130', 12.0), ('131', 15.0), ('132', 15.0), ('13220611', 1.0), ('133', 12.0), ('134', 12.0), ('135', 9.0), ('136', 9.0), ('137', 9.0), ('138', 9.0), ('139', 15.0), ('14', 95.0), ('140', 14.0), ('1400', 3.0), ('141', 10.0), ('1416', 3.0), ('142', 16.0), ('1428', 3.0), ('143', 12.0), ('144', 19.0), ('145', 11.0), ('146', 10.0), ('146270226', 3.0), ('147', 10.0), ('148', 12.0), ('149', 11.0), ('15', 104.0), ('150', 18.0), ('151', 13.0), ('152', 11.0), ('152133890', 4.0), ('153', 8.0), ('1536', 3.0), ('154', 10.0), ('155', 9.0), ('156', 7.0), ('157', 14.0), ('158', 7.0), ('159', 10.0), ('16', 97.0), ('160', 14.0), ('161', 10.0), ('162', 7.0), ('163', 13.0), ('1636', 3.0), ('164', 8.0), ('1641', 3.0), ('1649', 3.0), ('165', 10.0), ('166', 6.0), ('167', 13.0), ('168', 13.0), ('1685', 3.0), ('169', 8.0), ('17', 85.0), ('170', 8.0), ('171', 14.0), ('172', 12.0), ('173', 6.0), ('174', 7.0), ('1748', 3.0), ('175', 7.0), ('176', 14.0), ('177', 9.0), ('178', 8.0), ('179', 8.0), ('1790', 3.0), ('18', 97.0), ('180', 10.0), ('181', 11.0), ('182', 8.0), ('183', 12.0), ('184', 11.0), ('185', 14.0), ('186', 8.0), ('187', 10.0), ('188', 6.0), ('1881', 2.0), ('189', 6.0), ('19', 89.0), ('190', 9.0), ('191', 6.0), ('192', 8.0), ('193', 7.0), ('194', 7.0), ('195', 8.0), ('196', 18.0), ('197', 7.0), ('198', 7.0), ('1980', 3.0), ('1984', 4.0), ('1985', 2.0), ('1986', 3.0), ('1987', 3.0), ('1988', 5.0), ('1989', 12.0), ('198990', 2.0), ('199', 8.0), ('1990', 22.0), ('1991', 18.0), ('1992', 34.0), ('199293', 8.0), ('1993', 82.0), ('1993apr200320175783', 4.0), ('1993apr202145056925', 3.0), ('1993apr212340222880', 3.0), ('1993apr23102811623', 2.0), ('1993may132123212563', 2.0), ('1994', 2.0), ('1call', 3.0), ('1r23on4p6', 3.0), ('1st', 46.0), ('1x', 3.0), ('20', 118.0), ('200', 23.0), ('2000', 10.0), ('201', 12.0), ('2016', 3.0), ('202', 11.0), ('203', 8.0), ('204', 6.0), ('205', 16.0), ('206', 9.0), ('207', 10.0), ('208', 12.0), ('209', 12.0), ('20th', 2.0), ('21', 83.0), ('210', 13.0), ('211', 9.0), ('212', 9.0), ('213', 17.0), ('214', 6.0), ('215', 13.0), ('216', 10.0), ('217', 9.0), ('218', 8.0), ('219', 7.0), ('22', 62.0), ('220', 11.0), ('221', 12.0), ('222', 9.0), ('223', 16.0), ('224', 9.0), ('225', 16.0), ('226', 8.0), ('227', 8.0), ('228', 8.0), ('229', 10.0), ('23', 61.0), ('230', 14.0), ('231', 11.0), ('232', 10.0), ('233', 16.0), ('234', 11.0), ('235', 7.0), ('236', 8.0), ('237', 7.0), ('238', 10.0), ('239', 9.0), ('24', 85.0), ('240', 17.0), ('241', 8.0), ('242', 10.0), ('243', 10.0), ('244', 6.0), ('245', 7.0), ('246', 7.0), ('247', 7.0), ('248', 10.0), ('249', 10.0), ('2493', 4.0), ('24bit', 12.0), ('25', 74.0), ('250', 17.0), ('2500', 2.0), ('251', 9.0), ('252', 7.0), ('253', 16.0), ('254', 10.0), ('255', 8.0), ('256', 28.0), ('257', 9.0), ('258', 11.0), ('259', 9.0), ('26', 56.0), ('260', 10.0), ('261', 6.0), ('262', 8.0), ('2630', 2.0), ('269', 8.0), ('27', 54.0), ('270', 2.0), ('271', 4.0), ('272', 3.0), ('273', 8.0), ('275', 5.0), ('2752527', 3.0), ('276', 3.0), ('28', 52.0), ('281', 4.0), ('282', 5.0), ('283', 6.0), ('284', 5.0), ('287', 2.0), ('288', 4.0), ('29', 53.0), ('290', 3.0), ('292', 4.0), ('29apr93', 3.0), ('2call', 3.0), ('2d', 7.0), ('2nd', 53.0), ('30', 157.0), ('300', 21.0), ('3000', 11.0), ('301', 7.0), ('302', 8.0), ('30th', 3.0), ('31', 96.0), ('310', 15.0), ('313', 2.0), ('314', 3.0), ('315', 2.0), ('316', 4.0), ('317', 4.0), ('318', 9.0), ('319', 2.0), ('32', 65.0), ('320', 8.0), ('321', 5.0), ('322', 4.0), ('323', 6.0), ('324', 9.0), ('33', 62.0), ('330', 7.0), ('337', 5.0), ('337523', 3.0), ('337548', 3.0), ('3387', 5.0), ('339', 7.0), ('34', 43.0), ('340', 4.0), ('344', 3.0), ('345', 6.0), ('346', 3.0), ('347', 4.0), ('348', 14.0), ('35', 52.0), ('350', 7.0), ('353', 6.0), ('356', 7.0), ('36', 34.0), ('367', 5.0), ('369', 5.0), ('37', 44.0), ('370', 3.0), ('37501', 3.0), ('376', 7.0), ('38', 47.0), ('382', 6.0), ('383', 4.0), ('384', 4.0), ('386', 40.0), ('386bsd', 6.0), ('39', 40.0), ('393', 5.0), ('394', 3.0), ('395', 3.0), ('396', 5.0), ('3961', 5.0), ('397', 4.0), ('3call', 3.0), ('3d', 14.0), ('3pt', 3.0), ('3rd', 52.0), ('40', 79.0), ('400', 13.0), ('4000', 4.0), ('401', 5.0), ('402', 6.0), ('403', 15.0), ('404', 2.0), ('407', 4.0), ('408', 25.0), ('41', 47.0), ('410', 3.0), ('411', 14.0), ('412', 13.0), ('413', 16.0), ('414', 5.0), ('415', 11.0), ('416', 9.0), ('42', 49.0), ('420', 5.0), ('421', 5.0), ('424', 7.0), ('429', 5.0), ('43', 48.0), ('430', 2.0), ('4324219', 11.0), ('434', 4.0), ('44', 69.0), ('440', 3.0), ('445', 4.0), ('449', 6.0), ('45', 37.0), ('451', 3.0), ('452', 6.0), ('458', 4.0), ('46', 23.0), ('460', 4.0), ('4612018', 3.0), ('4615001x431', 4.0), ('462', 5.0), ('4620666', 6.0), ('467', 3.0), ('468', 4.0), ('469', 9.0), ('47', 33.0), ('472', 7.0), ('4769', 3.0), ('479', 4.0), ('48', 32.0), ('480', 3.0), ('486', 29.0), ('488', 4.0), ('489', 4.0), ('49', 43.0), ('493', 5.0), ('498', 4.0), ('4b', 3.0), ('4th', 7.0), ('50', 85.0), ('500', 18.0), ('5000', 11.0), ('502', 5.0), ('503', 10.0), ('509', 8.0), ('51', 61.0), ('511', 4.0), ('512', 14.0), ('518', 3.0), ('52', 36.0), ('520', 7.0), ('524', 3.0), ('525', 3.0), ('526', 3.0), ('53', 34.0), ('5300', 2.0), ('532', 6.0), ('54', 34.0), ('542', 5.0), ('544', 7.0), ('548', 4.0), ('55', 25.0), ('554', 5.0), ('555', 4.0), ('559', 6.0), ('56', 31.0), ('563', 4.0), ('57', 31.0), ('5716', 3.0), ('573', 4.0), ('58', 22.0), ('580', 4.0), ('582', 4.0), ('59', 25.0), ('595', 3.0), ('5b', 4.0), ('5th', 2.0), ('5x', 3.0), ('60', 41.0), ('600', 3.0), ('6000', 20.0), ('602', 2.0), ('603', 10.0), ('604', 9.0), ('605', 5.0), ('61', 28.0), ('613', 3.0), ('614', 5.0), ('617', 5.0), ('619', 13.0), ('62', 21.0), ('621', 5.0), ('624', 2.0), ('63', 29.0), ('635', 3.0), ('637', 6.0), ('64', 17.0), ('640', 6.0), ('65', 27.0), ('653', 3.0), ('66', 25.0), ('660', 6.0), ('661', 3.0), ('666', 2.0), ('67', 15.0), ('68', 19.0), ('68000', 4.0), ('68020', 3.0), ('686', 4.0), ('69', 14.0), ('691', 6.0), ('70', 30.0), ('700', 9.0), ('7000', 3.0), ('701', 6.0), ('703', 3.0), ('705', 3.0), ('708', 5.0), ('71', 31.0), ('711', 2.0), ('713', 7.0), ('716', 10.0), ('72', 18.0), ('720', 3.0), ('725', 3.0), ('726', 3.0), ('727', 3.0), ('73', 23.0), ('730', 3.0), ('733', 3.0), ('738786', 2.0), ('74', 16.0), ('7486347', 2.0), ('749', 3.0), ('75', 22.0), ('750', 3.0), ('751', 4.0), ('76', 32.0), ('761', 4.0), ('763', 3.0), ('77', 26.0), ('777', 6.0), ('78', 22.0), ('780', 3.0), ('784', 5.0), ('79', 20.0), ('795', 3.0), ('796', 3.0), ('7th', 9.0), ('80', 36.0), ('800', 11.0), ('801', 5.0), ('804', 7.0), ('806', 4.0), ('807', 5.0), ('81', 25.0), ('816', 3.0), ('817', 6.0), ('818', 6.0), ('82', 22.0), ('823', 2.0), ('825', 7.0), ('83', 12.0), ('835', 4.0), ('836', 4.0), ('839', 4.0), ('84', 16.0), ('843', 2.0), ('848', 5.0), ('85', 24.0), ('850', 5.0), ('851', 4.0), ('856', 3.0), ('858', 4.0), ('86', 26.0), ('860', 3.0), ('861', 5.0), ('87', 23.0), ('871', 3.0), ('872', 3.0), ('873', 3.0), ('875', 5.0), ('876', 4.0), ('88', 22.0), ('880', 2.0), ('882', 6.0), ('883', 2.0), ('886', 4.0), ('888', 3.0), ('89', 22.0), ('890', 4.0), ('891', 4.0), ('89100', 10.0), ('895', 3.0), ('896', 3.0), ('898', 2.0), ('8a', 4.0), ('8bit', 9.0), ('90', 56.0), ('9000', 7.0), ('901', 2.0), ('902', 4.0), ('903', 2.0), ('904', 5.0), ('907', 3.0), ('908', 3.0), ('91', 65.0), ('911', 2.0), ('914', 2.0), ('916', 3.0), ('919', 5.0), ('92', 54.0), ('924', 2.0), ('925', 3.0), ('926', 4.0), ('928', 2.0), ('9293', 5.0), ('93', 74.0), ('930', 7.0), ('932', 4.0), ('933', 3.0), ('936', 2.0), ('94', 19.0), ('942', 4.0), ('944', 3.0), ('947', 5.0), ('949', 4.0), ('95', 12.0), ('95035', 2.0), ('95051', 6.0), ('955', 5.0), ('956', 4.0), ('957', 5.0), ('96', 13.0), ('961', 3.0), ('9646128', 3.0), ('969', 3.0), ('97', 24.0), ('972', 2.0), ('974', 3.0), ('975', 4.0), ('977', 5.0), ('979', 4.0), ('98', 11.0), ('980', 4.0), ('982', 6.0), ('984', 4.0), ('986', 5.0), ('988', 5.0), ('989', 3.0), ('99', 14.0), ('990', 4.0), ('994', 3.0), ('995', 4.0), ('996', 6.0), ('998', 4.0), ('999', 6.0), ('a1141', 5.0), ('a4', 4.0), ('aaaaaaaaaaaaaaaaaaaaaaaaaaaaaaauuuuuuuuuuuuuuuuuuuuuuuuuuuuuuuugggggggggggggggg', 3.0), ('aargh', 6.0), ('ab', 10.0), ('abandon', 5.0), ('abc', 65.0), ('abil', 20.0), ('abl', 75.0), ('abofi', 4.0), ('abort', 1.0), ('abpsoft', 7.0), ('absolut', 16.0), ('abstract', 6.0), ('absurd', 4.0), ('ac', 3.0), ('acadien', 3.0), ('acceler', 39.0), ('accept', 28.0), ('access', 49.0), ('accid', 2.0), ('accomod', 3.0), ('accompani', 4.0), ('accomplish', 8.0), ('account', 9.0), ('accumul', 3.0), ('accur', 3.0), ('accus', 3.0), ('acdalca', 2.0), ('achiev', 4.0), ('achkar', 11.0), ('acker', 9.0), ('acknowledg', 3.0), ('acquir', 9.0), ('acsubuffaloedu', 23.0), ('act', 12.0), ('action', 29.0), ('activ', 22.0), ('acton', 4.0), ('actual', 8.0), ('actuari', 3.0), ('ad', 37.0), ('ada', 13.0), ('adam', 28.0), ('adapt', 8.0), ('add', 53.0), ('addit', 43.0), ('address', 66.0), ('adequ', 4.0), ('adg', 3.0), ('adirondack', 6.0), ('adjust', 7.0), ('admin', 3.0), ('administr', 13.0), ('admir', 3.0), ('admiss', 1.0), ('admit', 11.0), ('admittedli', 2.0), ('adob', 5.0), ('adobecom', 5.0), ('adopt', 5.0), ('adrian', 16.0), ('advanc', 74.0), ('advantag', 30.0), ('advertis', 12.0), ('advic', 8.0), ('advis', 2.0), ('advoc', 2.0), ('aesthet', 3.0), ('affect', 5.0), ('affili', 13.0), ('afight', 3.0), ('afraid', 4.0), ('afternoon', 9.0), ('ag', 12.0), ('against', 90.0), ('agallagh', 2.0), ('agent', 6.0), ('aggress', 3.0), ('ago', 41.0), ('agre', 45.0), ('agreement', 9.0), ('ah', 7.0), ('ahead', 9.0), ('ahl', 34.0), ('ahlnewsrequest', 3.0), ('ahv', 5.0), ('ai', 3.0), ('aik', 5.0), ('aim', 4.0), ('ain', 5.0), ('air', 12.0), ('aix', 17.0), ('ajaff', 4.0), ('aka', 5.0), ('al', 29.0), ('ala', 10.0), ('alabama', 5.0), ('alan', 16.0), ('alarm', 2.0), ('alberta', 9.0), ('alchemychemutorontoca', 36.0), ('alex', 13.0), ('alexand', 9.0), ('alexei', 5.0), ('alfalfacom', 3.0), ('algorithm', 3.0), ('ali', 12.0), ('alia', 9.0), ('alink', 2.0), ('allan', 14.0), ('allberi', 4.0), ('allen', 5.0), ('allez', 3.0), ('alloc', 22.0), ('allow', 73.0), ('allround', 2.0), ('allstar', 5.0), ('alltim', 5.0), ('almighti', 2.0), ('alon', 14.0), ('alot', 13.0), ('alpo', 5.0), ('alright', 3.0), ('alt', 5.0), ('alter', 2.0), ('altern', 14.0), ('altogeth', 8.0), ('altsourc', 2.0), ('aluminum', 11.0), ('am2x', 3.0), ('amaz', 11.0), ('america', 7.0), ('american', 36.0), ('amiga', 72.0), ('amount', 16.0), ('amour', 14.0), ('analys', 2.0), ('analysi', 7.0), ('analyst', 6.0), ('anderson', 12.0), ('andersson', 7.0), ('andi', 21.0), ('andolina', 4.0), ('andr', 16.0), ('andrea', 7.0), ('andrebeck', 7.0), ('andrei', 3.0), ('andrew', 80.0), ('andrewcmuedu', 54.0), ('andreychuk', 14.0), ('andybgsuedu', 6.0), ('angel', 36.0), ('angelo', 4.0), ('anger', 3.0), ('angl', 6.0), ('angri', 2.0), ('anim', 26.0), ('ann', 6.0), ('anna', 5.0), ('annarborappliconslbcom', 7.0), ('annoi', 15.0), ('annot', 4.0), ('announc', 44.0), ('annual', 14.0), ('anon', 2.0), ('anonym', 28.0), ('ansi', 11.0), ('answer', 71.0), ('anthoni', 6.0), ('anticip', 2.0), ('antonio', 3.0), ('anybodi', 53.0), ('anymor', 5.0), ('anywai', 31.0), ('aodcgovau', 4.0), ('ap', 5.0), ('apanjabi', 3.0), ('api', 15.0), ('apollo', 10.0), ('apolog', 6.0), ('app', 39.0), ('appar', 11.0), ('appear', 60.0), ('append', 2.0), ('appendix', 3.0), ('appl', 13.0), ('applaud', 1.0), ('applecom', 9.0), ('appli', 22.0), ('applic', 248.0), ('applicationshel', 5.0), ('appoint', 2.0), ('appreci', 77.0), ('approach', 13.0), ('appropri', 16.0), ('apr', 11.0), ('apricot', 3.0), ('april', 51.0), ('ar', 6.0), ('arbitrari', 4.0), ('arbortextcom', 3.0), ('arc', 3.0), ('archi', 5.0), ('architect', 1.0), ('architectur', 7.0), ('archiv', 32.0), ('archivenam', 4.0), ('arctic', 3.0), ('area', 54.0), ('arena', 29.0), ('arg', 39.0), ('argc', 17.0), ('argu', 6.0), ('argument', 20.0), ('argv', 27.0), ('ari', 3.0), ('arielyorkuca', 2.0), ('arm', 5.0), ('arpa', 8.0), ('arrai', 4.0), ('arrang', 7.0), ('arriv', 9.0), ('arrog', 4.0), ('arrow', 7.0), ('arsen', 3.0), ('art', 5.0), ('arthur', 3.0), ('artic', 3.0), ('articl', 319.0), ('artifici', 3.0), ('artist', 6.0), ('artu', 3.0), ('asap', 3.0), ('ascii', 8.0), ('asent', 7.0), ('asher', 8.0), ('ashkar', 7.0), ('ashton', 9.0), ('asid', 5.0), ('ask', 57.0), ('ass', 20.0), ('assembl', 5.0), ('assess', 8.0), ('asset', 2.0), ('asshol', 3.0), ('assign', 7.0), ('assist', 28.0), ('associ', 30.0), ('assum', 35.0), ('astonish', 3.0), ('astro', 5.0), ('astronomi', 8.0), ('asynchron', 5.0), ('at', 3.0), ('athena', 17.0), ('atla', 3.0), ('atlanta', 18.0), ('atmospher', 2.0), ('atom', 7.0), ('att15', 3.0), ('att17', 4.0), ('att19', 5.0), ('attach', 6.0), ('attack', 11.0), ('attempt', 25.0), ('attend', 19.0), ('attende', 3.0), ('attent', 11.0), ('attitud', 16.0), ('attribut', 20.0), ('aud', 3.0), ('audett', 3.0), ('audienc', 10.0), ('audio', 2.0), ('austin', 3.0), ('australia', 9.0), ('austria', 11.0), ('author', 53.0), ('auto', 3.0), ('autom', 6.0), ('automat', 26.0), ('aux', 3.0), ('av', 10.0), ('avail', 218.0), ('avenu', 8.0), ('averag', 34.0), ('averwald', 4.0), ('avoid', 23.0), ('aw', 5.0), ('awai', 50.0), ('awar', 2.0), ('award', 21.0), ('awesom', 9.0), ('ax', 6.0), ('axelsson', 13.0), ('ay', 3.0), ('az', 2.0), ('babych', 4.0), ('bachovchin', 3.0), ('back', 149.0), ('background', 37.0), ('backstrom', 5.0), ('backup', 4.0), ('bad', 68.0), ('baddraw', 3.0), ('bade', 9.0), ('badli', 2.0), ('badmatch', 8.0), ('bai', 34.0), ('bait', 5.0), ('baker', 5.0), ('balanc', 4.0), ('ball', 5.0), ('ballentin', 10.0), ('ballgam', 3.0), ('baltimor', 5.0), ('band', 5.0), ('bandwaggon', 3.0), ('bandwidth', 11.0), ('bang', 4.0), ('banko', 3.0), ('bar', 20.0), ('barn', 4.0), ('baron', 3.0), ('barr', 6.0), ('barrasso', 13.0), ('barri', 3.0), ('bart', 6.0), ('base', 78.0), ('basebal', 71.0), ('bash', 3.0), ('basi', 11.0), ('basic', 21.0), ('basketbal', 10.0), ('bassen', 9.0), ('battl', 3.0), ('baud', 3.0), ('baun', 5.0), ('bb', 5.0), ('bbncom', 4.0), ('bboard', 5.0), ('bc', 11.0), ('bd', 4.0), ('bdf', 10.0), ('beam', 8.0), ('bear', 9.0), ('bearcom', 3.0), ('beat', 62.0), ('beaten', 3.0), ('beaupr', 7.0), ('beauti', 4.0), ('beck', 21.0), ('becom', 7.0), ('bee', 3.0), ('beer', 11.0), ('beezer', 4.0), ('befor', 156.0), ('beg', 3.0), ('began', 8.0), ('begin', 13.0), ('behalf', 3.0), ('behavior', 11.0), ('behaviour', 5.0), ('behind', 29.0), ('belfour', 14.0), ('believ', 63.0), ('bell', 9.0), ('bellow', 11.0), ('belong', 22.0), ('belov', 3.0), ('bemybabi', 3.0), ('bench', 12.0), ('benefit', 2.0), ('benjamin', 6.0), ('benni', 6.0), ('beranek', 7.0), ('bergeron', 2.0), ('bergman', 6.0), ('berkelei', 5.0), ('berlin', 5.0), ('berni', 5.0), ('berninaethzch', 5.0), ('bernward', 7.0), ('berri', 2.0), ('berth', 3.0), ('berub', 6.0), ('best', 138.0), ('bet', 17.0), ('beta', 3.0), ('better', 122.0), ('bettman', 4.0), ('beveren', 3.0), ('beyond', 5.0), ('bg', 9.0), ('bias', 8.0), ('bibliographi', 2.0), ('big', 57.0), ('bigbootewpiedu', 3.0), ('bigger', 7.0), ('biggest', 35.0), ('bigwpiwpiedu', 3.0), ('bill', 40.0), ('bim', 4.0), ('bin', 21.0), ('binari', 47.0), ('bind', 23.0), ('binghamton', 6.0), ('birthdai', 2.0), ('bit', 63.0), ('bitblt', 2.0), ('bite', 3.0), ('bitmap', 28.0), ('bitnet', 5.0), ('bj', 3.0), ('bjoern', 4.0), ('bks2', 4.0), ('black', 38.0), ('blackhawk', 17.0), ('blade', 8.0), ('blame', 11.0), ('blank', 4.0), ('blast', 6.0), ('blink', 18.0), ('block', 13.0), ('blood', 9.0), ('bloodgam', 3.0), ('bloom', 3.0), ('blow', 6.0), ('blown', 4.0), ('blowout', 8.0), ('blue', 121.0), ('blueston', 3.0), ('blurb', 4.0), ('bnrca', 5.0), ('bo', 52.0), ('board', 43.0), ('bob', 76.0), ('bobbi', 19.0), ('bodi', 18.0), ('boi', 18.0), ('bomber', 6.0), ('bondra', 4.0), ('bonehead', 5.0), ('bonn', 4.0), ('bonu', 3.0), ('book', 38.0), ('boomer', 3.0), ('boora', 4.0), ('boot', 9.0), ('border', 9.0), ('bore', 19.0), ('bori', 6.0), ('borqu', 3.0), ('boss', 3.0), ('boston', 97.0), ('bother', 13.0), ('bottl', 1.0), ('bottom', 5.0), ('bought', 9.0), ('boulder', 7.0), ('bounc', 9.0), ('bound', 7.0), ('bourqu', 16.0), ('bout', 5.0), ('boutch', 3.0), ('bowl', 6.0), ('bowman', 17.0), ('box', 54.0), ('bozrah', 3.0), ('bp', 6.0), ('brad', 20.0), ('bradlei', 13.0), ('brain', 17.0), ('branch', 2.0), ('brand', 5.0), ('brashear', 4.0), ('brave', 8.0), ('break', 41.0), ('breakawai', 6.0), ('breaker', 21.0), ('brendan', 4.0), ('brent', 10.0), ('brenz', 3.0), ('breton', 7.0), ('brett', 5.0), ('bri', 3.0), ('brian', 47.0), ('brief', 2.0), ('briefli', 3.0), ('bright', 3.0), ('brilliant', 2.0), ('brind', 13.0), ('bring', 17.0), ('bristol', 5.0), ('britain', 3.0), ('british', 6.0), ('britishlemieux', 3.0), ('brittenson', 4.0), ('broadcast', 25.0), ('broadwai', 4.0), ('broke', 5.0), ('broken', 8.0), ('brook', 5.0), ('broten', 2.0), ('brother', 1.0), ('brought', 14.0), ('brown', 21.0), ('bruce', 12.0), ('bruin', 82.0), ('brunet', 4.0), ('brutal', 5.0), ('bryan', 21.0), ('bryankstrous', 4.0), ('bs', 3.0), ('bsc', 3.0), ('bsd', 7.0), ('btw', 19.0), ('bu', 6.0), ('buchberg', 6.0), ('buck', 3.0), ('buckypnlgov', 3.0), ('buf', 85.0), ('buff', 4.0), ('buffalo', 91.0), ('buffer', 27.0), ('bug', 25.0), ('buggi', 2.0), ('bui', 19.0), ('build', 85.0), ('builder', 26.0), ('built', 27.0), ('builtin', 17.0), ('bull', 4.0), ('bulldog', 3.0), ('bullet', 3.0), ('bunch', 16.0), ('bundl', 4.0), ('bunni', 7.0), ('bure', 22.0), ('burger', 5.0), ('burgh', 4.0), ('burk', 4.0), ('burn', 13.0), ('burr', 8.0), ('burt', 6.0), ('bushbabi', 3.0), ('busi', 21.0), ('buster', 3.0), ('butch', 6.0), ('butcher', 5.0), ('butt', 5.0), ('butter', 3.0), ('butthead', 3.0), ('button', 60.0), ('buttonpressmask', 6.0), ('buzz', 7.0), ('bw', 6.0), ('bwtwo0', 6.0), ('bwtwo1', 7.0), ('byte', 24.0), ('c4zciiftn', 3.0), ('c5ff', 4.0), ('ca', 43.0), ('cabl', 11.0), ('cach', 4.0), ('cadkeycom', 7.0), ('cafal', 3.0), ('cage', 3.0), ('caj', 2.0), ('cal', 64.0), ('cal2d', 3.0), ('calcul', 2.0), ('calder', 9.0), ('caldwell8102', 4.0), ('calendar', 2.0), ('calgari', 64.0), ('california', 6.0), ('call', 222.0), ('callback', 28.0), ('cam', 4.0), ('cambridg', 12.0), ('came', 44.0), ('camera', 7.0), ('campbel', 12.0), ('campi', 3.0), ('canada', 57.0), ('canadian', 42.0), ('canadien', 17.0), ('cancel', 3.0), ('candid', 6.0), ('cannuck', 4.0), ('cant', 3.0), ('canuck', 41.0), ('canva', 14.0), ('cap', 88.0), ('capabl', 22.0), ('cape', 8.0), ('capit', 39.0), ('capricorntaiselcomtw', 3.0), ('capslock', 10.0), ('captain', 52.0), ('captur', 7.0), ('car', 4.0), ('carbonneau', 6.0), ('card', 64.0), ('care', 29.0), ('career', 10.0), ('carl', 11.0), ('carmel', 3.0), ('carnegi', 9.0), ('carnei', 6.0), ('carol', 4.0), ('carolina', 6.0), ('carpent', 9.0), ('carri', 20.0), ('carson', 18.0), ('carumba', 3.0), ('case', 79.0), ('casei', 5.0), ('cash', 5.0), ('cashman', 6.0), ('casorg', 6.0), ('cassel', 9.0), ('cat', 2.0), ('catch', 16.0), ('categori', 6.0), ('caught', 8.0), ('caus', 43.0), ('cb', 3.0), ('cb3', 4.0), ('cbc', 26.0), ('cbnewshcbattcom', 3.0), ('cbnewsicbattcom', 4.0), ('cbnewskcbattcom', 2.0), ('cc', 11.0), ('ccdb', 5.0), ('ccoption', 2.0), ('ccuumanitobaca', 17.0), ('cd', 10.0), ('cdi', 2.0), ('cdkaupan', 5.0), ('cdn', 3.0), ('cec1wustledu', 17.0), ('cedex', 4.0), ('celebr', 2.0), ('cell', 18.0), ('center', 35.0), ('centerlinecom', 6.0), ('centr', 24.0), ('central', 7.0), ('certain', 12.0), ('certainli', 20.0), ('cflag', 3.0), ('cg2', 5.0), ('cg4', 3.0), ('cg6', 7.0), ('cgfour', 5.0), ('cgfour0', 7.0), ('cgy', 12.0), ('ch', 4.0), ('cha', 2.0), ('chair', 4.0), ('chaisson', 3.0), ('chamber', 7.0), ('champ', 27.0), ('champion', 20.0), ('championship', 17.0), ('chan', 3.0), ('chanc', 37.0), ('chang', 104.0), ('channel', 6.0), ('chao', 1.0), ('chappel', 3.0), ('chapter', 3.0), ('char', 68.0), ('charact', 57.0), ('charg', 7.0), ('charl', 16.0), ('charli', 8.0), ('chart', 14.0), ('chase', 6.0), ('cheap', 20.0), ('cheaper', 3.0), ('cheapshot', 4.0), ('check', 90.0), ('checker', 6.0), ('cheer', 13.0), ('cheever', 3.0), ('chelio', 27.0), ('cherri', 37.0), ('chest', 5.0), ('chevelda', 11.0), ('chew', 3.0), ('chhabra', 12.0), ('chi', 49.0), ('chiasson', 9.0), ('chicago', 67.0), ('chief', 2.0), ('child', 9.0), ('chines', 8.0), ('ching', 5.0), ('chip', 9.0), ('chmod', 2.0), ('chocol', 3.0), ('choic', 30.0), ('choke', 5.0), ('choos', 12.0), ('chop', 1.0), ('chopinudeledu', 8.0), ('chose', 5.0), ('chosen', 12.0), ('chown', 5.0), ('chri', 18.0), ('christ', 5.0), ('christian', 11.0), ('christoph', 6.0), ('chubbi', 3.0), ('chuck', 7.0), ('chump', 3.0), ('chunk', 5.0), ('chuq', 14.0), ('church', 3.0), ('ciccarelli', 15.0), ('circl', 13.0), ('circumst', 5.0), ('cire', 3.0), ('cisohiostateedu', 3.0), ('citi', 50.0), ('civic', 4.0), ('claim', 21.0), ('clamen', 3.0), ('clara', 8.0), ('clark', 21.0), ('clarkson', 9.0), ('class', 55.0), ('classi', 6.0), ('classic', 10.0), ('claud', 5.0), ('clean', 7.0), ('cleanup', 4.0), ('clear', 24.0), ('clearli', 14.0), ('clement', 7.0), ('cleveland', 5.0), ('clevelandfreenetedu', 4.0), ('click', 11.0), ('client', 139.0), ('cliff', 4.0), ('clinch', 6.0), ('clint', 7.0), ('clinton', 9.0), ('clip', 16.0), ('clock', 5.0), ('clone', 8.0), ('close', 43.0), ('closer', 3.0), ('closest', 3.0), ('closet', 5.0), ('closeup', 3.0), ('cloud', 2.0), ('club', 19.0), ('clue', 5.0), ('cluster', 5.0), ('clutch', 4.0), ('cmdr', 3.0), ('cmdtool', 5.0), ('cmsccwayneedu', 3.0), ('cmuedu', 2.0), ('coach', 111.0), ('coast', 3.0), ('cobra', 18.0), ('cockroft', 4.0), ('code', 117.0), ('coffei', 19.0), ('cogsciedacuk', 3.0), ('coin', 9.0), ('coincid', 5.0), ('col', 17.0), ('cold', 2.0), ('colin', 5.0), ('coliseum', 3.0), ('coll', 5.0), ('collaps', 2.0), ('colleagu', 3.0), ('collect', 11.0), ('collector', 4.0), ('colleg', 16.0), ('collingridg', 7.0), ('colon', 7.0), ('color', 171.0), ('colorado', 8.0), ('colorcel', 4.0), ('colormap', 87.0), ('colour', 15.0), ('columbiaedu', 6.0), ('column', 9.0), ('com', 2.0), ('combin', 14.0), ('come', 58.0), ('comeback', 5.0), ('comm', 2.0), ('command', 56.0), ('commandlin', 7.0), ('comment', 47.0), ('commerci', 37.0), ('commit', 7.0), ('common', 19.0), ('commonli', 3.0), ('commun', 30.0), ('compani', 25.0), ('compar', 24.0), ('comparison', 7.0), ('compat', 35.0), ('compens', 3.0), ('compet', 6.0), ('competit', 10.0), ('compil', 72.0), ('complain', 19.0), ('complaint', 5.0), ('complancsacuk', 5.0), ('complangpostscript', 3.0), ('complet', 54.0), ('complex', 6.0), ('compliant', 8.0), ('complic', 8.0), ('compon', 6.0), ('compos', 12.0), ('composit', 1.0), ('compress', 14.0), ('compsourcesx', 15.0), ('compuserv', 2.0), ('comput', 118.0), ('compwindowsx', 19.0), ('compwindowsxannounc', 3.0), ('conach', 3.0), ('concept', 3.0), ('concern', 12.0), ('conclus', 8.0), ('concurr', 7.0), ('condit', 5.0), ('conf', 3.0), ('confer', 73.0), ('confid', 4.0), ('config', 2.0), ('configur', 41.0), ('confirm', 8.0), ('conflict', 8.0), ('conform', 4.0), ('confus', 11.0), ('congeni', 4.0), ('congrat', 2.0), ('congruent', 6.0), ('connect', 56.0), ('consecut', 7.0), ('consid', 47.0), ('consider', 11.0), ('consist', 16.0), ('consol', 14.0), ('consortium', 40.0), ('constantli', 3.0), ('construct', 10.0), ('consult', 12.0), ('contact', 94.0), ('contain', 39.0), ('contend', 11.0), ('content', 21.0), ('contest', 41.0), ('context', 17.0), ('continu', 30.0), ('contract', 20.0), ('contractu', 12.0), ('contrari', 2.0), ('contrib', 95.0), ('contribut', 25.0), ('contributor', 6.0), ('control', 49.0), ('conveni', 7.0), ('convent', 10.0), ('convers', 17.0), ('convert', 45.0), ('convex', 4.0), ('convinc', 5.0), ('coohil', 4.0), ('cook', 5.0), ('cooki', 1.0), ('cool', 7.0), ('coordin', 9.0), ('copi', 61.0), ('copp', 2.0), ('copyleft', 2.0), ('copyright', 15.0), ('cordial', 19.0), ('core', 10.0), ('cormack', 3.0), ('cornel', 5.0), ('corner', 26.0), ('corp', 10.0), ('corpor', 36.0), ('correct', 33.0), ('correctli', 11.0), ('correspond', 8.0), ('corson', 3.0), ('cose', 2.0), ('cost', 17.0), ('cote', 2.0), ('cougarmania', 3.0), ('coulman', 11.0), ('count', 34.0), ('counterpart', 3.0), ('counti', 3.0), ('countri', 12.0), ('coupl', 40.0), ('cours', 90.0), ('courtesi', 17.0), ('courtnal', 26.0), ('cover', 22.0), ('coverag', 66.0), ('cow', 7.0), ('coward', 6.0), ('cp', 1.0), ('cpu', 41.0), ('cr', 4.0), ('craftcampclarksonedu', 4.0), ('craig', 9.0), ('crap', 9.0), ('crash', 12.0), ('craven', 9.0), ('craycom', 13.0), ('crazi', 6.0), ('creas', 11.0), ('creat', 108.0), ('creation', 9.0), ('credibl', 3.0), ('credit', 13.0), ('creep', 3.0), ('creighton', 4.0), ('crew', 4.0), ('crime', 5.0), ('critic', 8.0), ('cross', 20.0), ('crosscheck', 6.0), ('crowd', 14.0), ('crucial', 4.0), ('crush', 4.0), ('crusher', 3.0), ('cs', 7.0), ('cs902043', 2.0), ('csabuedu', 2.0), ('cscmuedu', 13.0), ('cscoloradoedu', 4.0), ('csdnewshoststanfordedu', 5.0), ('csh', 4.0), ('csissun11eevirginiaedu', 3.0), ('csnorg', 4.0), ('csnpsnavymil', 4.0), ('cspurdueedu', 4.0), ('csrochesteredu', 7.0), ('cstuberlind', 5.0), ('csualbertaca', 11.0), ('cswiscedu', 3.0), ('ct', 4.0), ('ctrcolumbiaedu', 4.0), ('ctrl', 18.0), ('ctwm', 3.0), ('ctypeh', 2.0), ('cu', 4.0), ('cub', 5.0), ('cullen', 8.0), ('cunew', 3.0), ('cunixbcccolumbiaedu', 12.0), ('cunixcbitnet', 6.0), ('cunneyworth', 3.0), ('cup', 111.0), ('curb', 3.0), ('curiou', 7.0), ('current', 99.0), ('curs', 6.0), ('cursor', 60.0), ('cursoro', 3.0), ('curt', 7.0), ('curti', 9.0), ('custom', 15.0), ('customiz', 4.0), ('cut', 44.0), ('cycl', 2.0), ('cyt', 5.0), ('czech', 8.0), ('d3e758', 3.0), ('da', 5.0), ('dahlen', 9.0), ('dahlquist', 8.0), ('dai', 69.0), ('daigl', 11.0), ('dal', 2.0), ('dale', 17.0), ('dalla', 11.0), ('damag', 3.0), ('dammit', 3.0), ('damn', 11.0), ('damphouss', 8.0), ('dan', 27.0), ('danger', 6.0), ('daniel', 29.0), ('danni', 4.0), ('danno', 3.0), ('dare', 19.0), ('dark', 4.0), ('darman', 3.0), ('darren', 5.0), ('darryl', 4.0), ('dars', 4.0), ('dart', 6.0), ('dartmouth', 4.0), ('darwin', 2.0), ('daryl', 13.0), ('dastardli', 3.0), ('data', 71.0), ('databas', 10.0), ('date', 24.0), ('dave', 48.0), ('davi', 15.0), ('david', 102.0), ('davidcraft', 3.0), ('davidson', 6.0), ('daytodai', 4.0), ('dayton', 3.0), ('db', 4.0), ('db74', 4.0), ('dbl', 6.0), ('dc', 3.0), ('dchhabra', 17.0), ('dcr', 9.0), ('dd', 2.0), ('de', 15.0), ('dead', 10.0), ('deadlin', 5.0), ('deal', 61.0), ('dean', 11.0), ('dear', 6.0), ('death', 14.0), ('debat', 4.0), ('debug', 4.0), ('dec', 48.0), ('decad', 10.0), ('decemb', 3.0), ('decent', 14.0), ('decid', 42.0), ('decis', 13.0), ('declar', 4.0), ('decnet', 21.0), ('decod', 3.0), ('decreas', 3.0), ('decruyenaer', 3.0), ('decstat', 11.0), ('decwindow', 22.0), ('dedic', 5.0), ('deep', 5.0), ('deepak', 21.0), ('deeper', 3.0), ('default', 61.0), ('defaultrootwindow', 7.0), ('defaultscreen', 3.0), ('defeat', 5.0), ('defenceman', 5.0), ('defend', 12.0), ('defens', 63.0), ('defenseman', 11.0), ('defensemen', 6.0), ('defin', 64.0), ('definit', 37.0), ('deg', 7.0), ('degre', 5.0), ('delai', 16.0), ('delarocq', 7.0), ('delawar', 3.0), ('delet', 29.0), ('dell', 4.0), ('delphibeckmanuiucedu', 2.0), ('demand', 9.0), ('demer', 9.0), ('demo', 26.0), ('demon', 3.0), ('demonstr', 16.0), ('deni', 20.0), ('denni', 7.0), ('denot', 4.0), ('depart', 24.0), ('depend', 23.0), ('depriv', 3.0), ('dept', 21.0), ('depth', 30.0), ('der', 15.0), ('derek', 18.0), ('deriv', 4.0), ('derrel', 3.0), ('derrick', 6.0), ('derril', 3.0), ('descartesuwaterlooca', 3.0), ('describ', 19.0), ('descript', 29.0), ('descriptor', 9.0), ('deserv', 22.0), ('design', 31.0), ('desir', 6.0), ('desktop', 20.0), ('desper', 7.0), ('despit', 16.0), ('desqview', 19.0), ('destin', 3.0), ('destini', 4.0), ('destroi', 13.0), ('det', 62.0), ('detail', 21.0), ('detect', 11.0), ('determin', 30.0), ('detroit', 84.0), ('detroittoronto', 5.0), ('dev', 25.0), ('develop', 64.0), ('devguid', 9.0), ('devic', 21.0), ('devil', 97.0), ('devineni', 3.0), ('devot', 4.0), ('dg', 9.0), ('dhaywood', 6.0), ('di', 12.0), ('dialog', 21.0), ('dick', 12.0), ('dictat', 5.0), ('dictionari', 2.0), ('die', 14.0), ('diet', 3.0), ('diff', 4.0), ('differ', 101.0), ('difficult', 11.0), ('difficulti', 4.0), ('digest', 2.0), ('digit', 27.0), ('dinamo', 3.0), ('dineen', 24.0), ('dino', 10.0), ('dir', 4.0), ('direct', 29.0), ('directcolor', 4.0), ('directli', 21.0), ('director', 3.0), ('directori', 38.0), ('dirk', 4.0), ('dirt', 3.0), ('dirtbag', 3.0), ('dirti', 14.0), ('disabl', 2.0), ('disadvantag', 4.0), ('disagre', 9.0), ('disappear', 5.0), ('disappoint', 18.0), ('disclaim', 13.0), ('discov', 5.0), ('discret', 2.0), ('discuss', 25.0), ('dish', 8.0), ('disk', 48.0), ('dislik', 5.0), ('dispatch', 3.0), ('displai', 266.0), ('dist', 3.0), ('distanc', 2.0), ('distinguish', 2.0), ('distribut', 71.0), ('distributor', 3.0), ('district', 3.0), ('disturb', 2.0), ('div', 8.0), ('dive', 8.0), ('diverg', 2.0), ('divid', 4.0), ('divis', 98.0), ('djurgarden', 3.0), ('dla', 6.0), ('dm', 8.0), ('do', 578.0), ('doc', 12.0), ('document', 43.0), ('doesnt', 3.0), ('dog', 14.0), ('dollar', 3.0), ('domain', 18.0), ('domi', 21.0), ('domin', 15.0), ('donat', 9.0), ('done', 66.0), ('donnelli', 9.0), ('dont', 7.0), ('donut', 2.0), ('door', 4.0), ('dope', 4.0), ('dot', 4.0), ('doubl', 9.0), ('doublehead', 3.0), ('doubt', 16.0), ('doubter', 4.0), ('doug', 46.0), ('dougla', 9.0), ('douri', 6.0), ('dozen', 12.0), ('dpi', 2.0), ('dpscouk', 9.0), ('dpy', 19.0), ('dr', 23.0), ('draft', 59.0), ('drag', 7.0), ('dragon', 3.0), ('drake', 13.0), ('draw', 107.0), ('drawabl', 6.0), ('drawindex', 7.0), ('drawingarea1', 2.0), ('drawn', 11.0), ('drd', 4.0), ('dream', 7.0), ('dreamer', 3.0), ('dree', 3.0), ('dress', 4.0), ('dresser', 3.0), ('drew', 3.0), ('drill', 2.0), ('driscol', 9.0), ('drive', 25.0), ('drivel', 2.0), ('driven', 3.0), ('driver', 31.0), ('droopi', 4.0), ('drop', 20.0), ('drove', 3.0), ('druce', 2.0), ('dryden', 3.0), ('dsc', 4.0), ('dsdescom', 9.0), ('dsweenei', 2.0), ('dsysv', 6.0), ('du', 8.0), ('dubiou', 4.0), ('dude', 5.0), ('dudepcscom', 4.0), ('due', 35.0), ('duffand', 5.0), ('dumb', 6.0), ('dump', 17.0), ('dunno', 6.0), ('durham', 3.0), ('dusseldorf', 8.0), ('duti', 2.0), ('dvb', 8.0), ('dy', 4.0), ('dynam', 9.0), ('dynasti', 11.0), ('dyoung', 5.0), ('ea', 6.0), ('ear', 3.0), ('earhart', 4.0), ('earl', 9.0), ('earlier', 16.0), ('earlyseason', 4.0), ('eas', 4.0), ('easi', 38.0), ('easier', 15.0), ('easili', 20.0), ('east', 18.0), ('eastern', 3.0), ('eat', 4.0), ('ec', 3.0), ('ecac', 7.0), ('echo', 71.0), ('ed', 23.0), ('edelweiss', 3.0), ('edg', 11.0), ('edinburgh', 5.0), ('edit', 21.0), ('editor', 46.0), ('edm', 19.0), ('edmonton', 37.0), ('educ', 16.0), ('edward', 5.0), ('effect', 35.0), ('effici', 5.0), ('effort', 26.0), ('ego', 5.0), ('eight', 2.0), ('einstein', 4.0), ('eisler', 5.0), ('eklund', 6.0), ('elbel', 3.0), ('elbow', 4.0), ('electr', 7.0), ('electron', 13.0), ('elegantli', 1.0), ('element', 4.0), ('elimin', 6.0), ('elincoat', 5.0), ('elinenergieanwendung', 5.0), ('eliteserien', 3.0), ('elitserien', 3.0), ('ellett', 2.0), ('elli', 10.0), ('ellwel', 2.0), ('elynuik', 2.0), ('em', 6.0), ('emac', 26.0), ('email', 192.0), ('emb', 2.0), ('embed', 8.0), ('emeri', 3.0), ('emerson', 5.0), ('emot', 9.0), ('emploi', 3.0), ('employ', 7.0), ('empti', 1.0), ('emrick', 1.0), ('emu', 2.0), ('emul', 38.0), ('en', 10.0), ('enabl', 16.0), ('encapsul', 7.0), ('enclosur', 4.0), ('encod', 5.0), ('encount', 6.0), ('encourag', 3.0), ('end', 18.0), ('endif', 23.0), ('endors', 2.0), ('energi', 2.0), ('enforc', 7.0), ('engin', 40.0), ('england', 12.0), ('english', 17.0), ('engsuncom', 4.0), ('enhanc', 19.0), ('enjoi', 14.0), ('ensur', 7.0), ('enter', 26.0), ('entertain', 3.0), ('enterwindowmask', 3.0), ('enthusiasm', 2.0), ('entir', 24.0), ('entri', 101.0), ('env', 2.0), ('environ', 52.0), ('eof', 16.0), ('eosericssons', 3.0), ('eosncsuedu', 19.0), ('ep', 6.0), ('episod', 9.0), ('epoch', 7.0), ('equal', 8.0), ('equip', 13.0), ('equival', 6.0), ('er', 3.0), ('era', 8.0), ('eras', 9.0), ('eric', 18.0), ('ericsson', 3.0), ('erik', 1.0), ('errei', 9.0), ('error', 122.0), ('esc', 5.0), ('escal', 4.0), ('escap', 23.0), ('esd', 2.0), ('especi', 31.0), ('espn', 167.0), ('espn2', 15.0), ('essa', 5.0), ('essensa', 10.0), ('essenti', 5.0), ('est', 2.0), ('establish', 5.0), ('et', 9.0), ('ethernet', 49.0), ('ethic', 3.0), ('etxmesa', 3.0), ('etxonss', 9.0), ('eulerlbsmsuedu', 5.0), ('euro', 7.0), ('euroblood', 3.0), ('europ', 23.0), ('european', 47.0), ('ev', 3.0), ('evalu', 11.0), ('evan', 6.0), ('even', 9.0), ('event', 146.0), ('eventhandl', 3.0), ('eventloop', 2.0), ('eventu', 8.0), ('everybodi', 10.0), ('everyon', 37.0), ('everyth', 29.0), ('evid', 9.0), ('exact', 14.0), ('exactli', 37.0), ('examin', 3.0), ('exampl', 78.0), ('exassat', 3.0), ('exce', 2.0), ('excel', 19.0), ('except', 14.0), ('excerpt', 5.0), ('exchang', 2.0), ('excit', 13.0), ('exclud', 4.0), ('exclus', 2.0), ('excus', 13.0), ('exec', 9.0), ('execut', 26.0), ('exercis', 3.0), ('exhibit', 12.0), ('exil', 3.0), ('exist', 49.0), ('exit', 32.0), ('exp', 3.0), ('expand', 6.0), ('expans', 12.0), ('expect', 58.0), ('expens', 4.0), ('experi', 28.0), ('experienc', 9.0), ('expert', 6.0), ('expir', 3.0), ('explain', 11.0), ('explan', 5.0), ('explicit', 4.0), ('explicitli', 5.0), ('explor', 4.0), ('expolcsmitedu', 13.0), ('export', 51.0), ('exportlcsmitedu', 43.0), ('expos', 32.0), ('exposur', 5.0), ('exposuremask', 3.0), ('express', 10.0), ('ext', 10.0), ('extend', 18.0), ('extens', 55.0), ('extern', 3.0), ('extra', 13.0), ('extract', 12.0), ('extrem', 7.0), ('ey', 9.0), ('eyesor', 3.0), ('f1hh', 3.0), ('f3', 3.0), ('face', 21.0), ('faceoff', 13.0), ('facil', 8.0), ('facilit', 2.0), ('fact', 47.0), ('factor', 10.0), ('fail', 39.0), ('fair', 7.0), ('fairli', 11.0), ('faith', 9.0), ('fall', 21.0), ('fals', 27.0), ('fame', 6.0), ('famili', 6.0), ('familiar', 9.0), ('fan', 167.0), ('fancypseudograph', 3.0), ('faq', 46.0), ('faqcraft', 3.0), ('far', 64.0), ('farenebt', 6.0), ('farenel', 3.0), ('farm', 8.0), ('fashion', 3.0), ('fast', 20.0), ('faster', 17.0), ('fastest', 3.0), ('fat', 2.0), ('fatal', 12.0), ('father', 3.0), ('fault', 16.0), ('favor', 3.0), ('favorit', 13.0), ('favour', 4.0), ('fax', 107.0), ('fb', 4.0), ('fck', 3.0), ('fd', 4.0), ('fear', 3.0), ('featur', 73.0), ('feb', 2.0), ('fedorov', 8.0), ('fedyk', 1.0), ('fee', 14.0), ('feed', 18.0), ('feedback', 7.0), ('feel', 59.0), ('feet', 3.0), ('felix', 10.0), ('fell', 6.0), ('felsner', 5.0), ('felt', 5.0), ('ferguson', 15.0), ('ferment', 4.0), ('ferraro', 6.0), ('fewer', 1.0), ('fg', 6.0), ('fi', 8.0), ('fidonet', 5.0), ('field', 9.0), ('fife', 3.0), ('fifth', 4.0), ('fight', 31.0), ('figur', 30.0), ('file', 370.0), ('filemgr', 2.0), ('filenam', 35.0), ('fileselector', 5.0), ('fill', 13.0), ('filter', 8.0), ('fin', 6.0), ('finaboabofi', 6.0), ('final', 96.0), ('financi', 5.0), ('find', 109.0), ('fine', 40.0), ('finger', 11.0), ('finish', 18.0), ('finland', 23.0), ('finn', 4.0), ('finnish', 20.0), ('fire', 17.0), ('firebird', 3.0), ('first', 251.0), ('fish', 13.0), ('fisher', 3.0), ('fit', 5.0), ('five', 18.0), ('fix', 56.0), ('fking', 3.0), ('fl', 5.0), ('flag', 30.0), ('flagship', 2.0), ('flame', 107.0), ('flash', 7.0), ('flat', 4.0), ('flatteri', 6.0), ('flaunt', 2.0), ('flavor', 3.0), ('fleishman', 3.0), ('fleur', 3.0), ('fleuri', 24.0), ('flexibl', 7.0), ('flick', 2.0), ('flip', 2.0), ('florida', 10.0), ('flow', 6.0), ('flower', 4.0), ('fluid', 4.0), ('fly', 8.0), ('flyer', 30.0), ('fm', 3.0), ('fmsalvat', 6.0), ('fn', 1.0), ('focu', 23.0), ('fold', 3.0), ('foligno', 8.0), ('folk', 23.0), ('folli', 3.0), ('follow', 133.0), ('followup', 4.0), ('font', 151.0), ('fool', 8.0), ('foot', 3.0), ('footbal', 10.0), ('forb', 4.0), ('forc', 29.0), ('foreground', 14.0), ('foreign', 3.0), ('forev', 4.0), ('forget', 13.0), ('forgot', 5.0), ('fork', 9.0), ('form', 37.0), ('format', 50.0), ('former', 8.0), ('formerli', 12.0), ('forsberg', 2.0), ('fortecstuftsedu', 3.0), ('forth', 4.0), ('fortun', 7.0), ('forum', 2.0), ('forward', 40.0), ('foul', 13.0), ('foundat', 10.0), ('four', 33.0), ('fourth', 4.0), ('fp', 4.0), ('fpccstructreturn', 7.0), ('fprintf', 50.0), ('fr', 6.0), ('frack', 3.0), ('fractal', 2.0), ('frame', 26.0), ('framebuff', 12.0), ('framemak', 3.0), ('franc', 14.0), ('franchis', 9.0), ('franci', 43.0), ('francisco', 10.0), ('frank', 24.0), ('frankli', 5.0), ('franti', 3.0), ('frasersfuca', 6.0), ('freak', 3.0), ('fred', 5.0), ('freddyersysedmontonabca', 5.0), ('fredericton', 4.0), ('free', 87.0), ('freeli', 5.0), ('freenetcarletonca', 6.0), ('freenetvictoriabcca', 4.0), ('freewar', 6.0), ('french', 8.0), ('frequent', 11.0), ('fresh', 3.0), ('fridai', 12.0), ('friedman', 6.0), ('friend', 15.0), ('front', 27.0), ('frontend', 4.0), ('frustrat', 5.0), ('ft', 5.0), ('ftmsbrownastroatcuucp', 3.0), ('ftmsuucp', 6.0), ('ftp', 130.0), ('ftpabl', 2.0), ('ftpuunet', 4.0), ('fuck', 10.0), ('fuentezcom', 2.0), ('fuer', 3.0), ('fuhr', 54.0), ('full', 48.0), ('fulli', 5.0), ('fulton', 4.0), ('fun', 9.0), ('function', 146.0), ('funni', 3.0), ('furi', 4.0), ('furlei', 3.0), ('furthermor', 2.0), ('futil', 2.0), ('futur', 26.0), ('fuzzfac', 3.0), ('fwiuvanl', 2.0), ('ga', 7.0), ('gaa', 3.0), ('gadget', 3.0), ('gainei', 49.0), ('galaxi', 5.0), ('gallagh', 2.0), ('gallant', 6.0), ('gallei', 13.0), ('gallichio', 6.0), ('galvin', 7.0), ('galvint', 7.0), ('game', 680.0), ('gaoler', 3.0), ('garbag', 5.0), ('garcia', 3.0), ('gari', 53.0), ('garpenlov', 7.0), ('garri', 1.0), ('garryola', 3.0), ('garth', 2.0), ('gartner', 9.0), ('gasch', 4.0), ('gatewai', 7.0), ('gaudreau', 11.0), ('gaussmedharvardedu', 11.0), ('gave', 21.0), ('gb', 6.0), ('gballent', 13.0), ('gc', 19.0), ('gcc', 31.0), ('ge', 4.0), ('gee', 5.0), ('gener', 83.0), ('geni', 5.0), ('geoff', 11.0), ('geometri', 6.0), ('geophys', 4.0), ('geordi', 3.0), ('georg', 34.0), ('georgeh', 4.0), ('gerald', 59.0), ('gerard', 19.0), ('gerardodriscol', 4.0), ('german', 40.0), ('germanborn', 8.0), ('germani', 19.0), ('gerri', 4.0), ('gesmbh', 5.0), ('get', 545.0), ('getapplicationshellwidgetclass', 1.0), ('getter', 3.0), ('getwmshellwidgetclass', 1.0), ('gfxbase', 4.0), ('ghostscript', 4.0), ('ghostview', 2.0), ('giant', 7.0), ('giantsrequest', 2.0), ('gibson', 14.0), ('gif', 21.0), ('gil', 5.0), ('gilhen', 4.0), ('gill', 10.0), ('gilmour', 48.0), ('gimm', 4.0), ('give', 121.0), ('given', 62.0), ('gjhsun', 4.0), ('gk', 3.0), ('gl', 54.0), ('glacial', 3.0), ('glad', 11.0), ('gld', 30.0), ('glen', 3.0), ('glenn', 13.0), ('global', 4.0), ('glove', 4.0), ('glxdraw', 4.0), ('glxgetconfig', 4.0), ('glxlink', 4.0), ('glxmdraw', 6.0), ('glxunlink', 4.0), ('glxwinset', 4.0), ('gm', 34.0), ('gmt', 6.0), ('gnu', 14.0), ('go', 378.0), ('goal', 180.0), ('goalding', 3.0), ('goali', 58.0), ('goaltend', 19.0), ('god', 14.0), ('goddess', 3.0), ('godfath', 7.0), ('goe', 35.0), ('golchowi', 29.0), ('gold', 8.0), ('golden', 4.0), ('golf', 18.0), ('gone', 17.0), ('gonna', 5.0), ('gooch', 7.0), ('good', 190.0), ('gordi', 4.0), ('gordon', 10.0), ('gore', 6.0), ('got', 124.0), ('gothenburg', 3.0), ('gotta', 8.0), ('gotten', 11.0), ('goulet', 4.0), ('govern', 9.0), ('gowen', 9.0), ('gp', 11.0), ('gr', 13.0), ('grab', 24.0), ('graca', 7.0), ('graduat', 1.0), ('graham', 11.0), ('granato', 10.0), ('grand', 2.0), ('grandmoth', 3.0), ('grant', 36.0), ('grape', 10.0), ('graph', 35.0), ('graphic', 128.0), ('graphig', 3.0), ('grave', 7.0), ('grayscal', 5.0), ('great', 111.0), ('greater', 12.0), ('greatest', 3.0), ('greatli', 24.0), ('green', 23.0), ('greet', 5.0), ('greg', 46.0), ('gregmeist', 6.0), ('gregori', 4.0), ('grei', 6.0), ('gretzki', 50.0), ('gripcisupennedu', 3.0), ('gripe', 7.0), ('groger', 3.0), ('ground', 4.0), ('group', 86.0), ('grow', 7.0), ('gtd597a', 15.0), ('guarante', 11.0), ('guess', 48.0), ('gui', 144.0), ('guid', 19.0), ('guidelin', 9.0), ('guru', 8.0), ('guvaxaccgeorgetownedu', 5.0), ('gwm', 3.0), ('gx', 4.0), ('gxcopi', 5.0), ('gxxor', 11.0), ('ha', 3.0), ('hab', 33.0), ('hack', 4.0), ('hacker', 6.0), ('hadn', 8.0), ('half', 16.0), ('halfhour', 3.0), ('halifax', 5.0), ('hall', 13.0), ('hallg', 4.0), ('hamilton', 16.0), ('hammer', 1.0), ('hammerl', 38.0), ('hamrlik', 5.0), ('hamster', 3.0), ('hand', 41.0), ('handi', 3.0), ('handl', 40.0), ('handler', 36.0), ('hang', 17.0), ('hannu', 2.0), ('hansen', 3.0), ('happen', 72.0), ('happi', 16.0), ('har', 13.0), ('haral', 3.0), ('hard', 53.0), ('harder', 2.0), ('hardi', 5.0), ('hardli', 10.0), ('hardwar', 30.0), ('harila', 2.0), ('harri', 7.0), ('hart', 19.0), ('hartford', 19.0), ('harvard', 4.0), ('hasek', 3.0), ('hat', 9.0), ('hatcher', 6.0), ('hate', 22.0), ('have', 65.0), ('hawerchuk', 15.0), ('hawgood', 10.0), ('hawk', 45.0), ('hayward', 5.0), ('hd', 5.0), ('head', 56.0), ('header', 23.0), ('headlin', 3.0), ('heali', 5.0), ('healthi', 6.0), ('healthyuwaterlooca', 5.0), ('hear', 23.0), ('heard', 25.0), ('heart', 8.0), ('heat', 4.0), ('heavi', 3.0), ('heavili', 2.0), ('hebert', 4.0), ('heck', 5.0), ('hedican', 8.0), ('hei', 23.0), ('height', 25.0), ('held', 14.0), ('heliosathepagov', 8.0), ('hell', 35.0), ('hello', 16.0), ('help', 189.0), ('helsinki', 10.0), ('henri', 15.0), ('herd', 3.0), ('heritag', 3.0), ('het', 3.0), ('hex', 4.0), ('hextal', 14.0), ('hi', 68.0), ('hide', 4.0), ('hierarchi', 9.0), ('high', 47.0), ('highend', 3.0), ('higher', 56.0), ('highest', 9.0), ('highli', 4.0), ('highlight', 9.0), ('highstick', 3.0), ('hill', 4.0), ('hillsid', 3.0), ('himself', 12.0), ('hint', 24.0), ('hire', 9.0), ('histori', 15.0), ('historyth', 3.0), ('hit', 37.0), ('hmmmsound', 3.0), ('hobb', 3.0), ('hoboken', 3.0), ('hochreit', 11.0), ('hockei', 311.0), ('hockey', 3.0), ('hold', 31.0), ('holder', 2.0), ('hole', 8.0), ('holi', 2.0), ('home', 57.0), ('homeboi', 3.0), ('honor', 4.0), ('honour', 19.0), ('hook', 6.0), ('hope', 62.0), ('hopefulli', 10.0), ('hornet', 6.0), ('horribl', 4.0), ('horvath', 3.0), ('hospit', 5.0), ('host', 51.0), ('hostnam', 21.0), ('hot', 14.0), ('hoth', 3.0), ('houdini', 3.0), ('hour', 9.0), ('hous', 6.0), ('houslei', 10.0), ('houston', 5.0), ('how', 12.0), ('howard', 2.0), ('hp', 61.0), ('hp9000', 4.0), ('hpux', 8.0), ('hrivnak', 15.0), ('hrudei', 12.0), ('hs', 3.0), ('hsdndevharvardedu', 4.0), ('ht', 5.0), ('hubert', 3.0), ('hudsonuvicca', 10.0), ('huge', 12.0), ('hugh', 8.0), ('hull', 13.0), ('human', 7.0), ('humour', 3.0), ('hundr', 4.0), ('hung', 6.0), ('hungri', 1.0), ('hunter', 28.0), ('huot', 25.0), ('hurrican', 6.0), ('hurt', 17.0), ('hwy', 3.0), ('hydragatechedu', 3.0), ('hype', 9.0), ('ian', 10.0), ('ibm', 31.0), ('ic', 101.0), ('icccm', 9.0), ('icebreak', 3.0), ('ick', 4.0), ('icon', 41.0), ('icop', 2.0), ('icscom', 6.0), ('id', 43.0), ('idacom', 6.0), ('idacomhpcom', 12.0), ('idea', 51.0), ('ideal', 2.0), ('ident', 11.0), ('idiot', 4.0), ('idl', 4.0), ('idraw', 3.0), ('ifdef', 5.0), ('igdfhgd', 4.0), ('ignor', 19.0), ('igor', 3.0), ('ihl', 13.0), ('ii', 19.0), ('iii', 6.0), ('iiikevin', 3.0), ('ikea', 3.0), ('il', 4.0), ('illeg', 5.0), ('illinoi', 3.0), ('illustr', 5.0), ('im', 6.0), ('imag', 59.0), ('imagemagick', 2.0), ('imagin', 8.0), ('imak', 10.0), ('imakefil', 6.0), ('imho', 16.0), ('imit', 3.0), ('immedi', 13.0), ('imo', 13.0), ('impact', 3.0), ('impal', 4.0), ('implement', 79.0), ('implementor', 3.0), ('impli', 10.0), ('implic', 3.0), ('import', 19.0), ('imposs', 2.0), ('impress', 31.0), ('improv', 34.0), ('inch', 3.0), ('incid', 5.0), ('includ', 326.0), ('inclus', 4.0), ('incom', 7.0), ('incompat', 4.0), ('incomplet', 4.0), ('inconsist', 4.0), ('incorpor', 7.0), ('incorrect', 5.0), ('increas', 12.0), ('incred', 2.0), ('indent', 4.0), ('independ', 8.0), ('index', 23.0), ('indian', 5.0), ('indianapoli', 3.0), ('indic', 21.0), ('indigo', 2.0), ('individu', 33.0), ('industri', 12.0), ('inefficientor', 3.0), ('inet', 4.0), ('inevit', 1.0), ('inexperienc', 2.0), ('inf', 6.0), ('inferior', 3.0), ('infin', 3.0), ('info', 107.0), ('infodevcamacuk', 4.0), ('inform', 179.0), ('informatiktumuenchend', 9.0), ('ing', 6.0), ('inherit', 5.0), ('init', 2.0), ('initi', 25.0), ('injur', 12.0), ('injuri', 25.0), ('inmat', 3.0), ('input', 76.0), ('inputoutput', 2.0), ('insert', 8.0), ('insid', 14.0), ('insight', 5.0), ('insist', 3.0), ('insitut', 2.0), ('inspir', 3.0), ('instal', 54.0), ('instanc', 6.0), ('instant', 2.0), ('institut', 21.0), ('instruct', 7.0), ('insuffici', 1.0), ('insult', 4.0), ('int', 63.0), ('integr', 33.0), ('intel', 6.0), ('intellig', 13.0), ('intend', 10.0), ('intens', 6.0), ('intent', 11.0), ('interact', 26.0), ('interest', 82.0), ('interfac', 79.0), ('intermiss', 7.0), ('intern', 37.0), ('internation', 4.0), ('internet', 66.0), ('interpret', 17.0), ('interrupt', 6.0), ('interview', 26.0), ('interviewsstanfordedu', 3.0), ('intrins', 16.0), ('introduc', 6.0), ('invalid', 6.0), ('invers', 4.0), ('investig', 2.0), ('invis', 5.0), ('invok', 15.0), ('involv', 16.0), ('ioctl', 3.0), ('iowa', 5.0), ('ip', 74.0), ('ipc', 8.0), ('ipx', 14.0), ('irb', 6.0), ('iri', 5.0), ('irix', 3.0), ('iron', 2.0), ('irsinftudresdend', 7.0), ('irzr17inftudresdend', 7.0), ('isl', 50.0), ('island', 79.0), ('issu', 24.0), ('ist', 4.0), ('istsistsca', 3.0), ('itali', 7.0), ('italian', 3.0), ('item', 23.0), ('ito2', 3.0), ('ivi', 13.0), ('ix', 5.0), ('ixi', 6.0), ('j3david', 7.0), ('jack', 9.0), ('jackpetrilli', 2.0), ('jacqu', 4.0), ('jadetuftsedu', 6.0), ('jaff', 4.0), ('jagr', 35.0), ('jai', 11.0), ('jake', 8.0), ('jam', 3.0), ('jame', 16.0), ('jan', 16.0), ('janet', 4.0), ('jannei', 10.0), ('januari', 7.0), ('japanes', 8.0), ('jarosz', 2.0), ('jarvi', 10.0), ('jason', 10.0), ('jayson', 3.0), ('jb', 3.0), ('jbrown', 3.0), ('jc', 5.0), ('jca2', 17.0), ('jd', 7.0), ('je', 12.0), ('jeff', 20.0), ('jerri', 4.0), ('jersei', 24.0), ('jess', 8.0), ('jessea', 7.0), ('jesu', 8.0), ('jet', 79.0), ('jetsessensa', 3.0), ('jhunixhcfjhuedu', 4.0), ('jim', 31.0), ('jimpark', 3.0), ('jjm', 5.0), ('jo', 6.0), ('job', 37.0), ('joe', 31.0), ('joe13', 7.0), ('joel', 15.0), ('johansson', 7.0), ('john', 110.0), ('johnson', 8.0), ('join', 10.0), ('joke', 9.0), ('joker', 3.0), ('jokerit', 16.0), ('joliet', 3.0), ('jon', 12.0), ('jonathan', 5.0), ('jone', 14.0), ('jordan', 5.0), ('jose', 54.0), ('joseph', 40.0), ('jouko', 3.0), ('journal', 7.0), ('jr', 6.0), ('judg', 10.0), ('juergen', 4.0), ('juggl', 1.0), ('jugular', 3.0), ('juha', 4.0), ('juli', 3.0), ('julia', 1.0), ('julian', 7.0), ('jump', 3.0), ('june', 23.0), ('juneau', 6.0), ('junior', 7.0), ('jupitersuncsdunbca', 4.0), ('just', 325.0), ('justif', 2.0), ('justifi', 4.0), ('jutila', 3.0), ('kamuck', 3.0), ('kanada', 3.0), ('kari', 2.0), ('kariya', 12.0), ('karma', 3.0), ('kaufbeuren', 3.0), ('kaupang', 5.0), ('kbw', 9.0), ('kdka', 3.0), ('keenan', 27.0), ('keep', 50.0), ('kei', 152.0), ('keikaku', 3.0), ('keith', 43.0), ('keller', 31.0), ('kelli', 12.0), ('kemppainen', 3.0), ('ken', 28.0), ('kennedi', 5.0), ('kenneth', 3.0), ('kenni', 3.0), ('keon', 4.0), ('kept', 8.0), ('kerbero', 3.0), ('kernel', 9.0), ('kerr', 5.0), ('kerri', 3.0), ('ketter', 5.0), ('kev', 3.0), ('kevin', 33.0), ('keybo', 3.0), ('keyboard', 77.0), ('keycod', 33.0), ('keymap', 27.0), ('keyn', 3.0), ('keypress', 8.0), ('keypressmask', 4.0), ('keysym', 9.0), ('keyword', 3.0), ('khmylev', 9.0), ('kick', 17.0), ('kid', 12.0), ('kielbasa', 2.0), ('kill', 23.0), ('killer', 7.0), ('kind', 45.0), ('kinda', 4.0), ('king', 95.0), ('kingdom', 2.0), ('kingston', 6.0), ('kinki', 3.0), ('kipl', 4.0), ('kirk', 6.0), ('kirzyc', 2.0), ('kisio', 10.0), ('kisseberth', 2.0), ('kit', 11.0), ('kitssfuca', 4.0), ('kiwi', 3.0), ('kkeller', 28.0), ('kl', 3.0), ('klee', 9.0), ('knee', 7.0), ('knew', 13.0), ('knife', 3.0), ('knight', 2.0), ('knock', 6.0), ('know', 302.0), ('knowledg', 14.0), ('known', 30.0), ('kodiak', 3.0), ('kokudo', 3.0), ('konstantinov', 2.0), ('kortelainen', 5.0), ('kortelaisen', 3.0), ('kovalenko', 3.0), ('kovalev', 18.0), ('kovat', 3.0), ('koz', 3.0), ('kozloc', 7.0), ('kozlov', 7.0), ('kpccom', 2.0), ('kubota', 3.0), ('kuehn', 3.0), ('kurri', 16.0), ('kuta', 3.0), ('kylmaoja', 4.0), ('l8', 2.0), ('la', 78.0), ('lab', 26.0), ('label', 10.0), ('laboratori', 18.0), ('lack', 19.0), ('lacker', 3.0), ('ladi', 5.0), ('lafleur', 4.0), ('lafontain', 30.0), ('lai', 2.0), ('lak', 11.0), ('lake', 7.0), ('lamarcolostateedu', 5.0), ('lamp', 3.0), ('lan', 15.0), ('lana', 3.0), ('land', 2.0), ('landau', 6.0), ('lane', 4.0), ('lang', 5.0), ('languag', 26.0), ('lanzo', 8.0), ('lapoint', 7.0), ('lar', 2.0), ('larg', 33.0), ('larger', 15.0), ('larmer', 3.0), ('larocqu', 3.0), ('larri', 31.0), ('larrymcrcimmcgilledu', 10.0), ('laser', 3.0), ('lastmodifi', 4.0), ('lat', 10.0), ('latest', 44.0), ('latex', 3.0), ('latter', 10.0), ('lau', 3.0), ('laubster', 3.0), ('laugh', 12.0), ('laukkanen', 2.0), ('launch', 4.0), ('laurel', 2.0), ('lauri', 5.0), ('lawrenc', 6.0), ('layer', 5.0), ('layout', 7.0), ('lazaru', 11.0), ('lazi', 2.0), ('lb', 4.0), ('ld', 8.0), ('ldrunpath', 6.0), ('le', 22.0), ('lead', 73.0), ('leader', 19.0), ('leadership', 6.0), ('leaf', 129.0), ('leafspotvin', 3.0), ('leagu', 98.0), ('leaguen', 3.0), ('learn', 25.0), ('leas', 3.0), ('least', 56.0), ('leav', 35.0), ('leavewindowmask', 2.0), ('lebeau', 3.0), ('leblanc', 3.0), ('lectur', 3.0), ('lee', 31.0), ('lefebvr', 4.0), ('left', 41.0), ('legion', 6.0), ('lehigh', 3.0), ('lemer', 4.0), ('lemieux', 69.0), ('lenarduzzi', 2.0), ('length', 11.0), ('leo', 5.0), ('lesson', 4.0), ('let', 24.0), ('letter', 14.0), ('letterman', 3.0), ('leung', 3.0), ('leunggm', 3.0), ('level', 29.0), ('lewi', 10.0), ('li', 6.0), ('liam', 7.0), ('lib', 83.0), ('librari', 84.0), ('libxextso', 3.0), ('libxmu', 4.0), ('licens', 10.0), ('lidstrom', 5.0), ('life', 19.0), ('lift', 7.0), ('light', 4.0), ('lighter', 3.0), ('like', 11.0), ('liken', 3.0), ('limit', 46.0), ('linden', 15.0), ('lindro', 34.0), ('lindroo', 6.0), ('line', 196.0), ('linesman', 4.0), ('lineup', 10.0), ('link', 19.0), ('linsemen', 3.0), ('linux', 20.0), ('lion', 4.0), ('lionbearcom', 2.0), ('lipp', 3.0), ('lisp', 8.0), ('list', 160.0), ('listen', 7.0), ('listserv', 4.0), ('liter', 1.0), ('littl', 89.0), ('littlest', 3.0), ('litton', 3.0), ('liu', 4.0), ('live', 31.0), ('lm', 2.0), ('lmarsha', 3.0), ('ln', 4.0), ('lnsl', 2.0), ('lo', 34.0), ('load', 22.0), ('local', 75.0), ('locat', 30.0), ('lock', 11.0), ('locker', 4.0), ('log', 15.0), ('logic', 20.0), ('logiccampclarksonedu', 2.0), ('login', 17.0), ('logistician', 5.0), ('loke', 3.0), ('london', 10.0), ('lone', 3.0), ('long', 82.0), ('longer', 16.0), ('longtim', 2.0), ('look', 253.0), ('loon', 4.0), ('loop', 15.0), ('loos', 9.0), ('lord', 2.0), ('lori', 11.0), ('lose', 38.0), ('loser', 9.0), ('loss', 16.0), ('lost', 50.0), ('lostweekend', 3.0), ('lot', 84.0), ('loui', 60.0), ('lousi', 5.0), ('love', 24.0), ('low', 21.0), ('lower', 6.0), ('lrw509f', 4.0), ('ls', 2.0), ('lsocket', 3.0), ('lu', 14.0), ('lucid', 5.0), ('luck', 13.0), ('lucki', 13.0), ('luddington', 2.0), ('ludicr', 3.0), ('lulea', 3.0), ('lunat', 5.0), ('lurk', 3.0), ('lx11', 2.0), ('lxext', 3.0), ('lxmu', 2.0), ('ly', 7.0), ('ma', 28.0), ('mac', 19.0), ('mac18', 5.0), ('macbigot', 2.0), ('macdonald', 3.0), ('mach', 1.0), ('machin', 82.0), ('macinni', 16.0), ('macintosh', 60.0), ('maciv', 4.0), ('maclean', 6.0), ('macro', 13.0), ('macx', 11.0), ('mafaldainriafr', 2.0), ('magazin', 6.0), ('magic', 4.0), ('magician', 3.0), ('magnifiqu', 3.0), ('magnusacsohiostateedu', 7.0), ('mahan', 22.0), ('mahi', 6.0), ('mail', 129.0), ('mailastcamacuk', 9.0), ('mailbox', 3.0), ('mailer', 14.0), ('mailhot', 3.0), ('mailsasupennedu', 28.0), ('mailtool', 4.0), ('main', 52.0), ('mainemaineedu', 3.0), ('mainli', 4.0), ('maintain', 19.0), ('mainwin', 5.0), ('major', 39.0), ('majorov', 5.0), ('mak', 4.0), ('makarov', 11.0), ('make', 33.0), ('makefil', 10.0), ('makela', 4.0), ('malabcca', 5.0), ('malarchuk', 12.0), ('malmo', 5.0), ('mamatha', 3.0), ('man', 51.0), ('manag', 210.0), ('mandatori', 3.0), ('mandir', 2.0), ('maniac', 2.0), ('manipul', 17.0), ('manner', 4.0), ('manon', 5.0), ('manretard', 5.0), ('manson', 6.0), ('manual', 40.0), ('manufactur', 7.0), ('map', 30.0), ('mapl', 28.0), ('mar', 1.0), ('marc', 8.0), ('march', 5.0), ('marco', 3.0), ('marcu', 7.0), ('mari', 8.0), ('marin', 4.0), ('mario', 50.0), ('maritim', 3.0), ('mark', 123.0), ('market', 13.0), ('marko', 5.0), ('marku', 5.0), ('markw', 2.0), ('marshal', 4.0), ('marti', 3.0), ('martin', 11.0), ('martinsvil', 4.0), ('martz', 4.0), ('marven', 3.0), ('mask', 46.0), ('mass', 3.0), ('massachusett', 4.0), ('massiv', 4.0), ('match', 32.0), ('matchup', 7.0), ('materi', 6.0), ('math', 11.0), ('mathemat', 9.0), ('matikainen', 2.0), ('matrix', 2.0), ('matt', 22.0), ('matteau', 3.0), ('matter', 28.0), ('matthew', 14.0), ('matthia', 3.0), ('matya', 5.0), ('max', 20.0), ('maximum', 10.0), ('maynard', 89.0), ('mb', 8.0), ('mc', 11.0), ('mccoi', 8.0), ('mcdonald', 4.0), ('mceachern', 7.0), ('mcgill', 14.0), ('mckee', 3.0), ('mckenzi', 3.0), ('mckim', 3.0), ('mclean', 7.0), ('mcnall', 4.0), ('mcphee', 6.0), ('mcrcimmcgilledu', 3.0), ('mcsore', 2.0), ('md', 9.0), ('mean', 101.0), ('meaningless', 6.0), ('meant', 6.0), ('measur', 8.0), ('mechan', 13.0), ('media', 9.0), ('mediamitedu', 5.0), ('medic', 4.0), ('mediocr', 7.0), ('medrautapplecom', 6.0), ('mee', 5.0), ('meet', 22.0), ('meg', 5.0), ('mehl', 7.0), ('melbourn', 3.0), ('mellanbi', 3.0), ('mellon', 9.0), ('melvil', 3.0), ('member', 16.0), ('memori', 93.0), ('men', 6.0), ('menschen', 3.0), ('mental', 6.0), ('mention', 43.0), ('menu', 35.0), ('menubar', 4.0), ('mere', 11.0), ('merit', 3.0), ('mess', 3.0), ('messag', 80.0), ('messier', 24.0), ('meta', 9.0), ('method', 30.0), ('metro', 6.0), ('metropolitan', 2.0), ('mfpirbo00wbli1ispc', 2.0), ('mgr', 3.0), ('mh', 16.0), ('mhung', 3.0), ('mhz', 3.0), ('mi', 10.0), ('miami', 7.0), ('mich', 2.0), ('micha', 3.0), ('michael', 46.0), ('michel', 6.0), ('michigan', 5.0), ('micro', 17.0), ('microsoft', 22.0), ('microsystem', 4.0), ('middl', 13.0), ('midwest', 3.0), ('mighti', 7.0), ('migod', 4.0), ('mike', 93.0), ('mikko', 7.0), ('mikkot', 4.0), ('mildli', 2.0), ('mile', 4.0), ('mileag', 2.0), ('militzok', 3.0), ('mill', 6.0), ('millen', 10.0), ('miller', 17.0), ('million', 16.0), ('milpita', 2.0), ('milton', 3.0), ('min', 31.0), ('mind', 41.0), ('mine', 9.0), ('minim', 5.0), ('minimum', 6.0), ('minn', 3.0), ('minnesota', 34.0), ('minor', 25.0), ('minorsrequest', 2.0), ('minu', 24.0), ('minut', 32.0), ('mip', 5.0), ('miracl', 4.0), ('mironov', 4.0), ('misc', 9.0), ('misconduct', 9.0), ('misfit', 4.0), ('mislead', 5.0), ('miss', 35.0), ('mission', 3.0), ('mistak', 9.0), ('misunderstand', 2.0), ('misus', 3.0), ('mit', 67.0), ('mitshm', 7.0), ('mix', 17.0), ('mjr4u', 3.0), ('mlindroo', 6.0), ('mmb', 5.0), ('mn', 6.0), ('mnemon', 2.0), ('mo', 8.0), ('modano', 3.0), ('mode', 38.0), ('model', 18.0), ('modem', 10.0), ('moder', 8.0), ('modicum', 2.0), ('modif', 6.0), ('modifi', 40.0), ('modo', 6.0), ('modul', 5.0), ('moepidoopend', 5.0), ('moffat', 5.0), ('mogilni', 24.0), ('mom', 3.0), ('mombasa', 3.0), ('moment', 14.0), ('momesso', 4.0), ('mon', 22.0), ('moncton', 11.0), ('mondai', 12.0), ('monei', 33.0), ('monica', 3.0), ('monitor', 24.0), ('mono', 19.0), ('monochrom', 25.0), ('month', 18.0), ('monthli', 3.0), ('monti', 2.0), ('montreal', 63.0), ('moog', 16.0), ('moor', 3.0), ('mopar', 3.0), ('morn', 9.0), ('moron', 16.0), ('morri', 5.0), ('moschetti', 3.0), ('mosquito', 3.0), ('motif', 278.0), ('motifbas', 8.0), ('motion', 4.0), ('motiv', 4.0), ('motorola', 6.0), ('mount', 7.0), ('mountain', 7.0), ('mous', 132.0), ('mouth', 4.0), ('move', 94.0), ('movi', 3.0), ('mppa3', 7.0), ('mprgatemprca', 1.0), ('mr47', 3.0), ('mre', 5.0), ('ms', 82.0), ('msc', 2.0), ('msdo', 15.0), ('msuinfoclmsuedu', 4.0), ('mswindow', 6.0), ('mt', 11.0), ('mtl', 28.0), ('mtroyalabca', 5.0), ('muckler', 4.0), ('mudvil', 3.0), ('mufti', 11.0), ('mule', 3.0), ('mullen', 20.0), ('muller', 9.0), ('multi', 3.0), ('multibyt', 5.0), ('multimedia', 12.0), ('multipart', 2.0), ('multipl', 55.0), ('multiscreen', 15.0), ('multithread', 4.0), ('munich', 6.0), ('murawski', 5.0), ('murphi', 27.0), ('murrai', 35.0), ('muscl', 5.0), ('music', 8.0), ('musicamcgillca', 3.0), ('musil', 4.0), ('mv', 6.0), ('mvp', 17.0), ('mwm', 24.0), ('mydisplai', 39.0), ('mysteri', 2.0), ('name', 189.0), ('namer', 3.0), ('nanci', 7.0), ('naoumov', 4.0), ('nasa', 7.0), ('nassestr', 2.0), ('nation', 33.0), ('natur', 9.0), ('navig', 3.0), ('nb', 3.0), ('nba', 7.0), ('nc', 5.0), ('ncaa', 4.0), ('ncd', 31.0), ('nchan', 3.0), ('ncr', 5.0), ('ncsuedu', 6.0), ('nd', 2.0), ('ne', 4.0), ('nearest', 3.0), ('nearli', 6.0), ('necessari', 10.0), ('necessarili', 7.0), ('neck', 6.0), ('nedv', 8.0), ('need', 197.0), ('neeli', 14.0), ('neg', 4.0), ('neglect', 4.0), ('negoti', 4.0), ('neil', 10.0), ('nelson', 17.0), ('neosoftcom', 6.0), ('nesbitt', 3.0), ('net', 77.0), ('netcomcom', 17.0), ('netherland', 8.0), ('netland', 3.0), ('netnewsupennedu', 5.0), ('netter', 10.0), ('network', 105.0), ('neural', 3.0), ('neutral', 6.0), ('new', 76.0), ('newcastleacuk', 2.0), ('newer', 5.0), ('newli', 2.0), ('newlin', 9.0), ('newscolumbiaedu', 5.0), ('newsdisplai', 1.0), ('newsgroup', 40.0), ('newshubistsca', 2.0), ('newspap', 3.0), ('nf', 9.0), ('nfl', 6.0), ('nh', 6.0), ('nhl', 164.0), ('nhler', 2.0), ('nhlpa', 3.0), ('nhma', 11.0), ('ni', 7.0), ('nice', 40.0), ('nichol', 7.0), ('nichola', 4.0), ('nick', 6.0), ('nicknam', 5.0), ('nieminen', 2.0), ('nieuwendyk', 14.0), ('night', 88.0), ('nimeroff', 3.0), ('nine', 2.0), ('ninja', 6.0), ('nj', 59.0), ('njd', 21.0), ('nkisseb', 2.0), ('nl', 3.0), ('nloraclecom', 6.0), ('nlu', 10.0), ('nne', 12.0), ('nntppostinghost', 5.0), ('node', 9.0), ('noncommerci', 3.0), ('nonsens', 8.0), ('nooseecnpurdueedu', 3.0), ('nord', 7.0), ('nordiqu', 6.0), ('norfolk', 5.0), ('normal', 31.0), ('norri', 37.0), ('north', 34.0), ('northland', 7.0), ('northwest', 3.0), ('norwai', 5.0), ('notabl', 5.0), ('note', 93.0), ('notebook', 5.0), ('noth', 50.0), ('notic', 38.0), ('notif', 3.0), ('notifyenablerpcsvc', 2.0), ('notion', 3.0), ('nov', 2.0), ('novactrcolumbiaedu', 2.0), ('novel', 16.0), ('novemb', 6.0), ('nowher', 3.0), ('nraoedu', 2.0), ('ns', 7.0), ('ns1cclehighedu', 5.0), ('nt', 31.0), ('nti', 3.0), ('nui', 4.0), ('nuktageopubcca', 3.0), ('null', 83.0), ('number', 126.0), ('numer', 6.0), ('numlock', 14.0), ('numminen', 9.0), ('ny', 54.0), ('nye', 9.0), ('nyi', 41.0), ('nyland', 11.0), ('nyr', 27.0), ('nystrom', 7.0), ('o2', 9.0), ('oak', 5.0), ('oat', 12.0), ('ob', 6.0), ('obfusc', 22.0), ('object', 58.0), ('objectori', 5.0), ('oblig', 10.0), ('obnoxi', 3.0), ('obscur', 8.0), ('obselet', 3.0), ('observ', 16.0), ('obsolet', 4.0), ('obtain', 33.0), ('obviou', 11.0), ('obvious', 16.0), ('occasion', 3.0), ('occass', 2.0), ('occur', 10.0), ('oclock', 3.0), ('octal', 3.0), ('octopu', 8.0), ('odd', 7.0), ('oddjobuchicagoedu', 4.0), ('odger', 11.0), ('odincontrolutorontoca', 3.0), ('odincorpsgicom', 3.0), ('odt', 5.0), ('offenc', 3.0), ('offend', 3.0), ('offens', 32.0), ('offer', 88.0), ('offic', 40.0), ('offici', 15.0), ('offseason', 5.0), ('offset', 3.0), ('ogrodnick', 5.0), ('oh', 35.0), ('ohio', 2.0), ('oi', 8.0), ('oiler', 48.0), ('oj', 4.0), ('ojala', 3.0), ('ok', 32.0), ('okai', 17.0), ('oklahoma', 4.0), ('ol', 13.0), ('olchowi', 32.0), ('old', 44.0), ('older', 5.0), ('olit', 20.0), ('oliv', 5.0), ('olvwm', 8.0), ('olwm', 23.0), ('olymp', 6.0), ('om', 4.0), ('omit', 1.0), ('on', 429.0), ('onlin', 9.0), ('ontario', 15.0), ('oop', 3.0), ('open', 171.0), ('opengl', 3.0), ('openlook', 22.0), ('openwin', 3.0), ('openwindow', 66.0), ('openwindowskeyboardcommand', 4.0), ('openwindowsvirtualgrabkei', 3.0), ('oper', 81.0), ('opinion', 54.0), ('oppon', 9.0), ('opportun', 20.0), ('opportunitiesmapl', 3.0), ('oppos', 13.0), ('opposit', 5.0), ('optim', 6.0), ('option', 53.0), ('ora', 3.0), ('oraclescghaccom', 3.0), ('oracom', 7.0), ('orang', 2.0), ('oranienburg', 3.0), ('order', 60.0), ('ordinari', 2.0), ('org', 2.0), ('organ', 27.0), ('orgin', 2.0), ('orient', 6.0), ('origin', 30.0), ('origon', 2.0), ('orr', 5.0), ('orunibonnd', 2.0), ('os', 61.0), ('osf', 33.0), ('osforg', 5.0), ('ot', 29.0), ('otherrealm', 2.0), ('ott', 14.0), ('ottawa', 32.0), ('otto', 12.0), ('ou', 3.0), ('ousrvroulufi', 3.0), ('outlaw', 4.0), ('outlin', 8.0), ('output', 165.0), ('outset', 3.0), ('outsid', 27.0), ('overachiev', 3.0), ('overal', 6.0), ('overhead', 8.0), ('overlai', 3.0), ('overlap', 4.0), ('overnight', 4.0), ('overrid', 16.0), ('overtim', 37.0), ('overview', 6.0), ('ow', 13.0), ('owen', 7.0), ('own', 5.0), ('owner', 16.0), ('oz', 5.0), ('ozplymouthedu', 5.0), ('pa', 8.0), ('pacif', 20.0), ('pack', 7.0), ('packag', 53.0), ('packard', 6.0), ('packet', 19.0), ('pad', 7.0), ('page', 42.0), ('pageup', 5.0), ('pageview', 7.0), ('pai', 16.0), ('paid', 11.0), ('pain', 7.0), ('paint', 12.0), ('pair', 4.0), ('palyer', 2.0), ('pan', 7.0), ('panel', 6.0), ('paper', 20.0), ('papercut', 3.0), ('paragraph', 3.0), ('paramet', 14.0), ('paramount', 3.0), ('paranjap', 3.0), ('parcplac', 6.0), ('pardon', 2.0), ('parent', 19.0), ('pari', 5.0), ('park', 8.0), ('pars', 31.0), ('part', 93.0), ('partial', 3.0), ('particip', 5.0), ('particular', 25.0), ('particularli', 11.0), ('pasi', 2.0), ('paslawski', 8.0), ('pass', 48.0), ('password', 3.0), ('past', 37.0), ('pat', 35.0), ('patch', 65.0), ('patchlevel', 1.0), ('path', 22.0), ('pathet', 3.0), ('patrick', 54.0), ('patrik', 2.0), ('pattern', 6.0), ('patti', 3.0), ('patton', 6.0), ('paul', 50.0), ('pavel', 4.0), ('paw', 3.0), ('pc', 87.0), ('pcnf', 10.0), ('pd', 7.0), ('pearson', 4.0), ('pelkei', 5.0), ('pen', 95.0), ('penalti', 85.0), ('pend', 2.0), ('penguin', 86.0), ('penn', 3.0), ('penni', 2.0), ('pensdevil', 1.0), ('penzingerstr', 5.0), ('peopl', 133.0), ('pera', 2.0), ('percentag', 17.0), ('perfect', 7.0), ('perform', 42.0), ('period', 212.0), ('perl', 1.0), ('perman', 1.0), ('permiss', 7.0), ('permit', 6.0), ('persist', 3.0), ('person', 69.0), ('personnel', 2.0), ('perspect', 3.0), ('pete', 9.0), ('peter', 27.0), ('peterrclarkjr', 2.0), ('petit', 1.0), ('petrilli', 2.0), ('petteri', 5.0), ('pex', 20.0), ('pftb', 3.0), ('pg', 2.0), ('pgh', 20.0), ('phi', 18.0), ('phig', 6.0), ('phil', 23.0), ('philadelphia', 33.0), ('philip', 3.0), ('philli', 13.0), ('phillip', 3.0), ('phoenix', 7.0), ('phoenixoulufi', 7.0), ('phone', 52.0), ('phrase', 3.0), ('physic', 8.0), ('physicssuozau', 2.0), ('physicsuncedu', 2.0), ('pick', 71.0), ('pictur', 12.0), ('pie', 9.0), ('piec', 9.0), ('pierr', 7.0), ('pig', 5.0), ('pim', 11.0), ('pine', 11.0), ('pipe', 18.0), ('pirat', 5.0), ('piss', 17.0), ('pit', 28.0), ('piti', 4.0), ('pitt', 40.0), ('pittedu', 15.0), ('pittsburg', 2.0), ('pittsburgh', 124.0), ('pixel', 29.0), ('pixmap', 69.0), ('pixrect', 3.0), ('pkortela', 4.0), ('pl', 4.0), ('place', 64.0), ('placement', 7.0), ('plagu', 5.0), ('plai', 401.0), ('plain', 10.0), ('plan', 11.0), ('plane', 19.0), ('platform', 23.0), ('platter', 3.0), ('playback', 3.0), ('player', 323.0), ('playoff', 190.0), ('pleas', 150.0), ('pleasant', 3.0), ('plenti', 4.0), ('pleshar', 4.0), ('plot', 11.0), ('plotter', 1.0), ('plp', 3.0), ('plscom', 4.0), ('plu', 46.0), ('plugger', 12.0), ('plural', 1.0), ('pm', 12.0), ('pmartz', 7.0), ('po', 32.0), ('pocklington', 16.0), ('pocwruedu', 6.0), ('podein', 4.0), ('point', 159.0), ('pointer', 32.0), ('polarisutufi', 4.0), ('polic', 2.0), ('polici', 6.0), ('polisciumnedu', 7.0), ('polit', 6.0), ('poll', 14.0), ('pond', 5.0), ('pont', 4.0), ('pool', 15.0), ('poor', 10.0), ('poorli', 3.0), ('poot', 3.0), ('pop', 13.0), ('poppsuedu', 3.0), ('popul', 7.0), ('popular', 14.0), ('popup', 8.0), ('porklington', 3.0), ('port', 38.0), ('portabl', 11.0), ('portion', 7.0), ('portland', 6.0), ('posit', 55.0), ('posn', 6.0), ('possibl', 93.0), ('post', 148.0), ('postal', 2.0), ('poster', 12.0), ('postscript', 56.0), ('postseason', 3.0), ('potenti', 7.0), ('potvin', 34.0), ('poulin', 7.0), ('pound', 4.0), ('power', 97.0), ('powerhous', 2.0), ('powerplai', 22.0), ('pp', 120.0), ('pposit', 11.0), ('ppv', 8.0), ('pr', 4.0), ('practic', 9.0), ('prai', 2.0), ('prais', 3.0), ('preced', 2.0), ('precis', 4.0), ('predict', 33.0), ('preempt', 5.0), ('prefer', 37.0), ('prentic', 2.0), ('prepaimitedu', 2.0), ('prepar', 4.0), ('presenc', 3.0), ('present', 28.0), ('preserv', 4.0), ('presid', 18.0), ('press', 47.0), ('pressur', 7.0), ('presum', 7.0), ('pretend', 3.0), ('pretti', 41.0), ('prevent', 13.0), ('preview', 7.0), ('previou', 31.0), ('previous', 8.0), ('price', 60.0), ('primari', 2.0), ('primarili', 6.0), ('prime', 10.0), ('primeau', 6.0), ('princeton', 3.0), ('print', 31.0), ('printer', 8.0), ('printf', 72.0), ('prior', 18.0), ('prioriti', 3.0), ('prismgatechedu', 16.0), ('pritchard', 2.0), ('prize', 4.0), ('pro', 15.0), ('probabl', 82.0), ('probert', 31.0), ('problem', 227.0), ('proce', 3.0), ('procedur', 12.0), ('proceed', 2.0), ('process', 67.0), ('processor', 5.0), ('proclaim', 3.0), ('produc', 40.0), ('product', 69.0), ('profession', 9.0), ('prog', 10.0), ('program', 329.0), ('programm', 38.0), ('programmat', 3.0), ('progress', 6.0), ('project', 18.0), ('prolog', 5.0), ('promis', 7.0), ('promot', 4.0), ('prompt', 11.0), ('prop', 3.0), ('propag', 2.0), ('proper', 10.0), ('properli', 11.0), ('properti', 19.0), ('proprietari', 5.0), ('propuls', 3.0), ('prospect', 6.0), ('protect', 7.0), ('protest', 2.0), ('protocol', 48.0), ('prototyp', 2.0), ('proud', 4.0), ('prove', 19.0), ('proven', 6.0), ('provid', 94.0), ('ps', 30.0), ('pseudo', 5.0), ('pseudocolor', 10.0), ('psize', 10.0), ('pspmf3gpsemicom', 2.0), ('psuvmpsuedu', 15.0), ('psv', 3.0), ('pt', 85.0), ('pub', 66.0), ('public', 43.0), ('publicli', 5.0), ('publish', 18.0), ('puck', 62.0), ('pucker', 3.0), ('pulford', 5.0), ('pull', 23.0), ('pulldown', 4.0), ('pumpkin', 3.0), ('punch', 5.0), ('purchas', 5.0), ('purdu', 6.0), ('pure', 10.0), ('purpos', 16.0), ('push', 15.0), ('put', 108.0), ('putimag', 2.0), ('pwd', 1.0), ('pwrop', 3.0), ('pyeatt', 12.0), ('pyramid', 3.0), ('quaker', 13.0), ('qualifi', 3.0), ('qualiti', 15.0), ('qualix', 3.0), ('quantifi', 3.0), ('quarter', 4.0), ('quarterdeck', 7.0), ('que', 29.0), ('quebec', 44.0), ('quebecmontr', 4.0), ('queloz', 10.0), ('queri', 9.0), ('question', 128.0), ('queue', 5.0), ('quick', 8.0), ('quickli', 10.0), ('quiet', 3.0), ('quietli', 2.0), ('quin', 5.0), ('quinn', 15.0), ('quit', 57.0), ('quot', 16.0), ('qwk', 3.0), ('r3', 9.0), ('r4', 40.0), ('r5', 64.0), ('r6', 4.0), ('race', 19.0), ('radio', 16.0), ('rag', 5.0), ('ragraca', 7.0), ('rai', 23.0), ('raider', 3.0), ('rain', 14.0), ('rainbowecnpurdueedu', 5.0), ('rainer', 31.0), ('rainout', 3.0), ('rais', 9.0), ('ralph', 19.0), ('ram', 5.0), ('rambl', 3.0), ('ramblerengsuncom', 5.0), ('ramsei', 4.0), ('ramseycslaurentianca', 55.0), ('ran', 5.0), ('rand', 5.0), ('randi', 26.0), ('randolin', 4.0), ('random', 9.0), ('ranford', 5.0), ('rang', 9.0), ('ranger', 108.0), ('ranheim', 4.0), ('rank', 8.0), ('ranlib', 2.0), ('rant', 4.0), ('rap115', 12.0), ('rapidli', 3.0), ('rare', 9.0), ('raster', 7.0), ('rate', 29.0), ('ratnam', 3.0), ('rauser', 8.0), ('rd', 5.0), ('reach', 8.0), ('reaction', 4.0), ('read', 114.0), ('reader', 9.0), ('readi', 10.0), ('readm', 7.0), ('readonli', 8.0), ('real', 54.0), ('realist', 4.0), ('realiti', 7.0), ('realiz', 24.0), ('realli', 143.0), ('realtim', 8.0), ('reap', 2.0), ('reason', 64.0), ('rebound', 11.0), ('recal', 16.0), ('recchi', 12.0), ('receiv', 55.0), ('recent', 33.0), ('reclaim', 2.0), ('recogn', 8.0), ('recognis', 5.0), ('recommend', 31.0), ('recompil', 6.0), ('record', 50.0), ('recov', 6.0), ('recsporthockei', 15.0), ('rectangl', 15.0), ('rectifi', 2.0), ('red', 64.0), ('redefin', 2.0), ('redirect', 8.0), ('redistribut', 5.0), ('redlin', 3.0), ('redraw', 14.0), ('redrawn', 1.0), ('reduc', 9.0), ('redw', 5.0), ('redwood', 4.0), ('ref', 13.0), ('refer', 31.0), ('refere', 13.0), ('referenc', 6.0), ('reflect', 3.0), ('refresh', 4.0), ('refus', 6.0), ('regard', 20.0), ('regardless', 2.0), ('region', 8.0), ('regist', 14.0), ('registri', 7.0), ('regress', 4.0), ('regular', 37.0), ('regularli', 7.0), ('regularseason', 5.0), ('reichel', 11.0), ('reilli', 32.0), ('reinvent', 1.0), ('reject', 2.0), ('rel', 11.0), ('relai', 3.0), ('relat', 19.0), ('relationship', 3.0), ('releas', 53.0), ('relev', 9.0), ('reli', 4.0), ('reluct', 3.0), ('remain', 17.0), ('remap', 7.0), ('remark', 35.0), ('rememb', 62.0), ('remind', 7.0), ('remot', 41.0), ('remov', 19.0), ('renam', 3.0), ('render', 18.0), ('renegad', 3.0), ('reno', 2.0), ('rent', 7.0), ('rep', 2.0), ('repeat', 10.0), ('replac', 27.0), ('replai', 12.0), ('repli', 40.0), ('repo', 3.0), ('report', 35.0), ('repost', 10.0), ('repres', 19.0), ('represent', 4.0), ('republ', 4.0), ('republican', 3.0), ('request', 74.0), ('requir', 81.0), ('research', 29.0), ('resembl', 6.0), ('resent', 3.0), ('reserv', 12.0), ('reset', 5.0), ('resid', 6.0), ('resign', 6.0), ('resiz', 11.0), ('resolut', 13.0), ('resolv', 4.0), ('resort', 3.0), ('resourc', 64.0), ('respect', 15.0), ('respond', 31.0), ('respons', 43.0), ('rest', 28.0), ('restart', 3.0), ('restor', 8.0), ('restrict', 6.0), ('result', 67.0), ('ret', 9.0), ('retain', 1.0), ('retir', 10.0), ('retriev', 7.0), ('return', 103.0), ('reveng', 6.0), ('revers', 4.0), ('review', 20.0), ('revis', 6.0), ('reward', 3.0), ('rewrit', 4.0), ('rewritten', 3.0), ('rex', 11.0), ('rgasch', 6.0), ('rgooch', 5.0), ('rheaum', 5.0), ('ricci', 3.0), ('rich', 10.0), ('richard', 47.0), ('richardson', 16.0), ('richer', 3.0), ('rick', 39.0), ('rid', 8.0), ('ride', 4.0), ('ridicul', 9.0), ('riendeau', 3.0), ('riga', 3.0), ('right', 122.0), ('riihijarvi', 4.0), ('rinaco', 3.0), ('rindex', 2.0), ('ring', 12.0), ('rink', 11.0), ('risebrough', 4.0), ('rivalri', 3.0), ('rl', 4.0), ('rlogin', 9.0), ('rm', 30.0), ('road', 13.0), ('roadrunn', 4.0), ('roam', 5.0), ('rob', 24.0), ('robb', 4.0), ('robbi', 16.0), ('robert', 52.0), ('robertson', 3.0), ('robitail', 19.0), ('robyn', 3.0), ('rochest', 17.0), ('rock', 10.0), ('rocker', 3.0), ('rocket', 6.0), ('rocki', 3.0), ('rod', 7.0), ('roenick', 15.0), ('rog', 5.0), ('roger', 92.0), ('roi', 16.0), ('role', 8.0), ('roll', 7.0), ('rom', 2.0), ('roman', 9.0), ('romulusmathjyufi', 4.0), ('ron', 65.0), ('ronald', 8.0), ('ronni', 2.0), ('rooki', 13.0), ('room', 11.0), ('root', 35.0), ('rootwindow', 8.0), ('rose', 2.0), ('rosecom', 4.0), ('rosevcrosehulmanedu', 3.0), ('rospach', 6.0), ('ross', 7.0), ('roster', 9.0), ('rotat', 18.0), ('rotten', 4.0), ('rough', 20.0), ('roughli', 5.0), ('round', 55.0), ('rout', 11.0), ('routin', 22.0), ('row', 14.0), ('royal', 2.0), ('rp', 4.0), ('rp16', 4.0), ('rpc', 8.0), ('rpcsiroau', 4.0), ('rpiedu', 8.0), ('rs', 17.0), ('rsh', 24.0), ('rub', 2.0), ('rubberband', 4.0), ('ruin', 4.0), ('rule', 50.0), ('rumor', 13.0), ('rumour', 5.0), ('run', 294.0), ('runtim', 10.0), ('rush', 9.0), ('russia', 5.0), ('russian', 15.0), ('rutger', 5.0), ('rutgersrochesterferguson', 3.0), ('ruuttu', 4.0), ('rw', 7.0), ('ryan', 7.0), ('rychel', 10.0), ('sa', 5.0), ('saad', 5.0), ('sabr', 54.0), ('sad', 12.0), ('safe', 6.0), ('sai', 66.0), ('saint', 16.0), ('sakari', 2.0), ('sake', 4.0), ('sakic', 3.0), ('salami', 5.0), ('salari', 3.0), ('sale', 24.0), ('salmon', 6.0), ('salvator', 6.0), ('sam', 15.0), ('sambaoituncedu', 3.0), ('sampl', 19.0), ('samuel', 4.0), ('samuelson', 8.0), ('samuelsson', 5.0), ('san', 69.0), ('sander', 4.0), ('sanderson', 22.0), ('sandi', 3.0), ('sandstrom', 16.0), ('santa', 15.0), ('sarcasm', 5.0), ('saskatchewan', 3.0), ('sat', 2.0), ('satan', 4.0), ('satellit', 2.0), ('sather', 4.0), ('satisfi', 3.0), ('saturdai', 7.0), ('savard', 19.0), ('save', 77.0), ('saw', 21.0), ('sc', 9.0), ('sca', 9.0), ('scalabl', 7.0), ('scale', 17.0), ('scan', 5.0), ('schedul', 34.0), ('scheme', 14.0), ('schietk', 8.0), ('schneider', 2.0), ('schock', 4.0), ('school', 21.0), ('schot', 3.0), ('scienc', 44.0), ('scientif', 4.0), ('sco', 36.0), ('scoop', 2.0), ('score', 167.0), ('scorer', 59.0), ('scott', 43.0), ('scotti', 3.0), ('scr', 14.0), ('scratch', 6.0), ('screen', 127.0), ('screw', 11.0), ('script', 18.0), ('scroll', 1.0), ('scrollbar', 4.0), ('sd', 4.0), ('se05wg2waiicom', 7.0), ('seal', 3.0), ('seamen', 3.0), ('sean', 3.0), ('search', 8.0), ('season', 137.0), ('seat', 13.0), ('seattl', 5.0), ('sec', 2.0), ('second', 128.0), ('secondli', 3.0), ('section', 46.0), ('secur', 8.0), ('sed', 2.0), ('sedonaintelcom', 4.0), ('see', 213.0), ('seemingli', 3.0), ('seen', 54.0), ('segment', 12.0), ('seguin', 3.0), ('seicmuedu', 12.0), ('sel', 12.0), ('selann', 53.0), ('select', 33.0), ('self', 8.0), ('selfish', 3.0), ('selk', 11.0), ('sell', 25.0), ('sellout', 2.0), ('semak', 3.0), ('semant', 3.0), ('semi', 4.0), ('semiconductor', 6.0), ('semifin', 10.0), ('senat', 20.0), ('send', 128.0), ('senior', 6.0), ('sens', 5.0), ('senseless', 3.0), ('sent', 22.0), ('separ', 11.0), ('seppo', 3.0), ('septemb', 4.0), ('sequenc', 24.0), ('serg', 4.0), ('sergei', 5.0), ('seri', 98.0), ('serial', 23.0), ('seriou', 6.0), ('serious', 12.0), ('serv', 11.0), ('server', 296.0), ('servic', 35.0), ('session', 31.0), ('set', 201.0), ('setenv', 6.0), ('seth', 9.0), ('settl', 17.0), ('setup', 25.0), ('seven', 10.0), ('sfuca', 6.0), ('sfwa', 2.0), ('sg', 5.0), ('sgi', 17.0), ('sgicom', 3.0), ('sh', 31.0), ('shade', 10.0), ('shadow', 8.0), ('shall', 2.0), ('shame', 4.0), ('shanahan', 15.0), ('shannon', 5.0), ('shape', 23.0), ('share', 52.0), ('sharewar', 7.0), ('shark', 47.0), ('sharksrequest', 2.0), ('sharp', 3.0), ('shawn', 4.0), ('shear', 3.0), ('sheffield', 4.0), ('sheffieldhallamacuk', 3.0), ('shell', 42.0), ('shellscript', 2.0), ('shelltool', 3.0), ('sheppard', 5.0), ('shift', 28.0), ('shine', 5.0), ('ship', 22.0), ('shit', 14.0), ('shjon', 2.0), ('shneyder', 11.0), ('shoot', 20.0), ('shooter', 1.0), ('shop', 2.0), ('short', 15.0), ('shortcut', 2.0), ('shorthand', 8.0), ('shot', 129.0), ('shoulder', 5.0), ('shovel', 3.0), ('show', 185.0), ('shown', 20.0), ('shut', 7.0), ('shutdown', 2.0), ('shutout', 8.0), ('si', 4.0), ('sic', 7.0), ('sick', 7.0), ('side', 36.0), ('siemen', 4.0), ('sig', 4.0), ('sigh', 4.0), ('sight', 3.0), ('sigmakpccom', 7.0), ('sign', 21.0), ('signal', 11.0), ('signific', 14.0), ('significantli', 2.0), ('silent', 1.0), ('silli', 5.0), ('silver', 4.0), ('similar', 34.0), ('similarli', 3.0), ('simmonac', 3.0), ('simon', 4.0), ('simpl', 40.0), ('simpler', 3.0), ('simpli', 32.0), ('simplifi', 2.0), ('simul', 7.0), ('simulog', 2.0), ('simultan', 6.0), ('sincerest', 3.0), ('singl', 34.0), ('sisko', 3.0), ('sit', 7.0), ('site', 41.0), ('sittler', 7.0), ('situat', 19.0), ('six', 17.0), ('size', 79.0), ('sizeof', 6.0), ('sj', 20.0), ('skate', 41.0), ('skateless', 3.0), ('skater', 5.0), ('skidmoreedu', 2.0), ('skill', 23.0), ('skin', 6.0), ('skip', 14.0), ('skipjack', 4.0), ('skriko', 3.0), ('skrudland', 12.0), ('slap', 6.0), ('slash', 13.0), ('slateminescoloradoedu', 3.0), ('sleep', 12.0), ('slide', 7.0), ('slightli', 2.0), ('slime', 3.0), ('slip', 9.0), ('slot', 14.0), ('slovakia', 3.0), ('slow', 14.0), ('slower', 11.0), ('slump', 4.0), ('smale', 10.0), ('small', 21.0), ('smaller', 5.0), ('smart', 7.0), ('smarter', 2.0), ('smash', 3.0), ('smeghead', 3.0), ('smehlik', 6.0), ('smilei', 4.0), ('smith', 39.0), ('smithw', 4.0), ('smorri', 4.0), ('smsbusinessuwoca', 10.0), ('smtp', 4.0), ('smyth', 34.0), ('snail', 5.0), ('snakemailhutfi', 4.0), ('snell', 3.0), ('snyder', 2.0), ('socal', 3.0), ('sock', 3.0), ('socket', 15.0), ('sod', 3.0), ('soderstrom', 3.0), ('soft', 5.0), ('softwar', 171.0), ('solari', 23.0), ('solbourn', 6.0), ('solctrcolumbiaedu', 4.0), ('sold', 9.0), ('soldier', 3.0), ('solid', 11.0), ('solut', 31.0), ('soluvicca', 7.0), ('solv', 9.0), ('somebodi', 22.0), ('somehow', 14.0), ('someon', 84.0), ('someth', 104.0), ('sometim', 13.0), ('somewhat', 6.0), ('somewher', 13.0), ('son', 5.0), ('soon', 28.0), ('sooner', 2.0), ('sooooo', 3.0), ('sophiainriafr', 3.0), ('sophist', 4.0), ('sorri', 28.0), ('sort', 22.0), ('soul', 6.0), ('sound', 23.0), ('sourc', 126.0), ('south', 14.0), ('southern', 5.0), ('souvien', 6.0), ('sp', 9.0), ('space', 67.0), ('spangcamosunbcca', 3.0), ('sparc', 53.0), ('sparc1ottawajadecom', 3.0), ('sparcstat', 11.0), ('spawn', 5.0), ('speak', 19.0), ('spear', 2.0), ('spec', 8.0), ('special', 31.0), ('specif', 44.0), ('specifi', 38.0), ('spectacular', 3.0), ('spectat', 5.0), ('speed', 16.0), ('speedup', 2.0), ('spell', 3.0), ('spend', 10.0), ('spent', 10.0), ('spew', 2.0), ('spike', 4.0), ('spinal', 3.0), ('spirit', 7.0), ('split', 7.0), ('spoil', 3.0), ('sponsor', 11.0), ('spool', 3.0), ('sport', 46.0), ('sportscast', 4.0), ('sportscent', 1.0), ('sportschannel', 10.0), ('spot', 9.0), ('spread', 2.0), ('spreadsheet', 5.0), ('spring', 3.0), ('springfield', 9.0), ('sprintf', 4.0), ('spud', 3.0), ('sqcom', 6.0), ('sqsqcom', 2.0), ('squar', 2.0), ('squat', 2.0), ('squeez', 6.0), ('sr', 10.0), ('src', 6.0), ('ssdkodakcom', 3.0), ('st', 69.0), ('stabl', 3.0), ('stack', 9.0), ('stadium', 5.0), ('staff', 3.0), ('staffan', 16.0), ('stage', 3.0), ('stai', 28.0), ('stamber', 15.0), ('stan', 10.0), ('stand', 46.0), ('standard', 84.0), ('standarddisclaim', 3.0), ('stane', 3.0), ('stanford', 3.0), ('stanlei', 58.0), ('star', 53.0), ('starbasespdlouisvilleedu', 3.0), ('start', 143.0), ('startidectrcolumbiaedu', 3.0), ('startup', 18.0), ('stat', 68.0), ('state', 64.0), ('statement', 12.0), ('stath', 3.0), ('stati', 1.0), ('static', 34.0), ('staticcolor', 4.0), ('station', 18.0), ('statist', 10.0), ('statu', 15.0), ('stderr', 33.0), ('stdin', 21.0), ('stdioh', 4.0), ('stdout', 8.0), ('steadi', 5.0), ('steal', 2.0), ('steel', 5.0), ('steen', 5.0), ('stefan', 4.0), ('stein', 9.0), ('step', 9.0), ('stephan', 4.0), ('stephen', 12.0), ('stern', 6.0), ('steve', 55.0), ('steveg', 8.0), ('steven', 38.0), ('stevenkipl', 4.0), ('stewart', 5.0), ('stick', 40.0), ('sticknot', 2.0), ('stiehm', 13.0), ('stimpi', 6.0), ('stink', 2.0), ('stl', 33.0), ('stloui', 5.0), ('stockholm', 13.0), ('stop', 4.0), ('storag', 12.0), ('store', 23.0), ('stori', 8.0), ('storm', 6.0), ('stormchas', 3.0), ('stplistsca', 17.0), ('straight', 20.0), ('strang', 7.0), ('strategi', 12.0), ('streak', 6.0), ('stream', 61.0), ('street', 12.0), ('stress', 3.0), ('strictli', 2.0), ('stride', 3.0), ('strike', 3.0), ('string', 67.0), ('strip', 9.0), ('stripe', 6.0), ('strlen', 5.0), ('stroke', 3.0), ('strong', 16.0), ('stronger', 5.0), ('strongli', 3.0), ('struct', 6.0), ('structur', 14.0), ('structurenotifymask', 2.0), ('struggl', 3.0), ('stryker', 3.0), ('stty', 4.0), ('stuart', 8.0), ('stuck', 13.0), ('student', 11.0), ('studentbusinessuwoca', 4.0), ('studi', 10.0), ('studio', 4.0), ('stuff', 52.0), ('stupid', 28.0), ('stuppid', 3.0), ('style', 28.0), ('subclass', 4.0), ('subdir', 6.0), ('subject', 959.0), ('submiss', 4.0), ('submit', 10.0), ('subroutin', 3.0), ('subscrib', 28.0), ('subscript', 5.0), ('subset', 3.0), ('success', 13.0), ('successfulli', 4.0), ('suck', 16.0), ('sudden', 3.0), ('suddenli', 6.0), ('suffer', 10.0), ('suffici', 12.0), ('suggest', 55.0), ('suhonen', 9.0), ('suit', 23.0), ('suitabl', 3.0), ('suke', 3.0), ('sullivan', 8.0), ('sum', 3.0), ('summar', 6.0), ('summari', 27.0), ('summer', 4.0), ('sun', 181.0), ('sun3', 16.0), ('sun3eeamelincoat', 7.0), ('sun4', 5.0), ('sunbimb', 4.0), ('suncom', 6.0), ('sundai', 19.0), ('sundin', 3.0), ('sundog', 3.0), ('sunnyval', 6.0), ('suno', 39.0), ('sunsoft', 6.0), ('sunview', 23.0), ('superior', 7.0), ('superiorcarletonca', 4.0), ('superstar', 7.0), ('supplement', 7.0), ('suppli', 16.0), ('support', 234.0), ('suppos', 23.0), ('supposedli', 3.0), ('sure', 114.0), ('suresh', 7.0), ('surpris', 29.0), ('surround', 2.0), ('survei', 3.0), ('surviv', 4.0), ('susan', 9.0), ('suspect', 4.0), ('suspens', 4.0), ('sussex', 3.0), ('suter', 15.0), ('sutherland', 4.0), ('sutter', 16.0), ('sv', 6.0), ('svga', 9.0), ('svr4', 8.0), ('swap', 3.0), ('swartzjh', 3.0), ('swe', 4.0), ('swear', 4.0), ('swede', 4.0), ('sweden', 20.0), ('swedish', 7.0), ('sweenei', 9.0), ('sweep', 14.0), ('sweet', 3.0), ('swick', 6.0), ('swillbelli', 3.0), ('switch', 30.0), ('switzerland', 8.0), ('sy', 25.0), ('sydnei', 5.0), ('symasussexacuk', 6.0), ('symbol', 27.0), ('symlink', 3.0), ('synopticscom', 9.0), ('syntax', 3.0), ('synthet', 3.0), ('sysadministr', 4.0), ('system', 292.0), ('sysv', 5.0), ('sysvr4', 2.0), ('ta', 7.0), ('tab', 5.0), ('tabaracci', 4.0), ('tabl', 29.0), ('tactic', 2.0), ('tag', 3.0), ('take', 133.0), ('taken', 13.0), ('taker', 3.0), ('talant', 3.0), ('talent', 36.0), ('talk', 52.0), ('talon', 3.0), ('tampa', 21.0), ('tamper', 3.0), ('tap', 6.0), ('tape', 33.0), ('tapedelai', 6.0), ('tapio', 3.0), ('tappara', 4.0), ('tar', 4.0), ('target', 13.0), ('tarkiainen', 4.0), ('tarz', 3.0), ('task', 8.0), ('tast', 2.0), ('taught', 3.0), ('tauruscsnpsnavymil', 4.0), ('tax', 3.0), ('taylor', 16.0), ('tayloruucp', 12.0), ('tb', 26.0), ('tba', 5.0), ('tbd', 2.0), ('tbl', 7.0), ('tcl', 7.0), ('tcp', 104.0), ('td', 3.0), ('teach', 2.0), ('tealcsnorg', 6.0), ('tealengsuncom', 3.0), ('team', 470.0), ('tear', 6.0), ('tech', 7.0), ('technic', 50.0), ('technolog', 34.0), ('ted', 9.0), ('tee', 6.0), ('teem', 3.0), ('teemu', 7.0), ('teh', 3.0), ('tek', 4.0), ('tekeleccom', 4.0), ('tektronix', 9.0), ('tel', 59.0), ('telecast', 15.0), ('telecom', 10.0), ('telefax', 5.0), ('telephon', 9.0), ('telesoftcom', 5.0), ('teleus', 6.0), ('televis', 16.0), ('telex', 3.0), ('tell', 88.0), ('telnet', 16.0), ('temp', 2.0), ('templat', 3.0), ('temporari', 3.0), ('temporarili', 5.0), ('tend', 9.0), ('tent', 2.0), ('teppo', 2.0), ('term', 42.0), ('termcap', 2.0), ('termin', 88.0), ('terminolog', 2.0), ('terri', 4.0), ('terribl', 9.0), ('test', 40.0), ('tex', 3.0), ('texa', 11.0), ('texacocom', 7.0), ('text', 85.0), ('tgif', 4.0), ('tgv', 8.0), ('tgvcom', 13.0), ('th', 4.0), ('thank', 212.0), ('thanx', 12.0), ('thelik', 2.0), ('theori', 6.0), ('thin', 4.0), ('thing', 138.0), ('think', 286.0), ('third', 67.0), ('thoma', 29.0), ('thorn', 8.0), ('thought', 54.0), ('thread', 11.0), ('threat', 3.0), ('three', 53.0), ('threw', 5.0), ('thrill', 3.0), ('throw', 18.0), ('thrown', 9.0), ('thu', 6.0), ('thumb', 12.0), ('thunder', 5.0), ('thundermcrcimmcgilledu', 5.0), ('thursdai', 22.0), ('ti', 28.0), ('tichonov', 7.0), ('ticket', 14.0), ('tickl', 4.0), ('tie', 41.0), ('tiebreak', 6.0), ('tiff', 5.0), ('tiger', 7.0), ('tight', 4.0), ('tikkanen', 2.0), ('tikkannen', 5.0), ('til', 3.0), ('till', 4.0), ('tim', 23.0), ('time', 318.0), ('timeout', 7.0), ('timer', 6.0), ('timo', 6.0), ('timothi', 3.0), ('tini', 3.0), ('tip', 7.0), ('tippett', 6.0), ('titl', 62.0), ('tk', 5.0), ('tkachuk', 7.0), ('tm', 20.0), ('tmp', 1.0), ('tn', 5.0), ('tnt', 5.0), ('tobia', 5.0), ('tocchet', 22.0), ('todai', 27.0), ('todd', 6.0), ('toe', 3.0), ('toi', 3.0), ('told', 14.0), ('tom', 61.0), ('tommi', 18.0), ('tomorrow', 2.0), ('ton', 2.0), ('tonelli', 6.0), ('tonight', 23.0), ('tonit', 3.0), ('took', 42.0), ('tool', 68.0), ('toolkit', 83.0), ('tooltalk', 5.0), ('top', 72.0), ('topic', 25.0), ('toplevel', 29.0), ('tor', 43.0), ('toronto', 73.0), ('total', 35.0), ('touch', 6.0), ('tough', 23.0), ('tougher', 6.0), ('toughest', 2.0), ('tournament', 11.0), ('town', 9.0), ('tp', 9.0), ('tr', 5.0), ('trace', 6.0), ('track', 10.0), ('trade', 75.0), ('tradit', 6.0), ('traffic', 6.0), ('trail', 6.0), ('train', 15.0), ('transfer', 12.0), ('transform', 8.0), ('transit', 3.0), ('translat', 25.0), ('transpar', 12.0), ('transplant', 3.0), ('transport', 8.0), ('trash', 5.0), ('travel', 3.0), ('treat', 3.0), ('tree', 7.0), ('trehguad', 3.0), ('trend', 3.0), ('trevor', 7.0), ('tri', 49.0), ('triangl', 3.0), ('trick', 9.0), ('trickster', 3.0), ('trident', 5.0), ('trip', 13.0), ('trivia', 11.0), ('troff', 2.0), ('troi', 5.0), ('trophi', 13.0), ('trottier', 7.0), ('troubl', 19.0), ('truck', 3.0), ('true', 64.0), ('truecolor', 14.0), ('truli', 12.0), ('trumpet', 3.0), ('trust', 6.0), ('truth', 3.0), ('try', 128.0), ('ts', 10.0), ('tsn', 7.0), ('tty', 11.0), ('tue', 5.0), ('tuesdai', 16.0), ('tuft', 3.0), ('tune', 3.0), ('turcott', 5.0), ('turgeon', 15.0), ('turkei', 3.0), ('turku', 4.0), ('turn', 31.0), ('turner', 18.0), ('turtl', 6.0), ('tutori', 33.0), ('tv', 24.0), ('tvartiai', 5.0), ('tvtwm', 28.0), ('tvtwmrc', 3.0), ('tweak', 3.0), ('twice', 8.0), ('twm', 33.0), ('twmrc', 3.0), ('two', 173.0), ('twowai', 8.0), ('tx', 9.0), ('ty', 2.0), ('type', 78.0), ('typesh', 3.0), ('typic', 22.0), ('u013mevpcom', 5.0), ('ua256', 4.0), ('ub', 3.0), ('ubvmsccbuffaloedu', 10.0), ('ubvmsdccbuffaloedu', 4.0), ('ucb', 1.0), ('ucbvaxuwvaxastroatcftmsbrown', 3.0), ('ufsaericssons', 9.0), ('ugli', 6.0), ('ui', 9.0), ('uil', 4.0), ('uim', 6.0), ('uit', 4.0), ('uiucedu', 3.0), ('uk', 24.0), ('ulf', 35.0), ('ulfi', 1.0), ('ultim', 6.0), ('ultrix', 14.0), ('um', 3.0), ('umain', 2.0), ('umpir', 3.0), ('umturne4', 10.0), ('unabl', 11.0), ('unassist', 17.0), ('unbca', 3.0), ('unbeliev', 3.0), ('unchang', 3.0), ('uncompress', 2.0), ('undef', 3.0), ('undefin', 25.0), ('underachiev', 6.0), ('undergradmathuwaterlooca', 5.0), ('underli', 4.0), ('underneath', 3.0), ('understand', 24.0), ('undoubtedli', 1.0), ('unfortun', 22.0), ('uniform', 4.0), ('uniqu', 3.0), ('unit', 17.0), ('unitasorunibonnd', 2.0), ('univ', 9.0), ('univers', 99.0), ('unix', 89.0), ('unknown', 7.0), ('unnecessari', 4.0), ('unnecessarili', 5.0), ('unoffici', 3.0), ('unpack', 3.0), ('unsign', 7.0), ('unsportsmanlik', 3.0), ('unsubscrib', 4.0), ('unsur', 3.0), ('unusu', 3.0), ('unwil', 3.0), ('upcom', 7.0), ('updat', 47.0), ('upgrad', 8.0), ('upper', 5.0), ('upset', 7.0), ('uptod', 3.0), ('us', 79.0), ('usa', 45.0), ('usag', 14.0), ('useless', 5.0), ('usenet', 28.0), ('user', 175.0), ('usernam', 2.0), ('usposit', 5.0), ('usr', 50.0), ('ussiz', 4.0), ('usual', 36.0), ('utica', 6.0), ('util', 29.0), ('utilo', 4.0), ('utter', 3.0), ('uu2psicomftmsbrown', 3.0), ('uucp', 20.0), ('uudecod', 2.0), ('uunet', 12.0), ('uunetuunet', 15.0), ('uw', 3.0), ('ux', 4.0), ('uxacsouiucedu', 3.0), ('v085pwpz', 7.0), ('v212', 3.0), ('v3', 2.0), ('va', 6.0), ('vacat', 4.0), ('vaiv', 4.0), ('val', 11.0), ('valeri', 24.0), ('valid', 13.0), ('vallei', 3.0), ('valu', 65.0), ('valuabl', 10.0), ('van', 56.0), ('vanbiesbrouck', 6.0), ('vancouv', 62.0), ('vancouveruvicca', 3.0), ('vanilla', 4.0), ('var', 3.0), ('vari', 7.0), ('variabl', 35.0), ('variant', 3.0), ('variat', 2.0), ('varieti', 15.0), ('variou', 25.0), ('vartiainen', 5.0), ('varvio', 3.0), ('vasili', 6.0), ('vax', 3.0), ('vaxcnsmuskingumedu', 6.0), ('vccsouth22itsrpiedu', 3.0), ('vegetarian', 3.0), ('vein', 3.0), ('velaacsoaklandedu', 13.0), ('vendor', 60.0), ('venuslercnasagov', 4.0), ('verbeek', 7.0), ('vergolin', 5.0), ('vergolini', 5.0), ('verifi', 9.0), ('vernon', 17.0), ('version', 196.0), ('versu', 6.0), ('veteran', 3.0), ('vezina', 4.0), ('vga', 26.0), ('vi', 5.0), ('viciou', 4.0), ('victim', 2.0), ('victor', 2.0), ('victori', 18.0), ('victoria', 3.0), ('video', 17.0), ('vidiot', 5.0), ('view', 35.0), ('viewer', 13.0), ('vincent', 10.0), ('violenc', 5.0), ('violent', 3.0), ('vipunenhutfi', 8.0), ('virden', 4.0), ('virginia', 3.0), ('virginiaedu', 6.0), ('virtual', 40.0), ('visibl', 9.0), ('vision', 3.0), ('visit', 2.0), ('vista', 4.0), ('visual', 50.0), ('visualcom', 6.0), ('vital', 4.0), ('vlad', 5.0), ('vladimir', 6.0), ('vm', 15.0), ('vm1mcgillca', 2.0), ('vmshujiacil', 5.0), ('voic', 25.0), ('void', 21.0), ('vol', 13.0), ('volum', 31.0), ('vomit', 3.0), ('von', 7.0), ('vote', 32.0), ('votenooct26', 3.0), ('vox', 4.0), ('voyageur', 3.0), ('vp', 5.0), ('vpbuildvpcom', 4.0), ('vs', 92.0), ('vsnhl', 3.0), ('vt100', 5.0), ('vtwm', 6.0), ('vue', 5.0), ('vuewm', 6.0), ('vzhivov', 6.0), ('wa', 5.0), ('wabcam', 3.0), ('waffl', 3.0), ('wai', 190.0), ('wait', 46.0), ('wake', 10.0), ('wale', 8.0), ('walk', 2.0), ('walker', 5.0), ('wall', 3.0), ('wallet', 2.0), ('walsh', 3.0), ('walter', 5.0), ('wamslei', 5.0), ('wang', 3.0), ('wangr', 6.0), ('want', 207.0), ('ward', 4.0), ('ware', 5.0), ('wariatorg', 4.0), ('warn', 39.0), ('warranti', 3.0), ('warren', 6.0), ('wash', 16.0), ('washer', 5.0), ('washington', 33.0), ('wast', 14.0), ('watch', 90.0), ('waterloo', 5.0), ('watserv1uwaterlooca', 3.0), ('wave', 7.0), ('wavefrontwticom', 5.0), ('wayn', 16.0), ('wc', 34.0), ('wcl', 10.0), ('weak', 7.0), ('wear', 9.0), ('weather', 2.0), ('wed', 4.0), ('wednesdai', 7.0), ('week', 65.0), ('weekend', 6.0), ('weigh', 3.0), ('weight', 12.0), ('weinrich', 8.0), ('weird', 6.0), ('welcom', 24.0), ('wellsi', 3.0), ('wemblei', 3.0), ('wendel', 6.0), ('went', 51.0), ('weslei', 3.0), ('wessel', 4.0), ('west', 18.0), ('western', 25.0), ('wg2waiicom', 3.0), ('wgep', 5.0), ('whack', 2.0), ('whalei', 15.0), ('whaler', 22.0), ('wheel', 1.0), ('whichev', 3.0), ('white', 32.0), ('whitepixel', 5.0), ('wholesal', 3.0), ('wide', 13.0), ('widefield', 3.0), ('widget', 262.0), ('width', 20.0), ('wien', 5.0), ('wiextrelcom', 3.0), ('wild', 4.0), ('wilkinson', 6.0), ('will', 10.0), ('willi', 14.0), ('william', 12.0), ('wilson', 12.0), ('wimp', 3.0), ('win', 243.0), ('wind', 4.0), ('window', 720.0), ('wing', 114.0), ('winger', 7.0), ('wingschevelda', 3.0), ('winner', 28.0), ('winnipeg', 56.0), ('winopen', 5.0), ('winsock', 4.0), ('winter', 7.0), ('wise', 4.0), ('wish', 15.0), ('wittysai', 3.0), ('wkuvx1bitnet', 10.0), ('wm', 13.0), ('wollongong', 10.0), ('wolv', 6.0), ('wombat', 3.0), ('women', 6.0), ('wonder', 42.0), ('wong', 10.0), ('wont', 3.0), ('wood', 22.0), ('woof', 7.0), ('woofer', 4.0), ('woosbag', 3.0), ('word', 49.0), ('wordprocessor', 5.0), ('worf', 3.0), ('work', 232.0), ('workaround', 4.0), ('workspac', 4.0), ('workstat', 22.0), ('world', 52.0), ('worldstdcom', 4.0), ('worldwid', 2.0), ('wormtown', 3.0), ('worri', 14.0), ('wors', 11.0), ('worst', 16.0), ('worth', 20.0), ('worthless', 8.0), ('wow', 8.0), ('wpg', 10.0), ('wpiwpiedu', 4.0), ('wrap', 7.0), ('wrist', 4.0), ('write', 483.0), ('writer', 6.0), ('written', 36.0), ('wrong', 58.0), ('wrote', 41.0), ('wrt', 1.0), ('wsh', 16.0), ('wueclwustledu', 4.0), ('ww1a', 5.0), ('x1', 6.0), ('x11', 121.0), ('x111', 2.0), ('x11r3', 6.0), ('x11r4', 67.0), ('x11r4base', 2.0), ('x11r5', 120.0), ('x11r5sos5', 5.0), ('x2', 6.0), ('x3', 2.0), ('x400', 4.0), ('xall', 1.0), ('xalloccolor', 5.0), ('xand', 1.0), ('xarchi', 5.0), ('xauthor', 4.0), ('xaw', 17.0), ('xbase', 25.0), ('xbiff', 2.0), ('xbm', 4.0), ('xcleararea', 7.0), ('xcopyarea', 8.0), ('xcopyplan', 8.0), ('xcopyright', 1.0), ('xcreatecolormap', 4.0), ('xcreategc', 8.0), ('xcreatesimplewindow', 5.0), ('xcreatewindow', 7.0), ('xdefault', 20.0), ('xdm', 38.0), ('xdmcp', 11.0), ('xdpyinfo', 3.0), ('xdrawlin', 8.0), ('xdvi', 1.0), ('xenonstanfordedu', 10.0), ('xenophob', 3.0), ('xevent', 7.0), ('xfaq', 3.0), ('xfig', 4.0), ('xfillrectangl', 4.0), ('xflush', 4.0), ('xfree86', 10.0), ('xgetimag', 7.0), ('xgrabkei', 5.0), ('xhibit', 22.0), ('xhost', 4.0), ('ximag', 12.0), ('xinclud', 5.0), ('xinitrc', 6.0), ('xkernel', 11.0), ('xlib', 92.0), ('xlibh', 3.0), ('xlookupstr', 5.0), ('xm', 15.0), ('xmail', 3.0), ('xmapwindow', 3.0), ('xmdrawingarea', 12.0), ('xmh', 9.0), ('xmndialogstyl', 3.0), ('xmodmap', 12.0), ('xmu', 17.0), ('xnew', 4.0), ('xnextev', 4.0), ('xol', 6.0), ('xon', 2.0), ('xopendisplai', 10.0), ('xopenwindow', 3.0), ('xor', 3.0), ('xpert', 9.0), ('xpm', 8.0), ('xputimag', 22.0), ('xrdb', 11.0), ('xremot', 17.0), ('xresourc', 2.0), ('xserver', 24.0), ('xserversnonunixtxtz', 3.0), ('xsession', 10.0), ('xsetforeground', 5.0), ('xsetfunct', 4.0), ('xsetroot', 9.0), ('xsetwindowattribut', 3.0), ('xsetwmnormalhint', 3.0), ('xsizehint', 23.0), ('xstorecolor', 5.0), ('xstuff', 14.0), ('xsun', 28.0), ('xsync', 2.0), ('xt', 74.0), ('xtaddcallback', 7.0), ('xtaddeventhandl', 8.0), ('xtappaddtimeout', 4.0), ('xtappcontext', 9.0), ('xtappiniti', 6.0), ('xtappmainloop', 4.0), ('xtbase', 8.0), ('xtc', 3.0), ('xtcreatemanagedwidget', 5.0), ('xtdestroywidget', 11.0), ('xtdispatchev', 3.0), ('xtdisplai', 16.0), ('xterm', 113.0), ('xtermin', 33.0), ('xtermvt100transl', 2.0), ('xtgetvalu', 3.0), ('xthe', 1.0), ('xtpointer', 11.0), ('xtra', 3.0), ('xtrealizewidget', 6.0), ('xtsetarg', 21.0), ('xtvacreatemanagedwidget', 7.0), ('xtvasetvalu', 3.0), ('xtwindow', 14.0), ('xtwindowofobject', 2.0), ('xusag', 1.0), ('xutilh', 3.0), ('xv', 50.0), ('xv300tarz', 3.0), ('xvertext', 8.0), ('xview', 93.0), ('xview3', 8.0), ('xvision', 8.0), ('xvisualinfo', 4.0), ('xvt', 7.0), ('xw', 5.0), ('xwd', 14.0), ('xwindow', 35.0), ('xwith', 1.0), ('xwud', 6.0), ('xx', 2.0), ('xy', 5.0), ('y1', 5.0), ('y2', 8.0), ('ya', 9.0), ('yadal', 3.0), ('yadalle', 7.0), ('yan', 3.0), ('yang', 6.0), ('yanke', 6.0), ('yawnei', 11.0), ('yeah', 18.0), ('year', 300.0), ('yell', 3.0), ('yellow', 4.0), ('yep', 4.0), ('yesterdai', 9.0), ('yield', 2.0), ('yl', 2.0), ('york', 26.0), ('young', 32.0), ('youngbuc', 3.0), ('younger', 6.0), ('ysebaert', 8.0), ('yzerman', 23.0), ('zachman', 3.0), ('zalapski', 4.0), ('zamun', 5.0), ('zcode', 3.0), ('zcodecom', 3.0), ('zelepukin', 9.0), ('zero', 9.0), ('zeta', 3.0), ('zezel', 3.0), ('zhamnov', 11.0), ('zhitnik', 7.0), ('zhivov', 6.0), ('zipper', 3.0), ('zombo', 9.0), ('zone', 25.0), ('zoom', 8.0), ('zubov', 9.0), ('zupanc', 3.0)]\n"
     ]
    }
   ],
   "source": [
    "dictTF = {}\n",
    "for i in range(len(termFreqs)):\n",
    "    dictTF[terms[i]] = termFreqs[i]\n",
    "print(sorted(dictTF.items()))\n",
    "sorteddictTF = sorted(dictTF.values(), reverse=True)"
   ]
  },
  {
   "cell_type": "code",
   "execution_count": 27,
   "metadata": {
    "collapsed": false
   },
   "outputs": [
    {
     "data": {
      "image/png": "[encoded data removed]",
      "text/plain": [
       "<matplotlib.figure.Figure at 0x10f7e1470>"
      ]
     },
     "metadata": {},
     "output_type": "display_data"
    }
   ],
   "source": [
    "plt.plot(sorteddictTF)\n",
    "plt.show()"
   ]
  },
  {
   "cell_type": "markdown",
   "metadata": {},
   "source": [
    "## a) Create your own KNN classifier. Your classifier should allow as input the training data matrix, the training labels, the instance to be classified, the value of K, and should return the predicted class for the instance and the top K neighbors. Your classifier should work with Euclidean distance as well as Cosine Similarity (see class examples). You may create two separate classifiers, or add this capability as a parameter for the classifier function."
   ]
  },
  {
   "cell_type": "code",
   "execution_count": 28,
   "metadata": {
    "collapsed": false
   },
   "outputs": [
    {
     "data": {
      "text/plain": [
       "(800, 5500)"
      ]
     },
     "execution_count": 28,
     "metadata": {},
     "output_type": "execute_result"
    }
   ],
   "source": [
    "DT_train = np.array(DT_train)\n",
    "DT_test = np.array(DT_test)\n",
    "train_labels = np.array(train_class)\n",
    "test_labels = np.array(test_class)\n",
    "DT_train.shape"
   ]
  },
  {
   "cell_type": "code",
   "execution_count": 29,
   "metadata": {
    "collapsed": true
   },
   "outputs": [],
   "source": [
    "def knn_search(x, D, L, K, measure):\n",
    "    \"\"\" find K nearest neighbours of data point x among D \"\"\"\n",
    "    if measure == 0:\n",
    "        # euclidean distances from the other points\n",
    "        inX = x\n",
    "        diffMat = np.tile(inX, (D.shape[0],1)) - D\n",
    "        sqDiffMat = diffMat**2\n",
    "        sqDistances = sqDiffMat.sum(axis=1)\n",
    "        dists = sqDistances**0.5\n",
    "    elif measure == 1:\n",
    "        #cosine similarity\n",
    "        D_norm = np.array([np.linalg.norm(D[i]) for i in range(len(D))])\n",
    "        x_norm = np.linalg.norm(x)\n",
    "        sims = np.dot(D,x)/(D_norm * x_norm)\n",
    "        dists = 1 - sims\n",
    "    #print(dists)\n",
    "    idx = np.argsort(dists) # sorting\n",
    "    #print(idx[:K])\n",
    "    # return the indexes of K nearest neighbours\n",
    "    neigh_labels = L[idx[:K]]\n",
    "    class0 = 0\n",
    "    class1 = 0\n",
    "    for index in neigh_labels:\n",
    "        #print(L[index])\n",
    "        if L[index] == 0:\n",
    "            class0 = class0 + 1\n",
    "        else:\n",
    "            class1 = class1 + 1\n",
    "        if class0 >= class1:\n",
    "            predicted_class = 0\n",
    "        else:\n",
    "            predicted_class = 1\n",
    "    #print(\"The \" + str(K) + \" Nearest Neighbours are:\" + str(idx[:K]))\n",
    "    #print(\"The predicted class is: \" + str(predicted_class))\n",
    "    return idx[:K], predicted_class"
   ]
  },
  {
   "cell_type": "markdown",
   "metadata": {
    "collapsed": true
   },
   "source": [
    "Not Printing the Predicted class and neighbors directly as the question asks to return values. \n",
    "\n",
    "Trying a few vectors from the test data and the results are below- "
   ]
  },
  {
   "cell_type": "code",
   "execution_count": 31,
   "metadata": {
    "collapsed": false
   },
   "outputs": [
    {
     "name": "stdout",
     "output_type": "stream",
     "text": [
      "The Nearest Neighbours are:[685 628 667 152 427]\n",
      "The predicted class is: 1\n"
     ]
    }
   ],
   "source": [
    "neigh_index, predicted_class = knn_search(DT_test[0], DT_train, train_labels, 5, 1)\n",
    "print(\"The Nearest Neighbours are:\" + str(neigh_index))\n",
    "print(\"The predicted class is: \" + str(predicted_class))"
   ]
  },
  {
   "cell_type": "code",
   "execution_count": 32,
   "metadata": {
    "collapsed": false
   },
   "outputs": [
    {
     "name": "stdout",
     "output_type": "stream",
     "text": [
      "The Nearest Neighbours are:[685 628 703 266 510]\n",
      "The predicted class is: 1\n"
     ]
    }
   ],
   "source": [
    "neigh_index, predicted_class = knn_search(DT_test[0], DT_train, train_labels, 5, 0)\n",
    "print(\"The Nearest Neighbours are:\" + str(neigh_index))\n",
    "print(\"The predicted class is: \" + str(predicted_class))"
   ]
  },
  {
   "cell_type": "code",
   "execution_count": 34,
   "metadata": {
    "collapsed": false
   },
   "outputs": [
    {
     "name": "stdout",
     "output_type": "stream",
     "text": [
      "The Nearest Neighbours are:[382 775 163 587 550 127 485 651 767]\n",
      "The predicted class is: 0\n"
     ]
    }
   ],
   "source": [
    "neigh_index, predicted_class = knn_search(DT_test[1], DT_train, train_labels, 9, 1)\n",
    "print(\"The Nearest Neighbours are:\" + str(neigh_index))\n",
    "print(\"The predicted class is: \" + str(predicted_class))"
   ]
  },
  {
   "cell_type": "code",
   "execution_count": 35,
   "metadata": {
    "collapsed": false
   },
   "outputs": [
    {
     "name": "stdout",
     "output_type": "stream",
     "text": [
      "The Nearest Neighbours are:[798 554 757 224  38 119 711 398 608]\n",
      "The predicted class is: 0\n"
     ]
    }
   ],
   "source": [
    "neigh_index, predicted_class = knn_search(DT_test[1], DT_train, train_labels, 9, 0)\n",
    "print(\"The Nearest Neighbours are:\" + str(neigh_index))\n",
    "print(\"The predicted class is: \" + str(predicted_class))"
   ]
  },
  {
   "cell_type": "code",
   "execution_count": 37,
   "metadata": {
    "collapsed": false
   },
   "outputs": [
    {
     "name": "stdout",
     "output_type": "stream",
     "text": [
      "The Nearest Neighbours are:[255 405 556 744 170]\n",
      "The predicted class is: 1\n"
     ]
    }
   ],
   "source": [
    "neigh_index, predicted_class = knn_search(DT_test[99], DT_train, train_labels, 5, 1)\n",
    "print(\"The Nearest Neighbours are:\" + str(neigh_index))\n",
    "print(\"The predicted class is: \" + str(predicted_class))"
   ]
  },
  {
   "cell_type": "code",
   "execution_count": 38,
   "metadata": {
    "collapsed": false
   },
   "outputs": [
    {
     "name": "stdout",
     "output_type": "stream",
     "text": [
      "The Nearest Neighbours are:[744 405 556 170  49]\n",
      "The predicted class is: 1\n"
     ]
    }
   ],
   "source": [
    "neigh_index, predicted_class = knn_search(DT_test[99], DT_train, train_labels, 5, 0)\n",
    "print(\"The Nearest Neighbours are:\" + str(neigh_index))\n",
    "print(\"The predicted class is: \" + str(predicted_class))"
   ]
  },
  {
   "cell_type": "code",
   "execution_count": 39,
   "metadata": {
    "collapsed": false
   },
   "outputs": [
    {
     "name": "stdout",
     "output_type": "stream",
     "text": [
      "The Nearest Neighbours are:[322 664  14 145 440 792 232 254 546  52   5 246 203 618  73]\n",
      "The predicted class is: 1\n"
     ]
    }
   ],
   "source": [
    "neigh_index, predicted_class = knn_search(DT_test[199], DT_train, train_labels, 15, 1)\n",
    "print(\"The Nearest Neighbours are:\" + str(neigh_index))\n",
    "print(\"The predicted class is: \" + str(predicted_class))"
   ]
  },
  {
   "cell_type": "code",
   "execution_count": 40,
   "metadata": {
    "collapsed": false
   },
   "outputs": [
    {
     "name": "stdout",
     "output_type": "stream",
     "text": [
      "The Nearest Neighbours are:[798 757 224  38 119 711 398  69 751 342  53 644 706 551 464]\n",
      "The predicted class is: 0\n"
     ]
    }
   ],
   "source": [
    "neigh_index, predicted_class = knn_search(DT_test[199], DT_train, train_labels, 15, 0)\n",
    "print(\"The Nearest Neighbours are:\" + str(neigh_index))\n",
    "print(\"The predicted class is: \" + str(predicted_class))"
   ]
  },
  {
   "cell_type": "markdown",
   "metadata": {},
   "source": [
    "So looking at the results above, For the last case we can see different predictions for Euclidean and Cosine distance/similarity measures. If we look at the test labels here Cosine similarity (measure=1) results into correct prediction for that particular test vector."
   ]
  },
  {
   "cell_type": "markdown",
   "metadata": {},
   "source": [
    "## b) Create a function to compute the classification accuracy over the test data set (ratio of correct predictions to the number of test instances). This function will call the classifier function on all the test instances and in each case compares the actual test class label to the predicted class label."
   ]
  },
  {
   "cell_type": "code",
   "execution_count": 41,
   "metadata": {
    "collapsed": true
   },
   "outputs": [],
   "source": [
    "def accuracy(x, D, train_L, test_L, K, measure):\n",
    "    count = 0\n",
    "    correct = 0\n",
    "    for i in range(x.shape[0]):\n",
    "        #Use the i rows of the testing data, one-by-one, in the knn function\n",
    "        count += 1\n",
    "        neigh_idx, predicted_class = knn_search(x[i,:], D, train_L, K, measure)\n",
    "        #If the two classes match, add 1 to the correct count\n",
    "        if (predicted_class == test_L[i]):\n",
    "            correct += 1\n",
    "    accuracypercent = (correct/count)*100\n",
    "    print(\"Accuracy with \" + str(K) + \" neighbors is: \" + str(accuracypercent) + \"%\")\n",
    "    return accuracypercent"
   ]
  },
  {
   "cell_type": "code",
   "execution_count": 42,
   "metadata": {
    "collapsed": false
   },
   "outputs": [
    {
     "name": "stdout",
     "output_type": "stream",
     "text": [
      "Accuracy with 5 neighbors is: 81.5%\n"
     ]
    }
   ],
   "source": [
    "accuracypercent = accuracy(DT_test, DT_train, train_labels, test_labels, 5, 0) #Euclidean"
   ]
  },
  {
   "cell_type": "code",
   "execution_count": 43,
   "metadata": {
    "collapsed": false
   },
   "outputs": [
    {
     "name": "stdout",
     "output_type": "stream",
     "text": [
      "Accuracy with 5 neighbors is: 97.0%\n"
     ]
    }
   ],
   "source": [
    "accuracypercent = accuracy(DT_test, DT_train, train_labels, test_labels, 5, 1) #Cosine similarity"
   ]
  },
  {
   "cell_type": "markdown",
   "metadata": {},
   "source": [
    "## c) Run your accuracy function on a range of values for K in order to compare accuracy values for different numbers of neighbors. Do this both using Euclidean Distance as well as Cosine similarity measure. [For example, you can try evaluating your classifiers on a range of values of K from 1 through 20 and present the results as a table or a graph]."
   ]
  },
  {
   "cell_type": "code",
   "execution_count": 44,
   "metadata": {
    "collapsed": true
   },
   "outputs": [],
   "source": [
    "import matplotlib.pyplot as pyplot\n",
    "def plot_accuracy(x, D, train_L, test_L):\n",
    "    accEuc = {}\n",
    "    accCos = {}\n",
    "    for i in range(20):\n",
    "        i += 1\n",
    "        #print(i)\n",
    "        accEuc[i] = accuracy(x, D, train_L, test_L, i, 0)\n",
    "        #print(accEuc)\n",
    "        accCos[i] = accuracy(x, D, train_L, test_L, i, 1)\n",
    "        #print(accCos)\n",
    "    df_toPlotEuc = pd.DataFrame(list(accEuc.items()))\n",
    "    df_toPlotCos = pd.DataFrame(list(accCos.items()))\n",
    "    plt.plot( df_toPlotCos[0], df_toPlotCos[1], 'bs-', label=\"Cosine\")\n",
    "    plt.plot( df_toPlotEuc[0], df_toPlotEuc[1], 'r^--', label=\"Eucliudean\")\n",
    "    plt.xlabel(\"Number of Neighbours\")\n",
    "    plt.ylabel(\"Accuracy\")\n",
    "    plt.title(\"Accuracy Comparison For k-Nearest Neighbours\")\n",
    "    plt.legend(loc=\"best\")\n",
    "    plt.show()\n",
    "    return accEuc, accCos"
   ]
  },
  {
   "cell_type": "code",
   "execution_count": 45,
   "metadata": {
    "collapsed": false
   },
   "outputs": [
    {
     "name": "stdout",
     "output_type": "stream",
     "text": [
      "Accuracy with 1 neighbors is: 78.0%\n",
      "Accuracy with 1 neighbors is: 98.5%\n",
      "Accuracy with 2 neighbors is: 78.5%\n",
      "Accuracy with 2 neighbors is: 96.0%\n",
      "Accuracy with 3 neighbors is: 81.0%\n",
      "Accuracy with 3 neighbors is: 97.0%\n",
      "Accuracy with 4 neighbors is: 77.0%\n",
      "Accuracy with 4 neighbors is: 96.5%\n",
      "Accuracy with 5 neighbors is: 81.5%\n",
      "Accuracy with 5 neighbors is: 97.0%\n",
      "Accuracy with 6 neighbors is: 74.5%\n",
      "Accuracy with 6 neighbors is: 98.0%\n",
      "Accuracy with 7 neighbors is: 76.5%\n",
      "Accuracy with 7 neighbors is: 98.0%\n",
      "Accuracy with 8 neighbors is: 73.0%\n",
      "Accuracy with 8 neighbors is: 97.0%\n",
      "Accuracy with 9 neighbors is: 75.0%\n",
      "Accuracy with 9 neighbors is: 97.5%\n",
      "Accuracy with 10 neighbors is: 70.5%\n",
      "Accuracy with 10 neighbors is: 97.5%\n",
      "Accuracy with 11 neighbors is: 79.5%\n",
      "Accuracy with 11 neighbors is: 98.0%\n",
      "Accuracy with 12 neighbors is: 72.5%\n",
      "Accuracy with 12 neighbors is: 97.0%\n",
      "Accuracy with 13 neighbors is: 77.5%\n",
      "Accuracy with 13 neighbors is: 98.0%\n",
      "Accuracy with 14 neighbors is: 74.0%\n",
      "Accuracy with 14 neighbors is: 97.0%\n",
      "Accuracy with 15 neighbors is: 78.5%\n",
      "Accuracy with 15 neighbors is: 98.5%\n",
      "Accuracy with 16 neighbors is: 73.0%\n",
      "Accuracy with 16 neighbors is: 97.5%\n",
      "Accuracy with 17 neighbors is: 76.0%\n",
      "Accuracy with 17 neighbors is: 97.5%\n",
      "Accuracy with 18 neighbors is: 72.5%\n",
      "Accuracy with 18 neighbors is: 97.5%\n",
      "Accuracy with 19 neighbors is: 74.0%\n",
      "Accuracy with 19 neighbors is: 97.5%\n",
      "Accuracy with 20 neighbors is: 71.0%\n",
      "Accuracy with 20 neighbors is: 97.5%\n"
     ]
    },
    {
     "data": {
      "image/png": "[encoded data removed]",
      "text/plain": [
       "<matplotlib.figure.Figure at 0x1102be4a8>"
      ]
     },
     "metadata": {},
     "output_type": "display_data"
    }
   ],
   "source": [
    "accEucReg, accCosReg = plot_accuracy(DT_test, DT_train, train_labels, test_labels)"
   ]
  },
  {
   "cell_type": "markdown",
   "metadata": {},
   "source": [
    "So from the graph above we can see that the performance of the classifier is much better with Cosine similarity as similarity measure as compared to when we use Euclidean distance.\n",
    "\n",
    "The maximum accuracy achieved using Cosine similarity is 98.5% which is for k = 1.\n",
    "\n",
    "The maximum accuracy achieved using Euclidean distance is 81.5% which is for k = 5."
   ]
  },
  {
   "cell_type": "markdown",
   "metadata": {},
   "source": [
    "## d) Using Python, modify the training and test data sets so that term weights are converted to TFxIDF weights (instead of raw term frequencies). [See class notes on Text Categorization]. Then, rerun your evaluation on the range of K values (as above) and compare the results to the results without using TFxIDF weights."
   ]
  },
  {
   "cell_type": "code",
   "execution_count": 46,
   "metadata": {
    "collapsed": false
   },
   "outputs": [
    {
     "name": "stdout",
     "output_type": "stream",
     "text": [
      "5500\n",
      "800\n",
      "5500\n",
      "200\n"
     ]
    }
   ],
   "source": [
    "#Loading term-document data\n",
    "train_data = pd.read_table('trainMatrixModified.txt',header=None)\n",
    "test_data = pd.read_table('testMatrixModified.txt',header=None)\n",
    "\n",
    "TD_train = np.array(train_data)\n",
    "TD_test = np.array(test_data)\n",
    "\n",
    "numTerms_train = len(TD_train[:,0])\n",
    "NDocs_train = len(TD_train[0])\n",
    "print(numTerms_train)\n",
    "print(NDocs_train)\n",
    "\n",
    "numTerms_test = len(TD_test[:,0])\n",
    "NDocs_test = len(TD_test[0])\n",
    "print(numTerms_test)\n",
    "print(NDocs_test)\n",
    "\n",
    "#Finding document frequencies\n",
    "DF_train = np.array([(TD_train!=0).sum(1)]).T\n",
    "DF_test = np.array([(TD_test!=0).sum(1)]).T"
   ]
  },
  {
   "cell_type": "code",
   "execution_count": 48,
   "metadata": {
    "collapsed": false
   },
   "outputs": [
    {
     "name": "stdout",
     "output_type": "stream",
     "text": [
      "[[50]\n",
      " [ 7]\n",
      " [10]\n",
      " ..., \n",
      " [ 2]\n",
      " [ 2]\n",
      " [ 2]]\n"
     ]
    }
   ],
   "source": [
    "print(DF_train)"
   ]
  },
  {
   "cell_type": "code",
   "execution_count": 49,
   "metadata": {
    "collapsed": false
   },
   "outputs": [
    {
     "name": "stdout",
     "output_type": "stream",
     "text": [
      "[[15]\n",
      " [ 0]\n",
      " [ 1]\n",
      " ..., \n",
      " [ 1]\n",
      " [ 1]\n",
      " [ 1]]\n"
     ]
    }
   ],
   "source": [
    "print(DF_test)"
   ]
  },
  {
   "cell_type": "code",
   "execution_count": 51,
   "metadata": {
    "collapsed": false
   },
   "outputs": [],
   "source": [
    "#Create a matrix with all entries = NDocs\n",
    "NMatrix_train = np.ones(np.shape(TD_train), dtype=float)*NDocs_train\n",
    "\n",
    "NMatrix_test = np.ones(np.shape(TD_test), dtype=float)*NDocs_test"
   ]
  },
  {
   "cell_type": "code",
   "execution_count": 52,
   "metadata": {
    "collapsed": true
   },
   "outputs": [],
   "source": [
    "#Converting into IDF Values\n",
    "\n",
    "IDF_train = np.log2(np.divide(NMatrix_train, DF_train))\n",
    "\n",
    "IDF_inter = IDF_train[:,:200] #taking 200 columns from training data to create IDF for test"
   ]
  },
  {
   "cell_type": "code",
   "execution_count": 53,
   "metadata": {
    "collapsed": false
   },
   "outputs": [
    {
     "name": "stdout",
     "output_type": "stream",
     "text": [
      "[[  8.          13.67300254  12.64385619 ...,   0.           0.           0.        ]\n",
      " [  0.           0.           0.         ...,   0.           0.           0.        ]\n",
      " [  0.           0.           0.         ...,   0.           0.           0.        ]\n",
      " ..., \n",
      " [  0.           0.           0.         ...,   0.           0.           0.        ]\n",
      " [  0.           0.           0.         ...,   0.           0.           0.        ]\n",
      " [  0.           0.           0.         ...,   0.           0.           0.        ]]\n",
      "[[ 0.  0.  0. ...,  0.  0.  0.]\n",
      " [ 0.  0.  0. ...,  0.  0.  0.]\n",
      " [ 4.  0.  0. ...,  0.  0.  0.]\n",
      " ..., \n",
      " [ 0.  0.  0. ...,  0.  0.  0.]\n",
      " [ 0.  0.  0. ...,  0.  0.  0.]\n",
      " [ 0.  0.  0. ...,  0.  0.  0.]]\n"
     ]
    }
   ],
   "source": [
    "#Computing TFxIDF values for each document-term entry based on training IDF\n",
    "\n",
    "TF_IDF_train = TD_train*IDF_train\n",
    "TF_IDF_train = np.nan_to_num(TF_IDF_train)\n",
    "TF_IDF_train = TF_IDF_train.T #As classifier takes a DT matrix as input\n",
    "print(TF_IDF_train)\n",
    "\n",
    "TF_IDF_test = TD_test*IDF_inter\n",
    "TF_IDF_test = np.nan_to_num(TF_IDF_test)\n",
    "TF_IDF_test = TF_IDF_test.T #As classifier takes a DT matrix as input\n",
    "print(TF_IDF_test)"
   ]
  },
  {
   "cell_type": "code",
   "execution_count": 54,
   "metadata": {
    "collapsed": false
   },
   "outputs": [
    {
     "name": "stdout",
     "output_type": "stream",
     "text": [
      "Accuracy with 1 neighbors is: 71.0%\n",
      "Accuracy with 1 neighbors is: 94.5%\n",
      "Accuracy with 2 neighbors is: 74.0%\n",
      "Accuracy with 2 neighbors is: 95.5%\n",
      "Accuracy with 3 neighbors is: 75.0%\n",
      "Accuracy with 3 neighbors is: 98.0%\n",
      "Accuracy with 4 neighbors is: 79.0%\n",
      "Accuracy with 4 neighbors is: 97.0%\n",
      "Accuracy with 5 neighbors is: 80.0%\n",
      "Accuracy with 5 neighbors is: 98.0%\n",
      "Accuracy with 6 neighbors is: 71.0%\n",
      "Accuracy with 6 neighbors is: 98.0%\n",
      "Accuracy with 7 neighbors is: 73.0%\n",
      "Accuracy with 7 neighbors is: 98.5%\n",
      "Accuracy with 8 neighbors is: 66.5%\n",
      "Accuracy with 8 neighbors is: 99.0%\n",
      "Accuracy with 9 neighbors is: 68.0%\n",
      "Accuracy with 9 neighbors is: 99.0%\n",
      "Accuracy with 10 neighbors is: 62.5%\n",
      "Accuracy with 10 neighbors is: 99.5%\n",
      "Accuracy with 11 neighbors is: 68.0%\n",
      "Accuracy with 11 neighbors is: 99.0%\n",
      "Accuracy with 12 neighbors is: 63.0%\n",
      "Accuracy with 12 neighbors is: 99.0%\n",
      "Accuracy with 13 neighbors is: 65.0%\n",
      "Accuracy with 13 neighbors is: 99.0%\n",
      "Accuracy with 14 neighbors is: 60.0%\n",
      "Accuracy with 14 neighbors is: 99.0%\n",
      "Accuracy with 15 neighbors is: 62.0%\n",
      "Accuracy with 15 neighbors is: 99.0%\n",
      "Accuracy with 16 neighbors is: 57.49999999999999%\n",
      "Accuracy with 16 neighbors is: 99.5%\n",
      "Accuracy with 17 neighbors is: 61.5%\n",
      "Accuracy with 17 neighbors is: 99.0%\n",
      "Accuracy with 18 neighbors is: 58.5%\n",
      "Accuracy with 18 neighbors is: 99.0%\n",
      "Accuracy with 19 neighbors is: 63.0%\n",
      "Accuracy with 19 neighbors is: 99.5%\n",
      "Accuracy with 20 neighbors is: 59.0%\n",
      "Accuracy with 20 neighbors is: 99.5%\n"
     ]
    },
    {
     "data": {
      "image/png": "[encoded data removed]",
      "text/plain": [
       "<matplotlib.figure.Figure at 0x1102f8d30>"
      ]
     },
     "metadata": {},
     "output_type": "display_data"
    }
   ],
   "source": [
    "accEucTFIDF, accCosTFIDF = plot_accuracy(TF_IDF_test, TF_IDF_train, train_labels, test_labels)"
   ]
  },
  {
   "cell_type": "markdown",
   "metadata": {},
   "source": [
    "So from the graph above we can see that the performance of the classifier is much better with Cosine similarity as similarity measure as compared to when we use Euclidean distance.\n",
    "\n",
    "The maximum accuracy achieved using Cosine similarity is 99.5% which is for k = 10, 16, 19, 20.\n",
    "\n",
    "The maximum accuracy achieved using Euclidean distance is 80% which is for k = 5.\n"
   ]
  },
  {
   "cell_type": "code",
   "execution_count": 55,
   "metadata": {
    "collapsed": false
   },
   "outputs": [
    {
     "data": {
      "image/png": "[encoded data removed]",
      "text/plain": [
       "<matplotlib.figure.Figure at 0x10f226b70>"
      ]
     },
     "metadata": {},
     "output_type": "display_data"
    }
   ],
   "source": [
    "df_toPlotEucReg = pd.DataFrame(list(accEucReg.items()))\n",
    "df_toPlotCosReg = pd.DataFrame(list(accCosReg.items()))\n",
    "df_toPlotEucTF = pd.DataFrame(list(accEucTFIDF.items()))\n",
    "df_toPlotCosTF = pd.DataFrame(list(accCosTFIDF.items()))\n",
    "plt.plot( df_toPlotEucReg[0], df_toPlotEucReg[1], 'r^--', label=\"Euc - W/O TF-IDF\")\n",
    "plt.plot( df_toPlotCosReg[0], df_toPlotCosReg[1], 'rs-', label=\"Cosine - W/O TF-IDF\")\n",
    "plt.plot( df_toPlotEucTF[0], df_toPlotEucTF[1], 'b^--', label=\"Euc - TF-IDF\")\n",
    "plt.plot( df_toPlotCosTF[0], df_toPlotCosTF[1], 'bs-', label=\"Cosine - TF-IDF\")\n",
    "plt.xlabel(\"Number of Neighbours\")\n",
    "plt.ylabel(\"Accuracy\")\n",
    "plt.title(\"Accuracy Comparison For k-Nearest Neighbours\")\n",
    "plt.legend(loc=\"best\")\n",
    "plt.show()\n"
   ]
  },
  {
   "cell_type": "markdown",
   "metadata": {},
   "source": [
    "So comparing the accuracies on the TF-IDF vector and normal term-document matrix we can see that the maximum accuracy we can get with each of the possible combinations are:\n",
    "\n",
    "1) Without TF-IDF (Euclidean Distance): 81.5% for K=5\n",
    "\n",
    "2) Without TF-IDF (Cosine): 98.5% for K=1\n",
    "\n",
    "3) With TF-IDF (Euclidean Distance): 80% for K=5\n",
    "\n",
    "4) With TF-IDF (Cosine): 99.5% for K= 10, 16, 19, 20\n",
    "\n",
    "So we can see that we achieve highest accuracy with TF-IDF and Cosine similarity. Also we can see that when we use Euclidean distance the performance of the classifier is better for non TF-IDF vector compared to TF-IDF vector where for TF-IDF vector accuracy reaches a peak of 80% and starts to drop off after that while we get peak accuracy of 81.5% without TF-IDF vectors. With Cosine similarity we can see that the performance of the classifier is better with TF-IDF vector as compared to non TF-IDF vector where we get 99.5% accuracy for TF-IDF and 98.5% accuracy for non TF-IDF."
   ]
  },
  {
   "cell_type": "markdown",
   "metadata": {},
   "source": [
    "## e) Create a classifier based on the Rocchio Method adapted for text categorization. The training part for the classifier can be implemented as a function that takes as input the training data matrix and the training labels, returning the prototype vectors for each class. The classification part can be implemented as another function that would take as input the prototypes returned from the training function and the instance to be classified. This function should measure Cosine similarity of the test instance to each prototype. Your output should indicate the predicted class for the test instance and the similarity values of the instance to each of the category prototypes. Finally, compute the classification accuracy using the test instances and compare your results to the best KNN approach you tried earlier.\n"
   ]
  },
  {
   "cell_type": "code",
   "execution_count": 56,
   "metadata": {
    "collapsed": true
   },
   "outputs": [],
   "source": [
    "def rocchio_ptype(train,train_L):\n",
    "     \n",
    "    ptype = np.column_stack((train,train_L))\n",
    "    \n",
    "    # Building the prototypes for classes 1 and 0\n",
    "    class0 = np.array(np.zeros(ptype.shape[1]))\n",
    "    class1 = np.array(np.zeros(ptype.shape[1]))\n",
    "    #print(str(class0.shape))\n",
    "    #print(str(class1.shape))\n",
    "    \n",
    "    for i in ptype:\n",
    "        if i[-1] == 0:\n",
    "            class0 += i\n",
    "        else:\n",
    "            class1 += i\n",
    "    \n",
    "    return class0, class1"
   ]
  },
  {
   "cell_type": "code",
   "execution_count": 57,
   "metadata": {
    "collapsed": true
   },
   "outputs": [],
   "source": [
    "def rocchio_sim(ptype0, ptype1, vector):\n",
    "    \n",
    "    # Normalizing the prototypes excluding last element (class) and vector and Caculating the cosine similarity between prototypes & the vector\n",
    "    norm_class0 = np.linalg.norm(ptype0[:-1])\n",
    "    norm_class1 = np.linalg.norm(ptype1[:-1])\n",
    "    norm_vector = np.linalg.norm(vector)\n",
    "    \n",
    "    cosine_sim0 = np.dot(ptype0[:-1],vector)/(norm_class0*norm_vector)\n",
    "    cosine_sim1 = np.dot(ptype1[:-1],vector)/(norm_class1*norm_vector)\n",
    "    \n",
    "    if cosine_sim0 >= cosine_sim1:\n",
    "        predicted_class = 0\n",
    "        return predicted_class, cosine_sim0, cosine_sim1\n",
    "    else:\n",
    "        predicted_class = 1\n",
    "        return predicted_class, cosine_sim0, cosine_sim1"
   ]
  },
  {
   "cell_type": "code",
   "execution_count": 58,
   "metadata": {
    "collapsed": false
   },
   "outputs": [
    {
     "name": "stdout",
     "output_type": "stream",
     "text": [
      "Similarity to Class 0 Prototype: 0.28727716765\n",
      "Similarity to Class 1 Prototype: 0.0961131242934\n",
      "The predicted class is: 0\n"
     ]
    }
   ],
   "source": [
    "class0, class1 = rocchio_ptype(DT_train, train_labels)\n",
    "predicted_class, cosine_sim0, cosine_sim1 = rocchio_sim(class0, class1, DT_test[1])\n",
    "print(\"Similarity to Class 0 Prototype: \" + str(cosine_sim0))\n",
    "print(\"Similarity to Class 1 Prototype: \" + str(cosine_sim1))\n",
    "print(\"The predicted class is: \" + str(predicted_class))"
   ]
  },
  {
   "cell_type": "code",
   "execution_count": 59,
   "metadata": {
    "collapsed": false
   },
   "outputs": [
    {
     "name": "stdout",
     "output_type": "stream",
     "text": [
      "Similarity to Class 0 Prototype: 0.0613954573453\n",
      "Similarity to Class 1 Prototype: 0.2412553726\n",
      "The predicted class is: 1\n"
     ]
    }
   ],
   "source": [
    "class0, class1 = rocchio_ptype(DT_train, train_labels)#It's ok even we don't run this again as prototypes are not going to change\n",
    "predicted_class, cosine_sim0, cosine_sim1 = rocchio_sim(class0, class1, DT_test[100])\n",
    "print(\"Similarity to Class 0 Prototype: \" + str(cosine_sim0))\n",
    "print(\"Similarity to Class 1 Prototype: \" + str(cosine_sim1))\n",
    "print(\"The predicted class is: \" + str(predicted_class))"
   ]
  },
  {
   "cell_type": "code",
   "execution_count": 60,
   "metadata": {
    "collapsed": false
   },
   "outputs": [
    {
     "name": "stdout",
     "output_type": "stream",
     "text": [
      "Similarity to Class 0 Prototype: 0.110494168666\n",
      "Similarity to Class 1 Prototype: 0.195407151421\n",
      "The predicted class is: 1\n"
     ]
    }
   ],
   "source": [
    "class0, class1 = rocchio_ptype(DT_train, train_labels)#It's ok even we don't run this again as prototypes are not going to change\n",
    "predicted_class, cosine_sim0, cosine_sim1 = rocchio_sim(class0, class1, DT_test[199])\n",
    "print(\"Similarity to Class 0 Prototype: \" + str(cosine_sim0))\n",
    "print(\"Similarity to Class 1 Prototype: \" + str(cosine_sim1))\n",
    "print(\"The predicted class is: \" + str(predicted_class))"
   ]
  },
  {
   "cell_type": "code",
   "execution_count": 61,
   "metadata": {
    "collapsed": true
   },
   "outputs": [],
   "source": [
    "def rocchio_accu(x, D, train_L, test_L):\n",
    "    \n",
    "    count = 0\n",
    "    correct = 0\n",
    "    \n",
    "    for i in range(x.shape[0]):\n",
    "        count += 1\n",
    "        class0, class1 = rocchio_ptype(D,train_L)\n",
    "        predicted_class = rocchio_sim(class0, class1, x[i,:])\n",
    "        #print(predicted_class[0])\n",
    "        #print(test_L[i])\n",
    "        if predicted_class[0] == test_L[i]:\n",
    "            correct += 1\n",
    "            \n",
    "    accuracy = (correct/count)*100\n",
    "    print(\"Accuracy with Rocchio's Method is: \" + str(accuracy) + \"%\")"
   ]
  },
  {
   "cell_type": "code",
   "execution_count": 62,
   "metadata": {
    "collapsed": false
   },
   "outputs": [
    {
     "name": "stdout",
     "output_type": "stream",
     "text": [
      "Accuracy with Rocchio's Method is: 98.0%\n"
     ]
    }
   ],
   "source": [
    "rocchio_accu(TF_IDF_test, TF_IDF_train, train_labels, test_labels)"
   ]
  },
  {
   "cell_type": "code",
   "execution_count": 63,
   "metadata": {
    "collapsed": false
   },
   "outputs": [
    {
     "name": "stdout",
     "output_type": "stream",
     "text": [
      "Accuracy with Rocchio's Method is: 97.5%\n"
     ]
    }
   ],
   "source": [
    "rocchio_accu(DT_test, DT_train, train_labels, test_labels)"
   ]
  },
  {
   "cell_type": "markdown",
   "metadata": {},
   "source": [
    "So for TF-IDF vector when we apply Rocchio method to it, we get 98% accuracy which is lower compared to what we get using TF-IDF vector and Cosine similarity which was 99.5%.\n",
    "\n",
    "So vector without TF-IDF weights when we apply Rocchio method to it, we get 97.5% accuracy which is lower compared to what we get using non TF-IDF vector and Cosine similarity which was 98.5%"
   ]
  },
  {
   "cell_type": "code",
   "execution_count": null,
   "metadata": {
    "collapsed": true
   },
   "outputs": [],
   "source": []
  }
 ],
 "metadata": {
  "anaconda-cloud": {},
  "kernelspec": {
   "display_name": "Python [conda root]",
   "language": "python",
   "name": "conda-root-py"
  },
  "language_info": {
   "codemirror_mode": {
    "name": "ipython",
    "version": 3
   },
   "file_extension": ".py",
   "mimetype": "text/x-python",
   "name": "python",
   "nbconvert_exporter": "python",
   "pygments_lexer": "ipython3",
   "version": "3.5.2"
  }
 },
 "nbformat": 4,
 "nbformat_minor": 1
}
